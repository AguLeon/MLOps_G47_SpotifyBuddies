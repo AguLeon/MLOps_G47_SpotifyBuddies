{
 "cells": [
  {
   "cell_type": "code",
   "execution_count": 1,
   "id": "af45fbc1-2d26-41bc-b377-159d7ed796d9",
   "metadata": {
    "tags": []
   },
   "outputs": [],
   "source": [
    "export PATH=/work/.local/bin:$PATH\n",
    "export PYTHONUSERBASE=/work/.local\n",
    "export ANSIBLE_CONFIG=/work/MLOps_G47_SpotifyBuddies/continuous_x_pipeline/ansible/ansible.cfg\n",
    "export ANSIBLE_ROLES_PATH=roles"
   ]
  },
  {
   "cell_type": "code",
   "execution_count": 24,
   "id": "d1a316e5-1eb6-498f-8dd3-abb190223c55",
   "metadata": {
    "tags": []
   },
   "outputs": [
    {
     "name": "stdout",
     "output_type": "stream",
     "text": [
      "/work/MLOps_G47_SpotifyBuddies\n"
     ]
    }
   ],
   "source": [
    "pwd"
   ]
  },
  {
   "cell_type": "code",
   "execution_count": 43,
   "id": "87af92b0-30b4-43e7-9ac6-2dbd007527b5",
   "metadata": {
    "tags": []
   },
   "outputs": [
    {
     "name": "stdout",
     "output_type": "stream",
     "text": [
      "Cloning into '/work/MLOps_G47_SpotifyBuddies'...\n",
      "remote: Enumerating objects: 1116, done.\u001b[K\n",
      "remote: Counting objects: 100% (256/256), done.\u001b[K\n",
      "remote: Compressing objects: 100% (159/159), done.\u001b[K\n",
      "remote: Total 1116 (delta 150), reused 160 (delta 93), pack-reused 860 (from 1)\u001b[K\n",
      "Receiving objects: 100% (1116/1116), 543.97 KiB | 1.15 MiB/s, done.\n",
      "Resolving deltas: 100% (635/635), done.\n",
      "Submodule 'continuous_x_pipeline/ansible/k8s/kubespray' (https://github.com/kubernetes-sigs/kubespray.git) registered for path 'continuous_x_pipeline/ansible/k8s/kubespray'\n",
      "Cloning into '/work/MLOps_G47_SpotifyBuddies/continuous_x_pipeline/ansible/k8s/kubespray'...\n",
      "remote: Enumerating objects: 81772, done.        \n",
      "remote: Counting objects: 100% (28/28), done.        \n",
      "remote: Compressing objects: 100% (19/19), done.        \n",
      "remote: Total 81772 (delta 20), reused 9 (delta 9), pack-reused 81744 (from 3)        \n",
      "Receiving objects: 100% (81772/81772), 26.10 MiB | 3.86 MiB/s, done.\n",
      "Resolving deltas: 100% (45837/45837), done.\n",
      "Submodule path 'continuous_x_pipeline/ansible/k8s/kubespray': checked out '0b2488dfaa750fe3d6869d0991b3cfedd88efd00'\n"
     ]
    }
   ],
   "source": [
    "cd /work\n",
    "git clone --recurse-submodules https://github.com/AguLeon/MLOps_G47_SpotifyBuddies.git /work/MLOps_G47_SpotifyBuddies\n",
    "cp ansible.cfg /work/MLOps_G47_SpotifyBuddies/continuous_x_pipeline/ansible/ansible.cfg"
   ]
  },
  {
   "cell_type": "code",
   "execution_count": 6,
   "id": "b13ea3a2-37ed-4428-8c43-c0cae2555a5b",
   "metadata": {
    "tags": []
   },
   "outputs": [
    {
     "name": "stdout",
     "output_type": "stream",
     "text": [
      "\n",
      "PLAY [Deploy MLflow platform via ArgoCD & Helm with MinIO secret handling] *****\n",
      "\n",
      "TASK [Gathering Facts] *********************************************************\n",
      "ok: [node1]\n",
      "\n",
      "TASK [Get ArgoCD admin password from Kubernetes secret] ************************\n",
      "changed: [node1]\n",
      "\n",
      "TASK [Decode ArgoCD admin password] ********************************************\n",
      "changed: [node1]\n",
      "\n",
      "TASK [Log in to ArgoCD] ********************************************************\n",
      "ok: [node1]\n",
      "\n",
      "TASK [Add repository to ArgoCD] ************************************************\n",
      "changed: [node1]\n",
      "\n",
      "TASK [Detect external IP starting with 10.56] **********************************\n",
      "ok: [node1]\n",
      "\n",
      "TASK [debug] *******************************************************************\n",
      "ok: [node1] => \n",
      "  msg: |-\n",
      "    external_ip = 10.56.3.104\n",
      "    prom_nodeport = 9090\n",
      "    graf_nodeport = 3000\n",
      "\n",
      "TASK [Ensure spotifybuddies-platform namespace exists] *************************\n",
      "ok: [node1]\n",
      "\n",
      "TASK [Create spotifybuddies-platform namespace if missing] *********************\n",
      "skipping: [node1]\n",
      "\n",
      "TASK [Check if MinIO secret already exists] ************************************\n",
      "ok: [node1]\n",
      "\n",
      "TASK [Generate MinIO secret key] ***********************************************\n",
      "skipping: [node1]\n",
      "\n",
      "TASK [Create MinIO credentials secret] *****************************************\n",
      "skipping: [node1]\n",
      "\n",
      "TASK [Get existing MinIO secret key if already exists] *************************\n",
      "changed: [node1]\n",
      "\n",
      "TASK [Decode existing MinIO secret key] ****************************************\n",
      "ok: [node1]\n",
      "\n",
      "TASK [Check if ArgoCD application exists] **************************************\n",
      "ok: [node1]\n",
      "\n",
      "TASK [Create ArgoCD Helm application if it does not exist] *********************\n",
      "skipping: [node1]\n",
      "\n",
      "TASK [Update ArgoCD Helm application if it exists] *****************************\n",
      "changed: [node1]\n",
      "\n",
      "TASK [Display MinIO credentials] ***********************************************\n",
      "ok: [node1] => \n",
      "  msg: |-\n",
      "    MinIO Access Key: your-access-key\n",
      "    MinIO Secret Key: HakFCzvQvluER9QAVnPB\n",
      "\n",
      "TASK [Ensure spotifybuddies-monitoring namespace exists] ***********************\n",
      "ok: [node1]\n",
      "\n",
      "TASK [Create namespace if missing] *********************************************\n",
      "skipping: [node1]\n",
      "\n",
      "TASK [Check Prometheus app] ****************************************************\n",
      "ok: [node1]\n",
      "\n",
      "TASK [Create Prometheus app (if missing)] **************************************\n",
      "changed: [node1]\n",
      "\n",
      "TASK [Update Prometheus app (if present)] **************************************\n",
      "skipping: [node1]\n",
      "\n",
      "TASK [Check Grafana app] *******************************************************\n",
      "ok: [node1]\n",
      "\n",
      "TASK [Create Grafana app (if missing)] *****************************************\n",
      "changed: [node1]\n",
      "\n",
      "TASK [Update Grafana app (if present)] *****************************************\n",
      "skipping: [node1]\n",
      "\n",
      "PLAY RECAP *********************************************************************\n",
      "node1                      : ok=19   changed=7    unreachable=0    failed=0    skipped=7    rescued=0    ignored=0   \n",
      "\n"
     ]
    }
   ],
   "source": [
    "cd /work/MLOps_G47_SpotifyBuddies/continuous_x_pipeline/ansible\n",
    "ansible-playbook -i inventory.yml argocd/argocd_add_platform.yml"
   ]
  },
  {
   "cell_type": "code",
   "execution_count": 65,
   "id": "27f28b0e-df25-44d2-bb2b-e21a53154ace",
   "metadata": {
    "tags": []
   },
   "outputs": [
    {
     "name": "stdout",
     "output_type": "stream",
     "text": [
      "\n",
      "PLAY [Run Argo Workflow from GitHub Repo] **************************************\n",
      "\n",
      "TASK [Gathering Facts] *********************************************************\n",
      "ok: [node1]\n",
      "\n",
      "TASK [Clone or update spotifybuddies repo] *************************************\n",
      "ok: [node1]\n",
      "\n",
      "TASK [Submit Argo Workflow] ****************************************************\n",
      "changed: [node1]\n",
      "\n",
      "TASK [Extract Workflow Name] ***************************************************\n",
      "ok: [node1]\n",
      "\n",
      "TASK [Wait for workflow to complete (success or fail)] *************************\n",
      "changed: [node1]\n",
      "\n",
      "TASK [Get final workflow result] ***********************************************\n",
      "changed: [node1]\n",
      "\n",
      "TASK [Display workflow phase] **************************************************\n",
      "ok: [node1] => \n",
      "  msg: 'Workflow kaniko-pvc-build-fgbj4 finished with status: Failed'\n",
      "\n",
      "TASK [Fail if workflow did not succeed] ****************************************\n",
      "fatal: [node1]: FAILED! => changed=false \n",
      "  msg: 'Workflow kaniko-pvc-build-fgbj4 failed with status: Failed'\n",
      "\n",
      "PLAY RECAP *********************************************************************\n",
      "node1                      : ok=7    changed=3    unreachable=0    failed=1    skipped=0    rescued=0    ignored=0   \n",
      "\n"
     ]
    },
    {
     "ename": "",
     "evalue": "2",
     "output_type": "error",
     "traceback": []
    }
   ],
   "source": [
    "cd /work/MLOps_G47_SpotifyBuddies/continuous_x_pipeline/ansible\n",
    "ansible-playbook -i inventory.yml argocd/workflow_build_init.yml"
   ]
  },
  {
   "cell_type": "code",
   "execution_count": 30,
   "id": "0459f2f2-c004-4dde-9e57-8369dce53eab",
   "metadata": {
    "tags": []
   },
   "outputs": [
    {
     "name": "stdout",
     "output_type": "stream",
     "text": [
      "/work/MLOps_G47_SpotifyBuddies/continuous_x_pipeline/ansible\n"
     ]
    }
   ],
   "source": [
    "pwd"
   ]
  },
  {
   "cell_type": "code",
   "execution_count": 16,
   "id": "e90e87e8-e917-46cf-8fbd-5b26fa1bfd5a",
   "metadata": {
    "tags": []
   },
   "outputs": [
    {
     "name": "stdout",
     "output_type": "stream",
     "text": [
      "node1 | SUCCESS => {\n",
      "    \"changed\": false,\n",
      "    \"ping\": \"pong\"\n",
      "}\n",
      "node2 | SUCCESS => {\n",
      "    \"changed\": false,\n",
      "    \"ping\": \"pong\"\n",
      "}\n",
      "node3 | SUCCESS => {\n",
      "    \"changed\": false,\n",
      "    \"ping\": \"pong\"\n",
      "}\n"
     ]
    }
   ],
   "source": [
    "ansible -i inventory.yml all -m ping"
   ]
  },
  {
   "cell_type": "code",
   "execution_count": null,
   "id": "0ad14060-dd3e-4611-ae02-7c38f3588ad4",
   "metadata": {
    "tags": []
   },
   "outputs": [],
   "source": []
  },
  {
   "cell_type": "code",
   "execution_count": null,
   "id": "63c987e8-36ea-47e9-9929-9ea12760e4ce",
   "metadata": {},
   "outputs": [],
   "source": []
  },
  {
   "cell_type": "code",
   "execution_count": null,
   "id": "ee753f97-fdeb-41b8-93da-310d0efc86c2",
   "metadata": {},
   "outputs": [],
   "source": []
  },
  {
   "cell_type": "code",
   "execution_count": null,
   "id": "1f62a001-1f05-4755-8be6-3cd9db73f693",
   "metadata": {},
   "outputs": [],
   "source": []
  },
  {
   "cell_type": "code",
   "execution_count": null,
   "id": "1b617068-c947-4c83-b3c6-8d3520fe30d9",
   "metadata": {},
   "outputs": [],
   "source": []
  },
  {
   "cell_type": "code",
   "execution_count": 15,
   "id": "1729e077-8950-4d07-847f-08bb6d3e9c56",
   "metadata": {
    "tags": []
   },
   "outputs": [
    {
     "name": "stdout",
     "output_type": "stream",
     "text": [
      "Already up to date.\n"
     ]
    }
   ],
   "source": [
    "cd /work/MLOps_G47_SpotifyBuddies/\n",
    "git pull"
   ]
  },
  {
   "cell_type": "code",
   "execution_count": 16,
   "id": "cb8d2512-2921-4158-baf6-9f5c4f66acd9",
   "metadata": {
    "tags": []
   },
   "outputs": [
    {
     "name": "stdout",
     "output_type": "stream",
     "text": [
      " [ERROR]: User interrupted execution\n"
     ]
    }
   ],
   "source": [
    "cd /work/MLOps_G47_SpotifyBuddies/continuous_x_pipeline/ansible\n",
    "ansible-playbook -i inventory.yml argocd/argocd_add_staging.yml"
   ]
  },
  {
   "cell_type": "code",
   "execution_count": null,
   "id": "9d1d7305-2ad9-4351-af8d-8e4b9f98a96f",
   "metadata": {},
   "outputs": [],
   "source": []
  },
  {
   "cell_type": "code",
   "execution_count": null,
   "id": "f1dba72b-0efd-4204-976e-888b227e40ad",
   "metadata": {},
   "outputs": [],
   "source": [
    "cd /work/MLOps_G47_SpotifyBuddies/continuous_x_pipeline/ansible\n",
    "ansible-playbook -i inventory.yml argocd/argocd_add_canary.yml"
   ]
  },
  {
   "cell_type": "code",
   "execution_count": null,
   "id": "7eab0f9a-98a3-48e0-97b3-984036e1e8e2",
   "metadata": {},
   "outputs": [],
   "source": []
  },
  {
   "cell_type": "code",
   "execution_count": null,
   "id": "c35cbcbc-e8b6-40f6-908c-3b3b8190d96f",
   "metadata": {},
   "outputs": [],
   "source": [
    "cd /work/MLOps_G47_SpotifyBuddies/continuous_x_pipeline/ansible\n",
    "ansible-playbook -i inventory.yml argocd/argocd_add_prod.yml"
   ]
  }
 ],
 "metadata": {
  "kernelspec": {
   "display_name": "Bash",
   "language": "bash",
   "name": "bash"
  },
  "language_info": {
   "codemirror_mode": "shell",
   "file_extension": ".sh",
   "mimetype": "text/x-sh",
   "name": "bash"
  }
 },
 "nbformat": 4,
 "nbformat_minor": 5
}
