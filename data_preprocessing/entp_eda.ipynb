{
  "nbformat": 4,
  "nbformat_minor": 0,
  "metadata": {
    "colab": {
      "provenance": []
    },
    "kernelspec": {
      "name": "python3",
      "display_name": "Python 3"
    },
    "language_info": {
      "name": "python"
    }
  },
  "cells": [
    {
      "cell_type": "code",
      "execution_count": 1,
      "metadata": {
        "id": "WHYf8nxWfAKW"
      },
      "outputs": [],
      "source": [
        "from pathlib import Path\n",
        "\n",
        "import polars as pl\n",
        "import matplotlib.pyplot as plt"
      ]
    },
    {
      "cell_type": "code",
      "source": [
        "from google.colab import drive\n",
        "drive.mount('/content/drive')"
      ],
      "metadata": {
        "id": "wNifduohfB2S",
        "colab": {
          "base_uri": "https://localhost:8080/"
        },
        "outputId": "0381b93b-fcd3-41d6-870a-8b9c514c63f2"
      },
      "execution_count": 2,
      "outputs": [
        {
          "output_type": "stream",
          "name": "stdout",
          "text": [
            "Drive already mounted at /content/drive; to attempt to forcibly remount, call drive.mount(\"/content/drive\", force_remount=True).\n"
          ]
        }
      ]
    },
    {
      "cell_type": "code",
      "source": [
        "df = pl.read_parquet(\"/content/drive/MyDrive/datasets/entp_data/user_entp_df_raw\")"
      ],
      "metadata": {
        "id": "kciULq2fgPwc"
      },
      "execution_count": 4,
      "outputs": []
    },
    {
      "cell_type": "code",
      "source": [
        "print(df.shape)\n",
        "print(df.head())\n",
        "df['user_id'].n_unique()"
      ],
      "metadata": {
        "colab": {
          "base_uri": "https://localhost:8080/"
        },
        "id": "r6i0LpuyggKw",
        "outputId": "ff4ba97c-7a29-46a7-e021-cd2dcdc9bd56"
      },
      "execution_count": 19,
      "outputs": [
        {
          "output_type": "stream",
          "name": "stdout",
          "text": [
            "(48373586, 3)\n",
            "shape: (5, 3)\n",
            "┌─────────────────────────────────┬────────────────────┬─────────────┐\n",
            "│ user_id                         ┆ songs_id           ┆ songs_count │\n",
            "│ ---                             ┆ ---                ┆ ---         │\n",
            "│ str                             ┆ str                ┆ i64         │\n",
            "╞═════════════════════════════════╪════════════════════╪═════════════╡\n",
            "│ b80344d063b5ccb3212f76538f3d9e… ┆ SOAKIMP12A8C130995 ┆ 1           │\n",
            "│ b80344d063b5ccb3212f76538f3d9e… ┆ SOAPDEY12A81C210A9 ┆ 1           │\n",
            "│ b80344d063b5ccb3212f76538f3d9e… ┆ SOBBMDR12A8C13253B ┆ 2           │\n",
            "│ b80344d063b5ccb3212f76538f3d9e… ┆ SOBFNSP12AF72A0E22 ┆ 1           │\n",
            "│ b80344d063b5ccb3212f76538f3d9e… ┆ SOBFOVM12A58A7D494 ┆ 1           │\n",
            "└─────────────────────────────────┴────────────────────┴─────────────┘\n"
          ]
        },
        {
          "output_type": "execute_result",
          "data": {
            "text/plain": [
              "1019318"
            ]
          },
          "metadata": {},
          "execution_count": 19
        }
      ]
    },
    {
      "cell_type": "code",
      "source": [
        "user_song_counts = df.group_by(\"user_id\").agg(\n",
        "    pl.col(\"songs_count\").sum().alias(\"total_songs\")\n",
        ")\n",
        "\n",
        "user_song_counts"
      ],
      "metadata": {
        "colab": {
          "base_uri": "https://localhost:8080/",
          "height": 443
        },
        "id": "yRMiAme_lR14",
        "outputId": "717e1eb0-a732-4900-d7a7-5fff83fe634f"
      },
      "execution_count": 35,
      "outputs": [
        {
          "output_type": "execute_result",
          "data": {
            "text/plain": [
              "shape: (1_019_318, 2)\n",
              "┌─────────────────────────────────┬─────────────┐\n",
              "│ user_id                         ┆ total_songs │\n",
              "│ ---                             ┆ ---         │\n",
              "│ str                             ┆ i64         │\n",
              "╞═════════════════════════════════╪═════════════╡\n",
              "│ 42e84f0bd35c570d146e417952ac90… ┆ 553         │\n",
              "│ 7e3dd2b8397a5a7500f36a77eb5863… ┆ 249         │\n",
              "│ 8f5a0c7650b4fb07b927316a5fb87f… ┆ 19          │\n",
              "│ 4aa622671dc0eadfc5a6ec43aae9f3… ┆ 138         │\n",
              "│ 37e5282da446b7d275520d2c9f82c6… ┆ 237         │\n",
              "│ …                               ┆ …           │\n",
              "│ 9329c8c4dde5ff97501e04577d34a3… ┆ 124         │\n",
              "│ cce67d5305238e22ba4513b067c584… ┆ 14          │\n",
              "│ ce278ed9846647fe3aed882d0c2a5c… ┆ 124         │\n",
              "│ 565a7ea12127f887d2b3a6d10844e1… ┆ 25          │\n",
              "│ 2ad790ca3ddbd282e26abfe716c180… ┆ 103         │\n",
              "└─────────────────────────────────┴─────────────┘"
            ],
            "text/html": [
              "<div><style>\n",
              ".dataframe > thead > tr,\n",
              ".dataframe > tbody > tr {\n",
              "  text-align: right;\n",
              "  white-space: pre-wrap;\n",
              "}\n",
              "</style>\n",
              "<small>shape: (1_019_318, 2)</small><table border=\"1\" class=\"dataframe\"><thead><tr><th>user_id</th><th>total_songs</th></tr><tr><td>str</td><td>i64</td></tr></thead><tbody><tr><td>&quot;42e84f0bd35c570d146e417952ac90…</td><td>553</td></tr><tr><td>&quot;7e3dd2b8397a5a7500f36a77eb5863…</td><td>249</td></tr><tr><td>&quot;8f5a0c7650b4fb07b927316a5fb87f…</td><td>19</td></tr><tr><td>&quot;4aa622671dc0eadfc5a6ec43aae9f3…</td><td>138</td></tr><tr><td>&quot;37e5282da446b7d275520d2c9f82c6…</td><td>237</td></tr><tr><td>&hellip;</td><td>&hellip;</td></tr><tr><td>&quot;9329c8c4dde5ff97501e04577d34a3…</td><td>124</td></tr><tr><td>&quot;cce67d5305238e22ba4513b067c584…</td><td>14</td></tr><tr><td>&quot;ce278ed9846647fe3aed882d0c2a5c…</td><td>124</td></tr><tr><td>&quot;565a7ea12127f887d2b3a6d10844e1…</td><td>25</td></tr><tr><td>&quot;2ad790ca3ddbd282e26abfe716c180…</td><td>103</td></tr></tbody></table></div>"
            ]
          },
          "metadata": {},
          "execution_count": 35
        }
      ]
    },
    {
      "cell_type": "code",
      "source": [
        "median = user_song_counts.select(pl.col(\"total_songs\").median()).item()\n",
        "percentiles = user_song_counts.select(\n",
        "    [\n",
        "        pl.col(\"total_songs\").quantile(0.001, \"nearest\").alias(\"0.1%\"),\n",
        "        pl.col(\"total_songs\").quantile(0.01, \"nearest\").alias(\"1%\"),\n",
        "        pl.col(\"total_songs\").quantile(0.25, \"nearest\").alias(\"25%\"),\n",
        "        pl.col(\"total_songs\").quantile(0.5, \"nearest\").alias(\"50%\"),\n",
        "        pl.col(\"total_songs\").quantile(0.75, \"nearest\").alias(\"75%\"),\n",
        "        pl.col(\"total_songs\").quantile(0.95, \"nearest\").alias(\"95%\"),\n",
        "        pl.col(\"total_songs\").quantile(0.99, \"nearest\").alias(\"99%\"),\n",
        "        pl.col(\"total_songs\").quantile(1.0, \"nearest\").alias(\"100%\"),\n",
        "    ]\n",
        ")\n",
        "\n",
        "distribution = user_song_counts.group_by(\"total_songs\").count().sort(\"total_songs\")\n",
        "\n",
        "print(f\"Median number of songs per user: {median}\")\n",
        "print(\"\\nPercentiles:\")\n",
        "print(percentiles)\n",
        "\n",
        "print(\"\\nDistribution (song count → number of users):\")\n",
        "print(distribution)"
      ],
      "metadata": {
        "colab": {
          "base_uri": "https://localhost:8080/"
        },
        "id": "w2Lez8YfmVTv",
        "outputId": "59b27117-6a47-4dad-a6cc-5bb189340e34"
      },
      "execution_count": 45,
      "outputs": [
        {
          "output_type": "stream",
          "name": "stdout",
          "text": [
            "Median number of songs per user: 73.0\n",
            "\n",
            "Percentiles:\n",
            "shape: (1, 8)\n",
            "┌──────┬──────┬──────┬──────┬───────┬───────┬───────┬─────────┐\n",
            "│ 0.1% ┆ 1%   ┆ 25%  ┆ 50%  ┆ 75%   ┆ 95%   ┆ 99%   ┆ 100%    │\n",
            "│ ---  ┆ ---  ┆ ---  ┆ ---  ┆ ---   ┆ ---   ┆ ---   ┆ ---     │\n",
            "│ f64  ┆ f64  ┆ f64  ┆ f64  ┆ f64   ┆ f64   ┆ f64   ┆ f64     │\n",
            "╞══════╪══════╪══════╪══════╪═══════╪═══════╪═══════╪═════════╡\n",
            "│ 10.0 ┆ 11.0 ┆ 34.0 ┆ 73.0 ┆ 163.0 ┆ 470.0 ┆ 884.0 ┆ 13132.0 │\n",
            "└──────┴──────┴──────┴──────┴───────┴───────┴───────┴─────────┘\n",
            "\n",
            "Distribution (song count → number of users):\n",
            "shape: (2_333, 2)\n",
            "┌─────────────┬───────┐\n",
            "│ total_songs ┆ count │\n",
            "│ ---         ┆ ---   │\n",
            "│ i64         ┆ u32   │\n",
            "╞═════════════╪═══════╡\n",
            "│ 10          ┆ 6416  │\n",
            "│ 11          ┆ 9141  │\n",
            "│ 12          ┆ 10417 │\n",
            "│ 13          ┆ 11151 │\n",
            "│ 14          ┆ 11720 │\n",
            "│ …           ┆ …     │\n",
            "│ 6494        ┆ 1     │\n",
            "│ 7015        ┆ 1     │\n",
            "│ 8210        ┆ 1     │\n",
            "│ 9884        ┆ 1     │\n",
            "│ 13132       ┆ 1     │\n",
            "└─────────────┴───────┘\n"
          ]
        },
        {
          "output_type": "stream",
          "name": "stderr",
          "text": [
            "<ipython-input-45-7a9692e498f3>:15: DeprecationWarning: `GroupBy.count` is deprecated. It has been renamed to `len`.\n",
            "  distribution = user_song_counts.group_by(\"total_songs\").count().sort(\"total_songs\")\n"
          ]
        }
      ]
    },
    {
      "cell_type": "code",
      "source": [
        "x = distribution[\"total_songs\"].to_numpy()\n",
        "y = distribution[\"count\"].to_numpy()\n",
        "\n",
        "min_songs = x.min()\n",
        "max_songs = x.max()\n",
        "print(f\"Min total songs per user: {min_songs}\")\n",
        "print(f\"Max total songs per user: {max_songs}\")"
      ],
      "metadata": {
        "colab": {
          "base_uri": "https://localhost:8080/"
        },
        "id": "D6FitGWdpdJ-",
        "outputId": "2ad3bef4-128e-4a45-c22b-ab8fdd6dc947"
      },
      "execution_count": 20,
      "outputs": [
        {
          "output_type": "stream",
          "name": "stdout",
          "text": [
            "Min total songs per user: 10\n",
            "Max total songs per user: 13132\n"
          ]
        }
      ]
    },
    {
      "cell_type": "code",
      "source": [
        "plt.figure(figsize=(14, 6))\n",
        "plt.bar(x, y, width=1.0)\n",
        "plt.xlabel(\"Total Songs per User\")\n",
        "plt.ylabel(\"Number of Users\")\n",
        "plt.title(\"Full Distribution of Number of Songs per User\")\n",
        "plt.grid(True, alpha=0.5)\n",
        "plt.yscale(\"log\")\n",
        "plt.tight_layout()\n",
        "plt.show()"
      ],
      "metadata": {
        "colab": {
          "base_uri": "https://localhost:8080/",
          "height": 607
        },
        "id": "4pPgWil6pk2H",
        "outputId": "b1d62ae4-87b3-4a57-cbed-19564db3baeb"
      },
      "execution_count": 39,
      "outputs": [
        {
          "output_type": "display_data",
          "data": {
            "text/plain": [
              "<Figure size 1400x600 with 1 Axes>"
            ],
            "image/png": "[encoded data removed]"
          },
          "metadata": {}
        }
      ]
    },
    {
      "cell_type": "code",
      "source": [],
      "metadata": {
        "id": "49s0fLBouYj6"
      },
      "execution_count": null,
      "outputs": []
    }
  ]
}