{
  "cells": [
    {
      "cell_type": "markdown",
      "source": [
        "### Data Pre-Processing for Spotify Buddies\n",
        "\n",
        "This notebook has most of the data preparation process for initiating our work on Spotify Buddies data. This is how the data would be originated in the business, and this process is not strictly part of our data pipeline."
      ],
      "metadata": {
        "id": "_Bil9vQEeoaw"
      }
    },
    {
      "cell_type": "markdown",
      "source": [
        "### Part I: processing MPD and ENTP separetely and create unique song_ids between the two datasets"
      ],
      "metadata": {
        "id": "5Amgmom2e8N0"
      }
    },
    {
      "cell_type": "code",
      "execution_count": 1,
      "metadata": {
        "id": "RLeuWAQwbpqw"
      },
      "outputs": [],
      "source": [
        "import json\n",
        "from pathlib import Path\n",
        "\n",
        "import polars as pl\n",
        "import matplotlib.pyplot as plt\n",
        "import pandas as pd\n",
        "import pickle\n",
        "from scipy.sparse import csr_matrix, issparse, vstack\n",
        "import numpy as np"
      ]
    },
    {
      "cell_type": "code",
      "execution_count": null,
      "metadata": {
        "id": "AoRCGFbohSX1"
      },
      "outputs": [],
      "source": [
        "MPD_FOLDER = \"/content/drive/My Drive/datasets/mpd_data\""
      ]
    },
    {
      "cell_type": "markdown",
      "metadata": {
        "id": "V8NNFe43hRXw"
      },
      "source": []
    },
    {
      "cell_type": "code",
      "execution_count": null,
      "metadata": {
        "colab": {
          "base_uri": "https://localhost:8080/",
          "height": 500
        },
        "id": "5CO34ojEDMMZ",
        "outputId": "96cf5198-6b3b-40eb-bc2d-8300ad7cea90"
      },
      "outputs": [
        {
          "data": {
            "text/html": [
              "<div><style>\n",
              ".dataframe > thead > tr,\n",
              ".dataframe > tbody > tr {\n",
              "  text-align: right;\n",
              "  white-space: pre-wrap;\n",
              "}\n",
              "</style>\n",
              "<small>shape: (5, 8)</small><table border=\"1\" class=\"dataframe\"><thead><tr><th>user_id</th><th>songs_id</th><th>songs_count</th><th>title</th><th>release</th><th>artist_name</th><th>year</th><th>aug_song_id</th></tr><tr><td>str</td><td>str</td><td>i64</td><td>str</td><td>str</td><td>str</td><td>i64</td><td>str</td></tr></thead><tbody><tr><td>&quot;b80344d063b5ccb3212f76538f3d9e…</td><td>&quot;SOAKIMP12A8C130995&quot;</td><td>1</td><td>&quot;The Cove&quot;</td><td>&quot;Thicker Than Water&quot;</td><td>&quot;Jack Johnson&quot;</td><td>0</td><td>&quot;The CoveJack Johnson&quot;</td></tr><tr><td>&quot;b80344d063b5ccb3212f76538f3d9e…</td><td>&quot;SOAPDEY12A81C210A9&quot;</td><td>1</td><td>&quot;Nothing from Nothing&quot;</td><td>&quot;To Die For&quot;</td><td>&quot;Billy Preston&quot;</td><td>1974</td><td>&quot;Nothing from NothingBilly Pres…</td></tr><tr><td>&quot;b80344d063b5ccb3212f76538f3d9e…</td><td>&quot;SOBBMDR12A8C13253B&quot;</td><td>2</td><td>&quot;Entre Dos Aguas&quot;</td><td>&quot;Flamenco Para Niños&quot;</td><td>&quot;Paco De Lucia&quot;</td><td>1976</td><td>&quot;Entre Dos AguasPaco De Lucia&quot;</td></tr><tr><td>&quot;b80344d063b5ccb3212f76538f3d9e…</td><td>&quot;SOBFNSP12AF72A0E22&quot;</td><td>1</td><td>&quot;Under Cold Blue Stars&quot;</td><td>&quot;Under Cold Blue Stars&quot;</td><td>&quot;Josh Rouse&quot;</td><td>2002</td><td>&quot;Under Cold Blue StarsJosh Rous…</td></tr><tr><td>&quot;b80344d063b5ccb3212f76538f3d9e…</td><td>&quot;SOBFOVM12A58A7D494&quot;</td><td>1</td><td>&quot;Riot Radio (Soundtrack Version…</td><td>&quot;Nick &amp; Norah&#x27;s Infinite Playli…</td><td>&quot;The Dead 60s&quot;</td><td>0</td><td>&quot;Riot Radio (Soundtrack Version…</td></tr></tbody></table></div>"
            ],
            "text/plain": [
              "shape: (5, 8)\n",
              "┌─────────────┬────────────┬────────────┬────────────┬────────────┬────────────┬──────┬────────────┐\n",
              "│ user_id     ┆ songs_id   ┆ songs_coun ┆ title      ┆ release    ┆ artist_nam ┆ year ┆ aug_song_i │\n",
              "│ ---         ┆ ---        ┆ t          ┆ ---        ┆ ---        ┆ e          ┆ ---  ┆ d          │\n",
              "│ str         ┆ str        ┆ ---        ┆ str        ┆ str        ┆ ---        ┆ i64  ┆ ---        │\n",
              "│             ┆            ┆ i64        ┆            ┆            ┆ str        ┆      ┆ str        │\n",
              "╞═════════════╪════════════╪════════════╪════════════╪════════════╪════════════╪══════╪════════════╡\n",
              "│ b80344d063b ┆ SOAKIMP12A ┆ 1          ┆ The Cove   ┆ Thicker    ┆ Jack       ┆ 0    ┆ The        │\n",
              "│ 5ccb3212f76 ┆ 8C130995   ┆            ┆            ┆ Than Water ┆ Johnson    ┆      ┆ CoveJack   │\n",
              "│ 538f3d9e…   ┆            ┆            ┆            ┆            ┆            ┆      ┆ Johnson    │\n",
              "│ b80344d063b ┆ SOAPDEY12A ┆ 1          ┆ Nothing    ┆ To Die For ┆ Billy      ┆ 1974 ┆ Nothing    │\n",
              "│ 5ccb3212f76 ┆ 81C210A9   ┆            ┆ from       ┆            ┆ Preston    ┆      ┆ from Nothi │\n",
              "│ 538f3d9e…   ┆            ┆            ┆ Nothing    ┆            ┆            ┆      ┆ ngBilly    │\n",
              "│             ┆            ┆            ┆            ┆            ┆            ┆      ┆ Pres…      │\n",
              "│ b80344d063b ┆ SOBBMDR12A ┆ 2          ┆ Entre Dos  ┆ Flamenco   ┆ Paco De    ┆ 1976 ┆ Entre Dos  │\n",
              "│ 5ccb3212f76 ┆ 8C13253B   ┆            ┆ Aguas      ┆ Para Niños ┆ Lucia      ┆      ┆ AguasPaco  │\n",
              "│ 538f3d9e…   ┆            ┆            ┆            ┆            ┆            ┆      ┆ De Lucia   │\n",
              "│ b80344d063b ┆ SOBFNSP12A ┆ 1          ┆ Under Cold ┆ Under Cold ┆ Josh Rouse ┆ 2002 ┆ Under Cold │\n",
              "│ 5ccb3212f76 ┆ F72A0E22   ┆            ┆ Blue Stars ┆ Blue Stars ┆            ┆      ┆ Blue       │\n",
              "│ 538f3d9e…   ┆            ┆            ┆            ┆            ┆            ┆      ┆ StarsJosh  │\n",
              "│             ┆            ┆            ┆            ┆            ┆            ┆      ┆ Rous…      │\n",
              "│ b80344d063b ┆ SOBFOVM12A ┆ 1          ┆ Riot Radio ┆ Nick &     ┆ The Dead   ┆ 0    ┆ Riot Radio │\n",
              "│ 5ccb3212f76 ┆ 58A7D494   ┆            ┆ (Soundtrac ┆ Norah's    ┆ 60s        ┆      ┆ (Soundtrac │\n",
              "│ 538f3d9e…   ┆            ┆            ┆ k Version… ┆ Infinite   ┆            ┆      ┆ k Version… │\n",
              "│             ┆            ┆            ┆            ┆ Playli…    ┆            ┆      ┆            │\n",
              "└─────────────┴────────────┴────────────┴────────────┴────────────┴────────────┴──────┴────────────┘"
            ]
          },
          "execution_count": 3,
          "metadata": {},
          "output_type": "execute_result"
        }
      ],
      "source": [
        "# Replace with the actual path to your parquet file\n",
        "parquet_path = '/content/drive/My Drive/datasets/entp_data/merged_df.parquet'\n",
        "df = pl.read_parquet(parquet_path)\n",
        "\n",
        "# Show first few rows\n",
        "df.head()"
      ]
    },
    {
      "cell_type": "code",
      "execution_count": null,
      "metadata": {
        "id": "exQsC7MCE5Jw"
      },
      "outputs": [],
      "source": [
        "import os\n",
        "import json\n",
        "import pandas as pd\n",
        "from tqdm import tqdm\n",
        "\n",
        "\n",
        "# Load ENTP songs from merged_df\n",
        "def extract_entp_songs(merged_df):\n",
        "    entp_keys = set()\n",
        "    for title, artist in zip(df['title'], df['artist_name']):\n",
        "        if pd.notnull(title) and pd.notnull(artist):\n",
        "            key = f\"{title.strip().lower()}@@{artist.strip().lower()}\"\n",
        "            entp_keys.add(key)\n",
        "    return entp_keys"
      ]
    },
    {
      "cell_type": "code",
      "execution_count": null,
      "metadata": {
        "id": "s79pi6xrFLpk"
      },
      "outputs": [],
      "source": [
        "# Load MPD songs from JSON files\n",
        "\n",
        "\n",
        "def extract_mpd_songs(mpd_folder):\n",
        "    mpd_keys = set()\n",
        "    files = [f for f in os.listdir(MPD_FOLDER) if f.endswith('.json')]\n",
        "\n",
        "    for file in tqdm(files, desc=\"Processing MPD slices\"):\n",
        "        with open(os.path.join(MPD_FOLDER, file), 'r', encoding='utf-8') as f:\n",
        "            try:\n",
        "              data = json.load(f)\n",
        "              for playlist in data['playlists']:\n",
        "                  for track in playlist['tracks']:\n",
        "                      title = track.get('track_name', '').strip().lower()\n",
        "                      artist = track.get('artist_name', '').strip().lower()\n",
        "                      if title and artist:\n",
        "                          key = f\"{title}@@{artist}\"\n",
        "                          mpd_keys.add(key)\n",
        "            except:\n",
        "              pass\n",
        "    return mpd_keys\n",
        "\n",
        "# Combine and assign unique song IDs\n",
        "def build_song_id_mapping(merged_df, MPD_FOLDER):\n",
        "    entp_keys = extract_entp_songs(merged_df)\n",
        "    mpd_keys = extract_mpd_songs(MPD_FOLDER)\n",
        "    all_song_keys = sorted(entp_keys | mpd_keys)\n",
        "\n",
        "    song_to_id = {song: idx for idx, song in enumerate(all_song_keys)}\n",
        "    return song_to_id"
      ]
    },
    {
      "cell_type": "code",
      "execution_count": null,
      "metadata": {
        "colab": {
          "base_uri": "https://localhost:8080/"
        },
        "id": "GVjTYmBgF7VO",
        "outputId": "8afac150-c2c1-4052-ca60-4425b25eb9e2"
      },
      "outputs": [
        {
          "name": "stderr",
          "output_type": "stream",
          "text": [
            "Processing MPD slices: 100%|██████████| 947/947 [17:56<00:00,  1.14s/it]\n"
          ]
        },
        {
          "name": "stdout",
          "output_type": "stream",
          "text": [
            "Total unique songs: 2397197\n"
          ]
        }
      ],
      "source": [
        "# Generate song-to-ID mapping\n",
        "song_to_id = build_song_id_mapping(df, \"mpd_slices/\")\n",
        "\n",
        "print(f\"Total unique songs: {len(song_to_id)}\")"
      ]
    },
    {
      "cell_type": "code",
      "execution_count": null,
      "metadata": {
        "id": "TpNxS36BOcAu"
      },
      "outputs": [],
      "source": [
        "import pickle\n",
        "\n",
        "# Save\n",
        "with open(\"/content/drive/MyDrive/datasets/song_to_id.pkl\", \"wb\") as f:\n",
        "    pickle.dump(song_to_id, f)\n",
        "\n",
        "# Load later\n",
        "with open(\"/content/drive/MyDrive/datasets/song_to_id.pkl\", \"rb\") as f:\n",
        "    song_to_id = pickle.load(f)\n"
      ]
    },
    {
      "cell_type": "markdown",
      "source": [
        "### Part 2: Users and playlists sparse matrices\n",
        "\n",
        "The goal of this part is to obtain the amount of matching songs between each user and each playlist. This is a 1M*1M grid, but each user and playlist have X and Y number of songs, so it's a very large operation. We use sparse matrices and slices to make it manageable and more efficient."
      ],
      "metadata": {
        "id": "6aD3sjeEfPot"
      }
    },
    {
      "cell_type": "code",
      "execution_count": null,
      "metadata": {
        "id": "3oc73Ym3dNrN"
      },
      "outputs": [],
      "source": [
        "# STEP 2: Build User Sparse Matrix\n",
        "\n",
        "import pandas as pd\n",
        "import pickle\n",
        "import numpy as np\n",
        "from scipy.sparse import csr_matrix\n",
        "\n",
        "# === Load ENTP Parquet with only needed columns ===\n",
        "merged_df = pd.read_parquet(\n",
        "    \"/content/drive/My Drive/datasets/entp_data/merged_df.parquet\",\n",
        "    columns=[\"user_id\", \"title\", \"artist_name\"]\n",
        ")\n",
        "\n",
        "# === Load song_to_id mapping ===\n",
        "with open(\"/content/drive/My Drive/datasets/song_to_id.pkl\", \"rb\") as f:\n",
        "    song_to_id = pickle.load(f)\n",
        "\n",
        "# === Build user matrix function ===\n",
        "def build_user_matrix(merged_df, song_to_id):\n",
        "    print(\"Building user matrix...\")\n",
        "\n",
        "    user_ids = merged_df['user_id'].unique()\n",
        "    user_to_idx = {user_id: idx for idx, user_id in enumerate(user_ids)}\n",
        "    n_users = len(user_to_idx)\n",
        "    n_songs = len(song_to_id)\n",
        "\n",
        "    print(f\"Total users: {n_users}, Total songs: {n_songs}\")\n",
        "\n",
        "    data, row_indices, col_indices = [], [], []\n",
        "\n",
        "    for row in merged_df.itertuples(index=False):\n",
        "        if pd.notnull(row.title) and pd.notnull(row.artist_name):\n",
        "            song_key = f\"{row.title.strip().lower()}@@{row.artist_name.strip().lower()}\"\n",
        "            if song_key in song_to_id:\n",
        "                user_idx = user_to_idx[row.user_id]\n",
        "                song_idx = song_to_id[song_key]\n",
        "\n",
        "                row_indices.append(user_idx)\n",
        "                col_indices.append(song_idx)\n",
        "                data.append(1)\n",
        "\n",
        "    user_matrix = csr_matrix((data, (row_indices, col_indices)), shape=(n_users, n_songs))\n",
        "\n",
        "    return user_matrix, user_to_idx"
      ]
    },
    {
      "cell_type": "code",
      "execution_count": null,
      "metadata": {
        "colab": {
          "base_uri": "https://localhost:8080/"
        },
        "id": "RH3N6LuNfflU",
        "outputId": "4e9d7b9f-90d4-4c35-9fa7-7e73171b0d3d"
      },
      "outputs": [
        {
          "name": "stdout",
          "output_type": "stream",
          "text": [
            "Building user matrix...\n",
            "Total users: 1019318, Total songs: 2397197\n",
            "User matrix built: (1019318, 2397197)\n"
          ]
        }
      ],
      "source": [
        "# Build user sparse matrix\n",
        "user_matrix, user_to_idx = build_user_matrix(merged_df, song_to_id)\n",
        "\n",
        "# Confirm shape\n",
        "print(\"User matrix built:\", user_matrix.shape)\n",
        "\n",
        "# Save user_matrix\n",
        "with open(\"/content/drive/My Drive/datasets/user_matrix.pkl\", \"wb\") as f:\n",
        "    pickle.dump(user_matrix, f)\n",
        "\n",
        "# Save user_to_idx\n",
        "with open(\"/content/drive/My Drive/datasets/user_to_idx.pkl\", \"wb\") as f:\n",
        "    pickle.dump(user_to_idx, f)"
      ]
    },
    {
      "cell_type": "code",
      "execution_count": null,
      "metadata": {
        "id": "9A922DkEgrGZ"
      },
      "outputs": [],
      "source": [
        "# Load files (if needed)\n",
        "# with open(\"/content/drive/My Drive/datasets/user_matrix.pkl\", \"rb\") as f:\n",
        "#     user_matrix = pickle.load(f)\n",
        "\n",
        "# with open(\"/content/drive/My Drive/datasets/user_to_idx.pkl\", \"rb\") as f:\n",
        "#     user_to_idx = pickle.load(f)"
      ]
    },
    {
      "cell_type": "code",
      "execution_count": null,
      "metadata": {
        "id": "m9R2_Zqpg97M"
      },
      "outputs": [],
      "source": [
        "# Step 3: playlist sparse matrix builder function\n",
        "\n",
        "import os\n",
        "import json\n",
        "import pickle\n",
        "from tqdm import tqdm\n",
        "from scipy.sparse import csr_matrix\n",
        "\n",
        "def build_playlist_matrix(mpd_folder, song_to_id):\n",
        "    print(\"Building playlist matrix...\")\n",
        "\n",
        "    data, row_indices, col_indices = [], [], []\n",
        "    playlist_to_idx = {}\n",
        "    playlist_counter = 0\n",
        "    n_songs = len(song_to_id)\n",
        "\n",
        "    json_files = [f for f in os.listdir(MPD_FOLDER) if f.endswith('.json')]\n",
        "\n",
        "    for file in tqdm(json_files, desc=\"Processing MPD slices\"):\n",
        "      try:\n",
        "\n",
        "        with open(os.path.join(mpd_folder, file), \"r\", encoding=\"utf-8\") as f:\n",
        "            slice_data = json.load(f)\n",
        "\n",
        "            for playlist in slice_data[\"playlists\"]:\n",
        "                pid = playlist[\"pid\"]\n",
        "                playlist_to_idx[pid] = playlist_counter\n",
        "\n",
        "                for track in playlist[\"tracks\"]:\n",
        "                    title = track.get(\"track_name\", \"\").strip().lower()\n",
        "                    artist = track.get(\"artist_name\", \"\").strip().lower()\n",
        "                    if title and artist:\n",
        "                        key = f\"{title}@@{artist}\"\n",
        "                        if key in song_to_id:\n",
        "                            song_idx = song_to_id[key]\n",
        "\n",
        "                            row_indices.append(playlist_counter)\n",
        "                            col_indices.append(song_idx)\n",
        "                            data.append(1)\n",
        "\n",
        "                playlist_counter += 1\n",
        "\n",
        "      except json.JSONDecodeError as e:\n",
        "          print(f\"Skipping file due to JSON error: {file} — {e}\")\n",
        "          continue\n",
        "\n",
        "    playlist_matrix = csr_matrix((data, (row_indices, col_indices)), shape=(playlist_counter, n_songs))\n",
        "    return playlist_matrix, playlist_to_idx\n",
        "\n"
      ]
    },
    {
      "cell_type": "code",
      "execution_count": null,
      "metadata": {
        "colab": {
          "base_uri": "https://localhost:8080/"
        },
        "id": "snOsowuLhGfh",
        "outputId": "90a89c95-48f2-4400-9b77-e0b2049e5d4b"
      },
      "outputs": [
        {
          "name": "stdout",
          "output_type": "stream",
          "text": [
            "Building playlist matrix...\n"
          ]
        },
        {
          "name": "stderr",
          "output_type": "stream",
          "text": [
            "Processing MPD slices: 100%|██████████| 947/947 [16:09<00:00,  1.02s/it]"
          ]
        },
        {
          "name": "stdout",
          "output_type": "stream",
          "text": [
            "Skipping file due to JSON error: mpd.slice.0-999.json — Expecting ',' delimiter: line 21320 column 68 (char 1048597)\n"
          ]
        },
        {
          "name": "stderr",
          "output_type": "stream",
          "text": [
            "\n"
          ]
        },
        {
          "name": "stdout",
          "output_type": "stream",
          "text": [
            "Playlist matrix built: (946000, 2397197)\n"
          ]
        }
      ],
      "source": [
        "# Step 3: generate the playlist sparse matrix\n",
        "\n",
        "# Load song_to_id again (if not already in memory)\n",
        "with open(\"/content/drive/My Drive/datasets/song_to_id.pkl\", \"rb\") as f:\n",
        "    song_to_id = pickle.load(f)\n",
        "\n",
        "# Set path to your MPD slices\n",
        "mpd_folder = \"/content/drive/My Drive/datasets/mpd_data/\"\n",
        "\n",
        "# Build matrix\n",
        "playlist_matrix, playlist_to_idx = build_playlist_matrix(mpd_folder, song_to_id)\n",
        "print(\"Playlist matrix built:\", playlist_matrix.shape)\n",
        "\n",
        "# Save results\n",
        "with open(\"/content/drive/My Drive/datasets/playlist_matrix.pkl\", \"wb\") as f:\n",
        "    pickle.dump(playlist_matrix, f)\n",
        "\n",
        "with open(\"/content/drive/My Drive/datasets/playlist_to_idx.pkl\", \"wb\") as f:\n",
        "    pickle.dump(playlist_to_idx, f)"
      ]
    },
    {
      "cell_type": "code",
      "execution_count": null,
      "metadata": {
        "id": "CGL02JMPdXlM"
      },
      "outputs": [],
      "source": [
        "#Step 3: load files (if required)\n",
        "# # Load files\n",
        "# merged_df = pd.read_parquet(\n",
        "#     \"/content/drive/My Drive/datasets/entp_data/merged_df.parquet\",\n",
        "#     columns=[\"user_id\", \"title\", \"artist_name\"]\n",
        "# )\n",
        "# with open(\"/content/drive/My Drive/datasets/song_to_id.pkl\", \"rb\") as f:\n",
        "#     song_to_id = pickle.load(f)\n",
        "\n",
        "# # Build matrix\n",
        "# user_matrix, user_to_idx = build_user_matrix(merged_df, song_to_id)\n",
        "# print(\"User matrix built:\", user_matrix.shape)"
      ]
    },
    {
      "cell_type": "code",
      "execution_count": null,
      "metadata": {
        "colab": {
          "base_uri": "https://localhost:8080/",
          "height": 211
        },
        "id": "CLFEDvTtBhu6",
        "outputId": "c3c90aa0-21ab-4232-cd1e-ca32e74b4c34"
      },
      "outputs": [
        {
          "ename": "KeyboardInterrupt",
          "evalue": "",
          "output_type": "error",
          "traceback": [
            "\u001b[0;31m---------------------------------------------------------------------------\u001b[0m",
            "\u001b[0;31mKeyboardInterrupt\u001b[0m                         Traceback (most recent call last)",
            "\u001b[0;32m<ipython-input-3-e749508a3080>\u001b[0m in \u001b[0;36m<cell line: 0>\u001b[0;34m()\u001b[0m\n\u001b[1;32m      6\u001b[0m \u001b[0;34m\u001b[0m\u001b[0m\n\u001b[1;32m      7\u001b[0m \u001b[0;32mwith\u001b[0m \u001b[0mopen\u001b[0m\u001b[0;34m(\u001b[0m\u001b[0;34m\"/content/drive/My Drive/datasets/playlist_matrix.pkl\"\u001b[0m\u001b[0;34m,\u001b[0m \u001b[0;34m\"rb\"\u001b[0m\u001b[0;34m)\u001b[0m \u001b[0;32mas\u001b[0m \u001b[0mf\u001b[0m\u001b[0;34m:\u001b[0m\u001b[0;34m\u001b[0m\u001b[0;34m\u001b[0m\u001b[0m\n\u001b[0;32m----> 8\u001b[0;31m     \u001b[0mplaylist_matrix\u001b[0m \u001b[0;34m=\u001b[0m \u001b[0mpickle\u001b[0m\u001b[0;34m.\u001b[0m\u001b[0mload\u001b[0m\u001b[0;34m(\u001b[0m\u001b[0mf\u001b[0m\u001b[0;34m)\u001b[0m\u001b[0;34m\u001b[0m\u001b[0;34m\u001b[0m\u001b[0m\n\u001b[0m\u001b[1;32m      9\u001b[0m \u001b[0;34m\u001b[0m\u001b[0m\n\u001b[1;32m     10\u001b[0m \u001b[0;34m\u001b[0m\u001b[0m\n",
            "\u001b[0;31mKeyboardInterrupt\u001b[0m: "
          ]
        }
      ],
      "source": [
        "# Step 4: compute matches between both matrics (user and playlists)\n",
        "\n",
        "# === Load matrices ===\n",
        "with open(\"/content/drive/My Drive/datasets/user_matrix.pkl\", \"rb\") as f:\n",
        "    user_matrix = pickle.load(f)\n",
        "\n",
        "with open(\"/content/drive/My Drive/datasets/playlist_matrix.pkl\", \"rb\") as f:\n",
        "    playlist_matrix = pickle.load(f)\n",
        "\n",
        "\n",
        "# === Multiply to get user–playlist overlaps ===\n",
        "print(\"Computing overlap matrix...\")\n",
        "playlist_matrix_T = playlist_matrix.transpose().tocsr()\n",
        "overlap_matrix = user_matrix.dot(playlist_matrix_T)  # shape: (n_users, n_playlists)\n",
        "\n",
        "print(\"Done! Overlap matrix shape:\", overlap_matrix.shape)\n",
        "\n",
        "\n",
        "with open(\"/content/drive/My Drive/datasets/overlap_matrix.pkl\", \"wb\") as f:\n",
        "    pickle.dump(overlap_matrix, f)"
      ]
    },
    {
      "cell_type": "code",
      "execution_count": null,
      "metadata": {
        "colab": {
          "base_uri": "https://localhost:8080/",
          "height": 211
        },
        "id": "G9b2i2ZtNnrq",
        "outputId": "575d2912-dd6c-447a-fb16-bf173552a752"
      },
      "outputs": [
        {
          "ename": "KeyboardInterrupt",
          "evalue": "",
          "output_type": "error",
          "traceback": [
            "\u001b[0;31m---------------------------------------------------------------------------\u001b[0m",
            "\u001b[0;31mKeyboardInterrupt\u001b[0m                         Traceback (most recent call last)",
            "\u001b[0;32m<ipython-input-3-53d4fbd926f0>\u001b[0m in \u001b[0;36m<cell line: 0>\u001b[0;34m()\u001b[0m\n\u001b[1;32m      4\u001b[0m \u001b[0;31m# === Load matrices ===\u001b[0m\u001b[0;34m\u001b[0m\u001b[0;34m\u001b[0m\u001b[0m\n\u001b[1;32m      5\u001b[0m \u001b[0;32mwith\u001b[0m \u001b[0mopen\u001b[0m\u001b[0;34m(\u001b[0m\u001b[0;34m\"/content/drive/My Drive/datasets/user_matrix.pkl\"\u001b[0m\u001b[0;34m,\u001b[0m \u001b[0;34m\"rb\"\u001b[0m\u001b[0;34m)\u001b[0m \u001b[0;32mas\u001b[0m \u001b[0mf\u001b[0m\u001b[0;34m:\u001b[0m\u001b[0;34m\u001b[0m\u001b[0;34m\u001b[0m\u001b[0m\n\u001b[0;32m----> 6\u001b[0;31m     \u001b[0muser_matrix\u001b[0m \u001b[0;34m=\u001b[0m \u001b[0mpickle\u001b[0m\u001b[0;34m.\u001b[0m\u001b[0mload\u001b[0m\u001b[0;34m(\u001b[0m\u001b[0mf\u001b[0m\u001b[0;34m)\u001b[0m\u001b[0;34m\u001b[0m\u001b[0;34m\u001b[0m\u001b[0m\n\u001b[0m\u001b[1;32m      7\u001b[0m \u001b[0;34m\u001b[0m\u001b[0m\n\u001b[1;32m      8\u001b[0m \u001b[0;32mwith\u001b[0m \u001b[0mopen\u001b[0m\u001b[0;34m(\u001b[0m\u001b[0;34m\"/content/drive/My Drive/datasets/playlist_matrix.pkl\"\u001b[0m\u001b[0;34m,\u001b[0m \u001b[0;34m\"rb\"\u001b[0m\u001b[0;34m)\u001b[0m \u001b[0;32mas\u001b[0m \u001b[0mf\u001b[0m\u001b[0;34m:\u001b[0m\u001b[0;34m\u001b[0m\u001b[0;34m\u001b[0m\u001b[0m\n",
            "\u001b[0;31mKeyboardInterrupt\u001b[0m: "
          ]
        }
      ],
      "source": [
        "# Step 4: compute matches between both matrics (user and playlists) with batched multiplication\n",
        "\n",
        "\n",
        "# === Load matrices ===\n",
        "with open(\"/content/drive/My Drive/datasets/user_matrix.pkl\", \"rb\") as f:\n",
        "    user_matrix = pickle.load(f)\n",
        "\n",
        "with open(\"/content/drive/My Drive/datasets/playlist_matrix.pkl\", \"rb\") as f:\n",
        "    playlist_matrix = pickle.load(f)\n",
        "\n",
        "playlist_matrix_T = playlist_matrix.transpose().tocsr()\n",
        "\n",
        "# === Set batch parameters ===\n",
        "batch_size = 10000\n",
        "n_users = user_matrix.shape[0]\n",
        "\n",
        "print(\"Starting streaming batched dot product...\")\n",
        "\n",
        "for start in range(0, n_users, batch_size):\n",
        "    end = min(start + batch_size, n_users)\n",
        "    batch = user_matrix[start:end]\n",
        "\n",
        "    print(f\"Processing users {start} to {end}...\")\n",
        "\n",
        "    batch_overlap = batch.dot(playlist_matrix_T)\n",
        "\n",
        "    batch_file = f\"/content/drive/My Drive/datasets/overlap_batches/overlap_{start}_{end}.pkl\"\n",
        "    with open(batch_file, \"wb\") as f:\n",
        "        pickle.dump(batch_overlap, f)\n",
        "\n",
        "print(\"✅ Done! All batches saved to disk.\")"
      ]
    },
    {
      "cell_type": "code",
      "execution_count": null,
      "metadata": {
        "colab": {
          "base_uri": "https://localhost:8080/"
        },
        "id": "hnLXIhGQikLU",
        "outputId": "503bb3a7-ca29-4e6d-dc9d-45fa83fe4255"
      },
      "outputs": [
        {
          "name": "stdout",
          "output_type": "stream",
          "text": [
            "Starting streaming batched dot product...\n",
            "✅ overlap_0_10000 already computed. Skipping...\n",
            "✅ overlap_10000_20000 already computed. Skipping...\n",
            "✅ overlap_20000_30000 already computed. Skipping...\n",
            "✅ overlap_30000_40000 already computed. Skipping...\n",
            "✅ overlap_40000_50000 already computed. Skipping...\n",
            "✅ overlap_50000_60000 already computed. Skipping...\n",
            "✅ overlap_60000_70000 already computed. Skipping...\n",
            "✅ overlap_70000_80000 already computed. Skipping...\n",
            "✅ overlap_80000_90000 already computed. Skipping...\n",
            "✅ overlap_90000_100000 already computed. Skipping...\n",
            "✅ overlap_100000_110000 already computed. Skipping...\n",
            "✅ overlap_110000_120000 already computed. Skipping...\n",
            "✅ overlap_120000_130000 already computed. Skipping...\n",
            "✅ overlap_130000_140000 already computed. Skipping...\n",
            "✅ overlap_140000_150000 already computed. Skipping...\n",
            "✅ overlap_150000_160000 already computed. Skipping...\n",
            "✅ overlap_160000_170000 already computed. Skipping...\n",
            "✅ overlap_170000_180000 already computed. Skipping...\n",
            "✅ overlap_180000_190000 already computed. Skipping...\n",
            "✅ overlap_190000_200000 already computed. Skipping...\n",
            "✅ overlap_200000_210000 already computed. Skipping...\n",
            "✅ overlap_210000_220000 already computed. Skipping...\n",
            "✅ overlap_220000_230000 already computed. Skipping...\n",
            "✅ overlap_230000_240000 already computed. Skipping...\n",
            "✅ overlap_240000_250000 already computed. Skipping...\n",
            "✅ overlap_250000_260000 already computed. Skipping...\n",
            "✅ overlap_260000_270000 already computed. Skipping...\n",
            "✅ overlap_270000_280000 already computed. Skipping...\n",
            "✅ overlap_280000_290000 already computed. Skipping...\n",
            "✅ overlap_290000_300000 already computed. Skipping...\n",
            "✅ overlap_300000_310000 already computed. Skipping...\n",
            "✅ overlap_310000_320000 already computed. Skipping...\n",
            "✅ overlap_320000_330000 already computed. Skipping...\n",
            "✅ overlap_330000_340000 already computed. Skipping...\n",
            "✅ overlap_340000_350000 already computed. Skipping...\n",
            "✅ overlap_350000_360000 already computed. Skipping...\n",
            "✅ overlap_360000_370000 already computed. Skipping...\n",
            "✅ overlap_370000_380000 already computed. Skipping...\n",
            "✅ overlap_380000_390000 already computed. Skipping...\n",
            "✅ overlap_390000_400000 already computed. Skipping...\n",
            "✅ overlap_400000_410000 already computed. Skipping...\n",
            "✅ overlap_410000_420000 already computed. Skipping...\n",
            "✅ overlap_420000_430000 already computed. Skipping...\n",
            "✅ overlap_430000_440000 already computed. Skipping...\n",
            "✅ overlap_440000_450000 already computed. Skipping...\n",
            "✅ overlap_450000_460000 already computed. Skipping...\n",
            "✅ overlap_460000_470000 already computed. Skipping...\n",
            "✅ overlap_470000_480000 already computed. Skipping...\n",
            "✅ overlap_480000_490000 already computed. Skipping...\n",
            "✅ overlap_490000_500000 already computed. Skipping...\n",
            "✅ overlap_500000_510000 already computed. Skipping...\n",
            "✅ overlap_510000_520000 already computed. Skipping...\n",
            "✅ overlap_520000_530000 already computed. Skipping...\n",
            "✅ overlap_530000_540000 already computed. Skipping...\n",
            "✅ overlap_540000_550000 already computed. Skipping...\n",
            "✅ overlap_550000_560000 already computed. Skipping...\n",
            "✅ overlap_560000_570000 already computed. Skipping...\n",
            "✅ overlap_570000_580000 already computed. Skipping...\n",
            "✅ overlap_580000_590000 already computed. Skipping...\n",
            "✅ overlap_590000_600000 already computed. Skipping...\n",
            "✅ overlap_600000_610000 already computed. Skipping...\n",
            "✅ overlap_610000_620000 already computed. Skipping...\n",
            "✅ overlap_620000_630000 already computed. Skipping...\n",
            "✅ overlap_630000_640000 already computed. Skipping...\n",
            "✅ overlap_640000_650000 already computed. Skipping...\n",
            "✅ overlap_650000_660000 already computed. Skipping...\n",
            "✅ overlap_660000_670000 already computed. Skipping...\n",
            "✅ overlap_670000_680000 already computed. Skipping...\n",
            "✅ overlap_680000_690000 already computed. Skipping...\n",
            "✅ overlap_690000_700000 already computed. Skipping...\n",
            "✅ overlap_700000_710000 already computed. Skipping...\n",
            "✅ overlap_710000_720000 already computed. Skipping...\n",
            "✅ overlap_720000_730000 already computed. Skipping...\n",
            "✅ overlap_730000_740000 already computed. Skipping...\n",
            "✅ overlap_740000_750000 already computed. Skipping...\n",
            "✅ overlap_750000_760000 already computed. Skipping...\n",
            "✅ overlap_760000_770000 already computed. Skipping...\n",
            "✅ overlap_770000_780000 already computed. Skipping...\n",
            "✅ overlap_780000_790000 already computed. Skipping...\n",
            "✅ overlap_790000_800000 already computed. Skipping...\n",
            "✅ overlap_800000_810000 already computed. Skipping...\n",
            "✅ overlap_810000_820000 already computed. Skipping...\n",
            "✅ overlap_820000_830000 already computed. Skipping...\n",
            "✅ overlap_830000_840000 already computed. Skipping...\n",
            "✅ overlap_840000_850000 already computed. Skipping...\n",
            "✅ overlap_850000_860000 already computed. Skipping...\n",
            "✅ overlap_860000_870000 already computed. Skipping...\n",
            "🚧 Processing users 870000 to 880000...\n",
            "🚧 Processing users 880000 to 890000...\n",
            "🚧 Processing users 890000 to 900000...\n",
            "🚧 Processing users 900000 to 910000...\n",
            "🚧 Processing users 910000 to 920000...\n",
            "🚧 Processing users 920000 to 930000...\n",
            "🚧 Processing users 930000 to 940000...\n",
            "🚧 Processing users 940000 to 950000...\n",
            "🚧 Processing users 950000 to 960000...\n",
            "🚧 Processing users 960000 to 970000...\n",
            "🚧 Processing users 970000 to 980000...\n",
            "🚧 Processing users 980000 to 990000...\n",
            "🚧 Processing users 990000 to 1000000...\n",
            "🚧 Processing users 1000000 to 1010000...\n",
            "🚧 Processing users 1010000 to 1019318...\n",
            "🎉 Done! All missing batches processed and saved.\n"
          ]
        }
      ],
      "source": [
        "import os\n",
        "import pickle\n",
        "from scipy.sparse import csr_matrix\n",
        "\n",
        "# === Load matrices ===\n",
        "with open(\"/content/drive/My Drive/datasets/user_matrix.pkl\", \"rb\") as f:\n",
        "    user_matrix = pickle.load(f)\n",
        "\n",
        "with open(\"/content/drive/My Drive/datasets/playlist_matrix.pkl\", \"rb\") as f:\n",
        "    playlist_matrix = pickle.load(f)\n",
        "\n",
        "playlist_matrix_T = playlist_matrix.transpose().tocsr()\n",
        "\n",
        "# === Set batch parameters ===\n",
        "batch_size = 10000\n",
        "n_users = user_matrix.shape[0]\n",
        "\n",
        "output_dir = \"/content/drive/My Drive/datasets/overlap_batches\"\n",
        "os.makedirs(output_dir, exist_ok=True)\n",
        "\n",
        "print(\"Starting streaming batched dot product...\")\n",
        "\n",
        "for start in range(0, n_users, batch_size):\n",
        "    end = min(start + batch_size, n_users)\n",
        "    batch_file = os.path.join(output_dir, f\"overlap_{start}_{end}.pkl\")\n",
        "\n",
        "    if os.path.exists(batch_file):\n",
        "        print(f\"✅ overlap_{start}_{end} already computed. Skipping...\")\n",
        "        continue\n",
        "\n",
        "    print(f\"🚧 Processing users {start} to {end}...\")\n",
        "\n",
        "    batch = user_matrix[start:end]\n",
        "    batch_overlap = batch.dot(playlist_matrix_T)\n",
        "\n",
        "    with open(batch_file, \"wb\") as f:\n",
        "        pickle.dump(batch_overlap, f)\n",
        "\n",
        "print(\"🎉 Done! All missing batches processed and saved.\")"
      ]
    },
    {
      "cell_type": "code",
      "execution_count": null,
      "metadata": {
        "colab": {
          "base_uri": "https://localhost:8080/"
        },
        "id": "sOZW96WtCUId",
        "outputId": "5dd5f6f5-db64-4033-e762-30537791d707"
      },
      "outputs": [
        {
          "name": "stdout",
          "output_type": "stream",
          "text": [
            "Found 102 batches to merge...\n"
          ]
        },
        {
          "name": "stderr",
          "output_type": "stream",
          "text": [
            "Loading batches into memory:   4%|▍         | 4/102 [13:01<5:53:12, 216.25s/it]"
          ]
        }
      ],
      "source": [
        "import os\n",
        "import pickle\n",
        "from tqdm import tqdm\n",
        "from scipy.sparse import vstack\n",
        "\n",
        "# === Batch directory and output file ===\n",
        "batch_dir = \"/content/drive/My Drive/datasets/overlap_batches\"\n",
        "final_output = \"/content/drive/My Drive/datasets/overlap_matrix.pkl\"\n",
        "\n",
        "# === Collect all batch file paths and sort by start and end index ===\n",
        "batch_files = sorted([\n",
        "    f for f in os.listdir(batch_dir)\n",
        "    if f.endswith(\".pkl\") and f.startswith(\"overlap_\")\n",
        "], key=lambda x: (\n",
        "    int(x.split(\"_\")[1]),  # start index\n",
        "    int(x.split(\"_\")[2].split(\".\")[0])  # end index (remove .pkl)\n",
        "))\n",
        "\n",
        "print(f\"Found {len(batch_files)} batches to merge...\")\n",
        "\n",
        "# === Load all batches into memory first ===\n",
        "all_batches = []\n",
        "for f_name in tqdm(batch_files, desc=\"Loading batches into memory\"):\n",
        "    batch_path = os.path.join(batch_dir, f_name)\n",
        "    with open(batch_path, \"rb\") as f:\n",
        "        batch_matrix = pickle.load(f)\n",
        "        all_batches.append(batch_matrix)\n",
        "\n",
        "print(\"🔗 Stacking all batches into final matrix...\")\n",
        "overlap_matrix = vstack(all_batches)\n",
        "\n",
        "# === Save final matrix ===\n",
        "with open(final_output, \"wb\") as f:\n",
        "    pickle.dump(overlap_matrix, f)\n",
        "\n",
        "print(\"✅ Done! Final matrix shape:\", overlap_matrix.shape)"
      ]
    },
    {
      "cell_type": "code",
      "execution_count": null,
      "metadata": {
        "id": "m-EP7rbddXuG"
      },
      "outputs": [],
      "source": [
        "# Load ENTP parquet\n",
        "merged_df = pd.read_parquet(\"/content/drive/My Drive/datasets/entp_data/merged_df.parquet\")\n",
        "\n",
        "# Load song_to_id mapping\n",
        "with open(\"/content/drive/My Drive/song_to_id.pkl\", \"rb\") as f:\n",
        "    song_to_id = pickle.load(f)"
      ]
    },
    {
      "cell_type": "code",
      "execution_count": null,
      "metadata": {
        "id": "A9b1MRNwdXzw"
      },
      "outputs": [],
      "source": []
    },
    {
      "cell_type": "code",
      "execution_count": null,
      "metadata": {
        "id": "NoqdJlxCdCY6"
      },
      "outputs": [],
      "source": [
        "# ENTD Users dataset\n",
        "df = pl.read_parquet(\"/content/drive/MyDrive/datasets/entp_data/user_entp_df_raw\")"
      ]
    },
    {
      "cell_type": "code",
      "execution_count": null,
      "metadata": {
        "id": "Ww2aweQJdW8r"
      },
      "outputs": [],
      "source": [
        "songs_df = pl.read_csv(\"/content/drive/MyDrive/datasets/entp_data/song_data.csv\")"
      ]
    },
    {
      "cell_type": "code",
      "execution_count": null,
      "metadata": {
        "id": "sEyaoaerfFM4"
      },
      "outputs": [],
      "source": [
        "merged_df = df.join(songs_df, left_on=\"songs_id\", right_on=\"song_id\", how=\"left\")\n",
        "# songs_df.columns"
      ]
    },
    {
      "cell_type": "code",
      "execution_count": null,
      "metadata": {
        "id": "xbRWFgFHggac"
      },
      "outputs": [],
      "source": [
        "merged_df.write_parquet(\"/content/drive/MyDrive/datasets/entp_data/merged_df\")"
      ]
    },
    {
      "cell_type": "code",
      "execution_count": null,
      "metadata": {
        "id": "oNFDt67FnxGc"
      },
      "outputs": [],
      "source": [
        "merged_df = pl.read_parquet(\"/content/drive/MyDrive/datasets/entp_data/merged_df\")"
      ]
    },
    {
      "cell_type": "code",
      "execution_count": null,
      "metadata": {
        "id": "0j3G5TdphCUp"
      },
      "outputs": [],
      "source": [
        "# Group By\n",
        "# User Id => Get the Songs List\n",
        "users = merged_df['user_id'].unique()\n",
        "# import time"
      ]
    },
    {
      "cell_type": "code",
      "execution_count": null,
      "metadata": {
        "id": "WOLv7CXwjc-s"
      },
      "outputs": [],
      "source": [
        "# Create Augmented Songs Id by concatenating title and artist name\n",
        "merged_df = merged_df.with_columns(\n",
        "    pl.concat_str(\n",
        "        [\n",
        "            pl.col(\"title\"),\n",
        "            pl.col(\"artist_name\"),\n",
        "        ],\n",
        "        separator=\"\",\n",
        "    ).alias(\"aug_song_id\"),\n",
        ")\n"
      ]
    },
    {
      "cell_type": "code",
      "execution_count": null,
      "metadata": {
        "id": "NITOvOEIiTzn"
      },
      "outputs": [],
      "source": [
        "curr_user = users[0]"
      ]
    },
    {
      "cell_type": "code",
      "execution_count": null,
      "metadata": {
        "id": "BLrjTObykyzs"
      },
      "outputs": [],
      "source": [
        "tmp_df = merged_df.filter(pl.col(\"user_id\") == curr_user)\n",
        "# merged_df.head()"
      ]
    },
    {
      "cell_type": "code",
      "execution_count": null,
      "metadata": {
        "id": "yoReQDEsqh25"
      },
      "outputs": [],
      "source": [
        "q = (\n",
        "    tmp_df.lazy()\n",
        "    .group_by(\"user_id\")\n",
        "    .agg(\n",
        "        pl.col(\"aug_song_id\"),\n",
        "    )\n",
        ")\n",
        "\n",
        "test = q.collect()"
      ]
    },
    {
      "cell_type": "code",
      "execution_count": null,
      "metadata": {
        "id": "Lapb2rg76esM"
      },
      "outputs": [],
      "source": [
        "user_songs = set(test.row(0)[1])"
      ]
    },
    {
      "cell_type": "code",
      "execution_count": null,
      "metadata": {
        "id": "xhro3YqfvRmn"
      },
      "outputs": [],
      "source": [
        "# MPD dataset\n",
        "path = Path(\"/content/drive/MyDrive/datasets/mpd_data\")"
      ]
    },
    {
      "cell_type": "code",
      "execution_count": null,
      "metadata": {
        "id": "9D0K9BJJvgm1"
      },
      "outputs": [],
      "source": [
        "def read_mpd_json(path: str) -> dict:\n",
        "  with open(path) as f:\n",
        "    data = json.load(f)\n",
        "    playlists = data[\"playlists\"]\n",
        "    for playlist in playlists:\n",
        "      p_name = playlist[\"name\"]\n",
        "      tracks = playlist[\"tracks\"]\n",
        "      aug_songs_ids = {x[\"track_name\"]+x[\"artist_name\"] for x in tracks}\n",
        "      yield p_name, aug_songs_ids\n"
      ]
    },
    {
      "cell_type": "code",
      "execution_count": null,
      "metadata": {
        "colab": {
          "base_uri": "https://localhost:8080/"
        },
        "id": "Aqve7YCkvNMu",
        "outputId": "2865ef44-009f-4e50-fabc-0547f90ebb6d"
      },
      "outputs": [
        {
          "name": "stdout",
          "output_type": "stream",
          "text": [
            "/content/drive/MyDrive/datasets/mpd_data/mpd.slice.992000-992999.json\n",
            "/content/drive/MyDrive/datasets/mpd_data/mpd.slice.995000-995999.json\n",
            "/content/drive/MyDrive/datasets/mpd_data/mpd.slice.998000-998999.json\n",
            "/content/drive/MyDrive/datasets/mpd_data/mpd.slice.991000-991999.json\n",
            "/content/drive/MyDrive/datasets/mpd_data/mpd.slice.997000-997999.json\n",
            "/content/drive/MyDrive/datasets/mpd_data/mpd.slice.994000-994999.json\n",
            "/content/drive/MyDrive/datasets/mpd_data/mpd.slice.999000-999999.json\n",
            "/content/drive/MyDrive/datasets/mpd_data/mpd.slice.990000-990999.json\n",
            "/content/drive/MyDrive/datasets/mpd_data/mpd.slice.996000-996999.json\n",
            "/content/drive/MyDrive/datasets/mpd_data/mpd.slice.993000-993999.json\n",
            "/content/drive/MyDrive/datasets/mpd_data/mpd.slice.982000-982999.json\n",
            "/content/drive/MyDrive/datasets/mpd_data/mpd.slice.980000-980999.json\n",
            "/content/drive/MyDrive/datasets/mpd_data/mpd.slice.984000-984999.json\n",
            "/content/drive/MyDrive/datasets/mpd_data/mpd.slice.981000-981999.json\n",
            "/content/drive/MyDrive/datasets/mpd_data/mpd.slice.986000-986999.json\n",
            "/content/drive/MyDrive/datasets/mpd_data/mpd.slice.987000-987999.json\n",
            "/content/drive/MyDrive/datasets/mpd_data/mpd.slice.988000-988999.json\n",
            "/content/drive/MyDrive/datasets/mpd_data/mpd.slice.983000-983999.json\n",
            "/content/drive/MyDrive/datasets/mpd_data/mpd.slice.989000-989999.json\n",
            "/content/drive/MyDrive/datasets/mpd_data/mpd.slice.985000-985999.json\n",
            "/content/drive/MyDrive/datasets/mpd_data/mpd.slice.975000-975999.json\n",
            "/content/drive/MyDrive/datasets/mpd_data/mpd.slice.970000-970999.json\n",
            "/content/drive/MyDrive/datasets/mpd_data/mpd.slice.976000-976999.json\n",
            "/content/drive/MyDrive/datasets/mpd_data/mpd.slice.977000-977999.json\n",
            "/content/drive/MyDrive/datasets/mpd_data/mpd.slice.974000-974999.json\n",
            "/content/drive/MyDrive/datasets/mpd_data/mpd.slice.971000-971999.json\n",
            "/content/drive/MyDrive/datasets/mpd_data/mpd.slice.978000-978999.json\n",
            "/content/drive/MyDrive/datasets/mpd_data/mpd.slice.972000-972999.json\n",
            "/content/drive/MyDrive/datasets/mpd_data/mpd.slice.973000-973999.json\n",
            "/content/drive/MyDrive/datasets/mpd_data/mpd.slice.979000-979999.json\n",
            "/content/drive/MyDrive/datasets/mpd_data/mpd.slice.969000-969999.json\n",
            "/content/drive/MyDrive/datasets/mpd_data/mpd.slice.965000-965999.json\n",
            "/content/drive/MyDrive/datasets/mpd_data/mpd.slice.963000-963999.json\n",
            "/content/drive/MyDrive/datasets/mpd_data/mpd.slice.961000-961999.json\n",
            "/content/drive/MyDrive/datasets/mpd_data/mpd.slice.962000-962999.json\n",
            "/content/drive/MyDrive/datasets/mpd_data/mpd.slice.967000-967999.json\n",
            "/content/drive/MyDrive/datasets/mpd_data/mpd.slice.968000-968999.json\n",
            "/content/drive/MyDrive/datasets/mpd_data/mpd.slice.966000-966999.json\n",
            "/content/drive/MyDrive/datasets/mpd_data/mpd.slice.960000-960999.json\n",
            "/content/drive/MyDrive/datasets/mpd_data/mpd.slice.964000-964999.json\n",
            "/content/drive/MyDrive/datasets/mpd_data/mpd.slice.951000-951999.json\n",
            "/content/drive/MyDrive/datasets/mpd_data/mpd.slice.954000-954999.json\n",
            "/content/drive/MyDrive/datasets/mpd_data/mpd.slice.953000-953999.json\n",
            "/content/drive/MyDrive/datasets/mpd_data/mpd.slice.952000-952999.json\n",
            "/content/drive/MyDrive/datasets/mpd_data/mpd.slice.955000-955999.json\n",
            "/content/drive/MyDrive/datasets/mpd_data/mpd.slice.957000-957999.json\n",
            "/content/drive/MyDrive/datasets/mpd_data/mpd.slice.959000-959999.json\n",
            "/content/drive/MyDrive/datasets/mpd_data/mpd.slice.956000-956999.json\n",
            "/content/drive/MyDrive/datasets/mpd_data/mpd.slice.958000-958999.json\n",
            "/content/drive/MyDrive/datasets/mpd_data/mpd.slice.950000-950999.json\n",
            "/content/drive/MyDrive/datasets/mpd_data/mpd.slice.941000-941999.json\n",
            "/content/drive/MyDrive/datasets/mpd_data/mpd.slice.948000-948999.json\n",
            "/content/drive/MyDrive/datasets/mpd_data/mpd.slice.944000-944999.json\n",
            "/content/drive/MyDrive/datasets/mpd_data/mpd.slice.946000-946999.json\n",
            "/content/drive/MyDrive/datasets/mpd_data/mpd.slice.942000-942999.json\n",
            "/content/drive/MyDrive/datasets/mpd_data/mpd.slice.943000-943999.json\n",
            "/content/drive/MyDrive/datasets/mpd_data/mpd.slice.945000-945999.json\n",
            "/content/drive/MyDrive/datasets/mpd_data/mpd.slice.947000-947999.json\n",
            "/content/drive/MyDrive/datasets/mpd_data/mpd.slice.940000-940999.json\n",
            "/content/drive/MyDrive/datasets/mpd_data/mpd.slice.949000-949999.json\n",
            "/content/drive/MyDrive/datasets/mpd_data/mpd.slice.933000-933999.json\n",
            "/content/drive/MyDrive/datasets/mpd_data/mpd.slice.932000-932999.json\n",
            "/content/drive/MyDrive/datasets/mpd_data/mpd.slice.938000-938999.json\n",
            "/content/drive/MyDrive/datasets/mpd_data/mpd.slice.936000-936999.json\n",
            "/content/drive/MyDrive/datasets/mpd_data/mpd.slice.934000-934999.json\n",
            "/content/drive/MyDrive/datasets/mpd_data/mpd.slice.930000-930999.json\n",
            "/content/drive/MyDrive/datasets/mpd_data/mpd.slice.937000-937999.json\n",
            "/content/drive/MyDrive/datasets/mpd_data/mpd.slice.939000-939999.json\n",
            "/content/drive/MyDrive/datasets/mpd_data/mpd.slice.931000-931999.json\n",
            "/content/drive/MyDrive/datasets/mpd_data/mpd.slice.935000-935999.json\n",
            "/content/drive/MyDrive/datasets/mpd_data/mpd.slice.921000-921999.json\n",
            "/content/drive/MyDrive/datasets/mpd_data/mpd.slice.922000-922999.json\n",
            "/content/drive/MyDrive/datasets/mpd_data/mpd.slice.927000-927999.json\n",
            "/content/drive/MyDrive/datasets/mpd_data/mpd.slice.928000-928999.json\n",
            "/content/drive/MyDrive/datasets/mpd_data/mpd.slice.925000-925999.json\n",
            "/content/drive/MyDrive/datasets/mpd_data/mpd.slice.929000-929999.json\n",
            "/content/drive/MyDrive/datasets/mpd_data/mpd.slice.923000-923999.json\n",
            "/content/drive/MyDrive/datasets/mpd_data/mpd.slice.920000-920999.json\n",
            "/content/drive/MyDrive/datasets/mpd_data/mpd.slice.924000-924999.json\n",
            "/content/drive/MyDrive/datasets/mpd_data/mpd.slice.926000-926999.json\n",
            "/content/drive/MyDrive/datasets/mpd_data/mpd.slice.913000-913999.json\n",
            "/content/drive/MyDrive/datasets/mpd_data/mpd.slice.915000-915999.json\n",
            "/content/drive/MyDrive/datasets/mpd_data/mpd.slice.911000-911999.json\n",
            "/content/drive/MyDrive/datasets/mpd_data/mpd.slice.916000-916999.json\n",
            "/content/drive/MyDrive/datasets/mpd_data/mpd.slice.912000-912999.json\n",
            "/content/drive/MyDrive/datasets/mpd_data/mpd.slice.917000-917999.json\n",
            "/content/drive/MyDrive/datasets/mpd_data/mpd.slice.910000-910999.json\n",
            "/content/drive/MyDrive/datasets/mpd_data/mpd.slice.914000-914999.json\n",
            "/content/drive/MyDrive/datasets/mpd_data/mpd.slice.918000-918999.json\n",
            "/content/drive/MyDrive/datasets/mpd_data/mpd.slice.919000-919999.json\n",
            "/content/drive/MyDrive/datasets/mpd_data/mpd.slice.900000-900999.json\n",
            "/content/drive/MyDrive/datasets/mpd_data/mpd.slice.902000-902999.json\n",
            "/content/drive/MyDrive/datasets/mpd_data/mpd.slice.909000-909999.json\n",
            "/content/drive/MyDrive/datasets/mpd_data/mpd.slice.907000-907999.json\n",
            "/content/drive/MyDrive/datasets/mpd_data/mpd.slice.908000-908999.json\n",
            "/content/drive/MyDrive/datasets/mpd_data/mpd.slice.903000-903999.json\n",
            "/content/drive/MyDrive/datasets/mpd_data/mpd.slice.905000-905999.json\n",
            "/content/drive/MyDrive/datasets/mpd_data/mpd.slice.906000-906999.json\n",
            "/content/drive/MyDrive/datasets/mpd_data/mpd.slice.904000-904999.json\n",
            "/content/drive/MyDrive/datasets/mpd_data/mpd.slice.901000-901999.json\n",
            "/content/drive/MyDrive/datasets/mpd_data/mpd.slice.896000-896999.json\n",
            "117.23432660102844\n"
          ]
        }
      ],
      "source": [
        "# MPD Dataset\n",
        "useful_p_names = []\n",
        "start = time.time()\n",
        "# print(time.time())\n",
        "# songs_lst = []\n",
        "for i, file_name in enumerate(path.iterdir()):\n",
        "  print(file_name)\n",
        "  for name, songs in read_mpd_json(file_name):\n",
        "    if user_songs & songs != set():\n",
        "      useful_p_names.append(name)\n",
        "  if i == 100:\n",
        "    break\n",
        "  # print(\"*\" * 100)\n",
        "end = time.time()\n",
        "print(end - start)"
      ]
    },
    {
      "cell_type": "code",
      "execution_count": null,
      "metadata": {
        "id": "Ba5djnCwwAfb"
      },
      "outputs": [],
      "source": [
        "mpd_tmp_df = pl.DataFrame({\n",
        "    \"playlist_name\": p_names,\n",
        "    \"aug_songs_id\": songs_lst\n",
        "})"
      ]
    },
    {
      "cell_type": "code",
      "execution_count": null,
      "metadata": {
        "colab": {
          "base_uri": "https://localhost:8080/"
        },
        "id": "u4iGlPen1RlQ",
        "outputId": "dcd5d953-75c8-4145-83b3-c41769407e57"
      },
      "outputs": [
        {
          "name": "stdout",
          "output_type": "stream",
          "text": [
            "set()\n",
            "set()\n",
            "set()\n",
            "set()\n",
            "set()\n",
            "set()\n",
            "{'Marry MeTrain'}\n",
            "set()\n",
            "set()\n",
            "set()\n",
            "set()\n",
            "set()\n",
            "set()\n",
            "set()\n",
            "set()\n",
            "set()\n",
            "set()\n",
            "set()\n",
            "set()\n",
            "set()\n",
            "set()\n",
            "set()\n",
            "set()\n",
            "set()\n",
            "set()\n",
            "set()\n",
            "set()\n",
            "set()\n",
            "set()\n",
            "set()\n",
            "set()\n",
            "{'Marry MeTrain'}\n",
            "set()\n",
            "set()\n",
            "set()\n",
            "set()\n",
            "set()\n",
            "set()\n",
            "set()\n",
            "set()\n",
            "set()\n",
            "set()\n",
            "set()\n",
            "set()\n",
            "set()\n",
            "set()\n",
            "set()\n",
            "set()\n",
            "set()\n",
            "set()\n",
            "set()\n",
            "set()\n",
            "set()\n",
            "set()\n",
            "set()\n",
            "set()\n",
            "set()\n",
            "set()\n",
            "set()\n",
            "set()\n",
            "set()\n",
            "set()\n",
            "set()\n",
            "set()\n",
            "set()\n",
            "set()\n",
            "set()\n",
            "set()\n",
            "set()\n",
            "set()\n",
            "set()\n",
            "set()\n",
            "set()\n",
            "set()\n",
            "set()\n",
            "set()\n",
            "set()\n",
            "set()\n",
            "set()\n",
            "set()\n",
            "set()\n",
            "set()\n",
            "set()\n",
            "set()\n",
            "set()\n",
            "set()\n",
            "set()\n",
            "set()\n",
            "{'Marry MeTrain'}\n",
            "set()\n",
            "set()\n",
            "set()\n",
            "set()\n",
            "set()\n",
            "set()\n",
            "set()\n",
            "set()\n",
            "set()\n",
            "set()\n",
            "set()\n",
            "set()\n",
            "set()\n",
            "set()\n",
            "set()\n",
            "set()\n",
            "set()\n",
            "set()\n",
            "set()\n",
            "set()\n",
            "set()\n",
            "set()\n",
            "set()\n",
            "set()\n",
            "set()\n",
            "set()\n",
            "set()\n",
            "set()\n",
            "set()\n",
            "set()\n",
            "set()\n",
            "set()\n",
            "set()\n",
            "set()\n",
            "set()\n",
            "set()\n",
            "set()\n",
            "set()\n",
            "set()\n",
            "set()\n",
            "set()\n",
            "set()\n",
            "set()\n",
            "{'Marry MeTrain'}\n",
            "set()\n",
            "set()\n",
            "set()\n",
            "set()\n",
            "set()\n",
            "set()\n",
            "set()\n",
            "set()\n",
            "set()\n",
            "{'Marry MeTrain'}\n",
            "set()\n",
            "set()\n",
            "set()\n",
            "set()\n",
            "set()\n",
            "set()\n",
            "set()\n",
            "set()\n",
            "set()\n",
            "set()\n",
            "set()\n",
            "set()\n",
            "set()\n",
            "set()\n",
            "set()\n",
            "set()\n",
            "set()\n",
            "set()\n",
            "set()\n",
            "set()\n",
            "set()\n",
            "set()\n",
            "set()\n",
            "set()\n",
            "set()\n",
            "set()\n",
            "set()\n",
            "set()\n",
            "set()\n",
            "set()\n",
            "set()\n",
            "set()\n",
            "set()\n",
            "set()\n",
            "set()\n",
            "set()\n",
            "set()\n",
            "set()\n",
            "set()\n",
            "set()\n",
            "set()\n",
            "set()\n",
            "set()\n",
            "set()\n",
            "set()\n",
            "set()\n",
            "set()\n",
            "set()\n",
            "set()\n",
            "set()\n",
            "set()\n",
            "set()\n",
            "set()\n",
            "set()\n",
            "set()\n",
            "set()\n",
            "set()\n",
            "set()\n",
            "set()\n",
            "set()\n",
            "set()\n",
            "set()\n",
            "set()\n",
            "set()\n",
            "set()\n",
            "{'Marry MeTrain'}\n",
            "set()\n",
            "set()\n",
            "set()\n",
            "set()\n",
            "set()\n",
            "set()\n",
            "set()\n",
            "set()\n",
            "set()\n",
            "set()\n",
            "set()\n",
            "set()\n",
            "set()\n",
            "set()\n",
            "set()\n",
            "set()\n",
            "set()\n",
            "set()\n",
            "set()\n",
            "set()\n",
            "set()\n",
            "set()\n",
            "set()\n",
            "set()\n",
            "set()\n",
            "set()\n",
            "set()\n",
            "set()\n",
            "set()\n",
            "set()\n",
            "set()\n",
            "set()\n",
            "set()\n",
            "set()\n",
            "set()\n",
            "set()\n",
            "{'Marry MeTrain'}\n",
            "{'Marry MeTrain'}\n",
            "set()\n",
            "set()\n",
            "set()\n",
            "set()\n",
            "set()\n",
            "{'Marry MeTrain'}\n",
            "set()\n",
            "set()\n",
            "set()\n",
            "set()\n",
            "set()\n",
            "set()\n",
            "set()\n",
            "set()\n",
            "set()\n",
            "set()\n",
            "set()\n",
            "set()\n",
            "set()\n",
            "set()\n",
            "set()\n",
            "set()\n",
            "set()\n",
            "set()\n",
            "set()\n",
            "set()\n",
            "set()\n",
            "set()\n",
            "set()\n",
            "set()\n",
            "set()\n",
            "set()\n",
            "set()\n",
            "set()\n",
            "set()\n",
            "set()\n",
            "set()\n",
            "set()\n",
            "set()\n",
            "set()\n",
            "set()\n",
            "set()\n",
            "set()\n",
            "set()\n",
            "set()\n",
            "set()\n",
            "set()\n",
            "set()\n",
            "set()\n",
            "set()\n",
            "set()\n",
            "set()\n",
            "set()\n",
            "set()\n",
            "set()\n",
            "set()\n",
            "set()\n",
            "set()\n",
            "set()\n",
            "set()\n",
            "set()\n",
            "set()\n",
            "set()\n",
            "set()\n",
            "set()\n",
            "set()\n",
            "set()\n",
            "set()\n",
            "set()\n",
            "set()\n",
            "set()\n",
            "set()\n",
            "set()\n",
            "set()\n",
            "set()\n",
            "set()\n",
            "set()\n",
            "set()\n",
            "set()\n",
            "set()\n",
            "set()\n",
            "set()\n",
            "set()\n",
            "set()\n",
            "set()\n",
            "set()\n",
            "set()\n",
            "set()\n",
            "set()\n",
            "set()\n",
            "set()\n",
            "set()\n",
            "set()\n",
            "set()\n",
            "set()\n",
            "set()\n",
            "set()\n",
            "set()\n",
            "set()\n",
            "set()\n",
            "set()\n",
            "set()\n",
            "set()\n",
            "set()\n",
            "set()\n",
            "set()\n",
            "set()\n",
            "set()\n",
            "set()\n",
            "set()\n",
            "set()\n",
            "set()\n",
            "set()\n",
            "set()\n",
            "set()\n",
            "set()\n",
            "set()\n",
            "set()\n",
            "set()\n",
            "set()\n",
            "set()\n",
            "set()\n",
            "set()\n",
            "set()\n",
            "set()\n",
            "set()\n",
            "set()\n",
            "set()\n",
            "set()\n",
            "set()\n",
            "set()\n",
            "set()\n",
            "set()\n",
            "set()\n",
            "set()\n",
            "set()\n",
            "set()\n",
            "set()\n",
            "set()\n",
            "set()\n",
            "set()\n",
            "set()\n",
            "set()\n",
            "set()\n",
            "set()\n",
            "set()\n",
            "set()\n",
            "set()\n",
            "set()\n",
            "set()\n",
            "set()\n",
            "set()\n",
            "set()\n",
            "set()\n",
            "set()\n",
            "set()\n",
            "set()\n",
            "set()\n",
            "set()\n",
            "set()\n",
            "set()\n",
            "set()\n",
            "set()\n",
            "set()\n",
            "set()\n",
            "set()\n",
            "set()\n",
            "set()\n",
            "set()\n",
            "set()\n",
            "set()\n",
            "set()\n",
            "set()\n",
            "set()\n",
            "set()\n",
            "set()\n",
            "set()\n",
            "set()\n",
            "set()\n",
            "set()\n",
            "set()\n",
            "set()\n",
            "set()\n",
            "set()\n",
            "set()\n",
            "set()\n",
            "set()\n",
            "set()\n",
            "set()\n",
            "set()\n",
            "set()\n",
            "set()\n",
            "set()\n",
            "set()\n",
            "set()\n",
            "set()\n",
            "set()\n",
            "set()\n",
            "set()\n",
            "set()\n",
            "set()\n",
            "set()\n",
            "set()\n",
            "set()\n",
            "set()\n",
            "set()\n",
            "set()\n",
            "set()\n",
            "set()\n",
            "set()\n",
            "set()\n",
            "set()\n",
            "set()\n",
            "set()\n",
            "set()\n",
            "set()\n",
            "set()\n",
            "set()\n",
            "set()\n",
            "set()\n",
            "set()\n",
            "set()\n",
            "set()\n",
            "set()\n",
            "set()\n",
            "set()\n",
            "set()\n",
            "set()\n",
            "set()\n",
            "set()\n",
            "set()\n",
            "set()\n",
            "set()\n",
            "set()\n",
            "set()\n",
            "set()\n",
            "set()\n",
            "set()\n",
            "set()\n",
            "set()\n",
            "set()\n",
            "set()\n",
            "set()\n",
            "set()\n",
            "set()\n",
            "set()\n",
            "set()\n",
            "set()\n",
            "set()\n",
            "set()\n",
            "set()\n",
            "set()\n",
            "set()\n",
            "set()\n",
            "set()\n",
            "set()\n",
            "set()\n",
            "set()\n",
            "set()\n",
            "set()\n",
            "set()\n",
            "set()\n",
            "set()\n",
            "set()\n",
            "set()\n",
            "set()\n",
            "set()\n",
            "set()\n",
            "set()\n",
            "set()\n",
            "set()\n",
            "set()\n",
            "set()\n",
            "set()\n",
            "set()\n",
            "set()\n",
            "set()\n",
            "set()\n",
            "set()\n",
            "set()\n",
            "set()\n",
            "set()\n",
            "set()\n",
            "set()\n",
            "set()\n",
            "set()\n",
            "set()\n",
            "set()\n",
            "set()\n",
            "set()\n",
            "set()\n",
            "set()\n",
            "set()\n",
            "set()\n",
            "set()\n",
            "set()\n",
            "set()\n",
            "set()\n",
            "set()\n",
            "set()\n",
            "set()\n",
            "set()\n",
            "set()\n",
            "set()\n",
            "set()\n",
            "set()\n",
            "set()\n",
            "set()\n",
            "set()\n",
            "set()\n",
            "set()\n",
            "set()\n",
            "set()\n",
            "set()\n",
            "set()\n",
            "set()\n",
            "set()\n",
            "set()\n",
            "set()\n",
            "set()\n",
            "set()\n",
            "set()\n",
            "set()\n",
            "set()\n",
            "set()\n",
            "set()\n",
            "set()\n",
            "set()\n",
            "set()\n",
            "set()\n",
            "set()\n",
            "set()\n",
            "set()\n",
            "set()\n",
            "set()\n",
            "set()\n",
            "set()\n",
            "set()\n",
            "set()\n",
            "set()\n",
            "set()\n",
            "set()\n",
            "set()\n",
            "set()\n",
            "set()\n",
            "set()\n",
            "set()\n",
            "set()\n",
            "set()\n",
            "set()\n",
            "set()\n",
            "set()\n",
            "set()\n",
            "set()\n",
            "set()\n",
            "set()\n",
            "set()\n",
            "set()\n",
            "set()\n",
            "set()\n",
            "set()\n",
            "set()\n",
            "set()\n",
            "set()\n",
            "set()\n",
            "set()\n",
            "set()\n",
            "set()\n",
            "set()\n",
            "set()\n",
            "set()\n",
            "set()\n",
            "set()\n",
            "set()\n",
            "set()\n",
            "set()\n",
            "set()\n",
            "set()\n",
            "set()\n",
            "set()\n",
            "set()\n",
            "set()\n",
            "set()\n",
            "set()\n",
            "set()\n",
            "set()\n",
            "set()\n",
            "set()\n",
            "set()\n",
            "set()\n",
            "set()\n",
            "set()\n",
            "set()\n",
            "set()\n",
            "set()\n",
            "set()\n",
            "set()\n",
            "set()\n",
            "set()\n",
            "set()\n",
            "set()\n",
            "set()\n",
            "set()\n",
            "set()\n",
            "set()\n",
            "set()\n",
            "set()\n",
            "set()\n",
            "set()\n",
            "set()\n",
            "set()\n",
            "set()\n",
            "set()\n",
            "set()\n",
            "set()\n",
            "set()\n",
            "set()\n",
            "set()\n",
            "set()\n",
            "set()\n",
            "set()\n",
            "set()\n",
            "set()\n",
            "set()\n",
            "set()\n",
            "set()\n",
            "set()\n",
            "set()\n",
            "set()\n",
            "set()\n",
            "set()\n",
            "set()\n",
            "set()\n",
            "set()\n",
            "set()\n",
            "set()\n",
            "set()\n",
            "set()\n",
            "set()\n",
            "set()\n",
            "set()\n",
            "set()\n",
            "set()\n",
            "set()\n",
            "set()\n",
            "set()\n",
            "set()\n",
            "set()\n",
            "set()\n",
            "set()\n",
            "set()\n",
            "set()\n",
            "set()\n",
            "set()\n",
            "set()\n",
            "set()\n",
            "set()\n",
            "set()\n",
            "set()\n",
            "set()\n",
            "set()\n",
            "set()\n",
            "set()\n",
            "set()\n",
            "set()\n",
            "set()\n",
            "set()\n",
            "set()\n",
            "set()\n",
            "set()\n",
            "set()\n",
            "set()\n",
            "set()\n",
            "set()\n",
            "set()\n",
            "set()\n",
            "set()\n",
            "set()\n",
            "set()\n",
            "set()\n",
            "set()\n",
            "set()\n",
            "set()\n",
            "set()\n",
            "set()\n",
            "set()\n",
            "set()\n",
            "set()\n",
            "set()\n",
            "set()\n",
            "set()\n",
            "set()\n",
            "set()\n",
            "set()\n",
            "set()\n",
            "set()\n",
            "set()\n",
            "set()\n",
            "set()\n",
            "set()\n",
            "set()\n",
            "set()\n",
            "set()\n",
            "set()\n",
            "set()\n",
            "set()\n",
            "set()\n",
            "set()\n",
            "set()\n",
            "set()\n",
            "set()\n",
            "set()\n",
            "set()\n",
            "set()\n",
            "set()\n",
            "set()\n",
            "set()\n",
            "set()\n",
            "set()\n",
            "set()\n",
            "set()\n",
            "set()\n",
            "set()\n",
            "set()\n",
            "set()\n",
            "set()\n",
            "set()\n",
            "set()\n",
            "set()\n",
            "set()\n",
            "set()\n",
            "set()\n",
            "set()\n",
            "set()\n",
            "set()\n",
            "set()\n",
            "set()\n",
            "set()\n",
            "set()\n",
            "set()\n",
            "set()\n",
            "set()\n",
            "set()\n",
            "set()\n",
            "set()\n",
            "set()\n",
            "set()\n",
            "set()\n",
            "set()\n",
            "set()\n",
            "set()\n",
            "set()\n",
            "set()\n",
            "set()\n",
            "set()\n",
            "set()\n",
            "set()\n",
            "set()\n",
            "set()\n",
            "set()\n",
            "set()\n",
            "set()\n",
            "set()\n",
            "set()\n",
            "set()\n",
            "set()\n",
            "set()\n",
            "set()\n",
            "set()\n",
            "set()\n",
            "set()\n",
            "set()\n",
            "set()\n",
            "set()\n",
            "set()\n",
            "set()\n",
            "{'Marry MeTrain'}\n",
            "set()\n",
            "set()\n",
            "set()\n",
            "set()\n",
            "set()\n",
            "set()\n",
            "set()\n",
            "set()\n",
            "set()\n",
            "set()\n",
            "set()\n",
            "set()\n",
            "set()\n",
            "set()\n",
            "set()\n",
            "set()\n",
            "set()\n",
            "set()\n",
            "set()\n",
            "set()\n",
            "set()\n",
            "set()\n",
            "set()\n",
            "set()\n",
            "set()\n",
            "set()\n",
            "set()\n",
            "set()\n",
            "set()\n",
            "set()\n",
            "set()\n",
            "set()\n",
            "set()\n",
            "set()\n",
            "set()\n",
            "set()\n",
            "set()\n",
            "set()\n",
            "set()\n",
            "set()\n",
            "set()\n",
            "set()\n",
            "set()\n",
            "set()\n",
            "set()\n",
            "set()\n",
            "{'Marry MeTrain'}\n",
            "set()\n",
            "set()\n",
            "set()\n",
            "set()\n",
            "set()\n",
            "set()\n",
            "set()\n",
            "set()\n",
            "set()\n",
            "set()\n",
            "set()\n",
            "set()\n",
            "set()\n",
            "set()\n",
            "set()\n",
            "set()\n",
            "set()\n",
            "set()\n",
            "set()\n",
            "set()\n",
            "set()\n",
            "set()\n",
            "set()\n",
            "set()\n",
            "set()\n",
            "set()\n",
            "set()\n",
            "set()\n",
            "set()\n",
            "set()\n",
            "set()\n",
            "set()\n",
            "set()\n",
            "set()\n",
            "set()\n",
            "set()\n",
            "set()\n",
            "set()\n",
            "set()\n",
            "set()\n",
            "set()\n",
            "set()\n",
            "set()\n",
            "set()\n",
            "set()\n",
            "set()\n",
            "set()\n",
            "set()\n",
            "set()\n",
            "set()\n",
            "set()\n",
            "set()\n",
            "set()\n",
            "set()\n",
            "set()\n",
            "set()\n",
            "set()\n",
            "set()\n",
            "set()\n",
            "set()\n",
            "set()\n",
            "set()\n",
            "set()\n",
            "set()\n",
            "set()\n",
            "set()\n",
            "set()\n",
            "set()\n",
            "set()\n",
            "set()\n",
            "set()\n",
            "set()\n",
            "set()\n",
            "set()\n",
            "set()\n",
            "set()\n",
            "set()\n",
            "set()\n",
            "set()\n",
            "set()\n",
            "set()\n",
            "set()\n",
            "set()\n",
            "set()\n",
            "set()\n",
            "set()\n",
            "set()\n",
            "set()\n",
            "set()\n",
            "set()\n",
            "set()\n",
            "set()\n",
            "set()\n",
            "set()\n",
            "set()\n",
            "set()\n",
            "set()\n",
            "set()\n",
            "set()\n",
            "set()\n",
            "set()\n",
            "set()\n",
            "set()\n",
            "set()\n",
            "set()\n",
            "set()\n",
            "set()\n",
            "set()\n",
            "set()\n",
            "set()\n",
            "set()\n",
            "set()\n",
            "set()\n",
            "set()\n",
            "set()\n",
            "set()\n",
            "set()\n",
            "set()\n",
            "set()\n",
            "set()\n",
            "set()\n",
            "set()\n",
            "set()\n",
            "set()\n",
            "set()\n",
            "set()\n",
            "set()\n",
            "set()\n",
            "set()\n"
          ]
        }
      ],
      "source": [
        "user_songs = set(test.row(0)[1])\n",
        "for row in mpd_tmp_df.rows(named=True):\n",
        "  print(set(row[\"aug_songs_id\"]) & user_songs)"
      ]
    },
    {
      "cell_type": "code",
      "execution_count": null,
      "metadata": {
        "id": "2K3_PDiI5FZs"
      },
      "outputs": [],
      "source": [
        "def test_mpd_json(path: str) -> dict:\n",
        "  with open(path) as f:\n",
        "    data = json.load(f)\n",
        "    playlists = data[\"playlists\"]\n",
        "    for playlist in playlists:\n",
        "      p_name = playlist[\"name\"]\n",
        "      tracks = playlist[\"tracks\"]\n",
        "      aug_songs_ids = [x[\"track_name\"]+x[\"artist_name\"] for x in tracks]\n",
        "      yield p_name, aug_songs_ids"
      ]
    },
    {
      "cell_type": "markdown",
      "source": [
        "### Part 3: Creating a mapping from idx used in sparse matrices to real IDs both for users (ENTP) and playlists (MPD"
      ],
      "metadata": {
        "id": "tcmkSPSOT1ql"
      }
    },
    {
      "cell_type": "code",
      "execution_count": 2,
      "metadata": {
        "id": "DU7Pd9f-5XIc",
        "colab": {
          "base_uri": "https://localhost:8080/"
        },
        "outputId": "6bd8ebab-ee8c-482d-e31e-160e057b94d9"
      },
      "outputs": [
        {
          "output_type": "stream",
          "name": "stdout",
          "text": [
            "✅ Loaded user_to_idx: 1019318\n",
            "✅ Loaded playlist_to_idx: 946000\n",
            "✅ Inverted mappings created.\n",
            "💾 Saved to:\n",
            "- /content/drive/My Drive/datasets/idx_to_user.parquet\n",
            "- /content/drive/My Drive/datasets/idx_to_playlist.parquet\n"
          ]
        }
      ],
      "source": [
        "import pickle\n",
        "import pandas as pd\n",
        "\n",
        "# === Load mappings from pickle ===\n",
        "with open(\"/content/drive/My Drive/datasets/user_to_idx.pkl\", \"rb\") as f:\n",
        "    user_to_idx = pickle.load(f)\n",
        "\n",
        "with open(\"/content/drive/My Drive/datasets/playlist_to_idx.pkl\", \"rb\") as f:\n",
        "    playlist_to_idx = pickle.load(f)\n",
        "\n",
        "print(\"✅ Loaded user_to_idx:\", len(user_to_idx))\n",
        "print(\"✅ Loaded playlist_to_idx:\", len(playlist_to_idx))\n",
        "\n",
        "# === Invert mappings ===\n",
        "idx_to_user = {v: k for k, v in user_to_idx.items()}\n",
        "idx_to_playlist = {v: k for k, v in playlist_to_idx.items()}\n",
        "\n",
        "print(\"✅ Inverted mappings created.\")\n",
        "\n",
        "# === Convert to DataFrames and save as Parquet ===\n",
        "user_df = pd.DataFrame(list(idx_to_user.items()), columns=[\"user_idx\", \"user_id\"])\n",
        "playlist_df = pd.DataFrame(list(idx_to_playlist.items()), columns=[\"playlist_idx\", \"playlist_id\"])\n",
        "\n",
        "user_df.to_parquet(\"/content/drive/My Drive/datasets/idx_to_user.parquet\", index=False)\n",
        "playlist_df.to_parquet(\"/content/drive/My Drive/datasets/idx_to_playlist.parquet\", index=False)\n",
        "\n",
        "print(\"💾 Saved to:\")\n",
        "print(\"- /content/drive/My Drive/datasets/idx_to_user.parquet\")\n",
        "print(\"- /content/drive/My Drive/datasets/idx_to_playlist.parquet\")"
      ]
    },
    {
      "cell_type": "code",
      "execution_count": 20,
      "metadata": {
        "id": "h0Pog0B59odr",
        "colab": {
          "base_uri": "https://localhost:8080/"
        },
        "outputId": "f0ad393e-6521-4b01-afdb-9effd97b975f"
      },
      "outputs": [
        {
          "output_type": "stream",
          "name": "stdout",
          "text": [
            "🔍 First 5 entries in user_to_idx mapping:\n",
            "1. user_id: b80344d063b5ccb3212f76538f3d9e43d87dca9e → index: 0\n",
            "2. user_id: 85c1f87fea955d09b4bec2e36aee110927aedf9a → index: 1\n",
            "3. user_id: bd4c6e843f00bd476847fb75c47b4fb430a06856 → index: 2\n",
            "4. user_id: 8937134734f869debcab8f23d77465b4caaa85df → index: 3\n",
            "5. user_id: 969cc6fb74e076a68e36a04409cb9d3765757508 → index: 4\n",
            "1019318\n"
          ]
        }
      ],
      "source": [
        "#Checking that everything went well. And it did :)\n",
        "print(\"🔍 First 5 entries in user_to_idx mapping:\")\n",
        "for i, (user_id, idx) in enumerate(user_to_idx.items()):\n",
        "    print(f\"{i+1}. user_id: {user_id} → index: {idx}\")\n",
        "    if i == 4:\n",
        "        break\n",
        "print(len(user_to_idx))"
      ]
    },
    {
      "cell_type": "markdown",
      "source": [
        "### Part 4: Getting the song count and saving into datasets both for users and playlists"
      ],
      "metadata": {
        "id": "PVJ0iE2wUJ9h"
      }
    },
    {
      "cell_type": "code",
      "execution_count": 2,
      "metadata": {
        "colab": {
          "base_uri": "https://localhost:8080/"
        },
        "id": "-aiyJIBV9ocH",
        "outputId": "15c01997-c0c2-4a19-eb1b-7de3465030c5"
      },
      "outputs": [
        {
          "output_type": "stream",
          "name": "stdout",
          "text": [
            "📦 Processing ENTP user song counts with full RAM power...\n",
            "✅ Saved user song counts to /content/drive/My Drive/datasets/user_song_counts_idx.parquet\n",
            "\n",
            "📈 User Song Count Statistics:\n",
            "min   : 7.00\n",
            "p1    : 10.00\n",
            "p25   : 16.00\n",
            "median: 27.00\n",
            "mean  : 47.57\n",
            "p75   : 56.00\n",
            "p99   : 285.00\n",
            "max   : 4399.00\n"
          ]
        }
      ],
      "source": [
        "import pandas as pd\n",
        "import numpy as np\n",
        "import pickle\n",
        "\n",
        "# === Load mappings ===\n",
        "with open(\"/content/drive/My Drive/datasets/user_to_idx.pkl\", \"rb\") as f:\n",
        "    user_to_idx = pickle.load(f)\n",
        "with open(\"/content/drive/My Drive/datasets/song_to_id.pkl\", \"rb\") as f:\n",
        "    song_to_id = pickle.load(f)\n",
        "\n",
        "# === Load ENTP merged_df ===\n",
        "df = pd.read_parquet(\"/content/drive/My Drive/datasets/entp_data/merged_df.parquet\", columns=[\"user_id\", \"title\", \"artist_name\"])\n",
        "\n",
        "print(\"📦 Processing ENTP user song counts with full RAM power...\")\n",
        "\n",
        "# === Normalize song_key using fast vectorized string ops\n",
        "df.dropna(subset=[\"user_id\", \"title\", \"artist_name\"], inplace=True)\n",
        "df[\"title\"] = df[\"title\"].str.strip().str.lower()\n",
        "df[\"artist_name\"] = df[\"artist_name\"].str.strip().str.lower()\n",
        "df[\"song_key\"] = df[\"title\"] + \"@@\" + df[\"artist_name\"]\n",
        "\n",
        "# === Filter to known songs\n",
        "df = df[df[\"song_key\"].isin(song_to_id)]\n",
        "\n",
        "# === Map user_id → user_idx\n",
        "df[\"user_idx\"] = df[\"user_id\"].map(user_to_idx)\n",
        "df = df[df[\"user_idx\"].notnull()]\n",
        "\n",
        "# === Count unique songs per user_idx\n",
        "user_song_counts = df.groupby(\"user_idx\")[\"song_key\"].nunique().reset_index()\n",
        "user_song_counts.columns = [\"user_idx\", \"song_count\"]\n",
        "\n",
        "# 💾 Save to disk\n",
        "output_path = \"/content/drive/My Drive/datasets/user_song_counts_idx.parquet\"\n",
        "user_song_counts.to_parquet(output_path, index=False)\n",
        "\n",
        "print(f\"✅ Saved user song counts to {output_path}\")\n",
        "\n",
        "# 📊 Compute statistics\n",
        "stats = {\n",
        "    \"min\": user_song_counts[\"song_count\"].min(),\n",
        "    \"p1\": np.percentile(user_song_counts[\"song_count\"], 1),\n",
        "    \"p25\": np.percentile(user_song_counts[\"song_count\"], 25),\n",
        "    \"median\": user_song_counts[\"song_count\"].median(),\n",
        "    \"mean\": user_song_counts[\"song_count\"].mean(),\n",
        "    \"p75\": np.percentile(user_song_counts[\"song_count\"], 75),\n",
        "    \"p99\": np.percentile(user_song_counts[\"song_count\"], 99),\n",
        "    \"max\": user_song_counts[\"song_count\"].max(),\n",
        "}\n",
        "\n",
        "# Show stats\n",
        "print(\"\\n📈 User Song Count Statistics:\")\n",
        "for k, v in stats.items():\n",
        "    print(f\"{k:<6}: {v:.2f}\")"
      ]
    },
    {
      "cell_type": "code",
      "source": [
        "\n",
        "# Count songs per playlist using MPD JSONs\n",
        "import os\n",
        "import json\n",
        "import pickle\n",
        "import pandas as pd\n",
        "from tqdm import tqdm\n",
        "from collections import defaultdict\n",
        "\n",
        "# === Load mappings ===\n",
        "with open(\"/content/drive/My Drive/datasets/playlist_to_idx.pkl\", \"rb\") as f:\n",
        "    playlist_to_idx = pickle.load(f)\n",
        "\n",
        "with open(\"/content/drive/My Drive/datasets/song_to_id.pkl\", \"rb\") as f:\n",
        "    song_to_id = pickle.load(f)\n",
        "\n",
        "# === Path to MPD slices ===\n",
        "mpd_folder = \"/content/drive/My Drive/datasets/mpd_data\"\n",
        "json_files = sorted([f for f in os.listdir(mpd_folder) if f.endswith(\".json\")])\n",
        "\n",
        "print(\"📦 Streaming and aggregating playlist–song mappings in chunks...\")\n",
        "\n",
        "# === Stream processing and periodic flushing ===\n",
        "batch_counts = defaultdict(set)\n",
        "all_counts = defaultdict(int)\n",
        "flush_every = 100  # Flush every 100 files\n",
        "\n",
        "for i, file in enumerate(tqdm(json_files, desc=\"Parsing MPD slices\")):\n",
        "    with open(os.path.join(mpd_folder, file), \"r\", encoding=\"utf-8\") as f:\n",
        "        try:\n",
        "            data = json.load(f)\n",
        "            for playlist in data[\"playlists\"]:\n",
        "                pid = playlist[\"pid\"]\n",
        "                playlist_idx = playlist_to_idx.get(pid)\n",
        "                if playlist_idx is None:\n",
        "                    continue\n",
        "                song_set = batch_counts[playlist_idx]\n",
        "                for track in playlist[\"tracks\"]:\n",
        "                    title = track.get(\"track_name\", \"\").strip().lower()\n",
        "                    artist = track.get(\"artist_name\", \"\").strip().lower()\n",
        "                    song_key = f\"{title}@@{artist}\"\n",
        "                    if song_key in song_to_id:\n",
        "                        song_set.add(song_key)\n",
        "        except json.JSONDecodeError:\n",
        "            continue\n",
        "\n",
        "    # Periodically flush\n",
        "    if (i + 1) % flush_every == 0 or (i + 1) == len(json_files):\n",
        "        for pid, songs in batch_counts.items():\n",
        "            all_counts[pid] += len(songs)\n",
        "        batch_counts.clear()\n",
        "\n",
        "# === Create DataFrame from final counts ===\n",
        "playlist_counts = pd.DataFrame(\n",
        "    list(all_counts.items()),\n",
        "    columns=[\"playlist_idx\", \"song_count\"]\n",
        ")\n",
        "\n",
        "# 💾 Save output\n",
        "output_path = \"/content/drive/My Drive/datasets/playlist_song_counts_idx.parquet\"\n",
        "playlist_counts.to_parquet(output_path, index=False)\n",
        "\n",
        "print(f\"\\n✅ Saved playlist song counts to {output_path}\")\n",
        "print(f\"🎧 Processed {len(playlist_counts)} playlists.\")\n"
      ],
      "metadata": {
        "colab": {
          "base_uri": "https://localhost:8080/"
        },
        "id": "OOJLCifxVKS7",
        "outputId": "e252b8fe-d300-45ab-d95a-99806ce6d78c"
      },
      "execution_count": 5,
      "outputs": [
        {
          "output_type": "stream",
          "name": "stdout",
          "text": [
            "📦 Streaming and aggregating playlist–song mappings in chunks...\n"
          ]
        },
        {
          "output_type": "stream",
          "name": "stderr",
          "text": [
            "Parsing MPD slices: 100%|██████████| 947/947 [22:32<00:00,  1.43s/it]\n"
          ]
        },
        {
          "output_type": "stream",
          "name": "stdout",
          "text": [
            "\n",
            "✅ Saved playlist song counts to /content/drive/My Drive/datasets/playlist_song_counts_idx.parquet\n",
            "🎧 Processed 946000 playlists.\n"
          ]
        }
      ]
    },
    {
      "cell_type": "markdown",
      "source": [
        "### Part 5: Calculating the scores per playlist for each suer\n",
        "\n",
        "\n",
        "The score between a user \\( i \\) and a playlist \\( j \\) is computed as:\n",
        "\n",
        "$$\n",
        "\\text{Score}_{ij} = \\frac{(1 - e) \\cdot \\log(1 + m) + e}{\\sqrt{s} \\times \\sqrt{p}}\n",
        "$$\n",
        "\n",
        "where:\n",
        "- \\( m \\) = number of song matches between user \\( i \\) and playlist \\( j \\)\n",
        "- \\( e \\) = exploration coefficient for user \\( i \\) (random between 0 and 1, skewed towards lower values, sampled from a Beta distribution)\n",
        "- \\( s \\) = total number of unique songs in user \\( i \\)'s library\n",
        "- \\( p \\) = total number of unique songs in playlist \\( j \\)\n",
        "\n",
        "Higher scores indicate playlists better aligned to the user's taste, with \\( e \\) adding randomness and exploration. We are normalizing by s and p."
      ],
      "metadata": {
        "id": "_tJWjDu-IjaW"
      }
    },
    {
      "cell_type": "code",
      "execution_count": 7,
      "metadata": {
        "id": "fJ4UU-6u-aC_",
        "colab": {
          "base_uri": "https://localhost:8080/"
        },
        "outputId": "81586624-2bd2-4f34-dac0-84e36df9d854"
      },
      "outputs": [
        {
          "output_type": "stream",
          "name": "stdout",
          "text": [
            "✅ Saved exploration_map to: /content/drive/My Drive/datasets/exploration_map.pkl\n"
          ]
        }
      ],
      "source": [
        "# 📚 Imports\n",
        "import os\n",
        "import numpy as np\n",
        "import pandas as pd\n",
        "from tqdm import tqdm\n",
        "import pickle\n",
        "import matplotlib.pyplot as plt\n",
        "\n",
        "np.random.seed(42)\n",
        "\n",
        "# 🗂️ Define paths\n",
        "drive_dir = \"/content/drive/My Drive/datasets\"\n",
        "input_dir = os.path.join(drive_dir, \"overlap_processed\")\n",
        "output_dir = os.path.join(drive_dir, \"userplaylist_score_slices\")\n",
        "os.makedirs(output_dir, exist_ok=True)\n",
        "\n",
        "# 🔧 Configurable parameters\n",
        "exploration_shape = 2.5   # Tighter gamma distribution\n",
        "exploration_scale = 0.2\n",
        "exploration_clip_max = 1.0\n",
        "liked_top_percentile = 2  # Top 2% playlists per user will be labeled as \"liked\"\n",
        "\n",
        "# 📦 Load user and playlist metadata\n",
        "user_song_counts = pd.read_parquet(os.path.join(drive_dir, \"user_song_counts_idx.parquet\"))\n",
        "playlist_song_counts = pd.read_parquet(os.path.join(drive_dir, \"playlist_song_counts_idx.parquet\"))\n",
        "\n",
        "# 🔁 Create lookup dictionaries\n",
        "user_song_map = dict(zip(user_song_counts['user_idx'], user_song_counts['song_count']))\n",
        "playlist_song_map = dict(zip(playlist_song_counts['playlist_idx'], playlist_song_counts['song_count']))\n",
        "\n",
        "\n",
        " # 🎲 Assign random exploration coefficients to users\n",
        "user_indices = user_song_counts['user_idx'].unique()\n",
        "exploration_coeffs = np.random.beta(a=1.3, b=3.3, size=len(user_indices))\n",
        "exploration_map = dict(zip(user_indices, exploration_coeffs))\n",
        "\n",
        "\n",
        "# 💾 Save exploration map for future use\n",
        "exploration_path = \"/content/drive/My Drive/datasets/exploration_map.pkl\"\n",
        "with open(exploration_path, \"wb\") as f:\n",
        "    pickle.dump(exploration_map, f)\n",
        "\n",
        "print(f\"✅ Saved exploration_map to: {exploration_path}\")"
      ]
    },
    {
      "cell_type": "code",
      "source": [
        "# 📊 Show exploration coefficient statistics\n",
        "print(\"\\n📈 Exploration Coefficient Statistics:\")\n",
        "print(f\"Min: {exploration_coeffs.min():.4f}\")\n",
        "print(f\"P1: {np.percentile(exploration_coeffs, 1):.4f}\")\n",
        "print(f\"P25: {np.percentile(exploration_coeffs, 25):.4f}\")\n",
        "print(f\"Median: {np.median(exploration_coeffs):.4f}\")\n",
        "print(f\"Mean: {np.mean(exploration_coeffs):.4f}\")\n",
        "print(f\"P75: {np.percentile(exploration_coeffs, 75):.4f}\")\n",
        "print(f\"P99: {np.percentile(exploration_coeffs, 99):.4f}\")\n",
        "print(f\"Max: {exploration_coeffs.max():.4f}\")\n",
        "\n",
        "# 📈 Plot exploration coefficient distribution\n",
        "plt.figure(figsize=(8, 5))\n",
        "plt.hist(exploration_coeffs, bins=50, color='skyblue', edgecolor='black')\n",
        "plt.title(\"Exploration Coefficient Distribution\")\n",
        "plt.xlabel(\"Exploration Coefficient\")\n",
        "plt.ylabel(\"Number of Users\")\n",
        "plt.grid(True)\n",
        "plt.show()"
      ],
      "metadata": {
        "colab": {
          "base_uri": "https://localhost:8080/",
          "height": 668
        },
        "id": "4tJCzgNWOC2C",
        "outputId": "4fbab5e4-0faf-4347-ccdf-d7ccd4f2deae"
      },
      "execution_count": 8,
      "outputs": [
        {
          "output_type": "stream",
          "name": "stdout",
          "text": [
            "\n",
            "📈 Exploration Coefficient Statistics:\n",
            "Min: 0.0000\n",
            "P1: 0.0096\n",
            "P25: 0.1287\n",
            "Median: 0.2496\n",
            "Mean: 0.2827\n",
            "P75: 0.4064\n",
            "P99: 0.7835\n",
            "Max: 0.9900\n"
          ]
        },
        {
          "output_type": "display_data",
          "data": {
            "text/plain": [
              "<Figure size 800x500 with 1 Axes>"
            ],
            "image/png": "[encoded data removed]"
          },
          "metadata": {}
        }
      ]
    },
    {
      "cell_type": "code",
      "source": [
        "# Explore parquet files that have user, playlist, and number of song matches between both\n",
        "\n",
        "import pandas as pd\n",
        "import os\n",
        "\n",
        "\n",
        "# 📂 Path to your input directory\n",
        "input_dir = \"/content/drive/My Drive/datasets/overlap_processed\"\n",
        "\n",
        "# 📄 List available parquet files\n",
        "parquet_files = sorted(f for f in os.listdir(input_dir) if f.endswith(\".parquet\"))\n",
        "print(f\"Found {len(parquet_files)} files. Example file: {parquet_files[0]}\")\n",
        "\n",
        "# 📥 Load one file\n",
        "sample_file = os.path.join(input_dir, parquet_files[0])\n",
        "df = pd.read_parquet(sample_file)\n",
        "\n",
        "# 🔍 Show column names\n",
        "print(\"\\n📋 Columns in sample parquet slice:\")\n",
        "print(df.columns.tolist())\n",
        "\n",
        "# 🔍 Show a few rows\n",
        "print(\"\\n🔎 First few rows:\")\n",
        "print(df.head())"
      ],
      "metadata": {
        "colab": {
          "base_uri": "https://localhost:8080/"
        },
        "id": "Y7dCP_rUTXjd",
        "outputId": "f51dbeb9-ea9a-40c4-b429-0a7dab9d2a55"
      },
      "execution_count": 9,
      "outputs": [
        {
          "output_type": "stream",
          "name": "stdout",
          "text": [
            "Found 102 files. Example file: overlap_0_10000.parquet\n",
            "\n",
            "📋 Columns in sample parquet slice:\n",
            "['user_id', 'playlist_id', 'song_count']\n",
            "\n",
            "🔎 First few rows:\n",
            "   user_id  playlist_id  song_count\n",
            "0        0       910083           1\n",
            "1        0       881762           1\n",
            "2        0       640163           1\n",
            "3        0       579309           1\n",
            "4        0       568368           1\n"
          ]
        }
      ]
    },
    {
      "cell_type": "code",
      "source": [
        "import os\n",
        "import pickle\n",
        "import polars as pl\n",
        "from tqdm import tqdm\n",
        "\n",
        "# === Paths ===\n",
        "input_dir = \"/content/drive/My Drive/datasets/overlap_processed\"  # Overlap slices\n",
        "output_dir = \"/content/drive/My Drive/datasets/userplaylist_score_slices\"  # Scored slices\n",
        "os.makedirs(output_dir, exist_ok=True)\n",
        "\n",
        "# === Load mappings ===\n",
        "idx_to_user_df = pl.read_parquet(\"/content/drive/My Drive/datasets/idx_to_user.parquet\")\n",
        "idx_to_playlist_df = pl.read_parquet(\"/content/drive/My Drive/datasets/idx_to_playlist.parquet\")\n",
        "\n",
        "idx_to_playlist = dict(zip(idx_to_playlist_df[\"playlist_idx\"].to_numpy(), idx_to_playlist_df[\"playlist_id\"].to_numpy()))\n",
        "\n",
        "# Load user and playlist song counts\n",
        "user_song_counts = pl.read_parquet(\"/content/drive/My Drive/datasets/user_song_counts_idx.parquet\")\n",
        "playlist_song_counts = pl.read_parquet(\"/content/drive/My Drive/datasets/playlist_song_counts_idx.parquet\")\n",
        "\n",
        "user_song_map = dict(zip(user_song_counts[\"user_idx\"].to_numpy(), user_song_counts[\"song_count\"].to_numpy()))\n",
        "playlist_song_map = dict(zip(playlist_song_counts[\"playlist_idx\"].to_numpy(), playlist_song_counts[\"song_count\"].to_numpy()))\n",
        "\n",
        "# Load exploration coefficients\n",
        "with open(\"/content/drive/My Drive/datasets/exploration_map.pkl\", \"rb\") as f:\n",
        "    exploration_map = pickle.load(f)\n",
        "\n",
        "# === Start processing slices ===\n",
        "parquet_files = sorted(f for f in os.listdir(input_dir) if f.endswith(\".parquet\"))\n",
        "\n",
        "for file_name in tqdm(parquet_files, desc=\"🧮 Processing slices (Polars Version)\"):\n",
        "    path = os.path.join(input_dir, file_name)\n",
        "\n",
        "    # Read the slice\n",
        "    df = pl.read_parquet(path)\n",
        "\n",
        "    # Rename column\n",
        "    df = df.rename({\"song_count\": \"match_count\"})\n",
        "\n",
        "    # Filter match_count > 0\n",
        "    df = df.filter(pl.col(\"match_count\") > 0)\n",
        "\n",
        "    # Assume user_id is already user_idx\n",
        "    df = df.with_columns([\n",
        "        pl.col(\"user_id\").alias(\"user_idx\"),\n",
        "        pl.col(\"playlist_id\").alias(\"playlist_idx\")\n",
        "    ])\n",
        "\n",
        "    # Map playlist_id → real_playlist_id, and add user/song counts and exploration coefficient\n",
        "    # Create mapping DataFrames\n",
        "    idx_to_playlist_df = pl.DataFrame({\n",
        "        \"playlist_idx\": list(idx_to_playlist.keys()),\n",
        "        \"real_playlist_id\": list(idx_to_playlist.values())\n",
        "    })\n",
        "\n",
        "    user_song_map_df = pl.DataFrame({\n",
        "        \"user_idx\": list(user_song_map.keys()),\n",
        "        \"s\": list(user_song_map.values())\n",
        "    })\n",
        "\n",
        "    playlist_song_map_df = pl.DataFrame({\n",
        "        \"playlist_idx\": list(playlist_song_map.keys()),\n",
        "        \"p\": list(playlist_song_map.values())\n",
        "    })\n",
        "\n",
        "    exploration_map_df = pl.DataFrame({\n",
        "        \"user_idx\": list(exploration_map.keys()),\n",
        "        \"e\": list(exploration_map.values())\n",
        "    })\n",
        "\n",
        "    # Merge metadata via fast joins\n",
        "    df = df.join(idx_to_playlist_df, on=\"playlist_idx\", how=\"left\")\n",
        "    df = df.join(user_song_map_df, on=\"user_idx\", how=\"left\")\n",
        "    df = df.join(playlist_song_map_df, on=\"playlist_idx\", how=\"left\")\n",
        "    df = df.join(exploration_map_df, on=\"user_idx\", how=\"left\")\n",
        "\n",
        "    # Drop missing mappings\n",
        "    df = df.drop_nulls(subset=[\"real_playlist_id\", \"s\", \"p\", \"e\"])\n",
        "\n",
        "    # Compute score\n",
        "    df = df.with_columns([\n",
        "        (\n",
        "            ((1 - pl.col(\"e\")) * (pl.col(\"match_count\") + 1).log() + pl.col(\"e\"))\n",
        "            / (pl.col(\"s\").sqrt() * pl.col(\"p\").sqrt())\n",
        "        ).alias(\"score\")\n",
        "    ])\n",
        "\n",
        "    # Print some stats\n",
        "    print(f\"✅ Median score of {file_name}: {df['score'].median():.4f}\")\n",
        "    print(f\"✅ Min score of {file_name}: {df['score'].min():.4f}\")\n",
        "    print(f\"✅ Max score of {file_name}: {df['score'].max():.4f}\")\n",
        "\n",
        "    # Save only the needed columns\n",
        "    output_path = os.path.join(output_dir, f\"scored_{file_name}\")\n",
        "    df.select([\"user_idx\", \"playlist_idx\", \"match_count\", \"score\"]).write_parquet(output_path)\n",
        "\n",
        "print(\"\\n✅✅ All slices processed and scores saved to:\", output_dir)"
      ],
      "metadata": {
        "colab": {
          "base_uri": "https://localhost:8080/"
        },
        "id": "TBEIX7dXl5Ik",
        "outputId": "a1b77f99-0448-4ede-bd16-08367fdbbdc5"
      },
      "execution_count": 1,
      "outputs": [
        {
          "metadata": {
            "tags": null
          },
          "name": "stderr",
          "output_type": "stream",
          "text": [
            "\r🧮 Processing slices (Polars Version):   0%|          | 0/102 [00:00<?, ?it/s]"
          ]
        },
        {
          "metadata": {
            "tags": null
          },
          "name": "stdout",
          "output_type": "stream",
          "text": [
            "✅ Median score of overlap_0_10000.parquet: 0.0125\n",
            "✅ Min score of overlap_0_10000.parquet: 0.0012\n",
            "✅ Max score of overlap_0_10000.parquet: 0.4773\n"
          ]
        },
        {
          "metadata": {
            "tags": null
          },
          "name": "stderr",
          "output_type": "stream",
          "text": [
            "\r🧮 Processing slices (Polars Version):   1%|          | 1/102 [01:50<3:06:23, 110.73s/it]"
          ]
        },
        {
          "metadata": {
            "tags": null
          },
          "name": "stdout",
          "output_type": "stream",
          "text": [
            "✅ Median score of overlap_1000000_1010000.parquet: 0.0170\n",
            "✅ Min score of overlap_1000000_1010000.parquet: 0.0012\n",
            "✅ Max score of overlap_1000000_1010000.parquet: 0.3880\n"
          ]
        },
        {
          "metadata": {
            "tags": null
          },
          "name": "stderr",
          "output_type": "stream",
          "text": [
            "\r🧮 Processing slices (Polars Version):   2%|▏         | 2/102 [03:57<3:19:59, 119.99s/it]"
          ]
        },
        {
          "metadata": {
            "tags": null
          },
          "name": "stdout",
          "output_type": "stream",
          "text": [
            "✅ Median score of overlap_100000_110000.parquet: 0.0173\n",
            "✅ Min score of overlap_100000_110000.parquet: 0.0013\n",
            "✅ Max score of overlap_100000_110000.parquet: 0.3900\n"
          ]
        },
        {
          "metadata": {
            "tags": null
          },
          "name": "stderr",
          "output_type": "stream",
          "text": [
            "\r🧮 Processing slices (Polars Version):   3%|▎         | 3/102 [05:24<2:53:43, 105.28s/it]"
          ]
        },
        {
          "metadata": {
            "tags": null
          },
          "name": "stdout",
          "output_type": "stream",
          "text": [
            "✅ Median score of overlap_10000_20000.parquet: 0.0170\n",
            "✅ Min score of overlap_10000_20000.parquet: 0.0012\n",
            "✅ Max score of overlap_10000_20000.parquet: 0.4227\n"
          ]
        },
        {
          "metadata": {
            "tags": null
          },
          "name": "stderr",
          "output_type": "stream",
          "text": [
            "\r🧮 Processing slices (Polars Version):   4%|▍         | 4/102 [06:49<2:38:29, 97.04s/it] "
          ]
        },
        {
          "metadata": {
            "tags": null
          },
          "name": "stdout",
          "output_type": "stream",
          "text": [
            "✅ Median score of overlap_1010000_1019318.parquet: 0.0171\n",
            "✅ Min score of overlap_1010000_1019318.parquet: 0.0013\n",
            "✅ Max score of overlap_1010000_1019318.parquet: 0.4051\n"
          ]
        },
        {
          "metadata": {
            "tags": null
          },
          "name": "stderr",
          "output_type": "stream",
          "text": [
            "\r🧮 Processing slices (Polars Version):   5%|▍         | 5/102 [08:22<2:34:35, 95.63s/it]"
          ]
        },
        {
          "metadata": {
            "tags": null
          },
          "name": "stdout",
          "output_type": "stream",
          "text": [
            "✅ Median score of overlap_110000_120000.parquet: 0.0172\n",
            "✅ Min score of overlap_110000_120000.parquet: 0.0012\n",
            "✅ Max score of overlap_110000_120000.parquet: 0.4238\n"
          ]
        },
        {
          "metadata": {
            "tags": null
          },
          "name": "stderr",
          "output_type": "stream",
          "text": [
            "\r🧮 Processing slices (Polars Version):   6%|▌         | 6/102 [09:43<2:25:05, 90.68s/it]"
          ]
        },
        {
          "metadata": {
            "tags": null
          },
          "name": "stdout",
          "output_type": "stream",
          "text": [
            "✅ Median score of overlap_120000_130000.parquet: 0.0171\n",
            "✅ Min score of overlap_120000_130000.parquet: 0.0012\n",
            "✅ Max score of overlap_120000_130000.parquet: 0.3993\n"
          ]
        },
        {
          "metadata": {
            "tags": null
          },
          "name": "stderr",
          "output_type": "stream",
          "text": [
            "\r🧮 Processing slices (Polars Version):   7%|▋         | 7/102 [11:13<2:23:05, 90.38s/it]"
          ]
        },
        {
          "metadata": {
            "tags": null
          },
          "name": "stdout",
          "output_type": "stream",
          "text": [
            "✅ Median score of overlap_130000_140000.parquet: 0.0171\n",
            "✅ Min score of overlap_130000_140000.parquet: 0.0012\n",
            "✅ Max score of overlap_130000_140000.parquet: 0.3907\n"
          ]
        },
        {
          "metadata": {
            "tags": null
          },
          "name": "stderr",
          "output_type": "stream",
          "text": [
            "\r🧮 Processing slices (Polars Version):   8%|▊         | 8/102 [12:39<2:19:27, 89.02s/it]"
          ]
        },
        {
          "metadata": {
            "tags": null
          },
          "name": "stdout",
          "output_type": "stream",
          "text": [
            "✅ Median score of overlap_140000_150000.parquet: 0.0170\n",
            "✅ Min score of overlap_140000_150000.parquet: 0.0012\n",
            "✅ Max score of overlap_140000_150000.parquet: 0.3675\n"
          ]
        },
        {
          "metadata": {
            "tags": null
          },
          "name": "stderr",
          "output_type": "stream",
          "text": [
            "\r🧮 Processing slices (Polars Version):   9%|▉         | 9/102 [14:13<2:20:22, 90.57s/it]"
          ]
        },
        {
          "metadata": {
            "tags": null
          },
          "name": "stdout",
          "output_type": "stream",
          "text": [
            "✅ Median score of overlap_150000_160000.parquet: 0.0170\n",
            "✅ Min score of overlap_150000_160000.parquet: 0.0012\n",
            "✅ Max score of overlap_150000_160000.parquet: 0.3779\n"
          ]
        },
        {
          "metadata": {
            "tags": null
          },
          "name": "stderr",
          "output_type": "stream",
          "text": [
            "\r🧮 Processing slices (Polars Version):  10%|▉         | 10/102 [15:37<2:15:39, 88.47s/it]"
          ]
        },
        {
          "metadata": {
            "tags": null
          },
          "name": "stdout",
          "output_type": "stream",
          "text": [
            "✅ Median score of overlap_160000_170000.parquet: 0.0171\n",
            "✅ Min score of overlap_160000_170000.parquet: 0.0012\n",
            "✅ Max score of overlap_160000_170000.parquet: 0.3769\n"
          ]
        },
        {
          "metadata": {
            "tags": null
          },
          "name": "stderr",
          "output_type": "stream",
          "text": [
            "\r🧮 Processing slices (Polars Version):  11%|█         | 11/102 [16:54<2:09:03, 85.10s/it]"
          ]
        },
        {
          "metadata": {
            "tags": null
          },
          "name": "stdout",
          "output_type": "stream",
          "text": [
            "✅ Median score of overlap_170000_180000.parquet: 0.0171\n",
            "✅ Min score of overlap_170000_180000.parquet: 0.0012\n",
            "✅ Max score of overlap_170000_180000.parquet: 0.4610\n"
          ]
        },
        {
          "metadata": {
            "tags": null
          },
          "name": "stderr",
          "output_type": "stream",
          "text": [
            "\r🧮 Processing slices (Polars Version):  12%|█▏        | 12/102 [18:21<2:08:27, 85.64s/it]"
          ]
        },
        {
          "metadata": {
            "tags": null
          },
          "name": "stdout",
          "output_type": "stream",
          "text": [
            "✅ Median score of overlap_180000_190000.parquet: 0.0171\n",
            "✅ Min score of overlap_180000_190000.parquet: 0.0012\n",
            "✅ Max score of overlap_180000_190000.parquet: 0.3812\n"
          ]
        },
        {
          "metadata": {
            "tags": null
          },
          "name": "stderr",
          "output_type": "stream",
          "text": [
            "\r🧮 Processing slices (Polars Version):  13%|█▎        | 13/102 [19:43<2:05:30, 84.61s/it]"
          ]
        },
        {
          "metadata": {
            "tags": null
          },
          "name": "stdout",
          "output_type": "stream",
          "text": [
            "✅ Median score of overlap_190000_200000.parquet: 0.0169\n",
            "✅ Min score of overlap_190000_200000.parquet: 0.0012\n",
            "✅ Max score of overlap_190000_200000.parquet: 0.3944\n"
          ]
        },
        {
          "metadata": {
            "tags": null
          },
          "name": "stderr",
          "output_type": "stream",
          "text": [
            "\r🧮 Processing slices (Polars Version):  14%|█▎        | 14/102 [21:02<2:01:33, 82.88s/it]"
          ]
        },
        {
          "metadata": {
            "tags": null
          },
          "name": "stdout",
          "output_type": "stream",
          "text": [
            "✅ Median score of overlap_200000_210000.parquet: 0.0171\n",
            "✅ Min score of overlap_200000_210000.parquet: 0.0012\n",
            "✅ Max score of overlap_200000_210000.parquet: 0.3907\n"
          ]
        },
        {
          "metadata": {
            "tags": null
          },
          "name": "stderr",
          "output_type": "stream",
          "text": [
            "\r🧮 Processing slices (Polars Version):  15%|█▍        | 15/102 [23:11<2:20:26, 96.85s/it]"
          ]
        },
        {
          "metadata": {
            "tags": null
          },
          "name": "stdout",
          "output_type": "stream",
          "text": [
            "✅ Median score of overlap_20000_30000.parquet: 0.0171\n",
            "✅ Min score of overlap_20000_30000.parquet: 0.0013\n",
            "✅ Max score of overlap_20000_30000.parquet: 0.3825\n"
          ]
        },
        {
          "metadata": {
            "tags": null
          },
          "name": "stderr",
          "output_type": "stream",
          "text": [
            "\r🧮 Processing slices (Polars Version):  16%|█▌        | 16/102 [24:32<2:11:39, 91.86s/it]"
          ]
        },
        {
          "metadata": {
            "tags": null
          },
          "name": "stdout",
          "output_type": "stream",
          "text": [
            "✅ Median score of overlap_210000_220000.parquet: 0.0172\n",
            "✅ Min score of overlap_210000_220000.parquet: 0.0012\n",
            "✅ Max score of overlap_210000_220000.parquet: 0.3884\n"
          ]
        },
        {
          "metadata": {
            "tags": null
          },
          "name": "stderr",
          "output_type": "stream",
          "text": [
            "\r🧮 Processing slices (Polars Version):  17%|█▋        | 17/102 [25:56<2:07:08, 89.74s/it]"
          ]
        },
        {
          "metadata": {
            "tags": null
          },
          "name": "stdout",
          "output_type": "stream",
          "text": [
            "✅ Median score of overlap_220000_230000.parquet: 0.0172\n",
            "✅ Min score of overlap_220000_230000.parquet: 0.0012\n",
            "✅ Max score of overlap_220000_230000.parquet: 0.3991\n"
          ]
        },
        {
          "metadata": {
            "tags": null
          },
          "name": "stderr",
          "output_type": "stream",
          "text": [
            "\r🧮 Processing slices (Polars Version):  18%|█▊        | 18/102 [27:19<2:02:25, 87.44s/it]"
          ]
        },
        {
          "metadata": {
            "tags": null
          },
          "name": "stdout",
          "output_type": "stream",
          "text": [
            "✅ Median score of overlap_230000_240000.parquet: 0.0171\n",
            "✅ Min score of overlap_230000_240000.parquet: 0.0012\n",
            "✅ Max score of overlap_230000_240000.parquet: 0.3820\n"
          ]
        },
        {
          "metadata": {
            "tags": null
          },
          "name": "stderr",
          "output_type": "stream",
          "text": [
            "\r🧮 Processing slices (Polars Version):  19%|█▊        | 19/102 [28:40<1:58:35, 85.73s/it]"
          ]
        },
        {
          "metadata": {
            "tags": null
          },
          "name": "stdout",
          "output_type": "stream",
          "text": [
            "✅ Median score of overlap_240000_250000.parquet: 0.0171\n",
            "✅ Min score of overlap_240000_250000.parquet: 0.0013\n",
            "✅ Max score of overlap_240000_250000.parquet: 0.5368\n"
          ]
        },
        {
          "metadata": {
            "tags": null
          },
          "name": "stderr",
          "output_type": "stream",
          "text": [
            "\r🧮 Processing slices (Polars Version):  20%|█▉        | 20/102 [29:58<1:53:43, 83.21s/it]"
          ]
        },
        {
          "metadata": {
            "tags": null
          },
          "name": "stdout",
          "output_type": "stream",
          "text": [
            "✅ Median score of overlap_250000_260000.parquet: 0.0169\n",
            "✅ Min score of overlap_250000_260000.parquet: 0.0012\n",
            "✅ Max score of overlap_250000_260000.parquet: 0.3866\n"
          ]
        },
        {
          "metadata": {
            "tags": null
          },
          "name": "stderr",
          "output_type": "stream",
          "text": [
            "\r🧮 Processing slices (Polars Version):  21%|██        | 21/102 [31:17<1:50:57, 82.19s/it]"
          ]
        },
        {
          "metadata": {
            "tags": null
          },
          "name": "stdout",
          "output_type": "stream",
          "text": [
            "✅ Median score of overlap_260000_270000.parquet: 0.0172\n",
            "✅ Min score of overlap_260000_270000.parquet: 0.0012\n",
            "✅ Max score of overlap_260000_270000.parquet: 0.4398\n"
          ]
        },
        {
          "metadata": {
            "tags": null
          },
          "name": "stderr",
          "output_type": "stream",
          "text": [
            "\r🧮 Processing slices (Polars Version):  22%|██▏       | 22/102 [32:59<1:57:20, 88.00s/it]"
          ]
        },
        {
          "metadata": {
            "tags": null
          },
          "name": "stdout",
          "output_type": "stream",
          "text": [
            "✅ Median score of overlap_270000_280000.parquet: 0.0171\n",
            "✅ Min score of overlap_270000_280000.parquet: 0.0012\n",
            "✅ Max score of overlap_270000_280000.parquet: 0.4720\n"
          ]
        },
        {
          "metadata": {
            "tags": null
          },
          "name": "stderr",
          "output_type": "stream",
          "text": [
            "\r🧮 Processing slices (Polars Version):  23%|██▎       | 23/102 [34:23<1:54:09, 86.70s/it]"
          ]
        },
        {
          "metadata": {
            "tags": null
          },
          "name": "stdout",
          "output_type": "stream",
          "text": [
            "✅ Median score of overlap_280000_290000.parquet: 0.0170\n",
            "✅ Min score of overlap_280000_290000.parquet: 0.0012\n",
            "✅ Max score of overlap_280000_290000.parquet: 0.3906\n"
          ]
        },
        {
          "metadata": {
            "tags": null
          },
          "name": "stderr",
          "output_type": "stream",
          "text": [
            "\r🧮 Processing slices (Polars Version):  24%|██▎       | 24/102 [35:44<1:50:47, 85.22s/it]"
          ]
        },
        {
          "metadata": {
            "tags": null
          },
          "name": "stdout",
          "output_type": "stream",
          "text": [
            "✅ Median score of overlap_290000_300000.parquet: 0.0170\n",
            "✅ Min score of overlap_290000_300000.parquet: 0.0012\n",
            "✅ Max score of overlap_290000_300000.parquet: 0.3793\n"
          ]
        },
        {
          "metadata": {
            "tags": null
          },
          "name": "stderr",
          "output_type": "stream",
          "text": [
            "\r🧮 Processing slices (Polars Version):  25%|██▍       | 25/102 [37:04<1:47:15, 83.58s/it]"
          ]
        },
        {
          "metadata": {
            "tags": null
          },
          "name": "stdout",
          "output_type": "stream",
          "text": [
            "✅ Median score of overlap_300000_310000.parquet: 0.0172\n",
            "✅ Min score of overlap_300000_310000.parquet: 0.0012\n",
            "✅ Max score of overlap_300000_310000.parquet: 0.3944\n"
          ]
        },
        {
          "metadata": {
            "tags": null
          },
          "name": "stderr",
          "output_type": "stream",
          "text": [
            "\r🧮 Processing slices (Polars Version):  25%|██▌       | 26/102 [38:31<1:47:01, 84.49s/it]"
          ]
        },
        {
          "metadata": {
            "tags": null
          },
          "name": "stdout",
          "output_type": "stream",
          "text": [
            "✅ Median score of overlap_30000_40000.parquet: 0.0171\n",
            "✅ Min score of overlap_30000_40000.parquet: 0.0012\n",
            "✅ Max score of overlap_30000_40000.parquet: 0.3906\n"
          ]
        },
        {
          "metadata": {
            "tags": null
          },
          "name": "stderr",
          "output_type": "stream",
          "text": [
            "\r🧮 Processing slices (Polars Version):  26%|██▋       | 27/102 [39:52<1:44:23, 83.52s/it]"
          ]
        },
        {
          "metadata": {
            "tags": null
          },
          "name": "stdout",
          "output_type": "stream",
          "text": [
            "✅ Median score of overlap_310000_320000.parquet: 0.0171\n",
            "✅ Min score of overlap_310000_320000.parquet: 0.0012\n",
            "✅ Max score of overlap_310000_320000.parquet: 0.3987\n"
          ]
        },
        {
          "metadata": {
            "tags": null
          },
          "name": "stderr",
          "output_type": "stream",
          "text": [
            "\r🧮 Processing slices (Polars Version):  27%|██▋       | 28/102 [41:30<1:48:25, 87.91s/it]"
          ]
        },
        {
          "metadata": {
            "tags": null
          },
          "name": "stdout",
          "output_type": "stream",
          "text": [
            "✅ Median score of overlap_320000_330000.parquet: 0.0171\n",
            "✅ Min score of overlap_320000_330000.parquet: 0.0012\n",
            "✅ Max score of overlap_320000_330000.parquet: 0.4695\n"
          ]
        },
        {
          "metadata": {
            "tags": null
          },
          "name": "stderr",
          "output_type": "stream",
          "text": [
            "\r🧮 Processing slices (Polars Version):  28%|██▊       | 29/102 [42:49<1:43:34, 85.12s/it]"
          ]
        },
        {
          "metadata": {
            "tags": null
          },
          "name": "stdout",
          "output_type": "stream",
          "text": [
            "✅ Median score of overlap_330000_340000.parquet: 0.0169\n",
            "✅ Min score of overlap_330000_340000.parquet: 0.0012\n",
            "✅ Max score of overlap_330000_340000.parquet: 0.4850\n"
          ]
        },
        {
          "metadata": {
            "tags": null
          },
          "name": "stderr",
          "output_type": "stream",
          "text": [
            "\r🧮 Processing slices (Polars Version):  29%|██▉       | 30/102 [44:31<1:48:20, 90.29s/it]"
          ]
        },
        {
          "metadata": {
            "tags": null
          },
          "name": "stdout",
          "output_type": "stream",
          "text": [
            "✅ Median score of overlap_340000_350000.parquet: 0.0171\n",
            "✅ Min score of overlap_340000_350000.parquet: 0.0012\n",
            "✅ Max score of overlap_340000_350000.parquet: 0.4079\n"
          ]
        },
        {
          "metadata": {
            "tags": null
          },
          "name": "stderr",
          "output_type": "stream",
          "text": [
            "\r🧮 Processing slices (Polars Version):  30%|███       | 31/102 [45:56<1:44:58, 88.71s/it]"
          ]
        },
        {
          "metadata": {
            "tags": null
          },
          "name": "stdout",
          "output_type": "stream",
          "text": [
            "✅ Median score of overlap_350000_360000.parquet: 0.0172\n",
            "✅ Min score of overlap_350000_360000.parquet: 0.0012\n",
            "✅ Max score of overlap_350000_360000.parquet: 0.3913\n"
          ]
        },
        {
          "metadata": {
            "tags": null
          },
          "name": "stderr",
          "output_type": "stream",
          "text": [
            "\r🧮 Processing slices (Polars Version):  31%|███▏      | 32/102 [47:10<1:38:08, 84.12s/it]"
          ]
        },
        {
          "metadata": {
            "tags": null
          },
          "name": "stdout",
          "output_type": "stream",
          "text": [
            "✅ Median score of overlap_360000_370000.parquet: 0.0172\n",
            "✅ Min score of overlap_360000_370000.parquet: 0.0012\n",
            "✅ Max score of overlap_360000_370000.parquet: 0.4976\n"
          ]
        },
        {
          "metadata": {
            "tags": null
          },
          "name": "stderr",
          "output_type": "stream",
          "text": [
            "\r🧮 Processing slices (Polars Version):  32%|███▏      | 33/102 [48:35<1:37:17, 84.60s/it]"
          ]
        },
        {
          "metadata": {
            "tags": null
          },
          "name": "stdout",
          "output_type": "stream",
          "text": [
            "✅ Median score of overlap_370000_380000.parquet: 0.0170\n",
            "✅ Min score of overlap_370000_380000.parquet: 0.0013\n",
            "✅ Max score of overlap_370000_380000.parquet: 0.3952\n"
          ]
        },
        {
          "metadata": {
            "tags": null
          },
          "name": "stderr",
          "output_type": "stream",
          "text": [
            "\r🧮 Processing slices (Polars Version):  33%|███▎      | 34/102 [49:54<1:33:49, 82.78s/it]"
          ]
        },
        {
          "metadata": {
            "tags": null
          },
          "name": "stdout",
          "output_type": "stream",
          "text": [
            "✅ Median score of overlap_380000_390000.parquet: 0.0173\n",
            "✅ Min score of overlap_380000_390000.parquet: 0.0012\n",
            "✅ Max score of overlap_380000_390000.parquet: 0.3712\n"
          ]
        },
        {
          "metadata": {
            "tags": null
          },
          "name": "stderr",
          "output_type": "stream",
          "text": [
            "\r🧮 Processing slices (Polars Version):  34%|███▍      | 35/102 [51:18<1:32:50, 83.14s/it]"
          ]
        },
        {
          "metadata": {
            "tags": null
          },
          "name": "stdout",
          "output_type": "stream",
          "text": [
            "✅ Median score of overlap_390000_400000.parquet: 0.0171\n",
            "✅ Min score of overlap_390000_400000.parquet: 0.0012\n",
            "✅ Max score of overlap_390000_400000.parquet: 0.3785\n"
          ]
        },
        {
          "metadata": {
            "tags": null
          },
          "name": "stderr",
          "output_type": "stream",
          "text": [
            "\r🧮 Processing slices (Polars Version):  35%|███▌      | 36/102 [52:41<1:31:19, 83.03s/it]"
          ]
        },
        {
          "metadata": {
            "tags": null
          },
          "name": "stdout",
          "output_type": "stream",
          "text": [
            "✅ Median score of overlap_400000_410000.parquet: 0.0171\n",
            "✅ Min score of overlap_400000_410000.parquet: 0.0012\n",
            "✅ Max score of overlap_400000_410000.parquet: 0.3987\n"
          ]
        },
        {
          "metadata": {
            "tags": null
          },
          "name": "stderr",
          "output_type": "stream",
          "text": [
            "\r🧮 Processing slices (Polars Version):  36%|███▋      | 37/102 [54:21<1:35:34, 88.22s/it]"
          ]
        },
        {
          "metadata": {
            "tags": null
          },
          "name": "stdout",
          "output_type": "stream",
          "text": [
            "✅ Median score of overlap_40000_50000.parquet: 0.0172\n",
            "✅ Min score of overlap_40000_50000.parquet: 0.0013\n",
            "✅ Max score of overlap_40000_50000.parquet: 0.3952\n"
          ]
        },
        {
          "metadata": {
            "tags": null
          },
          "name": "stderr",
          "output_type": "stream",
          "text": [
            "\r🧮 Processing slices (Polars Version):  37%|███▋      | 38/102 [55:51<1:34:33, 88.65s/it]"
          ]
        },
        {
          "metadata": {
            "tags": null
          },
          "name": "stdout",
          "output_type": "stream",
          "text": [
            "✅ Median score of overlap_410000_420000.parquet: 0.0171\n",
            "✅ Min score of overlap_410000_420000.parquet: 0.0013\n",
            "✅ Max score of overlap_410000_420000.parquet: 0.5143\n"
          ]
        },
        {
          "metadata": {
            "tags": null
          },
          "name": "stderr",
          "output_type": "stream",
          "text": [
            "\r🧮 Processing slices (Polars Version):  38%|███▊      | 39/102 [57:10<1:30:09, 85.87s/it]"
          ]
        },
        {
          "metadata": {
            "tags": null
          },
          "name": "stdout",
          "output_type": "stream",
          "text": [
            "✅ Median score of overlap_420000_430000.parquet: 0.0171\n",
            "✅ Min score of overlap_420000_430000.parquet: 0.0012\n",
            "✅ Max score of overlap_420000_430000.parquet: 0.3859\n"
          ]
        },
        {
          "metadata": {
            "tags": null
          },
          "name": "stderr",
          "output_type": "stream",
          "text": [
            "\r🧮 Processing slices (Polars Version):  39%|███▉      | 40/102 [58:32<1:27:33, 84.74s/it]"
          ]
        },
        {
          "metadata": {
            "tags": null
          },
          "name": "stdout",
          "output_type": "stream",
          "text": [
            "✅ Median score of overlap_430000_440000.parquet: 0.0171\n",
            "✅ Min score of overlap_430000_440000.parquet: 0.0013\n",
            "✅ Max score of overlap_430000_440000.parquet: 0.4025\n"
          ]
        },
        {
          "metadata": {
            "tags": null
          },
          "name": "stderr",
          "output_type": "stream",
          "text": [
            "\r🧮 Processing slices (Polars Version):  40%|████      | 41/102 [59:55<1:25:34, 84.17s/it]"
          ]
        },
        {
          "metadata": {
            "tags": null
          },
          "name": "stdout",
          "output_type": "stream",
          "text": [
            "✅ Median score of overlap_440000_450000.parquet: 0.0170\n",
            "✅ Min score of overlap_440000_450000.parquet: 0.0014\n",
            "✅ Max score of overlap_440000_450000.parquet: 0.4447\n"
          ]
        },
        {
          "metadata": {
            "tags": null
          },
          "name": "stderr",
          "output_type": "stream",
          "text": [
            "\r🧮 Processing slices (Polars Version):  41%|████      | 42/102 [1:01:29<1:27:09, 87.16s/it]"
          ]
        },
        {
          "metadata": {
            "tags": null
          },
          "name": "stdout",
          "output_type": "stream",
          "text": [
            "✅ Median score of overlap_450000_460000.parquet: 0.0171\n",
            "✅ Min score of overlap_450000_460000.parquet: 0.0012\n",
            "✅ Max score of overlap_450000_460000.parquet: 0.4617\n"
          ]
        },
        {
          "metadata": {
            "tags": null
          },
          "name": "stderr",
          "output_type": "stream",
          "text": [
            "\r🧮 Processing slices (Polars Version):  42%|████▏     | 43/102 [1:02:54<1:25:05, 86.53s/it]"
          ]
        },
        {
          "metadata": {
            "tags": null
          },
          "name": "stdout",
          "output_type": "stream",
          "text": [
            "✅ Median score of overlap_460000_470000.parquet: 0.0171\n",
            "✅ Min score of overlap_460000_470000.parquet: 0.0012\n",
            "✅ Max score of overlap_460000_470000.parquet: 0.3915\n"
          ]
        },
        {
          "metadata": {
            "tags": null
          },
          "name": "stderr",
          "output_type": "stream",
          "text": [
            "\r🧮 Processing slices (Polars Version):  43%|████▎     | 44/102 [1:04:37<1:28:27, 91.51s/it]"
          ]
        },
        {
          "metadata": {
            "tags": null
          },
          "name": "stdout",
          "output_type": "stream",
          "text": [
            "✅ Median score of overlap_470000_480000.parquet: 0.0171\n",
            "✅ Min score of overlap_470000_480000.parquet: 0.0013\n",
            "✅ Max score of overlap_470000_480000.parquet: 0.3497\n"
          ]
        },
        {
          "metadata": {
            "tags": null
          },
          "name": "stderr",
          "output_type": "stream",
          "text": [
            "\r🧮 Processing slices (Polars Version):  44%|████▍     | 45/102 [1:05:58<1:23:51, 88.28s/it]"
          ]
        },
        {
          "metadata": {
            "tags": null
          },
          "name": "stdout",
          "output_type": "stream",
          "text": [
            "✅ Median score of overlap_480000_490000.parquet: 0.0172\n",
            "✅ Min score of overlap_480000_490000.parquet: 0.0012\n",
            "✅ Max score of overlap_480000_490000.parquet: 0.3630\n"
          ]
        },
        {
          "metadata": {
            "tags": null
          },
          "name": "stderr",
          "output_type": "stream",
          "text": [
            "\r🧮 Processing slices (Polars Version):  45%|████▌     | 46/102 [1:07:13<1:18:40, 84.29s/it]"
          ]
        },
        {
          "metadata": {
            "tags": null
          },
          "name": "stdout",
          "output_type": "stream",
          "text": [
            "✅ Median score of overlap_490000_500000.parquet: 0.0171\n",
            "✅ Min score of overlap_490000_500000.parquet: 0.0012\n",
            "✅ Max score of overlap_490000_500000.parquet: 0.3868\n"
          ]
        },
        {
          "metadata": {
            "tags": null
          },
          "name": "stderr",
          "output_type": "stream",
          "text": [
            "\r🧮 Processing slices (Polars Version):  46%|████▌     | 47/102 [1:08:41<1:18:24, 85.53s/it]"
          ]
        },
        {
          "metadata": {
            "tags": null
          },
          "name": "stdout",
          "output_type": "stream",
          "text": [
            "✅ Median score of overlap_500000_510000.parquet: 0.0169\n",
            "✅ Min score of overlap_500000_510000.parquet: 0.0012\n",
            "✅ Max score of overlap_500000_510000.parquet: 0.4020\n"
          ]
        },
        {
          "metadata": {
            "tags": null
          },
          "name": "stderr",
          "output_type": "stream",
          "text": [
            "\r🧮 Processing slices (Polars Version):  47%|████▋     | 48/102 [1:10:20<1:20:25, 89.35s/it]"
          ]
        },
        {
          "metadata": {
            "tags": null
          },
          "name": "stdout",
          "output_type": "stream",
          "text": [
            "✅ Median score of overlap_50000_60000.parquet: 0.0170\n",
            "✅ Min score of overlap_50000_60000.parquet: 0.0012\n",
            "✅ Max score of overlap_50000_60000.parquet: 0.5014\n"
          ]
        },
        {
          "metadata": {
            "tags": null
          },
          "name": "stderr",
          "output_type": "stream",
          "text": [
            "\r🧮 Processing slices (Polars Version):  48%|████▊     | 49/102 [1:11:40<1:16:31, 86.64s/it]"
          ]
        },
        {
          "metadata": {
            "tags": null
          },
          "name": "stdout",
          "output_type": "stream",
          "text": [
            "✅ Median score of overlap_510000_520000.parquet: 0.0173\n",
            "✅ Min score of overlap_510000_520000.parquet: 0.0012\n",
            "✅ Max score of overlap_510000_520000.parquet: 0.4377\n"
          ]
        },
        {
          "metadata": {
            "tags": null
          },
          "name": "stderr",
          "output_type": "stream",
          "text": [
            "\r🧮 Processing slices (Polars Version):  49%|████▉     | 50/102 [1:13:11<1:16:10, 87.89s/it]"
          ]
        },
        {
          "metadata": {
            "tags": null
          },
          "name": "stdout",
          "output_type": "stream",
          "text": [
            "✅ Median score of overlap_520000_530000.parquet: 0.0171\n",
            "✅ Min score of overlap_520000_530000.parquet: 0.0012\n",
            "✅ Max score of overlap_520000_530000.parquet: 0.4666\n"
          ]
        },
        {
          "metadata": {
            "tags": null
          },
          "name": "stderr",
          "output_type": "stream",
          "text": [
            "\r🧮 Processing slices (Polars Version):  50%|█████     | 51/102 [1:14:37<1:14:12, 87.31s/it]"
          ]
        },
        {
          "metadata": {
            "tags": null
          },
          "name": "stdout",
          "output_type": "stream",
          "text": [
            "✅ Median score of overlap_530000_540000.parquet: 0.0171\n",
            "✅ Min score of overlap_530000_540000.parquet: 0.0012\n",
            "✅ Max score of overlap_530000_540000.parquet: 0.4199\n"
          ]
        },
        {
          "metadata": {
            "tags": null
          },
          "name": "stderr",
          "output_type": "stream",
          "text": [
            "\r🧮 Processing slices (Polars Version):  51%|█████     | 52/102 [1:16:08<1:13:48, 88.56s/it]"
          ]
        },
        {
          "metadata": {
            "tags": null
          },
          "name": "stdout",
          "output_type": "stream",
          "text": [
            "✅ Median score of overlap_540000_550000.parquet: 0.0171\n",
            "✅ Min score of overlap_540000_550000.parquet: 0.0012\n",
            "✅ Max score of overlap_540000_550000.parquet: 0.4172\n"
          ]
        },
        {
          "metadata": {
            "tags": null
          },
          "name": "stderr",
          "output_type": "stream",
          "text": [
            "\r🧮 Processing slices (Polars Version):  52%|█████▏    | 53/102 [1:17:33<1:11:25, 87.45s/it]"
          ]
        },
        {
          "metadata": {
            "tags": null
          },
          "name": "stdout",
          "output_type": "stream",
          "text": [
            "✅ Median score of overlap_550000_560000.parquet: 0.0171\n",
            "✅ Min score of overlap_550000_560000.parquet: 0.0012\n",
            "✅ Max score of overlap_550000_560000.parquet: 0.4922\n"
          ]
        },
        {
          "metadata": {
            "tags": null
          },
          "name": "stderr",
          "output_type": "stream",
          "text": [
            "\r🧮 Processing slices (Polars Version):  53%|█████▎    | 54/102 [1:19:00<1:09:48, 87.25s/it]"
          ]
        },
        {
          "metadata": {
            "tags": null
          },
          "name": "stdout",
          "output_type": "stream",
          "text": [
            "✅ Median score of overlap_560000_570000.parquet: 0.0171\n",
            "✅ Min score of overlap_560000_570000.parquet: 0.0012\n",
            "✅ Max score of overlap_560000_570000.parquet: 0.5097\n"
          ]
        },
        {
          "metadata": {
            "tags": null
          },
          "name": "stderr",
          "output_type": "stream",
          "text": [
            "\r🧮 Processing slices (Polars Version):  54%|█████▍    | 55/102 [1:20:27<1:08:19, 87.22s/it]"
          ]
        },
        {
          "metadata": {
            "tags": null
          },
          "name": "stdout",
          "output_type": "stream",
          "text": [
            "✅ Median score of overlap_570000_580000.parquet: 0.0172\n",
            "✅ Min score of overlap_570000_580000.parquet: 0.0012\n",
            "✅ Max score of overlap_570000_580000.parquet: 0.3910\n"
          ]
        },
        {
          "metadata": {
            "tags": null
          },
          "name": "stderr",
          "output_type": "stream",
          "text": [
            "\r🧮 Processing slices (Polars Version):  55%|█████▍    | 56/102 [1:21:49<1:05:45, 85.77s/it]"
          ]
        },
        {
          "metadata": {
            "tags": null
          },
          "name": "stdout",
          "output_type": "stream",
          "text": [
            "✅ Median score of overlap_580000_590000.parquet: 0.0169\n",
            "✅ Min score of overlap_580000_590000.parquet: 0.0012\n",
            "✅ Max score of overlap_580000_590000.parquet: 0.3916\n"
          ]
        },
        {
          "metadata": {
            "tags": null
          },
          "name": "stderr",
          "output_type": "stream",
          "text": [
            "\r🧮 Processing slices (Polars Version):  56%|█████▌    | 57/102 [1:23:12<1:03:33, 84.74s/it]"
          ]
        },
        {
          "metadata": {
            "tags": null
          },
          "name": "stdout",
          "output_type": "stream",
          "text": [
            "✅ Median score of overlap_590000_600000.parquet: 0.0170\n",
            "✅ Min score of overlap_590000_600000.parquet: 0.0012\n",
            "✅ Max score of overlap_590000_600000.parquet: 0.3826\n"
          ]
        },
        {
          "metadata": {
            "tags": null
          },
          "name": "stderr",
          "output_type": "stream",
          "text": [
            "\r🧮 Processing slices (Polars Version):  57%|█████▋    | 58/102 [1:24:34<1:01:32, 83.91s/it]"
          ]
        },
        {
          "metadata": {
            "tags": null
          },
          "name": "stdout",
          "output_type": "stream",
          "text": [
            "✅ Median score of overlap_600000_610000.parquet: 0.0173\n",
            "✅ Min score of overlap_600000_610000.parquet: 0.0012\n",
            "✅ Max score of overlap_600000_610000.parquet: 0.5040\n"
          ]
        },
        {
          "metadata": {
            "tags": null
          },
          "name": "stderr",
          "output_type": "stream",
          "text": [
            "\r🧮 Processing slices (Polars Version):  58%|█████▊    | 59/102 [1:26:38<1:08:48, 96.02s/it]"
          ]
        },
        {
          "metadata": {
            "tags": null
          },
          "name": "stdout",
          "output_type": "stream",
          "text": [
            "✅ Median score of overlap_60000_70000.parquet: 0.0171\n",
            "✅ Min score of overlap_60000_70000.parquet: 0.0012\n",
            "✅ Max score of overlap_60000_70000.parquet: 0.3979\n"
          ]
        },
        {
          "metadata": {
            "tags": null
          },
          "name": "stderr",
          "output_type": "stream",
          "text": [
            "\r🧮 Processing slices (Polars Version):  59%|█████▉    | 60/102 [1:28:04<1:05:11, 93.13s/it]"
          ]
        },
        {
          "metadata": {
            "tags": null
          },
          "name": "stdout",
          "output_type": "stream",
          "text": [
            "✅ Median score of overlap_610000_620000.parquet: 0.0173\n",
            "✅ Min score of overlap_610000_620000.parquet: 0.0012\n",
            "✅ Max score of overlap_610000_620000.parquet: 0.3878\n"
          ]
        },
        {
          "metadata": {
            "tags": null
          },
          "name": "stderr",
          "output_type": "stream",
          "text": [
            "\r🧮 Processing slices (Polars Version):  60%|█████▉    | 61/102 [1:29:31<1:02:18, 91.17s/it]"
          ]
        },
        {
          "metadata": {
            "tags": null
          },
          "name": "stdout",
          "output_type": "stream",
          "text": [
            "✅ Median score of overlap_620000_630000.parquet: 0.0169\n",
            "✅ Min score of overlap_620000_630000.parquet: 0.0012\n",
            "✅ Max score of overlap_620000_630000.parquet: 0.4923\n"
          ]
        },
        {
          "metadata": {
            "tags": null
          },
          "name": "stderr",
          "output_type": "stream",
          "text": [
            "\r🧮 Processing slices (Polars Version):  61%|██████    | 62/102 [1:30:53<58:58, 88.46s/it]  "
          ]
        },
        {
          "metadata": {
            "tags": null
          },
          "name": "stdout",
          "output_type": "stream",
          "text": [
            "✅ Median score of overlap_630000_640000.parquet: 0.0171\n",
            "✅ Min score of overlap_630000_640000.parquet: 0.0012\n",
            "✅ Max score of overlap_630000_640000.parquet: 0.4265\n"
          ]
        },
        {
          "metadata": {
            "tags": null
          },
          "name": "stderr",
          "output_type": "stream",
          "text": [
            "\r🧮 Processing slices (Polars Version):  62%|██████▏   | 63/102 [1:32:12<55:35, 85.53s/it]"
          ]
        },
        {
          "metadata": {
            "tags": null
          },
          "name": "stdout",
          "output_type": "stream",
          "text": [
            "✅ Median score of overlap_640000_650000.parquet: 0.0174\n",
            "✅ Min score of overlap_640000_650000.parquet: 0.0013\n",
            "✅ Max score of overlap_640000_650000.parquet: 0.4542\n"
          ]
        },
        {
          "metadata": {
            "tags": null
          },
          "name": "stderr",
          "output_type": "stream",
          "text": [
            "\r🧮 Processing slices (Polars Version):  63%|██████▎   | 64/102 [1:33:53<57:04, 90.12s/it]"
          ]
        },
        {
          "metadata": {
            "tags": null
          },
          "name": "stdout",
          "output_type": "stream",
          "text": [
            "✅ Median score of overlap_650000_660000.parquet: 0.0171\n",
            "✅ Min score of overlap_650000_660000.parquet: 0.0012\n",
            "✅ Max score of overlap_650000_660000.parquet: 0.5407\n"
          ]
        },
        {
          "metadata": {
            "tags": null
          },
          "name": "stderr",
          "output_type": "stream",
          "text": [
            "\r🧮 Processing slices (Polars Version):  64%|██████▎   | 65/102 [1:35:16<54:17, 88.04s/it]"
          ]
        },
        {
          "metadata": {
            "tags": null
          },
          "name": "stdout",
          "output_type": "stream",
          "text": [
            "✅ Median score of overlap_660000_670000.parquet: 0.0173\n",
            "✅ Min score of overlap_660000_670000.parquet: 0.0012\n",
            "✅ Max score of overlap_660000_670000.parquet: 0.3708\n"
          ]
        },
        {
          "metadata": {
            "tags": null
          },
          "name": "stderr",
          "output_type": "stream",
          "text": [
            "\r🧮 Processing slices (Polars Version):  65%|██████▍   | 66/102 [1:36:53<54:26, 90.74s/it]"
          ]
        },
        {
          "metadata": {
            "tags": null
          },
          "name": "stdout",
          "output_type": "stream",
          "text": [
            "✅ Median score of overlap_670000_680000.parquet: 0.0170\n",
            "✅ Min score of overlap_670000_680000.parquet: 0.0012\n",
            "✅ Max score of overlap_670000_680000.parquet: 0.3761\n"
          ]
        },
        {
          "metadata": {
            "tags": null
          },
          "name": "stderr",
          "output_type": "stream",
          "text": [
            "\r🧮 Processing slices (Polars Version):  66%|██████▌   | 67/102 [1:38:14<51:19, 87.99s/it]"
          ]
        },
        {
          "metadata": {
            "tags": null
          },
          "name": "stdout",
          "output_type": "stream",
          "text": [
            "✅ Median score of overlap_680000_690000.parquet: 0.0171\n",
            "✅ Min score of overlap_680000_690000.parquet: 0.0012\n",
            "✅ Max score of overlap_680000_690000.parquet: 0.3824\n"
          ]
        },
        {
          "metadata": {
            "tags": null
          },
          "name": "stderr",
          "output_type": "stream",
          "text": [
            "\r🧮 Processing slices (Polars Version):  67%|██████▋   | 68/102 [1:39:37<48:53, 86.28s/it]"
          ]
        },
        {
          "metadata": {
            "tags": null
          },
          "name": "stdout",
          "output_type": "stream",
          "text": [
            "✅ Median score of overlap_690000_700000.parquet: 0.0170\n",
            "✅ Min score of overlap_690000_700000.parquet: 0.0013\n",
            "✅ Max score of overlap_690000_700000.parquet: 0.3796\n"
          ]
        },
        {
          "metadata": {
            "tags": null
          },
          "name": "stderr",
          "output_type": "stream",
          "text": [
            "\r🧮 Processing slices (Polars Version):  68%|██████▊   | 69/102 [1:41:00<46:54, 85.28s/it]"
          ]
        },
        {
          "metadata": {
            "tags": null
          },
          "name": "stdout",
          "output_type": "stream",
          "text": [
            "✅ Median score of overlap_700000_710000.parquet: 0.0172\n",
            "✅ Min score of overlap_700000_710000.parquet: 0.0013\n",
            "✅ Max score of overlap_700000_710000.parquet: 0.4935\n"
          ]
        },
        {
          "metadata": {
            "tags": null
          },
          "name": "stderr",
          "output_type": "stream",
          "text": [
            "\r🧮 Processing slices (Polars Version):  69%|██████▊   | 70/102 [1:42:21<44:53, 84.19s/it]"
          ]
        },
        {
          "metadata": {
            "tags": null
          },
          "name": "stdout",
          "output_type": "stream",
          "text": [
            "✅ Median score of overlap_70000_80000.parquet: 0.0170\n",
            "✅ Min score of overlap_70000_80000.parquet: 0.0012\n",
            "✅ Max score of overlap_70000_80000.parquet: 0.4753\n"
          ]
        },
        {
          "metadata": {
            "tags": null
          },
          "name": "stderr",
          "output_type": "stream",
          "text": [
            "\r🧮 Processing slices (Polars Version):  70%|██████▉   | 71/102 [1:43:41<42:50, 82.91s/it]"
          ]
        },
        {
          "metadata": {
            "tags": null
          },
          "name": "stdout",
          "output_type": "stream",
          "text": [
            "✅ Median score of overlap_710000_720000.parquet: 0.0171\n",
            "✅ Min score of overlap_710000_720000.parquet: 0.0013\n",
            "✅ Max score of overlap_710000_720000.parquet: 0.3916\n"
          ]
        },
        {
          "metadata": {
            "tags": null
          },
          "name": "stderr",
          "output_type": "stream",
          "text": [
            "\r🧮 Processing slices (Polars Version):  71%|███████   | 72/102 [1:45:02<41:10, 82.34s/it]"
          ]
        },
        {
          "metadata": {
            "tags": null
          },
          "name": "stdout",
          "output_type": "stream",
          "text": [
            "✅ Median score of overlap_720000_730000.parquet: 0.0172\n",
            "✅ Min score of overlap_720000_730000.parquet: 0.0013\n",
            "✅ Max score of overlap_720000_730000.parquet: 0.4222\n"
          ]
        },
        {
          "metadata": {
            "tags": null
          },
          "name": "stderr",
          "output_type": "stream",
          "text": [
            "\r🧮 Processing slices (Polars Version):  72%|███████▏  | 73/102 [1:46:25<39:54, 82.58s/it]"
          ]
        },
        {
          "metadata": {
            "tags": null
          },
          "name": "stdout",
          "output_type": "stream",
          "text": [
            "✅ Median score of overlap_730000_740000.parquet: 0.0171\n",
            "✅ Min score of overlap_730000_740000.parquet: 0.0012\n",
            "✅ Max score of overlap_730000_740000.parquet: 0.3882\n"
          ]
        },
        {
          "metadata": {
            "tags": null
          },
          "name": "stderr",
          "output_type": "stream",
          "text": [
            "\r🧮 Processing slices (Polars Version):  73%|███████▎  | 74/102 [1:48:01<40:17, 86.35s/it]"
          ]
        },
        {
          "metadata": {
            "tags": null
          },
          "name": "stdout",
          "output_type": "stream",
          "text": [
            "✅ Median score of overlap_740000_750000.parquet: 0.0172\n",
            "✅ Min score of overlap_740000_750000.parquet: 0.0012\n",
            "✅ Max score of overlap_740000_750000.parquet: 0.3973\n"
          ]
        },
        {
          "metadata": {
            "tags": null
          },
          "name": "stderr",
          "output_type": "stream",
          "text": [
            "\r🧮 Processing slices (Polars Version):  74%|███████▎  | 75/102 [1:49:21<38:02, 84.54s/it]"
          ]
        },
        {
          "metadata": {
            "tags": null
          },
          "name": "stdout",
          "output_type": "stream",
          "text": [
            "✅ Median score of overlap_750000_760000.parquet: 0.0172\n",
            "✅ Min score of overlap_750000_760000.parquet: 0.0013\n",
            "✅ Max score of overlap_750000_760000.parquet: 0.3903\n"
          ]
        },
        {
          "metadata": {
            "tags": null
          },
          "name": "stderr",
          "output_type": "stream",
          "text": [
            "\r🧮 Processing slices (Polars Version):  75%|███████▍  | 76/102 [1:50:53<37:33, 86.67s/it]"
          ]
        },
        {
          "metadata": {
            "tags": null
          },
          "name": "stdout",
          "output_type": "stream",
          "text": [
            "✅ Median score of overlap_760000_770000.parquet: 0.0172\n",
            "✅ Min score of overlap_760000_770000.parquet: 0.0012\n",
            "✅ Max score of overlap_760000_770000.parquet: 0.4432\n"
          ]
        },
        {
          "metadata": {
            "tags": null
          },
          "name": "stderr",
          "output_type": "stream",
          "text": [
            "\r🧮 Processing slices (Polars Version):  75%|███████▌  | 77/102 [1:52:13<35:17, 84.72s/it]"
          ]
        },
        {
          "metadata": {
            "tags": null
          },
          "name": "stdout",
          "output_type": "stream",
          "text": [
            "✅ Median score of overlap_770000_780000.parquet: 0.0170\n",
            "✅ Min score of overlap_770000_780000.parquet: 0.0012\n",
            "✅ Max score of overlap_770000_780000.parquet: 0.5199\n"
          ]
        },
        {
          "metadata": {
            "tags": null
          },
          "name": "stderr",
          "output_type": "stream",
          "text": [
            "\r🧮 Processing slices (Polars Version):  76%|███████▋  | 78/102 [1:53:31<33:09, 82.92s/it]"
          ]
        },
        {
          "output_type": "stream",
          "name": "stdout",
          "text": [
            "✅ Median score of overlap_780000_790000.parquet: 0.0170\n",
            "✅ Min score of overlap_780000_790000.parquet: 0.0013\n",
            "✅ Max score of overlap_780000_790000.parquet: 0.3899\n"
          ]
        },
        {
          "output_type": "stream",
          "name": "stderr",
          "text": [
            "\r🧮 Processing slices (Polars Version):  77%|███████▋  | 79/102 [1:55:01<32:34, 84.99s/it]"
          ]
        },
        {
          "output_type": "stream",
          "name": "stdout",
          "text": [
            "✅ Median score of overlap_790000_800000.parquet: 0.0170\n",
            "✅ Min score of overlap_790000_800000.parquet: 0.0013\n",
            "✅ Max score of overlap_790000_800000.parquet: 0.4656\n"
          ]
        },
        {
          "output_type": "stream",
          "name": "stderr",
          "text": [
            "\r🧮 Processing slices (Polars Version):  78%|███████▊  | 80/102 [1:56:20<30:25, 82.99s/it]"
          ]
        },
        {
          "output_type": "stream",
          "name": "stdout",
          "text": [
            "✅ Median score of overlap_800000_810000.parquet: 0.0171\n",
            "✅ Min score of overlap_800000_810000.parquet: 0.0013\n",
            "✅ Max score of overlap_800000_810000.parquet: 0.3813\n"
          ]
        },
        {
          "output_type": "stream",
          "name": "stderr",
          "text": [
            "\r🧮 Processing slices (Polars Version):  79%|███████▉  | 81/102 [1:58:10<31:53, 91.13s/it]"
          ]
        },
        {
          "output_type": "stream",
          "name": "stdout",
          "text": [
            "✅ Median score of overlap_80000_90000.parquet: 0.0172\n",
            "✅ Min score of overlap_80000_90000.parquet: 0.0012\n",
            "✅ Max score of overlap_80000_90000.parquet: 0.4265\n"
          ]
        },
        {
          "output_type": "stream",
          "name": "stderr",
          "text": [
            "\r🧮 Processing slices (Polars Version):  80%|████████  | 82/102 [1:59:30<29:15, 87.78s/it]"
          ]
        },
        {
          "output_type": "stream",
          "name": "stdout",
          "text": [
            "✅ Median score of overlap_810000_820000.parquet: 0.0171\n",
            "✅ Min score of overlap_810000_820000.parquet: 0.0012\n",
            "✅ Max score of overlap_810000_820000.parquet: 0.4671\n"
          ]
        },
        {
          "output_type": "stream",
          "name": "stderr",
          "text": [
            "\r🧮 Processing slices (Polars Version):  81%|████████▏ | 83/102 [2:01:01<28:06, 88.75s/it]"
          ]
        },
        {
          "output_type": "stream",
          "name": "stdout",
          "text": [
            "✅ Median score of overlap_820000_830000.parquet: 0.0172\n",
            "✅ Min score of overlap_820000_830000.parquet: 0.0012\n",
            "✅ Max score of overlap_820000_830000.parquet: 0.3913\n"
          ]
        },
        {
          "output_type": "stream",
          "name": "stderr",
          "text": [
            "\r🧮 Processing slices (Polars Version):  82%|████████▏ | 84/102 [2:02:46<28:06, 93.71s/it]"
          ]
        },
        {
          "output_type": "stream",
          "name": "stdout",
          "text": [
            "✅ Median score of overlap_830000_840000.parquet: 0.0171\n",
            "✅ Min score of overlap_830000_840000.parquet: 0.0012\n",
            "✅ Max score of overlap_830000_840000.parquet: 0.4079\n"
          ]
        },
        {
          "output_type": "stream",
          "name": "stderr",
          "text": [
            "\r🧮 Processing slices (Polars Version):  83%|████████▎ | 85/102 [2:04:08<25:34, 90.27s/it]"
          ]
        },
        {
          "output_type": "stream",
          "name": "stdout",
          "text": [
            "✅ Median score of overlap_840000_850000.parquet: 0.0171\n",
            "✅ Min score of overlap_840000_850000.parquet: 0.0012\n",
            "✅ Max score of overlap_840000_850000.parquet: 0.3917\n"
          ]
        },
        {
          "output_type": "stream",
          "name": "stderr",
          "text": [
            "\r🧮 Processing slices (Polars Version):  84%|████████▍ | 86/102 [2:05:30<23:22, 87.68s/it]"
          ]
        },
        {
          "output_type": "stream",
          "name": "stdout",
          "text": [
            "✅ Median score of overlap_850000_860000.parquet: 0.0173\n",
            "✅ Min score of overlap_850000_860000.parquet: 0.0013\n",
            "✅ Max score of overlap_850000_860000.parquet: 0.4490\n"
          ]
        },
        {
          "output_type": "stream",
          "name": "stderr",
          "text": [
            "\r🧮 Processing slices (Polars Version):  85%|████████▌ | 87/102 [2:06:53<21:36, 86.43s/it]"
          ]
        },
        {
          "output_type": "stream",
          "name": "stdout",
          "text": [
            "✅ Median score of overlap_860000_870000.parquet: 0.0169\n",
            "✅ Min score of overlap_860000_870000.parquet: 0.0012\n",
            "✅ Max score of overlap_860000_870000.parquet: 0.5541\n"
          ]
        },
        {
          "output_type": "stream",
          "name": "stderr",
          "text": [
            "\r🧮 Processing slices (Polars Version):  86%|████████▋ | 88/102 [2:08:37<21:20, 91.46s/it]"
          ]
        },
        {
          "output_type": "stream",
          "name": "stdout",
          "text": [
            "✅ Median score of overlap_870000_880000.parquet: 0.0170\n",
            "✅ Min score of overlap_870000_880000.parquet: 0.0013\n",
            "✅ Max score of overlap_870000_880000.parquet: 0.3900\n"
          ]
        },
        {
          "output_type": "stream",
          "name": "stderr",
          "text": [
            "\r🧮 Processing slices (Polars Version):  87%|████████▋ | 89/102 [2:09:53<18:49, 86.91s/it]"
          ]
        },
        {
          "output_type": "stream",
          "name": "stdout",
          "text": [
            "✅ Median score of overlap_880000_890000.parquet: 0.0171\n",
            "✅ Min score of overlap_880000_890000.parquet: 0.0012\n",
            "✅ Max score of overlap_880000_890000.parquet: 0.5667\n"
          ]
        },
        {
          "output_type": "stream",
          "name": "stderr",
          "text": [
            "\r🧮 Processing slices (Polars Version):  88%|████████▊ | 90/102 [2:11:10<16:49, 84.13s/it]"
          ]
        },
        {
          "output_type": "stream",
          "name": "stdout",
          "text": [
            "✅ Median score of overlap_890000_900000.parquet: 0.0170\n",
            "✅ Min score of overlap_890000_900000.parquet: 0.0013\n",
            "✅ Max score of overlap_890000_900000.parquet: 0.3925\n"
          ]
        },
        {
          "output_type": "stream",
          "name": "stderr",
          "text": [
            "\r🧮 Processing slices (Polars Version):  89%|████████▉ | 91/102 [2:12:38<15:35, 85.02s/it]"
          ]
        },
        {
          "output_type": "stream",
          "name": "stdout",
          "text": [
            "✅ Median score of overlap_900000_910000.parquet: 0.0171\n",
            "✅ Min score of overlap_900000_910000.parquet: 0.0016\n",
            "✅ Max score of overlap_900000_910000.parquet: 0.3918\n"
          ]
        },
        {
          "output_type": "stream",
          "name": "stderr",
          "text": [
            "\r🧮 Processing slices (Polars Version):  90%|█████████ | 92/102 [2:13:54<13:45, 82.51s/it]"
          ]
        },
        {
          "output_type": "stream",
          "name": "stdout",
          "text": [
            "✅ Median score of overlap_90000_100000.parquet: 0.0173\n",
            "✅ Min score of overlap_90000_100000.parquet: 0.0012\n",
            "✅ Max score of overlap_90000_100000.parquet: 0.3926\n"
          ]
        },
        {
          "output_type": "stream",
          "name": "stderr",
          "text": [
            "\r🧮 Processing slices (Polars Version):  91%|█████████ | 93/102 [2:15:16<12:20, 82.26s/it]"
          ]
        },
        {
          "output_type": "stream",
          "name": "stdout",
          "text": [
            "✅ Median score of overlap_910000_920000.parquet: 0.0172\n",
            "✅ Min score of overlap_910000_920000.parquet: 0.0013\n",
            "✅ Max score of overlap_910000_920000.parquet: 0.3933\n"
          ]
        },
        {
          "output_type": "stream",
          "name": "stderr",
          "text": [
            "\r🧮 Processing slices (Polars Version):  92%|█████████▏| 94/102 [2:16:33<10:45, 80.67s/it]"
          ]
        },
        {
          "output_type": "stream",
          "name": "stdout",
          "text": [
            "✅ Median score of overlap_920000_930000.parquet: 0.0171\n",
            "✅ Min score of overlap_920000_930000.parquet: 0.0013\n",
            "✅ Max score of overlap_920000_930000.parquet: 0.3922\n"
          ]
        },
        {
          "output_type": "stream",
          "name": "stderr",
          "text": [
            "\r🧮 Processing slices (Polars Version):  93%|█████████▎| 95/102 [2:17:50<09:18, 79.74s/it]"
          ]
        },
        {
          "output_type": "stream",
          "name": "stdout",
          "text": [
            "✅ Median score of overlap_930000_940000.parquet: 0.0170\n",
            "✅ Min score of overlap_930000_940000.parquet: 0.0013\n",
            "✅ Max score of overlap_930000_940000.parquet: 0.3913\n"
          ]
        },
        {
          "output_type": "stream",
          "name": "stderr",
          "text": [
            "\r🧮 Processing slices (Polars Version):  94%|█████████▍| 96/102 [2:19:44<09:00, 90.01s/it]"
          ]
        },
        {
          "output_type": "stream",
          "name": "stdout",
          "text": [
            "✅ Median score of overlap_940000_950000.parquet: 0.0170\n",
            "✅ Min score of overlap_940000_950000.parquet: 0.0013\n",
            "✅ Max score of overlap_940000_950000.parquet: 0.4567\n"
          ]
        },
        {
          "output_type": "stream",
          "name": "stderr",
          "text": [
            "\r🧮 Processing slices (Polars Version):  95%|█████████▌| 97/102 [2:21:06<07:17, 87.59s/it]"
          ]
        },
        {
          "output_type": "stream",
          "name": "stdout",
          "text": [
            "✅ Median score of overlap_950000_960000.parquet: 0.0171\n",
            "✅ Min score of overlap_950000_960000.parquet: 0.0012\n",
            "✅ Max score of overlap_950000_960000.parquet: 0.3903\n"
          ]
        },
        {
          "output_type": "stream",
          "name": "stderr",
          "text": [
            "\r🧮 Processing slices (Polars Version):  96%|█████████▌| 98/102 [2:22:25<05:39, 84.89s/it]"
          ]
        },
        {
          "output_type": "stream",
          "name": "stdout",
          "text": [
            "✅ Median score of overlap_960000_970000.parquet: 0.0171\n",
            "✅ Min score of overlap_960000_970000.parquet: 0.0013\n",
            "✅ Max score of overlap_960000_970000.parquet: 0.3975\n"
          ]
        },
        {
          "output_type": "stream",
          "name": "stderr",
          "text": [
            "\r🧮 Processing slices (Polars Version):  97%|█████████▋| 99/102 [2:23:45<04:10, 83.35s/it]"
          ]
        },
        {
          "output_type": "stream",
          "name": "stdout",
          "text": [
            "✅ Median score of overlap_970000_980000.parquet: 0.0170\n",
            "✅ Min score of overlap_970000_980000.parquet: 0.0012\n",
            "✅ Max score of overlap_970000_980000.parquet: 0.5135\n"
          ]
        },
        {
          "output_type": "stream",
          "name": "stderr",
          "text": [
            "\r🧮 Processing slices (Polars Version):  98%|█████████▊| 100/102 [2:25:08<02:46, 83.29s/it]"
          ]
        },
        {
          "output_type": "stream",
          "name": "stdout",
          "text": [
            "✅ Median score of overlap_980000_990000.parquet: 0.0170\n",
            "✅ Min score of overlap_980000_990000.parquet: 0.0013\n",
            "✅ Max score of overlap_980000_990000.parquet: 0.3688\n"
          ]
        },
        {
          "output_type": "stream",
          "name": "stderr",
          "text": [
            "\r🧮 Processing slices (Polars Version):  99%|█████████▉| 101/102 [2:26:26<01:21, 81.69s/it]"
          ]
        },
        {
          "output_type": "stream",
          "name": "stdout",
          "text": [
            "✅ Median score of overlap_990000_1000000.parquet: 0.0172\n",
            "✅ Min score of overlap_990000_1000000.parquet: 0.0013\n",
            "✅ Max score of overlap_990000_1000000.parquet: 0.4191\n"
          ]
        },
        {
          "output_type": "stream",
          "name": "stderr",
          "text": [
            "🧮 Processing slices (Polars Version): 100%|██████████| 102/102 [2:28:08<00:00, 87.14s/it]"
          ]
        },
        {
          "output_type": "stream",
          "name": "stdout",
          "text": [
            "\n",
            "✅✅ All slices processed and scores saved to: /content/drive/My Drive/datasets/userplaylist_score_slices\n"
          ]
        },
        {
          "output_type": "stream",
          "name": "stderr",
          "text": [
            "\n"
          ]
        }
      ]
    },
    {
      "cell_type": "markdown",
      "source": [
        "### Part 6: Now that we have scores for each user-playlist combination, we will rank them\n",
        "\n",
        "For this, we will take the 3% higher scores for each user and label them as '1'. Meaning that the user, given this playlist as a recommendation, would like the playlist (these are our true labels)."
      ],
      "metadata": {
        "id": "qKZ9yB8If9Rs"
      }
    },
    {
      "cell_type": "code",
      "source": [
        "# First let's test our labelling algorithm with one slice of data\n",
        "\n",
        "import polars as pl\n",
        "import matplotlib.pyplot as plt\n",
        "import os\n",
        "\n",
        "# === Configuration ===\n",
        "K_PERCENT = 0.03  # Top K% playlists are considered \"liked\"\n",
        "\n",
        "# === Paths ===\n",
        "input_dir = \"/content/drive/My Drive/datasets/userplaylist_score_slices\"\n",
        "output_dir = \"/content/drive/My Drive/datasets/userplaylist_labeled_slices\"\n",
        "os.makedirs(output_dir, exist_ok=True)\n",
        "\n",
        "# === Select one slice to test ===\n",
        "file_name = \"scored_overlap_0_10000.parquet\"  # Change if needed\n",
        "path = os.path.join(input_dir, file_name)\n",
        "\n",
        "# === Load scored slice ===\n",
        "df = pl.read_parquet(path)\n",
        "\n",
        "print(f\"✅ Loaded {file_name}: {df.shape[0]} rows, {df.shape[1]} columns\")\n",
        "\n",
        "# === Step 2: Rank and Label ===\n",
        "\n",
        "# Sort playlists by user_idx and descending score\n",
        "df = df.sort([\"user_idx\", \"score\"], descending=[False, True])\n",
        "\n",
        "# Group by user_idx and assign ranks (0,1,2,...)\n",
        "df = df.group_by(\"user_idx\", maintain_order=True).agg([\n",
        "    pl.col(\"playlist_idx\"),\n",
        "    pl.col(\"score\"),\n",
        "    pl.arange(0, pl.len()).alias(\"rank\")\n",
        "]).explode([\"playlist_idx\", \"score\", \"rank\"])\n",
        "\n",
        "# Calculate number of playlists per user\n",
        "user_counts = df.group_by(\"user_idx\").agg([\n",
        "    pl.len().alias(\"total_playlists\")\n",
        "])\n",
        "\n",
        "# Join total playlists into main df\n",
        "df = df.join(user_counts, on=\"user_idx\", how=\"left\")\n",
        "\n",
        "# Calculate top_k per user: ceil(total_playlists * K_PERCENT), with minimum 1\n",
        "df = df.with_columns([\n",
        "    pl.when((pl.col(\"total_playlists\") * K_PERCENT).ceil() < 1)\n",
        "      .then(1)\n",
        "      .otherwise((pl.col(\"total_playlists\") * K_PERCENT).ceil())\n",
        "      .alias(\"top_k\")\n",
        "])\n",
        "\n",
        "# Label playlists: 1 if rank < top_k, else 0\n",
        "df = df.with_columns([\n",
        "    (pl.col(\"rank\") < pl.col(\"top_k\")).cast(pl.Int8).alias(\"label\")\n",
        "])\n",
        "\n",
        "# Select final columns\n",
        "df_labeled = df.select([\"user_idx\", \"playlist_idx\", \"score\", \"label\"])\n",
        "\n",
        "print(f\"✅ Labeled slice shape: {df_labeled.shape}\")\n",
        "\n",
        "# === Statistics ===\n",
        "num_users = df_labeled[\"user_idx\"].n_unique()\n",
        "num_positives = df_labeled.filter(pl.col(\"label\") == 1).shape[0]\n",
        "num_negatives = df_labeled.filter(pl.col(\"label\") == 0).shape[0]\n",
        "total_rows = df_labeled.shape[0]\n",
        "\n",
        "print(\"\\n📊 Statistics for Slice:\")\n",
        "print(f\"Total users: {num_users}\")\n",
        "print(f\"Total rows: {total_rows}\")\n",
        "print(f\"Positive (liked) playlists: {num_positives} ({num_positives / total_rows:.2%})\")\n",
        "print(f\"Negative (non-liked) playlists: {num_negatives} ({num_negatives / total_rows:.2%})\")\n",
        "\n",
        "# Average liked playlists per user\n",
        "liked_per_user = df_labeled.filter(pl.col(\"label\") == 1).group_by(\"user_idx\").len()\n",
        "avg_likes_per_user = liked_per_user[\"len\"].mean()\n",
        "median_likes_per_user = liked_per_user[\"len\"].median()\n",
        "min_likes_per_user = liked_per_user[\"len\"].min()\n",
        "max_likes_per_user = liked_per_user[\"len\"].max()\n",
        "print(f\"Average playlists liked per user: {avg_likes_per_user:.2f}\")\n",
        "print(f\"Median playlists liked per user: {median_likes_per_user:.2f}\")\n",
        "print(f\"Min playlists liked per user: {min_likes_per_user:.2f}\")\n",
        "print(f\"Max playlists liked per user: {max_likes_per_user:.2f}\")\n",
        "\n",
        "# === Plot distribution: number of playlists each user liked\n",
        "plt.figure(figsize=(8, 5))\n",
        "plt.hist(liked_per_user[\"len\"].to_numpy(), bins=50, edgecolor='black')\n",
        "plt.xlabel(\"Number of Playlists Liked per User\")\n",
        "plt.ylabel(\"Number of Users\")\n",
        "plt.title(\"Distribution of Liked Playlists per User\")\n",
        "plt.grid(True)\n",
        "plt.show()\n",
        "\n",
        "# === Save labeled slice\n",
        "output_path = os.path.join(output_dir, f\"labeled_{file_name}\")\n",
        "df_labeled.write_parquet(output_path)\n",
        "\n",
        "print(f\"\\n✅ Labeled slice saved to: {output_path}\")\n"
      ],
      "metadata": {
        "colab": {
          "base_uri": "https://localhost:8080/",
          "height": 740
        },
        "id": "atkitlMLgO0n",
        "outputId": "426c489b-ee6a-4a2b-833a-6cb634dea465"
      },
      "execution_count": 1,
      "outputs": [
        {
          "output_type": "stream",
          "name": "stdout",
          "text": [
            "✅ Loaded scored_overlap_0_10000.parquet: 223192860 rows, 4 columns\n",
            "✅ Labeled slice shape: (223192860, 4)\n",
            "\n",
            "📊 Statistics for Slice:\n",
            "Total users: 9984\n",
            "Total rows: 223192860\n",
            "Positive (liked) playlists: 6700735 (3.00%)\n",
            "Negative (non-liked) playlists: 216492125 (97.00%)\n",
            "Average playlists liked per user: 671.15\n",
            "Median playlists liked per user: 397.00\n",
            "Min playlists liked per user: 1.00\n",
            "Max playlists liked per user: 8677.00\n"
          ]
        },
        {
          "output_type": "display_data",
          "data": {
            "text/plain": [
              "<Figure size 800x500 with 1 Axes>"
            ],
            "image/png": "[encoded data removed]"
          },
          "metadata": {}
        },
        {
          "output_type": "stream",
          "name": "stdout",
          "text": [
            "\n",
            "✅ Labeled slice saved to: /content/drive/My Drive/datasets/userplaylist_labeled_slices/labeled_scored_overlap_0_10000.parquet\n"
          ]
        }
      ]
    },
    {
      "cell_type": "code",
      "source": [
        "# Code for processing all slices\n",
        "\n",
        "import polars as pl\n",
        "import os\n",
        "from tqdm import tqdm\n",
        "\n",
        "# === Configuration ===\n",
        "K_PERCENT = 0.03  # Top K% playlists considered \"liked\"\n",
        "BATCH_SIZE = 3    # Number of slices to load into memory at once (depends on RAM)\n",
        "\n",
        "# === Paths ===\n",
        "input_dir = \"/content/drive/My Drive/datasets/userplaylist_score_slices\"\n",
        "output_dir = \"/content/drive/My Drive/datasets/userplaylist_labeled_slices\"\n",
        "os.makedirs(output_dir, exist_ok=True)\n",
        "\n",
        "# === Find already processed files\n",
        "input_files = sorted(f for f in os.listdir(input_dir) if f.endswith(\".parquet\"))\n",
        "output_files = sorted(f for f in os.listdir(output_dir) if f.endswith(\".parquet\"))\n",
        "\n",
        "processed_files = set(f.replace(\"labeled_\", \"\").replace(\"scored_\", \"\") for f in output_files)\n",
        "remaining_files = [f for f in input_files if f.replace(\"scored_\", \"\") not in processed_files]\n",
        "\n",
        "if processed_files:\n",
        "    print(f\"🔁 Resuming: {len(processed_files)} files already completed, {len(remaining_files)} remaining.\")\n",
        "else:\n",
        "    print(f\"🚀 Starting fresh: {len(remaining_files)} files to process.\")\n",
        "\n",
        "# === Batch processing\n",
        "for i in tqdm(range(0, len(remaining_files), BATCH_SIZE), desc=\"🧮 Processing batches\"):\n",
        "    batch_files = remaining_files[i:i+BATCH_SIZE]\n",
        "\n",
        "    # Load all slices in batch\n",
        "    batch_dfs = []\n",
        "    for file_name in batch_files:\n",
        "        path = os.path.join(input_dir, file_name)\n",
        "        df = pl.read_parquet(path)\n",
        "        df = df.sort([\"user_idx\", \"score\"], descending=[False, True])\n",
        "\n",
        "        # Group by user_idx and assign rank\n",
        "        df = df.group_by(\"user_idx\", maintain_order=True).agg([\n",
        "            pl.col(\"playlist_idx\"),\n",
        "            pl.col(\"score\"),\n",
        "            pl.arange(0, pl.len()).alias(\"rank\")\n",
        "        ]).explode([\"playlist_idx\", \"score\", \"rank\"])\n",
        "\n",
        "        # Count playlists per user\n",
        "        user_counts = df.group_by(\"user_idx\").agg([\n",
        "            pl.len().alias(\"total_playlists\")\n",
        "        ])\n",
        "\n",
        "        # Join total playlists\n",
        "        df = df.join(user_counts, on=\"user_idx\", how=\"left\")\n",
        "\n",
        "        # Compute top_k\n",
        "        df = df.with_columns([\n",
        "            pl.when((pl.col(\"total_playlists\") * K_PERCENT).ceil() < 1)\n",
        "              .then(1)\n",
        "              .otherwise((pl.col(\"total_playlists\") * K_PERCENT).ceil())\n",
        "              .alias(\"top_k\")\n",
        "        ])\n",
        "\n",
        "        # Label playlists\n",
        "        df = df.with_columns([\n",
        "            (pl.col(\"rank\") < pl.col(\"top_k\")).cast(pl.Int8).alias(\"label\")\n",
        "        ])\n",
        "\n",
        "        # Final selection\n",
        "        df_labeled = df.select([\"user_idx\", \"playlist_idx\", \"score\", \"label\"])\n",
        "\n",
        "        batch_dfs.append((file_name, df_labeled))\n",
        "\n",
        "    # Save all labeled slices from batch\n",
        "    for file_name, df_labeled in batch_dfs:\n",
        "        output_file_name = \"labeled_\" + file_name\n",
        "        output_path = os.path.join(output_dir, output_file_name)\n",
        "        df_labeled.write_parquet(output_path)\n",
        "\n",
        "    print(f\"✅ Batch {i//BATCH_SIZE + 1}: Saved {len(batch_files)} labeled slices.\")\n",
        "\n",
        "print(\"\\n✅✅ All slices processed and labeled saved to:\", output_dir)"
      ],
      "metadata": {
        "colab": {
          "base_uri": "https://localhost:8080/"
        },
        "id": "PGFc1F6PlLiw",
        "outputId": "a5135b24-d354-40ad-f784-76f78bba48aa"
      },
      "execution_count": 1,
      "outputs": [
        {
          "output_type": "stream",
          "name": "stdout",
          "text": [
            "🚀 Starting fresh: 102 files to process.\n"
          ]
        },
        {
          "output_type": "stream",
          "name": "stderr",
          "text": [
            "🧮 Processing batches:   3%|▎         | 1/34 [03:36<1:58:52, 216.12s/it]"
          ]
        },
        {
          "output_type": "stream",
          "name": "stdout",
          "text": [
            "✅ Batch 1: Saved 3 labeled slices.\n"
          ]
        },
        {
          "output_type": "stream",
          "name": "stderr",
          "text": [
            "\r🧮 Processing batches:   6%|▌         | 2/34 [06:26<1:40:52, 189.15s/it]"
          ]
        },
        {
          "output_type": "stream",
          "name": "stdout",
          "text": [
            "✅ Batch 2: Saved 3 labeled slices.\n"
          ]
        },
        {
          "output_type": "stream",
          "name": "stderr",
          "text": [
            "\r🧮 Processing batches:   9%|▉         | 3/34 [09:14<1:32:49, 179.65s/it]"
          ]
        },
        {
          "output_type": "stream",
          "name": "stdout",
          "text": [
            "✅ Batch 3: Saved 3 labeled slices.\n"
          ]
        },
        {
          "output_type": "stream",
          "name": "stderr",
          "text": [
            "\r🧮 Processing batches:  12%|█▏        | 4/34 [12:29<1:32:52, 185.75s/it]"
          ]
        },
        {
          "output_type": "stream",
          "name": "stdout",
          "text": [
            "✅ Batch 4: Saved 3 labeled slices.\n"
          ]
        },
        {
          "output_type": "stream",
          "name": "stderr",
          "text": [
            "\r🧮 Processing batches:  15%|█▍        | 5/34 [15:30<1:28:55, 183.98s/it]"
          ]
        },
        {
          "output_type": "stream",
          "name": "stdout",
          "text": [
            "✅ Batch 5: Saved 3 labeled slices.\n"
          ]
        },
        {
          "output_type": "stream",
          "name": "stderr",
          "text": [
            "\r🧮 Processing batches:  18%|█▊        | 6/34 [18:33<1:25:41, 183.63s/it]"
          ]
        },
        {
          "output_type": "stream",
          "name": "stdout",
          "text": [
            "✅ Batch 6: Saved 3 labeled slices.\n"
          ]
        },
        {
          "output_type": "stream",
          "name": "stderr",
          "text": [
            "\r🧮 Processing batches:  21%|██        | 7/34 [21:26<1:21:02, 180.10s/it]"
          ]
        },
        {
          "output_type": "stream",
          "name": "stdout",
          "text": [
            "✅ Batch 7: Saved 3 labeled slices.\n"
          ]
        },
        {
          "output_type": "stream",
          "name": "stderr",
          "text": [
            "\r🧮 Processing batches:  24%|██▎       | 8/34 [24:53<1:21:46, 188.71s/it]"
          ]
        },
        {
          "output_type": "stream",
          "name": "stdout",
          "text": [
            "✅ Batch 8: Saved 3 labeled slices.\n"
          ]
        },
        {
          "output_type": "stream",
          "name": "stderr",
          "text": [
            "\r🧮 Processing batches:  26%|██▋       | 9/34 [28:16<1:20:28, 193.13s/it]"
          ]
        },
        {
          "output_type": "stream",
          "name": "stdout",
          "text": [
            "✅ Batch 9: Saved 3 labeled slices.\n"
          ]
        },
        {
          "output_type": "stream",
          "name": "stderr",
          "text": [
            "\r🧮 Processing batches:  29%|██▉       | 10/34 [31:19<1:15:56, 189.87s/it]"
          ]
        },
        {
          "output_type": "stream",
          "name": "stdout",
          "text": [
            "✅ Batch 10: Saved 3 labeled slices.\n"
          ]
        },
        {
          "output_type": "stream",
          "name": "stderr",
          "text": [
            "\r🧮 Processing batches:  32%|███▏      | 11/34 [34:50<1:15:17, 196.40s/it]"
          ]
        },
        {
          "output_type": "stream",
          "name": "stdout",
          "text": [
            "✅ Batch 11: Saved 3 labeled slices.\n"
          ]
        },
        {
          "output_type": "stream",
          "name": "stderr",
          "text": [
            "\r🧮 Processing batches:  35%|███▌      | 12/34 [37:48<1:10:00, 190.95s/it]"
          ]
        },
        {
          "output_type": "stream",
          "name": "stdout",
          "text": [
            "✅ Batch 12: Saved 3 labeled slices.\n"
          ]
        },
        {
          "output_type": "stream",
          "name": "stderr",
          "text": [
            "\r🧮 Processing batches:  38%|███▊      | 13/34 [40:43<1:05:09, 186.18s/it]"
          ]
        },
        {
          "output_type": "stream",
          "name": "stdout",
          "text": [
            "✅ Batch 13: Saved 3 labeled slices.\n"
          ]
        },
        {
          "output_type": "stream",
          "name": "stderr",
          "text": [
            "\r🧮 Processing batches:  41%|████      | 14/34 [43:56<1:02:40, 188.03s/it]"
          ]
        },
        {
          "output_type": "stream",
          "name": "stdout",
          "text": [
            "✅ Batch 14: Saved 3 labeled slices.\n"
          ]
        },
        {
          "output_type": "stream",
          "name": "stderr",
          "text": [
            "\r🧮 Processing batches:  44%|████▍     | 15/34 [46:57<58:51, 185.87s/it]  "
          ]
        },
        {
          "output_type": "stream",
          "name": "stdout",
          "text": [
            "✅ Batch 15: Saved 3 labeled slices.\n"
          ]
        },
        {
          "output_type": "stream",
          "name": "stderr",
          "text": [
            "\r🧮 Processing batches:  47%|████▋     | 16/34 [49:55<55:06, 183.71s/it]"
          ]
        },
        {
          "output_type": "stream",
          "name": "stdout",
          "text": [
            "✅ Batch 16: Saved 3 labeled slices.\n"
          ]
        },
        {
          "output_type": "stream",
          "name": "stderr",
          "text": [
            "\r🧮 Processing batches:  50%|█████     | 17/34 [52:58<51:58, 183.42s/it]"
          ]
        },
        {
          "output_type": "stream",
          "name": "stdout",
          "text": [
            "✅ Batch 17: Saved 3 labeled slices.\n"
          ]
        },
        {
          "output_type": "stream",
          "name": "stderr",
          "text": [
            "\r🧮 Processing batches:  53%|█████▎    | 18/34 [56:22<50:33, 189.60s/it]"
          ]
        },
        {
          "output_type": "stream",
          "name": "stdout",
          "text": [
            "✅ Batch 18: Saved 3 labeled slices.\n"
          ]
        },
        {
          "output_type": "stream",
          "name": "stderr",
          "text": [
            "\r🧮 Processing batches:  56%|█████▌    | 19/34 [59:21<46:34, 186.29s/it]"
          ]
        },
        {
          "output_type": "stream",
          "name": "stdout",
          "text": [
            "✅ Batch 19: Saved 3 labeled slices.\n"
          ]
        },
        {
          "output_type": "stream",
          "name": "stderr",
          "text": [
            "\r🧮 Processing batches:  59%|█████▉    | 20/34 [1:02:38<44:13, 189.57s/it]"
          ]
        },
        {
          "output_type": "stream",
          "name": "stdout",
          "text": [
            "✅ Batch 20: Saved 3 labeled slices.\n"
          ]
        },
        {
          "output_type": "stream",
          "name": "stderr",
          "text": [
            "\r🧮 Processing batches:  62%|██████▏   | 21/34 [1:06:17<42:59, 198.46s/it]"
          ]
        },
        {
          "output_type": "stream",
          "name": "stdout",
          "text": [
            "✅ Batch 21: Saved 3 labeled slices.\n"
          ]
        },
        {
          "output_type": "stream",
          "name": "stderr",
          "text": [
            "\r🧮 Processing batches:  65%|██████▍   | 22/34 [1:09:15<38:28, 192.37s/it]"
          ]
        },
        {
          "output_type": "stream",
          "name": "stdout",
          "text": [
            "✅ Batch 22: Saved 3 labeled slices.\n"
          ]
        },
        {
          "output_type": "stream",
          "name": "stderr",
          "text": [
            "\r🧮 Processing batches:  68%|██████▊   | 23/34 [1:12:19<34:48, 189.85s/it]"
          ]
        },
        {
          "output_type": "stream",
          "name": "stdout",
          "text": [
            "✅ Batch 23: Saved 3 labeled slices.\n"
          ]
        },
        {
          "output_type": "stream",
          "name": "stderr",
          "text": [
            "\r🧮 Processing batches:  71%|███████   | 24/34 [1:15:37<32:02, 192.24s/it]"
          ]
        },
        {
          "output_type": "stream",
          "name": "stdout",
          "text": [
            "✅ Batch 24: Saved 3 labeled slices.\n"
          ]
        },
        {
          "output_type": "stream",
          "name": "stderr",
          "text": [
            "\r🧮 Processing batches:  74%|███████▎  | 25/34 [1:18:54<29:02, 193.60s/it]"
          ]
        },
        {
          "output_type": "stream",
          "name": "stdout",
          "text": [
            "✅ Batch 25: Saved 3 labeled slices.\n"
          ]
        },
        {
          "output_type": "stream",
          "name": "stderr",
          "text": [
            "\r🧮 Processing batches:  76%|███████▋  | 26/34 [1:22:18<26:14, 196.80s/it]"
          ]
        },
        {
          "output_type": "stream",
          "name": "stdout",
          "text": [
            "✅ Batch 26: Saved 3 labeled slices.\n"
          ]
        },
        {
          "output_type": "stream",
          "name": "stderr",
          "text": [
            "\r🧮 Processing batches:  79%|███████▉  | 27/34 [1:25:23<22:33, 193.37s/it]"
          ]
        },
        {
          "output_type": "stream",
          "name": "stdout",
          "text": [
            "✅ Batch 27: Saved 3 labeled slices.\n"
          ]
        },
        {
          "output_type": "stream",
          "name": "stderr",
          "text": [
            "\r🧮 Processing batches:  82%|████████▏ | 28/34 [1:28:52<19:47, 197.95s/it]"
          ]
        },
        {
          "output_type": "stream",
          "name": "stdout",
          "text": [
            "✅ Batch 28: Saved 3 labeled slices.\n"
          ]
        },
        {
          "output_type": "stream",
          "name": "stderr",
          "text": [
            "\r🧮 Processing batches:  85%|████████▌ | 29/34 [1:31:45<15:52, 190.49s/it]"
          ]
        },
        {
          "output_type": "stream",
          "name": "stdout",
          "text": [
            "✅ Batch 29: Saved 3 labeled slices.\n"
          ]
        },
        {
          "output_type": "stream",
          "name": "stderr",
          "text": [
            "\r🧮 Processing batches:  88%|████████▊ | 30/34 [1:34:48<12:32, 188.16s/it]"
          ]
        },
        {
          "output_type": "stream",
          "name": "stdout",
          "text": [
            "✅ Batch 30: Saved 3 labeled slices.\n"
          ]
        },
        {
          "output_type": "stream",
          "name": "stderr",
          "text": [
            "\r🧮 Processing batches:  91%|█████████ | 31/34 [1:38:20<09:46, 195.50s/it]"
          ]
        },
        {
          "output_type": "stream",
          "name": "stdout",
          "text": [
            "✅ Batch 31: Saved 3 labeled slices.\n"
          ]
        },
        {
          "output_type": "stream",
          "name": "stderr",
          "text": [
            "\r🧮 Processing batches:  94%|█████████▍| 32/34 [1:41:24<06:23, 191.97s/it]"
          ]
        },
        {
          "output_type": "stream",
          "name": "stdout",
          "text": [
            "✅ Batch 32: Saved 3 labeled slices.\n"
          ]
        },
        {
          "output_type": "stream",
          "name": "stderr",
          "text": [
            "\r🧮 Processing batches:  97%|█████████▋| 33/34 [1:44:50<03:15, 196.00s/it]"
          ]
        },
        {
          "output_type": "stream",
          "name": "stdout",
          "text": [
            "✅ Batch 33: Saved 3 labeled slices.\n"
          ]
        },
        {
          "output_type": "stream",
          "name": "stderr",
          "text": [
            "🧮 Processing batches: 100%|██████████| 34/34 [1:48:06<00:00, 190.78s/it]"
          ]
        },
        {
          "output_type": "stream",
          "name": "stdout",
          "text": [
            "✅ Batch 34: Saved 3 labeled slices.\n",
            "\n",
            "✅✅ All slices processed and labeled saved to: /content/drive/My Drive/datasets/userplaylist_labeled_slices\n"
          ]
        },
        {
          "output_type": "stream",
          "name": "stderr",
          "text": [
            "\n"
          ]
        }
      ]
    },
    {
      "cell_type": "markdown",
      "source": [
        "### Part 7: create final datasets for Training stage"
      ],
      "metadata": {
        "id": "UG6tbp7jqErB"
      }
    },
    {
      "cell_type": "code",
      "source": [
        "# Finally we produce our final datasets with triplets: user_id, liked_playlist_id, notLiked_playlist_id\n",
        "# We have three sampling strategies: Easy, Semi-Hard, and Hard\n",
        "# The difficulty is defined by why notLiked_playlists will be chosen to accompany the liked playlists\n",
        "  # Easy: takes randomly not liked playlists (negative samples), irrespective of their score\n",
        "  # Semi-hard: negatives are 50% sampled from top 20% highest-scored negatives, 50% randomly from full negatives\n",
        "  # Hard: all negatives are sampled from top 20% highest-scored negatives.\n",
        "# For all configs we additionally generate a toy dataset that samples 10% of users for testing the model quickly before full training rounds.\n",
        "\n",
        "\n",
        "import polars as pl\n",
        "import os\n",
        "import random\n",
        "from tqdm import tqdm\n",
        "\n",
        "# === Configuration ===\n",
        "SAMPLING_STRATEGY = 1  # 1 = Easy, 2 = Semi-Hard, 3 = Hard\n",
        "NEGATIVES_PER_POSITIVE = 5\n",
        "BATCH_SIZE = 3  # Process this many slices at a time\n",
        "TOP_HARD_NEGATIVE_PERCENT = 0.2  # Top % scored negatives considered hard\n",
        "\n",
        "# === Toy Dataset Config ===\n",
        "BUILD_TOY_DATASET = True\n",
        "TOY_USER_SAMPLE_RATIO = 0.10  # 10% of users\n",
        "TOY_MAX_TRIPLETS = 10_000_000  # Optionally cap toy dataset to ~10M triplets per slice\n",
        "\n",
        "# === Paths ===\n",
        "input_dir = \"/content/drive/My Drive/datasets/userplaylist_labeled_slices\"\n",
        "output_dir_base = \"/content/drive/My Drive/datasets/userplaylist_triplet_datasets\"\n",
        "\n",
        "# Map sampling strategy to folder name\n",
        "strategy_folder = {1: \"easy\", 2: \"semi_hard\", 3: \"hard\"}[SAMPLING_STRATEGY]\n",
        "full_output_dir = os.path.join(output_dir_base, strategy_folder)\n",
        "toy_output_dir = os.path.join(output_dir_base, strategy_folder + \"_toy\")\n",
        "\n",
        "os.makedirs(full_output_dir, exist_ok=True)\n",
        "if BUILD_TOY_DATASET:\n",
        "    os.makedirs(toy_output_dir, exist_ok=True)\n",
        "\n",
        "# === Find already processed slices\n",
        "input_files = sorted(f for f in os.listdir(input_dir) if f.endswith(\".parquet\"))\n",
        "output_files = sorted(f for f in os.listdir(full_output_dir) if f.endswith(\".parquet\"))\n",
        "\n",
        "processed_files = set(f.replace(\"triplets_\", \"\") for f in output_files)\n",
        "remaining_files = [f for f in input_files if f.replace(\"labeled_\", \"\") not in processed_files]\n",
        "\n",
        "if processed_files:\n",
        "    print(f\"🔁 Resuming: {len(processed_files)} files already completed, {len(remaining_files)} remaining.\")\n",
        "else:\n",
        "    print(f\"🚀 Starting fresh: {len(remaining_files)} files to process.\")\n",
        "\n",
        "# === Sample users for toy dataset\n",
        "all_users = set()\n",
        "for f in input_files:\n",
        "    df_users = pl.read_parquet(os.path.join(input_dir, f)).select(\"user_idx\").unique()\n",
        "    all_users.update(df_users[\"user_idx\"].to_numpy())\n",
        "sampled_toy_users = set(random.sample(list(all_users), int(len(all_users) * TOY_USER_SAMPLE_RATIO)))\n",
        "\n",
        "print(f\"🎯 Sampled {len(sampled_toy_users)} users for toy dataset.\")\n",
        "\n",
        "# === Batch Processing\n",
        "for i in tqdm(range(0, len(remaining_files), BATCH_SIZE), desc=\"🧮 Processing batches\"):\n",
        "    batch_files = remaining_files[i:i+BATCH_SIZE]\n",
        "\n",
        "    for file_name in batch_files:\n",
        "        input_path = os.path.join(input_dir, file_name)\n",
        "        df = pl.read_parquet(input_path)\n",
        "\n",
        "        triplets = []\n",
        "        toy_triplets = []\n",
        "\n",
        "        # Group by user\n",
        "        grouped = df.group_by(\"user_idx\")\n",
        "\n",
        "        for user in grouped.groups():\n",
        "            user_id = user[0]\n",
        "            user_df = df.filter(pl.col(\"user_idx\") == user_id)\n",
        "\n",
        "            positives = user_df.filter(pl.col(\"label\") == 1)[\"playlist_idx\"].to_numpy()\n",
        "            negatives = user_df.filter(pl.col(\"label\") == 0).sort(\"score\", descending=True)\n",
        "\n",
        "            if negatives.shape[0] == 0 or positives.shape[0] == 0:\n",
        "                continue  # Skip users with no positives or no negatives\n",
        "\n",
        "            negatives_all = negatives[\"playlist_idx\"].to_numpy()\n",
        "            hard_cutoff = int(len(negatives_all) * TOP_HARD_NEGATIVE_PERCENT)\n",
        "            top_negatives = negatives_all[:hard_cutoff] if hard_cutoff > 0 else negatives_all\n",
        "\n",
        "            for pos_playlist in positives:\n",
        "                if SAMPLING_STRATEGY == 1:\n",
        "                    # Easy negatives: random sampling\n",
        "                    sampled_negs = random.sample(list(negatives_all), min(NEGATIVES_PER_POSITIVE, len(negatives_all)))\n",
        "                elif SAMPLING_STRATEGY == 2:\n",
        "                    # Semi-hard negatives: 50% hard + 50% random\n",
        "                    num_hard = NEGATIVES_PER_POSITIVE // 2\n",
        "                    num_easy = NEGATIVES_PER_POSITIVE - num_hard\n",
        "                    sampled_hard = random.sample(list(top_negatives), min(num_hard, len(top_negatives)))\n",
        "                    sampled_easy = random.sample(list(negatives_all), min(num_easy, len(negatives_all)))\n",
        "                    sampled_negs = sampled_hard + sampled_easy\n",
        "                elif SAMPLING_STRATEGY == 3:\n",
        "                    # Hard negatives only\n",
        "                    sampled_negs = random.sample(list(top_negatives), min(NEGATIVES_PER_POSITIVE, len(top_negatives)))\n",
        "\n",
        "                for neg_playlist in sampled_negs:\n",
        "                    triplets.append((user_id, pos_playlist, neg_playlist))\n",
        "\n",
        "                    if BUILD_TOY_DATASET and user_id in sampled_toy_users:\n",
        "                        toy_triplets.append((user_id, pos_playlist, neg_playlist))\n",
        "\n",
        "        # === Save full dataset triplets\n",
        "        triplets_df = pl.DataFrame(triplets, schema=[\"user_idx\", \"positive_playlist_idx\", \"negative_playlist_idx\"])\n",
        "        output_path = os.path.join(full_output_dir, \"triplets_\" + file_name.replace(\"labeled_\", \"\"))\n",
        "        triplets_df.write_parquet(output_path)\n",
        "\n",
        "        # === Save toy dataset triplets (optional)\n",
        "        if BUILD_TOY_DATASET and len(toy_triplets) > 0:\n",
        "            toy_triplets_df = pl.DataFrame(toy_triplets, schema=[\"user_idx\", \"positive_playlist_idx\", \"negative_playlist_idx\"])\n",
        "            toy_output_path = os.path.join(toy_output_dir, \"triplets_\" + file_name.replace(\"labeled_\", \"\"))\n",
        "\n",
        "            if TOY_MAX_TRIPLETS and toy_triplets_df.shape[0] > TOY_MAX_TRIPLETS:\n",
        "                toy_triplets_df = toy_triplets_df.sample(n=TOY_MAX_TRIPLETS)\n",
        "\n",
        "            toy_triplets_df.write_parquet(toy_output_path)\n",
        "\n",
        "    print(f\"✅ Batch {i//BATCH_SIZE + 1}: Saved {len(batch_files)} slices.\")\n",
        "\n",
        "print(\"\\n✅✅ All triplet datasets saved to:\", output_dir_base)\n"
      ],
      "metadata": {
        "id": "rRTT7KoXovho"
      },
      "execution_count": null,
      "outputs": []
    }
  ],
  "metadata": {
    "colab": {
      "provenance": [],
      "machine_shape": "hm"
    },
    "kernelspec": {
      "display_name": "Python 3",
      "name": "python3"
    },
    "language_info": {
      "name": "python"
    }
  },
  "nbformat": 4,
  "nbformat_minor": 0
}