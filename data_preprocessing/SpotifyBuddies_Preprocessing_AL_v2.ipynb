{
  "cells": [
    {
      "cell_type": "markdown",
      "metadata": {
        "id": "_Bil9vQEeoaw"
      },
      "source": [
        "# Data Pre-Processing for Spotify Buddies\n",
        "\n",
        "This notebook has most of the data preparation process for initiating our work on Spotify Buddies data. This is how the data would be originated in the business. This notebook also has steps for preparing the data for training, including splits between train, validation, and test data."
      ]
    },
    {
      "cell_type": "code",
      "source": [],
      "metadata": {
        "id": "CmoYoJ7tlHeK"
      },
      "execution_count": null,
      "outputs": []
    },
    {
      "cell_type": "markdown",
      "source": [
        "## Part 1: raw data and initial processing"
      ],
      "metadata": {
        "id": "zEY90khrv73H"
      }
    },
    {
      "cell_type": "code",
      "source": [
        "# ENTP Raw data converted to df\n",
        "df = pl.read_parquet(\"/content/drive/MyDrive/datasets/entp_data/user_entp_df_raw\")\n",
        "\n",
        "# We get the song data for ENTP from the Million Song Playlist: http://millionsongdataset.com/\n",
        "songs_df = pl.read_csv(\"/content/drive/MyDrive/datasets/entp_data/song_data.csv\")\n",
        "\n",
        "#We merge\n",
        "merged_df = df.join(songs_df, left_on=\"songs_id\", right_on=\"song_id\", how=\"left\")\n",
        "merged_df.write_parquet(\"/content/drive/MyDrive/datasets/entp_data/merged_df\")\n",
        "\n",
        "merged_df = pl.read_parquet(\"/content/drive/MyDrive/datasets/entp_data/merged_df\")"
      ],
      "metadata": {
        "id": "7mAS4rWPv69d"
      },
      "execution_count": null,
      "outputs": []
    },
    {
      "cell_type": "code",
      "source": [
        "# Group By\n",
        "# User Id => Get the Songs List\n",
        "users = merged_df['user_id'].unique()\n",
        "# import time"
      ],
      "metadata": {
        "id": "19-Bp_LqwIO1"
      },
      "execution_count": null,
      "outputs": []
    },
    {
      "cell_type": "code",
      "source": [
        "# Create Augmented Songs Id by concatenating title and artist name\n",
        "merged_df = merged_df.with_columns(\n",
        "    pl.concat_str(\n",
        "        [\n",
        "            pl.col(\"title\"),\n",
        "            pl.col(\"artist_name\"),\n",
        "        ],\n",
        "        separator=\"\",\n",
        "    ).alias(\"aug_song_id\"),\n",
        ")"
      ],
      "metadata": {
        "id": "ZSH8ACeUwRmY"
      },
      "execution_count": null,
      "outputs": []
    },
    {
      "cell_type": "code",
      "source": [
        "curr_user = users[0]\n",
        "tmp_df = merged_df.filter(pl.col(\"user_id\") == curr_user)\n",
        "# merged_df.head()\n",
        "q = (\n",
        "    tmp_df.lazy()\n",
        "    .group_by(\"user_id\")\n",
        "    .agg(\n",
        "        pl.col(\"aug_song_id\"),\n",
        "    )\n",
        ")\n",
        "\n",
        "test = q.collect()"
      ],
      "metadata": {
        "id": "tGHr1C28wZcU"
      },
      "execution_count": null,
      "outputs": []
    },
    {
      "cell_type": "markdown",
      "source": [
        "### MPD Data:\n",
        "For the MPD data, we just download the slices (there are about 100 slices), and we put them in a directory:\n",
        "\n",
        "MPD_FOLDER = \"/content/drive/My Drive/datasets/mpd_data\""
      ],
      "metadata": {
        "id": "bx6BCkEvgi8b"
      }
    },
    {
      "cell_type": "markdown",
      "source": [
        "#------------------------------------------------------------------------------------------------------------------------------"
      ],
      "metadata": {
        "id": "DAcuq_d0k9TA"
      }
    },
    {
      "cell_type": "markdown",
      "metadata": {
        "id": "5Amgmom2e8N0"
      },
      "source": [
        "# Part 2) Processing MPD and ENTP separetely and create unique song_ids between the two datasets"
      ]
    },
    {
      "cell_type": "code",
      "execution_count": null,
      "metadata": {
        "id": "RLeuWAQwbpqw"
      },
      "outputs": [],
      "source": [
        "import json\n",
        "from pathlib import Path\n",
        "\n",
        "import polars as pl\n",
        "import matplotlib.pyplot as plt\n",
        "import pandas as pd\n",
        "import pickle\n",
        "from scipy.sparse import csr_matrix, issparse, vstack\n",
        "import numpy as np"
      ]
    },
    {
      "cell_type": "code",
      "execution_count": null,
      "metadata": {
        "id": "AoRCGFbohSX1"
      },
      "outputs": [],
      "source": [
        "MPD_FOLDER = \"/content/drive/My Drive/datasets/mpd_data\""
      ]
    },
    {
      "cell_type": "markdown",
      "metadata": {
        "id": "V8NNFe43hRXw"
      },
      "source": []
    },
    {
      "cell_type": "code",
      "execution_count": null,
      "metadata": {
        "colab": {
          "base_uri": "https://localhost:8080/",
          "height": 500
        },
        "id": "5CO34ojEDMMZ",
        "outputId": "96cf5198-6b3b-40eb-bc2d-8300ad7cea90"
      },
      "outputs": [
        {
          "data": {
            "text/html": [
              "<div><style>\n",
              ".dataframe > thead > tr,\n",
              ".dataframe > tbody > tr {\n",
              "  text-align: right;\n",
              "  white-space: pre-wrap;\n",
              "}\n",
              "</style>\n",
              "<small>shape: (5, 8)</small><table border=\"1\" class=\"dataframe\"><thead><tr><th>user_id</th><th>songs_id</th><th>songs_count</th><th>title</th><th>release</th><th>artist_name</th><th>year</th><th>aug_song_id</th></tr><tr><td>str</td><td>str</td><td>i64</td><td>str</td><td>str</td><td>str</td><td>i64</td><td>str</td></tr></thead><tbody><tr><td>&quot;b80344d063b5ccb3212f76538f3d9e…</td><td>&quot;SOAKIMP12A8C130995&quot;</td><td>1</td><td>&quot;The Cove&quot;</td><td>&quot;Thicker Than Water&quot;</td><td>&quot;Jack Johnson&quot;</td><td>0</td><td>&quot;The CoveJack Johnson&quot;</td></tr><tr><td>&quot;b80344d063b5ccb3212f76538f3d9e…</td><td>&quot;SOAPDEY12A81C210A9&quot;</td><td>1</td><td>&quot;Nothing from Nothing&quot;</td><td>&quot;To Die For&quot;</td><td>&quot;Billy Preston&quot;</td><td>1974</td><td>&quot;Nothing from NothingBilly Pres…</td></tr><tr><td>&quot;b80344d063b5ccb3212f76538f3d9e…</td><td>&quot;SOBBMDR12A8C13253B&quot;</td><td>2</td><td>&quot;Entre Dos Aguas&quot;</td><td>&quot;Flamenco Para Niños&quot;</td><td>&quot;Paco De Lucia&quot;</td><td>1976</td><td>&quot;Entre Dos AguasPaco De Lucia&quot;</td></tr><tr><td>&quot;b80344d063b5ccb3212f76538f3d9e…</td><td>&quot;SOBFNSP12AF72A0E22&quot;</td><td>1</td><td>&quot;Under Cold Blue Stars&quot;</td><td>&quot;Under Cold Blue Stars&quot;</td><td>&quot;Josh Rouse&quot;</td><td>2002</td><td>&quot;Under Cold Blue StarsJosh Rous…</td></tr><tr><td>&quot;b80344d063b5ccb3212f76538f3d9e…</td><td>&quot;SOBFOVM12A58A7D494&quot;</td><td>1</td><td>&quot;Riot Radio (Soundtrack Version…</td><td>&quot;Nick &amp; Norah&#x27;s Infinite Playli…</td><td>&quot;The Dead 60s&quot;</td><td>0</td><td>&quot;Riot Radio (Soundtrack Version…</td></tr></tbody></table></div>"
            ],
            "text/plain": [
              "shape: (5, 8)\n",
              "┌─────────────┬────────────┬────────────┬────────────┬────────────┬────────────┬──────┬────────────┐\n",
              "│ user_id     ┆ songs_id   ┆ songs_coun ┆ title      ┆ release    ┆ artist_nam ┆ year ┆ aug_song_i │\n",
              "│ ---         ┆ ---        ┆ t          ┆ ---        ┆ ---        ┆ e          ┆ ---  ┆ d          │\n",
              "│ str         ┆ str        ┆ ---        ┆ str        ┆ str        ┆ ---        ┆ i64  ┆ ---        │\n",
              "│             ┆            ┆ i64        ┆            ┆            ┆ str        ┆      ┆ str        │\n",
              "╞═════════════╪════════════╪════════════╪════════════╪════════════╪════════════╪══════╪════════════╡\n",
              "│ b80344d063b ┆ SOAKIMP12A ┆ 1          ┆ The Cove   ┆ Thicker    ┆ Jack       ┆ 0    ┆ The        │\n",
              "│ 5ccb3212f76 ┆ 8C130995   ┆            ┆            ┆ Than Water ┆ Johnson    ┆      ┆ CoveJack   │\n",
              "│ 538f3d9e…   ┆            ┆            ┆            ┆            ┆            ┆      ┆ Johnson    │\n",
              "│ b80344d063b ┆ SOAPDEY12A ┆ 1          ┆ Nothing    ┆ To Die For ┆ Billy      ┆ 1974 ┆ Nothing    │\n",
              "│ 5ccb3212f76 ┆ 81C210A9   ┆            ┆ from       ┆            ┆ Preston    ┆      ┆ from Nothi │\n",
              "│ 538f3d9e…   ┆            ┆            ┆ Nothing    ┆            ┆            ┆      ┆ ngBilly    │\n",
              "│             ┆            ┆            ┆            ┆            ┆            ┆      ┆ Pres…      │\n",
              "│ b80344d063b ┆ SOBBMDR12A ┆ 2          ┆ Entre Dos  ┆ Flamenco   ┆ Paco De    ┆ 1976 ┆ Entre Dos  │\n",
              "│ 5ccb3212f76 ┆ 8C13253B   ┆            ┆ Aguas      ┆ Para Niños ┆ Lucia      ┆      ┆ AguasPaco  │\n",
              "│ 538f3d9e…   ┆            ┆            ┆            ┆            ┆            ┆      ┆ De Lucia   │\n",
              "│ b80344d063b ┆ SOBFNSP12A ┆ 1          ┆ Under Cold ┆ Under Cold ┆ Josh Rouse ┆ 2002 ┆ Under Cold │\n",
              "│ 5ccb3212f76 ┆ F72A0E22   ┆            ┆ Blue Stars ┆ Blue Stars ┆            ┆      ┆ Blue       │\n",
              "│ 538f3d9e…   ┆            ┆            ┆            ┆            ┆            ┆      ┆ StarsJosh  │\n",
              "│             ┆            ┆            ┆            ┆            ┆            ┆      ┆ Rous…      │\n",
              "│ b80344d063b ┆ SOBFOVM12A ┆ 1          ┆ Riot Radio ┆ Nick &     ┆ The Dead   ┆ 0    ┆ Riot Radio │\n",
              "│ 5ccb3212f76 ┆ 58A7D494   ┆            ┆ (Soundtrac ┆ Norah's    ┆ 60s        ┆      ┆ (Soundtrac │\n",
              "│ 538f3d9e…   ┆            ┆            ┆ k Version… ┆ Infinite   ┆            ┆      ┆ k Version… │\n",
              "│             ┆            ┆            ┆            ┆ Playli…    ┆            ┆      ┆            │\n",
              "└─────────────┴────────────┴────────────┴────────────┴────────────┴────────────┴──────┴────────────┘"
            ]
          },
          "execution_count": 3,
          "metadata": {},
          "output_type": "execute_result"
        }
      ],
      "source": [
        "# Replace with the actual path to your parquet file\n",
        "parquet_path = '/content/drive/My Drive/datasets/entp_data/merged_df.parquet'\n",
        "df = pl.read_parquet(parquet_path)\n",
        "\n",
        "# Show first few rows\n",
        "df.head()"
      ]
    },
    {
      "cell_type": "code",
      "execution_count": null,
      "metadata": {
        "id": "exQsC7MCE5Jw"
      },
      "outputs": [],
      "source": [
        "import os\n",
        "import json\n",
        "import pandas as pd\n",
        "from tqdm import tqdm\n",
        "\n",
        "\n",
        "# Load ENTP songs from merged_df\n",
        "def extract_entp_songs(merged_df):\n",
        "    entp_keys = set()\n",
        "    for title, artist in zip(df['title'], df['artist_name']):\n",
        "        if pd.notnull(title) and pd.notnull(artist):\n",
        "            key = f\"{title.strip().lower()}@@{artist.strip().lower()}\"\n",
        "            entp_keys.add(key)\n",
        "    return entp_keys"
      ]
    },
    {
      "cell_type": "code",
      "execution_count": null,
      "metadata": {
        "id": "s79pi6xrFLpk"
      },
      "outputs": [],
      "source": [
        "# Load MPD songs from JSON files\n",
        "\n",
        "\n",
        "def extract_mpd_songs(mpd_folder):\n",
        "    mpd_keys = set()\n",
        "    files = [f for f in os.listdir(MPD_FOLDER) if f.endswith('.json')]\n",
        "\n",
        "    for file in tqdm(files, desc=\"Processing MPD slices\"):\n",
        "        with open(os.path.join(MPD_FOLDER, file), 'r', encoding='utf-8') as f:\n",
        "            try:\n",
        "              data = json.load(f)\n",
        "              for playlist in data['playlists']:\n",
        "                  for track in playlist['tracks']:\n",
        "                      title = track.get('track_name', '').strip().lower()\n",
        "                      artist = track.get('artist_name', '').strip().lower()\n",
        "                      if title and artist:\n",
        "                          key = f\"{title}@@{artist}\"\n",
        "                          mpd_keys.add(key)\n",
        "            except:\n",
        "              pass\n",
        "    return mpd_keys\n",
        "\n",
        "# Combine and assign unique song IDs\n",
        "def build_song_id_mapping(merged_df, MPD_FOLDER):\n",
        "    entp_keys = extract_entp_songs(merged_df)\n",
        "    mpd_keys = extract_mpd_songs(MPD_FOLDER)\n",
        "    all_song_keys = sorted(entp_keys | mpd_keys)\n",
        "\n",
        "    song_to_id = {song: idx for idx, song in enumerate(all_song_keys)}\n",
        "    return song_to_id"
      ]
    },
    {
      "cell_type": "code",
      "execution_count": null,
      "metadata": {
        "colab": {
          "base_uri": "https://localhost:8080/"
        },
        "id": "GVjTYmBgF7VO",
        "outputId": "8afac150-c2c1-4052-ca60-4425b25eb9e2"
      },
      "outputs": [
        {
          "name": "stderr",
          "output_type": "stream",
          "text": [
            "Processing MPD slices: 100%|██████████| 947/947 [17:56<00:00,  1.14s/it]\n"
          ]
        },
        {
          "name": "stdout",
          "output_type": "stream",
          "text": [
            "Total unique songs: 2397197\n"
          ]
        }
      ],
      "source": [
        "# Generate song-to-ID mapping\n",
        "song_to_id = build_song_id_mapping(df, \"mpd_slices/\")\n",
        "\n",
        "print(f\"Total unique songs: {len(song_to_id)}\")"
      ]
    },
    {
      "cell_type": "code",
      "execution_count": null,
      "metadata": {
        "id": "TpNxS36BOcAu"
      },
      "outputs": [],
      "source": [
        "import pickle\n",
        "\n",
        "# Save\n",
        "with open(\"/content/drive/MyDrive/datasets/song_to_id.pkl\", \"wb\") as f:\n",
        "    pickle.dump(song_to_id, f)\n",
        "\n",
        "# Load later\n",
        "with open(\"/content/drive/MyDrive/datasets/song_to_id.pkl\", \"rb\") as f:\n",
        "    song_to_id = pickle.load(f)\n"
      ]
    },
    {
      "cell_type": "code",
      "source": [
        "import pickle\n",
        "\n",
        "# Load known song mappings\n",
        "with open(\"/content/drive/My Drive/datasets/song_to_id.pkl\", \"rb\") as f:\n",
        "    song_to_id = pickle.load(f)\n",
        "\n",
        "# Reload merged_df with song columns\n",
        "merged_df = pd.read_parquet(\"/content/drive/My Drive/datasets/entp_data/merged_df.parquet\", columns=[\"user_id\", \"title\", \"artist_name\"])\n",
        "merged_df.dropna(subset=[\"user_id\", \"title\", \"artist_name\"], inplace=True)\n",
        "\n",
        "# Create song keys\n",
        "merged_df[\"title\"] = merged_df[\"title\"].str.strip().str.lower()\n",
        "merged_df[\"artist_name\"] = merged_df[\"artist_name\"].str.strip().str.lower()\n",
        "merged_df[\"song_key\"] = merged_df[\"title\"] + \"@@\" + merged_df[\"artist_name\"]\n",
        "\n",
        "# Filter to known songs\n",
        "filtered_df = merged_df[merged_df[\"song_key\"].isin(song_to_id)]\n",
        "print(f\"Users after filtering to known songs: {filtered_df['user_id'].nunique():,}\")"
      ],
      "metadata": {
        "colab": {
          "base_uri": "https://localhost:8080/"
        },
        "id": "CJ7sCNsLTwNN",
        "outputId": "c85144b7-f520-4e27-df3c-2087bdb92b77"
      },
      "execution_count": null,
      "outputs": [
        {
          "output_type": "stream",
          "name": "stdout",
          "text": [
            "✅ Users after filtering to known songs: 1,019,318\n"
          ]
        }
      ]
    },
    {
      "cell_type": "markdown",
      "source": [
        "### ---------------------------------------------------------------------------------------------\n",
        "### DIVISION\n",
        "### ---------------------------------------------------------------------------------------------"
      ],
      "metadata": {
        "id": "IqsZfKyDhhmL"
      }
    },
    {
      "cell_type": "markdown",
      "metadata": {
        "id": "6aD3sjeEfPot"
      },
      "source": [
        "# Part 3) Users and playlists sparse matrices and dot product.\n",
        "\n",
        "The goal of this part is to obtain the amount of matching songs between each user and each playlist. This is a 1M*1M grid, but each user and playlist have X and Y number of songs, so it's a very large operation. We use sparse matrices and slices to make it manageable and more efficient."
      ]
    },
    {
      "cell_type": "code",
      "execution_count": null,
      "metadata": {
        "id": "3oc73Ym3dNrN"
      },
      "outputs": [],
      "source": [
        "# STEP 2: Build User Sparse Matrix\n",
        "\n",
        "import pandas as pd\n",
        "import pickle\n",
        "import numpy as np\n",
        "from scipy.sparse import csr_matrix\n",
        "\n",
        "# === Load ENTP Parquet with only needed columns ===\n",
        "merged_df = pd.read_parquet(\n",
        "    \"/content/drive/My Drive/datasets/entp_data/merged_df.parquet\",\n",
        "    columns=[\"user_id\", \"title\", \"artist_name\"]\n",
        ")\n",
        "\n",
        "# === Load song_to_id mapping ===\n",
        "with open(\"/content/drive/My Drive/datasets/song_to_id.pkl\", \"rb\") as f:\n",
        "    song_to_id = pickle.load(f)\n",
        "\n",
        "# === Build user matrix function ===\n",
        "def build_user_matrix(merged_df, song_to_id):\n",
        "    print(\"Building user matrix...\")\n",
        "\n",
        "    user_ids = merged_df['user_id'].unique()\n",
        "    user_to_idx = {user_id: idx for idx, user_id in enumerate(user_ids)}\n",
        "    n_users = len(user_to_idx)\n",
        "    n_songs = len(song_to_id)\n",
        "\n",
        "    print(f\"Total users: {n_users}, Total songs: {n_songs}\")\n",
        "\n",
        "    data, row_indices, col_indices = [], [], []\n",
        "\n",
        "    for row in merged_df.itertuples(index=False):\n",
        "        if pd.notnull(row.title) and pd.notnull(row.artist_name):\n",
        "            song_key = f\"{row.title.strip().lower()}@@{row.artist_name.strip().lower()}\"\n",
        "            if song_key in song_to_id:\n",
        "                user_idx = user_to_idx[row.user_id]\n",
        "                song_idx = song_to_id[song_key]\n",
        "\n",
        "                row_indices.append(user_idx)\n",
        "                col_indices.append(song_idx)\n",
        "                data.append(1)\n",
        "\n",
        "    user_matrix = csr_matrix((data, (row_indices, col_indices)), shape=(n_users, n_songs))\n",
        "\n",
        "    return user_matrix, user_to_idx"
      ]
    },
    {
      "cell_type": "code",
      "execution_count": null,
      "metadata": {
        "colab": {
          "base_uri": "https://localhost:8080/"
        },
        "id": "RH3N6LuNfflU",
        "outputId": "4e9d7b9f-90d4-4c35-9fa7-7e73171b0d3d"
      },
      "outputs": [
        {
          "name": "stdout",
          "output_type": "stream",
          "text": [
            "Building user matrix...\n",
            "Total users: 1019318, Total songs: 2397197\n",
            "User matrix built: (1019318, 2397197)\n"
          ]
        }
      ],
      "source": [
        "# Build user sparse matrix\n",
        "user_matrix, user_to_idx = build_user_matrix(merged_df, song_to_id)\n",
        "\n",
        "# Confirm shape\n",
        "print(\"User matrix built:\", user_matrix.shape)\n",
        "\n",
        "# Save user_matrix\n",
        "with open(\"/content/drive/My Drive/datasets/user_matrix.pkl\", \"wb\") as f:\n",
        "    pickle.dump(user_matrix, f)\n",
        "\n",
        "# Save user_to_idx\n",
        "with open(\"/content/drive/My Drive/datasets/user_to_idx.pkl\", \"wb\") as f:\n",
        "    pickle.dump(user_to_idx, f)"
      ]
    },
    {
      "cell_type": "code",
      "execution_count": null,
      "metadata": {
        "id": "9A922DkEgrGZ"
      },
      "outputs": [],
      "source": [
        "# Load files (if needed)\n",
        "# with open(\"/content/drive/My Drive/datasets/user_matrix.pkl\", \"rb\") as f:\n",
        "#     user_matrix = pickle.load(f)\n",
        "\n",
        "# with open(\"/content/drive/My Drive/datasets/user_to_idx.pkl\", \"rb\") as f:\n",
        "#     user_to_idx = pickle.load(f)"
      ]
    },
    {
      "cell_type": "code",
      "execution_count": null,
      "metadata": {
        "id": "m9R2_Zqpg97M"
      },
      "outputs": [],
      "source": [
        "# Step 3: playlist sparse matrix builder function\n",
        "\n",
        "import os\n",
        "import json\n",
        "import pickle\n",
        "from tqdm import tqdm\n",
        "from scipy.sparse import csr_matrix\n",
        "\n",
        "def build_playlist_matrix(mpd_folder, song_to_id):\n",
        "    print(\"Building playlist matrix...\")\n",
        "\n",
        "    data, row_indices, col_indices = [], [], []\n",
        "    playlist_to_idx = {}\n",
        "    playlist_counter = 0\n",
        "    n_songs = len(song_to_id)\n",
        "\n",
        "    json_files = [f for f in os.listdir(MPD_FOLDER) if f.endswith('.json')]\n",
        "\n",
        "    for file in tqdm(json_files, desc=\"Processing MPD slices\"):\n",
        "      try:\n",
        "\n",
        "        with open(os.path.join(mpd_folder, file), \"r\", encoding=\"utf-8\") as f:\n",
        "            slice_data = json.load(f)\n",
        "\n",
        "            for playlist in slice_data[\"playlists\"]:\n",
        "                pid = playlist[\"pid\"]\n",
        "                playlist_to_idx[pid] = playlist_counter\n",
        "\n",
        "                for track in playlist[\"tracks\"]:\n",
        "                    title = track.get(\"track_name\", \"\").strip().lower()\n",
        "                    artist = track.get(\"artist_name\", \"\").strip().lower()\n",
        "                    if title and artist:\n",
        "                        key = f\"{title}@@{artist}\"\n",
        "                        if key in song_to_id:\n",
        "                            song_idx = song_to_id[key]\n",
        "\n",
        "                            row_indices.append(playlist_counter)\n",
        "                            col_indices.append(song_idx)\n",
        "                            data.append(1)\n",
        "\n",
        "                playlist_counter += 1\n",
        "\n",
        "      except json.JSONDecodeError as e:\n",
        "          print(f\"Skipping file due to JSON error: {file} — {e}\")\n",
        "          continue\n",
        "\n",
        "    playlist_matrix = csr_matrix((data, (row_indices, col_indices)), shape=(playlist_counter, n_songs))\n",
        "    return playlist_matrix, playlist_to_idx\n",
        "\n"
      ]
    },
    {
      "cell_type": "code",
      "execution_count": null,
      "metadata": {
        "colab": {
          "base_uri": "https://localhost:8080/"
        },
        "id": "snOsowuLhGfh",
        "outputId": "90a89c95-48f2-4400-9b77-e0b2049e5d4b"
      },
      "outputs": [
        {
          "name": "stdout",
          "output_type": "stream",
          "text": [
            "Building playlist matrix...\n"
          ]
        },
        {
          "name": "stderr",
          "output_type": "stream",
          "text": [
            "Processing MPD slices: 100%|██████████| 947/947 [16:09<00:00,  1.02s/it]"
          ]
        },
        {
          "name": "stdout",
          "output_type": "stream",
          "text": [
            "Skipping file due to JSON error: mpd.slice.0-999.json — Expecting ',' delimiter: line 21320 column 68 (char 1048597)\n"
          ]
        },
        {
          "name": "stderr",
          "output_type": "stream",
          "text": [
            "\n"
          ]
        },
        {
          "name": "stdout",
          "output_type": "stream",
          "text": [
            "Playlist matrix built: (946000, 2397197)\n"
          ]
        }
      ],
      "source": [
        "# Step 3: generate the playlist sparse matrix\n",
        "\n",
        "# Load song_to_id again (if not already in memory)\n",
        "with open(\"/content/drive/My Drive/datasets/song_to_id.pkl\", \"rb\") as f:\n",
        "    song_to_id = pickle.load(f)\n",
        "\n",
        "# Set path to your MPD slices\n",
        "mpd_folder = \"/content/drive/My Drive/datasets/mpd_data/\"\n",
        "\n",
        "# Build matrix\n",
        "playlist_matrix, playlist_to_idx = build_playlist_matrix(mpd_folder, song_to_id)\n",
        "print(\"Playlist matrix built:\", playlist_matrix.shape)\n",
        "\n",
        "# Save results\n",
        "with open(\"/content/drive/My Drive/datasets/playlist_matrix.pkl\", \"wb\") as f:\n",
        "    pickle.dump(playlist_matrix, f)\n",
        "\n",
        "with open(\"/content/drive/My Drive/datasets/playlist_to_idx.pkl\", \"wb\") as f:\n",
        "    pickle.dump(playlist_to_idx, f)"
      ]
    },
    {
      "cell_type": "code",
      "execution_count": null,
      "metadata": {
        "id": "CGL02JMPdXlM"
      },
      "outputs": [],
      "source": [
        "#Step 3: load files (if required)\n",
        "# # Load files\n",
        "# merged_df = pd.read_parquet(\n",
        "#     \"/content/drive/My Drive/datasets/entp_data/merged_df.parquet\",\n",
        "#     columns=[\"user_id\", \"title\", \"artist_name\"]\n",
        "# )\n",
        "# with open(\"/content/drive/My Drive/datasets/song_to_id.pkl\", \"rb\") as f:\n",
        "#     song_to_id = pickle.load(f)\n",
        "\n",
        "# # Build matrix\n",
        "# user_matrix, user_to_idx = build_user_matrix(merged_df, song_to_id)\n",
        "# print(\"User matrix built:\", user_matrix.shape)"
      ]
    },
    {
      "cell_type": "code",
      "source": [
        "import os\n",
        "import pickle\n",
        "import re\n",
        "from pathlib import Path\n",
        "from scipy.sparse import load_npz, csr_matrix\n",
        "from tqdm import tqdm\n",
        "\n",
        "# === Path to overlap_batches\n",
        "batch_dir = Path(\"/content/drive/My Drive/datasets/overlap_batches\")\n",
        "pkl_files = sorted(batch_dir.glob(\"overlap_*.pkl\"))\n",
        "\n",
        "print(f\"Found {len(pkl_files)} overlap batch files.\\n\")\n",
        "\n",
        "# === Analyze contents of each\n",
        "for file_path in tqdm(pkl_files[:10], desc=\" Inspecting first 10 batches\"):\n",
        "    start = int(re.search(r\"overlap_(\\d+)_\\d+\\.pkl\", file_path.name).group(1))\n",
        "\n",
        "    with open(file_path, \"rb\") as f:\n",
        "        sparse_matrix = pickle.load(f)\n",
        "\n",
        "    coo = sparse_matrix.tocoo()\n",
        "    nnz = coo.nnz\n",
        "    unique_users = len(set(coo.row))\n",
        "    unique_playlists = len(set(coo.col))\n",
        "\n",
        "    print(f\"\\n {file_path.name}\")\n",
        "    print(f\"- Shape         : {sparse_matrix.shape}\")\n",
        "    print(f\"- Nonzeros      : {nnz}\")\n",
        "    print(f\"- Unique users  : {unique_users} (min={coo.row.min()}, max={coo.row.max()})\")\n",
        "    print(f\"- Unique plists : {unique_playlists} (min={coo.col.min()}, max={coo.col.max()})\")\n",
        "    print(f\"- Values range  : min={coo.data.min()}, max={coo.data.max()}\")\n",
        "\n",
        "    # Check if row indices go from 0 to N-1 (batch local) or are already global\n",
        "    if coo.row.max() >= sparse_matrix.shape[0]:\n",
        "        print(\"Warning\")\n",
        "    elif coo.row.max() < 10000:\n",
        "        print(\"Row indices look batch-local (expected).\")\n"
      ],
      "metadata": {
        "id": "ktTFnkctjFVe"
      },
      "execution_count": null,
      "outputs": []
    },
    {
      "cell_type": "code",
      "execution_count": null,
      "metadata": {
        "colab": {
          "base_uri": "https://localhost:8080/",
          "height": 211
        },
        "id": "CLFEDvTtBhu6",
        "outputId": "c3c90aa0-21ab-4232-cd1e-ca32e74b4c34"
      },
      "outputs": [
        {
          "ename": "KeyboardInterrupt",
          "evalue": "",
          "output_type": "error",
          "traceback": [
            "\u001b[0;31m---------------------------------------------------------------------------\u001b[0m",
            "\u001b[0;31mKeyboardInterrupt\u001b[0m                         Traceback (most recent call last)",
            "\u001b[0;32m<ipython-input-3-e749508a3080>\u001b[0m in \u001b[0;36m<cell line: 0>\u001b[0;34m()\u001b[0m\n\u001b[1;32m      6\u001b[0m \u001b[0;34m\u001b[0m\u001b[0m\n\u001b[1;32m      7\u001b[0m \u001b[0;32mwith\u001b[0m \u001b[0mopen\u001b[0m\u001b[0;34m(\u001b[0m\u001b[0;34m\"/content/drive/My Drive/datasets/playlist_matrix.pkl\"\u001b[0m\u001b[0;34m,\u001b[0m \u001b[0;34m\"rb\"\u001b[0m\u001b[0;34m)\u001b[0m \u001b[0;32mas\u001b[0m \u001b[0mf\u001b[0m\u001b[0;34m:\u001b[0m\u001b[0;34m\u001b[0m\u001b[0;34m\u001b[0m\u001b[0m\n\u001b[0;32m----> 8\u001b[0;31m     \u001b[0mplaylist_matrix\u001b[0m \u001b[0;34m=\u001b[0m \u001b[0mpickle\u001b[0m\u001b[0;34m.\u001b[0m\u001b[0mload\u001b[0m\u001b[0;34m(\u001b[0m\u001b[0mf\u001b[0m\u001b[0;34m)\u001b[0m\u001b[0;34m\u001b[0m\u001b[0;34m\u001b[0m\u001b[0m\n\u001b[0m\u001b[1;32m      9\u001b[0m \u001b[0;34m\u001b[0m\u001b[0m\n\u001b[1;32m     10\u001b[0m \u001b[0;34m\u001b[0m\u001b[0m\n",
            "\u001b[0;31mKeyboardInterrupt\u001b[0m: "
          ]
        }
      ],
      "source": [
        "# Step 4: compute matches between both matrics (user and playlists)\n",
        "\n",
        "# === Load matrices ===\n",
        "with open(\"/content/drive/My Drive/datasets/user_matrix.pkl\", \"rb\") as f:\n",
        "    user_matrix = pickle.load(f)\n",
        "\n",
        "with open(\"/content/drive/My Drive/datasets/playlist_matrix.pkl\", \"rb\") as f:\n",
        "    playlist_matrix = pickle.load(f)\n",
        "\n",
        "\n",
        "# === Multiply to get user–playlist overlaps ===\n",
        "print(\"Computing overlap matrix...\")\n",
        "playlist_matrix_T = playlist_matrix.transpose().tocsr()\n",
        "overlap_matrix = user_matrix.dot(playlist_matrix_T)  # shape: (n_users, n_playlists)\n",
        "\n",
        "print(\"Done! Overlap matrix shape:\", overlap_matrix.shape)\n",
        "\n",
        "\n",
        "with open(\"/content/drive/My Drive/datasets/overlap_matrix.pkl\", \"wb\") as f:\n",
        "    pickle.dump(overlap_matrix, f)"
      ]
    },
    {
      "cell_type": "code",
      "execution_count": null,
      "metadata": {
        "colab": {
          "base_uri": "https://localhost:8080/",
          "height": 211
        },
        "id": "G9b2i2ZtNnrq",
        "outputId": "575d2912-dd6c-447a-fb16-bf173552a752"
      },
      "outputs": [
        {
          "ename": "KeyboardInterrupt",
          "evalue": "",
          "output_type": "error",
          "traceback": [
            "\u001b[0;31m---------------------------------------------------------------------------\u001b[0m",
            "\u001b[0;31mKeyboardInterrupt\u001b[0m                         Traceback (most recent call last)",
            "\u001b[0;32m<ipython-input-3-53d4fbd926f0>\u001b[0m in \u001b[0;36m<cell line: 0>\u001b[0;34m()\u001b[0m\n\u001b[1;32m      4\u001b[0m \u001b[0;31m# === Load matrices ===\u001b[0m\u001b[0;34m\u001b[0m\u001b[0;34m\u001b[0m\u001b[0m\n\u001b[1;32m      5\u001b[0m \u001b[0;32mwith\u001b[0m \u001b[0mopen\u001b[0m\u001b[0;34m(\u001b[0m\u001b[0;34m\"/content/drive/My Drive/datasets/user_matrix.pkl\"\u001b[0m\u001b[0;34m,\u001b[0m \u001b[0;34m\"rb\"\u001b[0m\u001b[0;34m)\u001b[0m \u001b[0;32mas\u001b[0m \u001b[0mf\u001b[0m\u001b[0;34m:\u001b[0m\u001b[0;34m\u001b[0m\u001b[0;34m\u001b[0m\u001b[0m\n\u001b[0;32m----> 6\u001b[0;31m     \u001b[0muser_matrix\u001b[0m \u001b[0;34m=\u001b[0m \u001b[0mpickle\u001b[0m\u001b[0;34m.\u001b[0m\u001b[0mload\u001b[0m\u001b[0;34m(\u001b[0m\u001b[0mf\u001b[0m\u001b[0;34m)\u001b[0m\u001b[0;34m\u001b[0m\u001b[0;34m\u001b[0m\u001b[0m\n\u001b[0m\u001b[1;32m      7\u001b[0m \u001b[0;34m\u001b[0m\u001b[0m\n\u001b[1;32m      8\u001b[0m \u001b[0;32mwith\u001b[0m \u001b[0mopen\u001b[0m\u001b[0;34m(\u001b[0m\u001b[0;34m\"/content/drive/My Drive/datasets/playlist_matrix.pkl\"\u001b[0m\u001b[0;34m,\u001b[0m \u001b[0;34m\"rb\"\u001b[0m\u001b[0;34m)\u001b[0m \u001b[0;32mas\u001b[0m \u001b[0mf\u001b[0m\u001b[0;34m:\u001b[0m\u001b[0;34m\u001b[0m\u001b[0;34m\u001b[0m\u001b[0m\n",
            "\u001b[0;31mKeyboardInterrupt\u001b[0m: "
          ]
        }
      ],
      "source": [
        "# Step 4: compute matches between both matrics (user and playlists) with batched multiplication\n",
        "\n",
        "\n",
        "# === Load matrices ===\n",
        "with open(\"/content/drive/My Drive/datasets/user_matrix.pkl\", \"rb\") as f:\n",
        "    user_matrix = pickle.load(f)\n",
        "\n",
        "with open(\"/content/drive/My Drive/datasets/playlist_matrix.pkl\", \"rb\") as f:\n",
        "    playlist_matrix = pickle.load(f)\n",
        "\n",
        "playlist_matrix_T = playlist_matrix.transpose().tocsr()\n",
        "\n",
        "# === Set batch parameters ===\n",
        "batch_size = 10000\n",
        "n_users = user_matrix.shape[0]\n",
        "\n",
        "print(\"Starting streaming batched dot product...\")\n",
        "\n",
        "for start in range(0, n_users, batch_size):\n",
        "    end = min(start + batch_size, n_users)\n",
        "    batch = user_matrix[start:end]\n",
        "\n",
        "    print(f\"Processing users {start} to {end}...\")\n",
        "\n",
        "    batch_overlap = batch.dot(playlist_matrix_T)\n",
        "\n",
        "    batch_file = f\"/content/drive/My Drive/datasets/overlap_batches/overlap_{start}_{end}.pkl\"\n",
        "    with open(batch_file, \"wb\") as f:\n",
        "        pickle.dump(batch_overlap, f)\n",
        "\n",
        "print(\"✅ All batches saved to disk.\")"
      ]
    },
    {
      "cell_type": "code",
      "execution_count": null,
      "metadata": {
        "colab": {
          "base_uri": "https://localhost:8080/"
        },
        "id": "hnLXIhGQikLU",
        "outputId": "503bb3a7-ca29-4e6d-dc9d-45fa83fe4255"
      },
      "outputs": [
        {
          "name": "stdout",
          "output_type": "stream",
          "text": [
            "Starting streaming batched dot product...\n",
            "✅ overlap_0_10000 already computed. Skipping...\n",
            "✅ overlap_10000_20000 already computed. Skipping...\n",
            "✅ overlap_20000_30000 already computed. Skipping...\n",
            "✅ overlap_30000_40000 already computed. Skipping...\n",
            "✅ overlap_40000_50000 already computed. Skipping...\n",
            "✅ overlap_50000_60000 already computed. Skipping...\n",
            "✅ overlap_60000_70000 already computed. Skipping...\n",
            "✅ overlap_70000_80000 already computed. Skipping...\n",
            "✅ overlap_80000_90000 already computed. Skipping...\n",
            "✅ overlap_90000_100000 already computed. Skipping...\n",
            "✅ overlap_100000_110000 already computed. Skipping...\n",
            "✅ overlap_110000_120000 already computed. Skipping...\n",
            "✅ overlap_120000_130000 already computed. Skipping...\n",
            "✅ overlap_130000_140000 already computed. Skipping...\n",
            "✅ overlap_140000_150000 already computed. Skipping...\n",
            "✅ overlap_150000_160000 already computed. Skipping...\n",
            "✅ overlap_160000_170000 already computed. Skipping...\n",
            "✅ overlap_170000_180000 already computed. Skipping...\n",
            "✅ overlap_180000_190000 already computed. Skipping...\n",
            "✅ overlap_190000_200000 already computed. Skipping...\n",
            "✅ overlap_200000_210000 already computed. Skipping...\n",
            "✅ overlap_210000_220000 already computed. Skipping...\n",
            "✅ overlap_220000_230000 already computed. Skipping...\n",
            "✅ overlap_230000_240000 already computed. Skipping...\n",
            "✅ overlap_240000_250000 already computed. Skipping...\n",
            "✅ overlap_250000_260000 already computed. Skipping...\n",
            "✅ overlap_260000_270000 already computed. Skipping...\n",
            "✅ overlap_270000_280000 already computed. Skipping...\n",
            "✅ overlap_280000_290000 already computed. Skipping...\n",
            "✅ overlap_290000_300000 already computed. Skipping...\n",
            "✅ overlap_300000_310000 already computed. Skipping...\n",
            "✅ overlap_310000_320000 already computed. Skipping...\n",
            "✅ overlap_320000_330000 already computed. Skipping...\n",
            "✅ overlap_330000_340000 already computed. Skipping...\n",
            "✅ overlap_340000_350000 already computed. Skipping...\n",
            "✅ overlap_350000_360000 already computed. Skipping...\n",
            "✅ overlap_360000_370000 already computed. Skipping...\n",
            "✅ overlap_370000_380000 already computed. Skipping...\n",
            "✅ overlap_380000_390000 already computed. Skipping...\n",
            "✅ overlap_390000_400000 already computed. Skipping...\n",
            "✅ overlap_400000_410000 already computed. Skipping...\n",
            "✅ overlap_410000_420000 already computed. Skipping...\n",
            "✅ overlap_420000_430000 already computed. Skipping...\n",
            "✅ overlap_430000_440000 already computed. Skipping...\n",
            "✅ overlap_440000_450000 already computed. Skipping...\n",
            "✅ overlap_450000_460000 already computed. Skipping...\n",
            "✅ overlap_460000_470000 already computed. Skipping...\n",
            "✅ overlap_470000_480000 already computed. Skipping...\n",
            "✅ overlap_480000_490000 already computed. Skipping...\n",
            "✅ overlap_490000_500000 already computed. Skipping...\n",
            "✅ overlap_500000_510000 already computed. Skipping...\n",
            "✅ overlap_510000_520000 already computed. Skipping...\n",
            "✅ overlap_520000_530000 already computed. Skipping...\n",
            "✅ overlap_530000_540000 already computed. Skipping...\n",
            "✅ overlap_540000_550000 already computed. Skipping...\n",
            "✅ overlap_550000_560000 already computed. Skipping...\n",
            "✅ overlap_560000_570000 already computed. Skipping...\n",
            "✅ overlap_570000_580000 already computed. Skipping...\n",
            "✅ overlap_580000_590000 already computed. Skipping...\n",
            "✅ overlap_590000_600000 already computed. Skipping...\n",
            "✅ overlap_600000_610000 already computed. Skipping...\n",
            "✅ overlap_610000_620000 already computed. Skipping...\n",
            "✅ overlap_620000_630000 already computed. Skipping...\n",
            "✅ overlap_630000_640000 already computed. Skipping...\n",
            "✅ overlap_640000_650000 already computed. Skipping...\n",
            "✅ overlap_650000_660000 already computed. Skipping...\n",
            "✅ overlap_660000_670000 already computed. Skipping...\n",
            "✅ overlap_670000_680000 already computed. Skipping...\n",
            "✅ overlap_680000_690000 already computed. Skipping...\n",
            "✅ overlap_690000_700000 already computed. Skipping...\n",
            "✅ overlap_700000_710000 already computed. Skipping...\n",
            "✅ overlap_710000_720000 already computed. Skipping...\n",
            "✅ overlap_720000_730000 already computed. Skipping...\n",
            "✅ overlap_730000_740000 already computed. Skipping...\n",
            "✅ overlap_740000_750000 already computed. Skipping...\n",
            "✅ overlap_750000_760000 already computed. Skipping...\n",
            "✅ overlap_760000_770000 already computed. Skipping...\n",
            "✅ overlap_770000_780000 already computed. Skipping...\n",
            "✅ overlap_780000_790000 already computed. Skipping...\n",
            "✅ overlap_790000_800000 already computed. Skipping...\n",
            "✅ overlap_800000_810000 already computed. Skipping...\n",
            "✅ overlap_810000_820000 already computed. Skipping...\n",
            "✅ overlap_820000_830000 already computed. Skipping...\n",
            "✅ overlap_830000_840000 already computed. Skipping...\n",
            "✅ overlap_840000_850000 already computed. Skipping...\n",
            "✅ overlap_850000_860000 already computed. Skipping...\n",
            "✅ overlap_860000_870000 already computed. Skipping...\n",
            "🚧 Processing users 870000 to 880000...\n",
            "🚧 Processing users 880000 to 890000...\n",
            "🚧 Processing users 890000 to 900000...\n",
            "🚧 Processing users 900000 to 910000...\n",
            "🚧 Processing users 910000 to 920000...\n",
            "🚧 Processing users 920000 to 930000...\n",
            "🚧 Processing users 930000 to 940000...\n",
            "🚧 Processing users 940000 to 950000...\n",
            "🚧 Processing users 950000 to 960000...\n",
            "🚧 Processing users 960000 to 970000...\n",
            "🚧 Processing users 970000 to 980000...\n",
            "🚧 Processing users 980000 to 990000...\n",
            "🚧 Processing users 990000 to 1000000...\n",
            "🚧 Processing users 1000000 to 1010000...\n",
            "🚧 Processing users 1010000 to 1019318...\n",
            "🎉 Done! All missing batches processed and saved.\n"
          ]
        }
      ],
      "source": [
        "import os\n",
        "import pickle\n",
        "from scipy.sparse import csr_matrix\n",
        "\n",
        "# === Load matrices ===\n",
        "with open(\"/content/drive/My Drive/datasets/user_matrix.pkl\", \"rb\") as f:\n",
        "    user_matrix = pickle.load(f)\n",
        "\n",
        "with open(\"/content/drive/My Drive/datasets/playlist_matrix.pkl\", \"rb\") as f:\n",
        "    playlist_matrix = pickle.load(f)\n",
        "\n",
        "playlist_matrix_T = playlist_matrix.transpose().tocsr()\n",
        "\n",
        "# === Set batch parameters ===\n",
        "batch_size = 10000\n",
        "n_users = user_matrix.shape[0]\n",
        "\n",
        "output_dir = \"/content/drive/My Drive/datasets/overlap_batches\"\n",
        "os.makedirs(output_dir, exist_ok=True)\n",
        "\n",
        "print(\"Starting streaming batched dot product...\")\n",
        "\n",
        "for start in range(0, n_users, batch_size):\n",
        "    end = min(start + batch_size, n_users)\n",
        "    batch_file = os.path.join(output_dir, f\"overlap_{start}_{end}.pkl\")\n",
        "\n",
        "    if os.path.exists(batch_file):\n",
        "        print(f\"✅ overlap_{start}_{end} already computed. Skipping...\")\n",
        "        continue\n",
        "\n",
        "    print(f\"Processing users {start} to {end}...\")\n",
        "\n",
        "    batch = user_matrix[start:end]\n",
        "    batch_overlap = batch.dot(playlist_matrix_T)\n",
        "\n",
        "    with open(batch_file, \"wb\") as f:\n",
        "        pickle.dump(batch_overlap, f)\n",
        "\n",
        "print(\"All missing batches processed and saved.\")"
      ]
    },
    {
      "cell_type": "markdown",
      "source": [
        "We fix some errors with the batches:"
      ],
      "metadata": {
        "id": "2hgjKNocg_dY"
      }
    },
    {
      "cell_type": "code",
      "source": [
        "import os\n",
        "import re\n",
        "import gc\n",
        "import pickle\n",
        "import polars as pl\n",
        "from tqdm import tqdm\n",
        "from pathlib import Path\n",
        "from scipy.sparse import coo_matrix\n",
        "\n",
        "# === Paths ===\n",
        "batch_dir = Path(\"/content/drive/MyDrive/datasets/overlap_batches\")\n",
        "output_dir = Path(\"/content/drive/MyDrive/datasets/overlap_processed_fixed\")\n",
        "output_dir.mkdir(parents=True, exist_ok=True)\n",
        "\n",
        "# === Gather batch files sorted by starting user index ===\n",
        "pkl_files = sorted(\n",
        "    batch_dir.glob(\"overlap_*.pkl\"),\n",
        "    key=lambda f: int(re.search(r\"overlap_(\\d+)_\\d+\\.pkl\", f.name).group(1))\n",
        ")\n",
        "\n",
        "# === Process each file ===\n",
        "for file_path in tqdm(pkl_files, desc=\"Regenerating overlap_processed\"):\n",
        "    match = re.search(r\"overlap_(\\d+)_(\\d+)\\.pkl\", file_path.name)\n",
        "    if not match:\n",
        "        print(f\"Skipping malformed filename: {file_path.name}\")\n",
        "        continue\n",
        "\n",
        "    start_idx = int(match.group(1))\n",
        "\n",
        "    with open(file_path, \"rb\") as f:\n",
        "        sparse_matrix = pickle.load(f)\n",
        "\n",
        "    coo: coo_matrix = sparse_matrix.tocoo()\n",
        "    del sparse_matrix\n",
        "    gc.collect()\n",
        "\n",
        "    # Shift user indices globally\n",
        "    df = pl.DataFrame({\n",
        "        \"user_id\": coo.row + start_idx,\n",
        "        \"playlist_id\": coo.col,\n",
        "        \"song_count\": coo.data\n",
        "    })\n",
        "    del coo\n",
        "    gc.collect()\n",
        "\n",
        "    # Save as Parquet\n",
        "    output_file = output_dir / f\"{file_path.stem}.parquet\"\n",
        "    df.write_parquet(output_file, compression=\"snappy\")\n",
        "    del df\n",
        "    gc.collect()\n",
        "\n",
        "    print(f\"✅ Saved {output_file.name}\")\n",
        "\n",
        "print(f\"\\n All slices regenerated and saved to {output_dir}\")\n"
      ],
      "metadata": {
        "colab": {
          "base_uri": "https://localhost:8080/"
        },
        "id": "yb7tRRHl6lvO",
        "outputId": "08c5fd25-a31b-4c25-e625-b9f81225587b"
      },
      "execution_count": null,
      "outputs": [
        {
          "output_type": "stream",
          "name": "stderr",
          "text": [
            "🚧 Regenerating overlap_processed:   1%|          | 1/102 [01:03<1:46:03, 63.01s/it]"
          ]
        },
        {
          "output_type": "stream",
          "name": "stdout",
          "text": [
            "✅ Saved overlap_0_10000.parquet\n"
          ]
        },
        {
          "output_type": "stream",
          "name": "stderr",
          "text": [
            "\r🚧 Regenerating overlap_processed:   2%|▏         | 2/102 [02:27<2:05:35, 75.35s/it]"
          ]
        },
        {
          "output_type": "stream",
          "name": "stdout",
          "text": [
            "✅ Saved overlap_10000_20000.parquet\n"
          ]
        },
        {
          "output_type": "stream",
          "name": "stderr",
          "text": [
            "\r🚧 Regenerating overlap_processed:   3%|▎         | 3/102 [03:38<2:01:22, 73.56s/it]"
          ]
        },
        {
          "output_type": "stream",
          "name": "stdout",
          "text": [
            "✅ Saved overlap_20000_30000.parquet\n"
          ]
        },
        {
          "output_type": "stream",
          "name": "stderr",
          "text": [
            "\r🚧 Regenerating overlap_processed:   4%|▍         | 4/102 [04:45<1:55:59, 71.02s/it]"
          ]
        },
        {
          "output_type": "stream",
          "name": "stdout",
          "text": [
            "✅ Saved overlap_30000_40000.parquet\n"
          ]
        },
        {
          "output_type": "stream",
          "name": "stderr",
          "text": [
            "\r🚧 Regenerating overlap_processed:   5%|▍         | 5/102 [05:44<1:47:35, 66.55s/it]"
          ]
        },
        {
          "output_type": "stream",
          "name": "stdout",
          "text": [
            "✅ Saved overlap_40000_50000.parquet\n"
          ]
        },
        {
          "output_type": "stream",
          "name": "stderr",
          "text": [
            "\r🚧 Regenerating overlap_processed:   6%|▌         | 6/102 [06:41<1:41:12, 63.26s/it]"
          ]
        },
        {
          "output_type": "stream",
          "name": "stdout",
          "text": [
            "✅ Saved overlap_50000_60000.parquet\n"
          ]
        },
        {
          "output_type": "stream",
          "name": "stderr",
          "text": [
            "\r🚧 Regenerating overlap_processed:   7%|▋         | 7/102 [07:40<1:37:56, 61.86s/it]"
          ]
        },
        {
          "output_type": "stream",
          "name": "stdout",
          "text": [
            "✅ Saved overlap_60000_70000.parquet\n"
          ]
        },
        {
          "output_type": "stream",
          "name": "stderr",
          "text": [
            "\r🚧 Regenerating overlap_processed:   8%|▊         | 8/102 [08:36<1:34:25, 60.27s/it]"
          ]
        },
        {
          "output_type": "stream",
          "name": "stdout",
          "text": [
            "✅ Saved overlap_70000_80000.parquet\n"
          ]
        },
        {
          "output_type": "stream",
          "name": "stderr",
          "text": [
            "\r🚧 Regenerating overlap_processed:   9%|▉         | 9/102 [09:35<1:32:39, 59.78s/it]"
          ]
        },
        {
          "output_type": "stream",
          "name": "stdout",
          "text": [
            "✅ Saved overlap_80000_90000.parquet\n"
          ]
        },
        {
          "output_type": "stream",
          "name": "stderr",
          "text": [
            "\r🚧 Regenerating overlap_processed:  10%|▉         | 10/102 [10:35<1:31:51, 59.91s/it]"
          ]
        },
        {
          "output_type": "stream",
          "name": "stdout",
          "text": [
            "✅ Saved overlap_90000_100000.parquet\n"
          ]
        },
        {
          "output_type": "stream",
          "name": "stderr",
          "text": [
            "\r🚧 Regenerating overlap_processed:  11%|█         | 11/102 [11:55<1:39:53, 65.86s/it]"
          ]
        },
        {
          "output_type": "stream",
          "name": "stdout",
          "text": [
            "✅ Saved overlap_100000_110000.parquet\n"
          ]
        },
        {
          "output_type": "stream",
          "name": "stderr",
          "text": [
            "\r🚧 Regenerating overlap_processed:  12%|█▏        | 12/102 [13:08<1:42:03, 68.04s/it]"
          ]
        },
        {
          "output_type": "stream",
          "name": "stdout",
          "text": [
            "✅ Saved overlap_110000_120000.parquet\n"
          ]
        },
        {
          "output_type": "stream",
          "name": "stderr",
          "text": [
            "\r🚧 Regenerating overlap_processed:  13%|█▎        | 13/102 [14:18<1:42:09, 68.87s/it]"
          ]
        },
        {
          "output_type": "stream",
          "name": "stdout",
          "text": [
            "✅ Saved overlap_120000_130000.parquet\n"
          ]
        },
        {
          "output_type": "stream",
          "name": "stderr",
          "text": [
            "\r🚧 Regenerating overlap_processed:  14%|█▎        | 14/102 [15:36<1:44:46, 71.43s/it]"
          ]
        },
        {
          "output_type": "stream",
          "name": "stdout",
          "text": [
            "✅ Saved overlap_130000_140000.parquet\n"
          ]
        },
        {
          "output_type": "stream",
          "name": "stderr",
          "text": [
            "\r🚧 Regenerating overlap_processed:  15%|█▍        | 15/102 [16:47<1:43:35, 71.45s/it]"
          ]
        },
        {
          "output_type": "stream",
          "name": "stdout",
          "text": [
            "✅ Saved overlap_140000_150000.parquet\n"
          ]
        },
        {
          "output_type": "stream",
          "name": "stderr",
          "text": [
            "\r🚧 Regenerating overlap_processed:  16%|█▌        | 16/102 [18:00<1:42:44, 71.68s/it]"
          ]
        },
        {
          "output_type": "stream",
          "name": "stdout",
          "text": [
            "✅ Saved overlap_150000_160000.parquet\n"
          ]
        },
        {
          "output_type": "stream",
          "name": "stderr",
          "text": [
            "\r🚧 Regenerating overlap_processed:  17%|█▋        | 17/102 [19:08<1:40:16, 70.79s/it]"
          ]
        },
        {
          "output_type": "stream",
          "name": "stdout",
          "text": [
            "✅ Saved overlap_160000_170000.parquet\n"
          ]
        },
        {
          "output_type": "stream",
          "name": "stderr",
          "text": [
            "\r🚧 Regenerating overlap_processed:  18%|█▊        | 18/102 [20:17<1:38:05, 70.06s/it]"
          ]
        },
        {
          "output_type": "stream",
          "name": "stdout",
          "text": [
            "✅ Saved overlap_170000_180000.parquet\n"
          ]
        },
        {
          "output_type": "stream",
          "name": "stderr",
          "text": [
            "\r🚧 Regenerating overlap_processed:  19%|█▊        | 19/102 [21:28<1:37:38, 70.59s/it]"
          ]
        },
        {
          "output_type": "stream",
          "name": "stdout",
          "text": [
            "✅ Saved overlap_180000_190000.parquet\n"
          ]
        },
        {
          "output_type": "stream",
          "name": "stderr",
          "text": [
            "\r🚧 Regenerating overlap_processed:  20%|█▉        | 20/102 [22:52<1:41:53, 74.55s/it]"
          ]
        },
        {
          "output_type": "stream",
          "name": "stdout",
          "text": [
            "✅ Saved overlap_190000_200000.parquet\n"
          ]
        },
        {
          "output_type": "stream",
          "name": "stderr",
          "text": [
            "\r🚧 Regenerating overlap_processed:  21%|██        | 21/102 [24:01<1:38:29, 72.96s/it]"
          ]
        },
        {
          "output_type": "stream",
          "name": "stdout",
          "text": [
            "✅ Saved overlap_200000_210000.parquet\n"
          ]
        },
        {
          "output_type": "stream",
          "name": "stderr",
          "text": [
            "\r🚧 Regenerating overlap_processed:  22%|██▏       | 22/102 [25:15<1:37:30, 73.13s/it]"
          ]
        },
        {
          "output_type": "stream",
          "name": "stdout",
          "text": [
            "✅ Saved overlap_210000_220000.parquet\n"
          ]
        },
        {
          "output_type": "stream",
          "name": "stderr",
          "text": [
            "\r🚧 Regenerating overlap_processed:  23%|██▎       | 23/102 [26:27<1:35:41, 72.68s/it]"
          ]
        },
        {
          "output_type": "stream",
          "name": "stdout",
          "text": [
            "✅ Saved overlap_220000_230000.parquet\n"
          ]
        },
        {
          "output_type": "stream",
          "name": "stderr",
          "text": [
            "\r🚧 Regenerating overlap_processed:  24%|██▎       | 24/102 [27:37<1:33:42, 72.09s/it]"
          ]
        },
        {
          "output_type": "stream",
          "name": "stdout",
          "text": [
            "✅ Saved overlap_230000_240000.parquet\n"
          ]
        },
        {
          "output_type": "stream",
          "name": "stderr",
          "text": [
            "\r🚧 Regenerating overlap_processed:  25%|██▍       | 25/102 [28:46<1:31:15, 71.11s/it]"
          ]
        },
        {
          "output_type": "stream",
          "name": "stdout",
          "text": [
            "✅ Saved overlap_240000_250000.parquet\n"
          ]
        },
        {
          "output_type": "stream",
          "name": "stderr",
          "text": [
            "\r🚧 Regenerating overlap_processed:  25%|██▌       | 26/102 [29:53<1:28:33, 69.92s/it]"
          ]
        },
        {
          "output_type": "stream",
          "name": "stdout",
          "text": [
            "✅ Saved overlap_250000_260000.parquet\n"
          ]
        },
        {
          "output_type": "stream",
          "name": "stderr",
          "text": [
            "\r🚧 Regenerating overlap_processed:  26%|██▋       | 27/102 [30:59<1:25:56, 68.76s/it]"
          ]
        },
        {
          "output_type": "stream",
          "name": "stdout",
          "text": [
            "✅ Saved overlap_260000_270000.parquet\n"
          ]
        },
        {
          "output_type": "stream",
          "name": "stderr",
          "text": [
            "\r🚧 Regenerating overlap_processed:  27%|██▋       | 28/102 [32:11<1:25:56, 69.68s/it]"
          ]
        },
        {
          "output_type": "stream",
          "name": "stdout",
          "text": [
            "✅ Saved overlap_270000_280000.parquet\n"
          ]
        },
        {
          "output_type": "stream",
          "name": "stderr",
          "text": [
            "\r🚧 Regenerating overlap_processed:  28%|██▊       | 29/102 [33:40<1:31:53, 75.52s/it]"
          ]
        },
        {
          "output_type": "stream",
          "name": "stdout",
          "text": [
            "✅ Saved overlap_280000_290000.parquet\n"
          ]
        },
        {
          "output_type": "stream",
          "name": "stderr",
          "text": [
            "\r🚧 Regenerating overlap_processed:  29%|██▉       | 30/102 [34:49<1:28:18, 73.59s/it]"
          ]
        },
        {
          "output_type": "stream",
          "name": "stdout",
          "text": [
            "✅ Saved overlap_290000_300000.parquet\n"
          ]
        },
        {
          "output_type": "stream",
          "name": "stderr",
          "text": [
            "\r🚧 Regenerating overlap_processed:  30%|███       | 31/102 [36:00<1:25:51, 72.56s/it]"
          ]
        },
        {
          "output_type": "stream",
          "name": "stdout",
          "text": [
            "✅ Saved overlap_300000_310000.parquet\n"
          ]
        },
        {
          "output_type": "stream",
          "name": "stderr",
          "text": [
            "\r🚧 Regenerating overlap_processed:  31%|███▏      | 32/102 [37:05<1:22:12, 70.46s/it]"
          ]
        },
        {
          "output_type": "stream",
          "name": "stdout",
          "text": [
            "✅ Saved overlap_310000_320000.parquet\n"
          ]
        },
        {
          "output_type": "stream",
          "name": "stderr",
          "text": [
            "\r🚧 Regenerating overlap_processed:  32%|███▏      | 33/102 [38:13<1:20:14, 69.77s/it]"
          ]
        },
        {
          "output_type": "stream",
          "name": "stdout",
          "text": [
            "✅ Saved overlap_320000_330000.parquet\n"
          ]
        },
        {
          "output_type": "stream",
          "name": "stderr",
          "text": [
            "\r🚧 Regenerating overlap_processed:  33%|███▎      | 34/102 [39:27<1:20:29, 71.03s/it]"
          ]
        },
        {
          "output_type": "stream",
          "name": "stdout",
          "text": [
            "✅ Saved overlap_330000_340000.parquet\n"
          ]
        },
        {
          "output_type": "stream",
          "name": "stderr",
          "text": [
            "\r🚧 Regenerating overlap_processed:  34%|███▍      | 35/102 [40:25<1:14:58, 67.14s/it]"
          ]
        },
        {
          "output_type": "stream",
          "name": "stdout",
          "text": [
            "✅ Saved overlap_340000_350000.parquet\n"
          ]
        },
        {
          "output_type": "stream",
          "name": "stderr",
          "text": [
            "\r🚧 Regenerating overlap_processed:  35%|███▌      | 36/102 [41:24<1:10:57, 64.50s/it]"
          ]
        },
        {
          "output_type": "stream",
          "name": "stdout",
          "text": [
            "✅ Saved overlap_350000_360000.parquet\n"
          ]
        },
        {
          "output_type": "stream",
          "name": "stderr",
          "text": [
            "\r🚧 Regenerating overlap_processed:  36%|███▋      | 37/102 [42:26<1:09:12, 63.88s/it]"
          ]
        },
        {
          "output_type": "stream",
          "name": "stdout",
          "text": [
            "✅ Saved overlap_360000_370000.parquet\n"
          ]
        },
        {
          "output_type": "stream",
          "name": "stderr",
          "text": [
            "\r🚧 Regenerating overlap_processed:  37%|███▋      | 38/102 [43:40<1:11:26, 66.98s/it]"
          ]
        },
        {
          "output_type": "stream",
          "name": "stdout",
          "text": [
            "✅ Saved overlap_370000_380000.parquet\n"
          ]
        },
        {
          "output_type": "stream",
          "name": "stderr",
          "text": [
            "\r🚧 Regenerating overlap_processed:  38%|███▊      | 39/102 [44:53<1:11:58, 68.55s/it]"
          ]
        },
        {
          "output_type": "stream",
          "name": "stdout",
          "text": [
            "✅ Saved overlap_380000_390000.parquet\n"
          ]
        },
        {
          "output_type": "stream",
          "name": "stderr",
          "text": [
            "\r🚧 Regenerating overlap_processed:  39%|███▉      | 40/102 [45:51<1:07:39, 65.48s/it]"
          ]
        },
        {
          "output_type": "stream",
          "name": "stdout",
          "text": [
            "✅ Saved overlap_390000_400000.parquet\n"
          ]
        },
        {
          "output_type": "stream",
          "name": "stderr",
          "text": [
            "\r🚧 Regenerating overlap_processed:  40%|████      | 41/102 [46:44<1:02:47, 61.76s/it]"
          ]
        },
        {
          "output_type": "stream",
          "name": "stdout",
          "text": [
            "✅ Saved overlap_400000_410000.parquet\n"
          ]
        },
        {
          "output_type": "stream",
          "name": "stderr",
          "text": [
            "\r🚧 Regenerating overlap_processed:  41%|████      | 42/102 [47:45<1:01:42, 61.70s/it]"
          ]
        },
        {
          "output_type": "stream",
          "name": "stdout",
          "text": [
            "✅ Saved overlap_410000_420000.parquet\n"
          ]
        },
        {
          "output_type": "stream",
          "name": "stderr",
          "text": [
            "\r🚧 Regenerating overlap_processed:  42%|████▏     | 43/102 [48:42<59:04, 60.07s/it]  "
          ]
        },
        {
          "output_type": "stream",
          "name": "stdout",
          "text": [
            "✅ Saved overlap_420000_430000.parquet\n"
          ]
        },
        {
          "output_type": "stream",
          "name": "stderr",
          "text": [
            "\r🚧 Regenerating overlap_processed:  43%|████▎     | 44/102 [49:34<55:54, 57.83s/it]"
          ]
        },
        {
          "output_type": "stream",
          "name": "stdout",
          "text": [
            "✅ Saved overlap_430000_440000.parquet\n"
          ]
        },
        {
          "output_type": "stream",
          "name": "stderr",
          "text": [
            "\r🚧 Regenerating overlap_processed:  44%|████▍     | 45/102 [50:33<55:07, 58.03s/it]"
          ]
        },
        {
          "output_type": "stream",
          "name": "stdout",
          "text": [
            "✅ Saved overlap_440000_450000.parquet\n"
          ]
        },
        {
          "output_type": "stream",
          "name": "stderr",
          "text": [
            "\r🚧 Regenerating overlap_processed:  45%|████▌     | 46/102 [51:29<53:39, 57.49s/it]"
          ]
        },
        {
          "output_type": "stream",
          "name": "stdout",
          "text": [
            "✅ Saved overlap_450000_460000.parquet\n"
          ]
        },
        {
          "output_type": "stream",
          "name": "stderr",
          "text": [
            "\r🚧 Regenerating overlap_processed:  46%|████▌     | 47/102 [52:31<53:47, 58.68s/it]"
          ]
        },
        {
          "output_type": "stream",
          "name": "stdout",
          "text": [
            "✅ Saved overlap_460000_470000.parquet\n"
          ]
        },
        {
          "output_type": "stream",
          "name": "stderr",
          "text": [
            "\r🚧 Regenerating overlap_processed:  47%|████▋     | 48/102 [53:28<52:34, 58.42s/it]"
          ]
        },
        {
          "output_type": "stream",
          "name": "stdout",
          "text": [
            "✅ Saved overlap_470000_480000.parquet\n"
          ]
        },
        {
          "output_type": "stream",
          "name": "stderr",
          "text": [
            "\r🚧 Regenerating overlap_processed:  48%|████▊     | 49/102 [54:46<56:35, 64.06s/it]"
          ]
        },
        {
          "output_type": "stream",
          "name": "stdout",
          "text": [
            "✅ Saved overlap_480000_490000.parquet\n"
          ]
        },
        {
          "output_type": "stream",
          "name": "stderr",
          "text": [
            "\r🚧 Regenerating overlap_processed:  49%|████▉     | 50/102 [55:46<54:37, 63.02s/it]"
          ]
        },
        {
          "output_type": "stream",
          "name": "stdout",
          "text": [
            "✅ Saved overlap_490000_500000.parquet\n"
          ]
        },
        {
          "output_type": "stream",
          "name": "stderr",
          "text": [
            "\r🚧 Regenerating overlap_processed:  50%|█████     | 51/102 [56:50<53:40, 63.14s/it]"
          ]
        },
        {
          "output_type": "stream",
          "name": "stdout",
          "text": [
            "✅ Saved overlap_500000_510000.parquet\n"
          ]
        },
        {
          "output_type": "stream",
          "name": "stderr",
          "text": [
            "\r🚧 Regenerating overlap_processed:  51%|█████     | 52/102 [57:50<52:02, 62.45s/it]"
          ]
        },
        {
          "output_type": "stream",
          "name": "stdout",
          "text": [
            "✅ Saved overlap_510000_520000.parquet\n"
          ]
        },
        {
          "output_type": "stream",
          "name": "stderr",
          "text": [
            "\r🚧 Regenerating overlap_processed:  52%|█████▏    | 53/102 [58:51<50:27, 61.80s/it]"
          ]
        },
        {
          "output_type": "stream",
          "name": "stdout",
          "text": [
            "✅ Saved overlap_520000_530000.parquet\n"
          ]
        },
        {
          "output_type": "stream",
          "name": "stderr",
          "text": [
            "\r🚧 Regenerating overlap_processed:  53%|█████▎    | 54/102 [59:49<48:38, 60.81s/it]"
          ]
        },
        {
          "output_type": "stream",
          "name": "stdout",
          "text": [
            "✅ Saved overlap_530000_540000.parquet\n"
          ]
        },
        {
          "output_type": "stream",
          "name": "stderr",
          "text": [
            "\r🚧 Regenerating overlap_processed:  54%|█████▍    | 55/102 [1:01:10<52:16, 66.73s/it]"
          ]
        },
        {
          "output_type": "stream",
          "name": "stdout",
          "text": [
            "✅ Saved overlap_540000_550000.parquet\n"
          ]
        },
        {
          "output_type": "stream",
          "name": "stderr",
          "text": [
            "\r🚧 Regenerating overlap_processed:  55%|█████▍    | 56/102 [1:02:18<51:24, 67.06s/it]"
          ]
        },
        {
          "output_type": "stream",
          "name": "stdout",
          "text": [
            "✅ Saved overlap_550000_560000.parquet\n"
          ]
        },
        {
          "output_type": "stream",
          "name": "stderr",
          "text": [
            "\r🚧 Regenerating overlap_processed:  56%|█████▌    | 57/102 [1:03:19<48:56, 65.25s/it]"
          ]
        },
        {
          "output_type": "stream",
          "name": "stdout",
          "text": [
            "✅ Saved overlap_560000_570000.parquet\n"
          ]
        },
        {
          "output_type": "stream",
          "name": "stderr",
          "text": [
            "\r🚧 Regenerating overlap_processed:  57%|█████▋    | 58/102 [1:04:16<46:02, 62.80s/it]"
          ]
        },
        {
          "output_type": "stream",
          "name": "stdout",
          "text": [
            "✅ Saved overlap_570000_580000.parquet\n"
          ]
        },
        {
          "output_type": "stream",
          "name": "stderr",
          "text": [
            "\r🚧 Regenerating overlap_processed:  58%|█████▊    | 59/102 [1:05:47<51:12, 71.45s/it]"
          ]
        },
        {
          "output_type": "stream",
          "name": "stdout",
          "text": [
            "✅ Saved overlap_580000_590000.parquet\n"
          ]
        },
        {
          "output_type": "stream",
          "name": "stderr",
          "text": [
            "\r🚧 Regenerating overlap_processed:  59%|█████▉    | 60/102 [1:06:47<47:36, 68.01s/it]"
          ]
        },
        {
          "output_type": "stream",
          "name": "stdout",
          "text": [
            "✅ Saved overlap_590000_600000.parquet\n"
          ]
        },
        {
          "output_type": "stream",
          "name": "stderr",
          "text": [
            "\r🚧 Regenerating overlap_processed:  60%|█████▉    | 61/102 [1:07:54<46:11, 67.59s/it]"
          ]
        },
        {
          "output_type": "stream",
          "name": "stdout",
          "text": [
            "✅ Saved overlap_600000_610000.parquet\n"
          ]
        },
        {
          "output_type": "stream",
          "name": "stderr",
          "text": [
            "\r🚧 Regenerating overlap_processed:  61%|██████    | 62/102 [1:08:56<43:55, 65.88s/it]"
          ]
        },
        {
          "output_type": "stream",
          "name": "stdout",
          "text": [
            "✅ Saved overlap_610000_620000.parquet\n"
          ]
        },
        {
          "output_type": "stream",
          "name": "stderr",
          "text": [
            "\r🚧 Regenerating overlap_processed:  62%|██████▏   | 63/102 [1:09:54<41:18, 63.56s/it]"
          ]
        },
        {
          "output_type": "stream",
          "name": "stdout",
          "text": [
            "✅ Saved overlap_620000_630000.parquet\n"
          ]
        },
        {
          "output_type": "stream",
          "name": "stderr",
          "text": [
            "\r🚧 Regenerating overlap_processed:  63%|██████▎   | 64/102 [1:10:55<39:44, 62.74s/it]"
          ]
        },
        {
          "output_type": "stream",
          "name": "stdout",
          "text": [
            "✅ Saved overlap_630000_640000.parquet\n"
          ]
        },
        {
          "output_type": "stream",
          "name": "stderr",
          "text": [
            "\r🚧 Regenerating overlap_processed:  64%|██████▎   | 65/102 [1:11:54<38:04, 61.73s/it]"
          ]
        },
        {
          "output_type": "stream",
          "name": "stdout",
          "text": [
            "✅ Saved overlap_640000_650000.parquet\n"
          ]
        },
        {
          "output_type": "stream",
          "name": "stderr",
          "text": [
            "\r🚧 Regenerating overlap_processed:  65%|██████▍   | 66/102 [1:12:55<36:56, 61.58s/it]"
          ]
        },
        {
          "output_type": "stream",
          "name": "stdout",
          "text": [
            "✅ Saved overlap_650000_660000.parquet\n"
          ]
        },
        {
          "output_type": "stream",
          "name": "stderr",
          "text": [
            "\r🚧 Regenerating overlap_processed:  66%|██████▌   | 67/102 [1:13:56<35:48, 61.38s/it]"
          ]
        },
        {
          "output_type": "stream",
          "name": "stdout",
          "text": [
            "✅ Saved overlap_660000_670000.parquet\n"
          ]
        },
        {
          "output_type": "stream",
          "name": "stderr",
          "text": [
            "\r🚧 Regenerating overlap_processed:  67%|██████▋   | 68/102 [1:14:57<34:37, 61.09s/it]"
          ]
        },
        {
          "output_type": "stream",
          "name": "stdout",
          "text": [
            "✅ Saved overlap_670000_680000.parquet\n"
          ]
        },
        {
          "output_type": "stream",
          "name": "stderr",
          "text": [
            "\r🚧 Regenerating overlap_processed:  68%|██████▊   | 69/102 [1:16:18<36:56, 67.18s/it]"
          ]
        },
        {
          "output_type": "stream",
          "name": "stdout",
          "text": [
            "✅ Saved overlap_680000_690000.parquet\n"
          ]
        },
        {
          "output_type": "stream",
          "name": "stderr",
          "text": [
            "\r🚧 Regenerating overlap_processed:  69%|██████▊   | 70/102 [1:17:18<34:36, 64.89s/it]"
          ]
        },
        {
          "output_type": "stream",
          "name": "stdout",
          "text": [
            "✅ Saved overlap_690000_700000.parquet\n"
          ]
        },
        {
          "output_type": "stream",
          "name": "stderr",
          "text": [
            "\r🚧 Regenerating overlap_processed:  70%|██████▉   | 71/102 [1:18:19<33:01, 63.92s/it]"
          ]
        },
        {
          "output_type": "stream",
          "name": "stdout",
          "text": [
            "✅ Saved overlap_700000_710000.parquet\n"
          ]
        },
        {
          "output_type": "stream",
          "name": "stderr",
          "text": [
            "\r🚧 Regenerating overlap_processed:  71%|███████   | 72/102 [1:19:35<33:41, 67.40s/it]"
          ]
        },
        {
          "output_type": "stream",
          "name": "stdout",
          "text": [
            "✅ Saved overlap_710000_720000.parquet\n"
          ]
        },
        {
          "output_type": "stream",
          "name": "stderr",
          "text": [
            "\r🚧 Regenerating overlap_processed:  72%|███████▏  | 73/102 [1:20:38<31:58, 66.15s/it]"
          ]
        },
        {
          "output_type": "stream",
          "name": "stdout",
          "text": [
            "✅ Saved overlap_720000_730000.parquet\n"
          ]
        },
        {
          "output_type": "stream",
          "name": "stderr",
          "text": [
            "\r🚧 Regenerating overlap_processed:  73%|███████▎  | 74/102 [1:21:42<30:36, 65.59s/it]"
          ]
        },
        {
          "output_type": "stream",
          "name": "stdout",
          "text": [
            "✅ Saved overlap_730000_740000.parquet\n"
          ]
        },
        {
          "output_type": "stream",
          "name": "stderr",
          "text": [
            "\r🚧 Regenerating overlap_processed:  74%|███████▎  | 75/102 [1:22:45<29:09, 64.79s/it]"
          ]
        },
        {
          "output_type": "stream",
          "name": "stdout",
          "text": [
            "✅ Saved overlap_740000_750000.parquet\n"
          ]
        },
        {
          "output_type": "stream",
          "name": "stderr",
          "text": [
            "\r🚧 Regenerating overlap_processed:  75%|███████▍  | 76/102 [1:23:50<28:06, 64.86s/it]"
          ]
        },
        {
          "output_type": "stream",
          "name": "stdout",
          "text": [
            "✅ Saved overlap_750000_760000.parquet\n"
          ]
        },
        {
          "output_type": "stream",
          "name": "stderr",
          "text": [
            "\r🚧 Regenerating overlap_processed:  75%|███████▌  | 77/102 [1:24:53<26:45, 64.22s/it]"
          ]
        },
        {
          "output_type": "stream",
          "name": "stdout",
          "text": [
            "✅ Saved overlap_760000_770000.parquet\n"
          ]
        },
        {
          "output_type": "stream",
          "name": "stderr",
          "text": [
            "\r🚧 Regenerating overlap_processed:  76%|███████▋  | 78/102 [1:25:49<24:42, 61.77s/it]"
          ]
        },
        {
          "output_type": "stream",
          "name": "stdout",
          "text": [
            "✅ Saved overlap_770000_780000.parquet\n"
          ]
        },
        {
          "output_type": "stream",
          "name": "stderr",
          "text": [
            "\r🚧 Regenerating overlap_processed:  77%|███████▋  | 79/102 [1:27:09<25:43, 67.11s/it]"
          ]
        },
        {
          "output_type": "stream",
          "name": "stdout",
          "text": [
            "✅ Saved overlap_780000_790000.parquet\n"
          ]
        },
        {
          "output_type": "stream",
          "name": "stderr",
          "text": [
            "\r🚧 Regenerating overlap_processed:  78%|███████▊  | 80/102 [1:28:09<23:53, 65.17s/it]"
          ]
        },
        {
          "output_type": "stream",
          "name": "stdout",
          "text": [
            "✅ Saved overlap_790000_800000.parquet\n"
          ]
        },
        {
          "output_type": "stream",
          "name": "stderr",
          "text": [
            "\r🚧 Regenerating overlap_processed:  79%|███████▉  | 81/102 [1:29:14<22:47, 65.12s/it]"
          ]
        },
        {
          "output_type": "stream",
          "name": "stdout",
          "text": [
            "✅ Saved overlap_800000_810000.parquet\n"
          ]
        },
        {
          "output_type": "stream",
          "name": "stderr",
          "text": [
            "\r🚧 Regenerating overlap_processed:  80%|████████  | 82/102 [1:30:18<21:36, 64.80s/it]"
          ]
        },
        {
          "output_type": "stream",
          "name": "stdout",
          "text": [
            "✅ Saved overlap_810000_820000.parquet\n"
          ]
        },
        {
          "output_type": "stream",
          "name": "stderr",
          "text": [
            "\r🚧 Regenerating overlap_processed:  81%|████████▏ | 83/102 [1:31:22<20:22, 64.36s/it]"
          ]
        },
        {
          "output_type": "stream",
          "name": "stdout",
          "text": [
            "✅ Saved overlap_820000_830000.parquet\n"
          ]
        },
        {
          "output_type": "stream",
          "name": "stderr",
          "text": [
            "\r🚧 Regenerating overlap_processed:  82%|████████▏ | 84/102 [1:32:24<19:06, 63.69s/it]"
          ]
        },
        {
          "output_type": "stream",
          "name": "stdout",
          "text": [
            "✅ Saved overlap_830000_840000.parquet\n"
          ]
        },
        {
          "output_type": "stream",
          "name": "stderr",
          "text": [
            "\r🚧 Regenerating overlap_processed:  83%|████████▎ | 85/102 [1:33:29<18:11, 64.21s/it]"
          ]
        },
        {
          "output_type": "stream",
          "name": "stdout",
          "text": [
            "✅ Saved overlap_840000_850000.parquet\n"
          ]
        },
        {
          "output_type": "stream",
          "name": "stderr",
          "text": [
            "\r🚧 Regenerating overlap_processed:  84%|████████▍ | 86/102 [1:34:33<17:04, 64.05s/it]"
          ]
        },
        {
          "output_type": "stream",
          "name": "stdout",
          "text": [
            "✅ Saved overlap_850000_860000.parquet\n"
          ]
        },
        {
          "output_type": "stream",
          "name": "stderr",
          "text": [
            "\r🚧 Regenerating overlap_processed:  85%|████████▌ | 87/102 [1:35:34<15:48, 63.23s/it]"
          ]
        },
        {
          "output_type": "stream",
          "name": "stdout",
          "text": [
            "✅ Saved overlap_860000_870000.parquet\n"
          ]
        },
        {
          "output_type": "stream",
          "name": "stderr",
          "text": [
            "\r🚧 Regenerating overlap_processed:  86%|████████▋ | 88/102 [1:36:26<13:55, 59.71s/it]"
          ]
        },
        {
          "output_type": "stream",
          "name": "stdout",
          "text": [
            "✅ Saved overlap_870000_880000.parquet\n"
          ]
        },
        {
          "output_type": "stream",
          "name": "stderr",
          "text": [
            "\r🚧 Regenerating overlap_processed:  87%|████████▋ | 89/102 [1:37:36<13:37, 62.92s/it]"
          ]
        },
        {
          "output_type": "stream",
          "name": "stdout",
          "text": [
            "✅ Saved overlap_880000_890000.parquet\n"
          ]
        },
        {
          "output_type": "stream",
          "name": "stderr",
          "text": [
            "\r🚧 Regenerating overlap_processed:  88%|████████▊ | 90/102 [1:38:34<12:17, 61.44s/it]"
          ]
        },
        {
          "output_type": "stream",
          "name": "stdout",
          "text": [
            "✅ Saved overlap_890000_900000.parquet\n"
          ]
        },
        {
          "output_type": "stream",
          "name": "stderr",
          "text": [
            "\r🚧 Regenerating overlap_processed:  89%|████████▉ | 91/102 [1:39:24<10:38, 58.03s/it]"
          ]
        },
        {
          "output_type": "stream",
          "name": "stdout",
          "text": [
            "✅ Saved overlap_900000_910000.parquet\n"
          ]
        },
        {
          "output_type": "stream",
          "name": "stderr",
          "text": [
            "\r🚧 Regenerating overlap_processed:  90%|█████████ | 92/102 [1:40:17<09:23, 56.40s/it]"
          ]
        },
        {
          "output_type": "stream",
          "name": "stdout",
          "text": [
            "✅ Saved overlap_910000_920000.parquet\n"
          ]
        },
        {
          "output_type": "stream",
          "name": "stderr",
          "text": [
            "\r🚧 Regenerating overlap_processed:  91%|█████████ | 93/102 [1:41:08<08:12, 54.71s/it]"
          ]
        },
        {
          "output_type": "stream",
          "name": "stdout",
          "text": [
            "✅ Saved overlap_920000_930000.parquet\n"
          ]
        },
        {
          "output_type": "stream",
          "name": "stderr",
          "text": [
            "\r🚧 Regenerating overlap_processed:  92%|█████████▏| 94/102 [1:42:00<07:11, 53.98s/it]"
          ]
        },
        {
          "output_type": "stream",
          "name": "stdout",
          "text": [
            "✅ Saved overlap_930000_940000.parquet\n"
          ]
        },
        {
          "output_type": "stream",
          "name": "stderr",
          "text": [
            "\r🚧 Regenerating overlap_processed:  93%|█████████▎| 95/102 [1:42:50<06:10, 52.91s/it]"
          ]
        },
        {
          "output_type": "stream",
          "name": "stdout",
          "text": [
            "✅ Saved overlap_940000_950000.parquet\n"
          ]
        },
        {
          "output_type": "stream",
          "name": "stderr",
          "text": [
            "\r🚧 Regenerating overlap_processed:  94%|█████████▍| 96/102 [1:43:42<05:15, 52.60s/it]"
          ]
        },
        {
          "output_type": "stream",
          "name": "stdout",
          "text": [
            "✅ Saved overlap_950000_960000.parquet\n"
          ]
        },
        {
          "output_type": "stream",
          "name": "stderr",
          "text": [
            "\r🚧 Regenerating overlap_processed:  95%|█████████▌| 97/102 [1:44:37<04:26, 53.22s/it]"
          ]
        },
        {
          "output_type": "stream",
          "name": "stdout",
          "text": [
            "✅ Saved overlap_960000_970000.parquet\n"
          ]
        },
        {
          "output_type": "stream",
          "name": "stderr",
          "text": [
            "\r🚧 Regenerating overlap_processed:  96%|█████████▌| 98/102 [1:45:27<03:29, 52.29s/it]"
          ]
        },
        {
          "output_type": "stream",
          "name": "stdout",
          "text": [
            "✅ Saved overlap_970000_980000.parquet\n"
          ]
        },
        {
          "output_type": "stream",
          "name": "stderr",
          "text": [
            "\r🚧 Regenerating overlap_processed:  97%|█████████▋| 99/102 [1:46:19<02:36, 52.18s/it]"
          ]
        },
        {
          "output_type": "stream",
          "name": "stdout",
          "text": [
            "✅ Saved overlap_980000_990000.parquet\n"
          ]
        },
        {
          "output_type": "stream",
          "name": "stderr",
          "text": [
            "\r🚧 Regenerating overlap_processed:  98%|█████████▊| 100/102 [1:47:09<01:43, 51.60s/it]"
          ]
        },
        {
          "output_type": "stream",
          "name": "stdout",
          "text": [
            "✅ Saved overlap_990000_1000000.parquet\n"
          ]
        },
        {
          "output_type": "stream",
          "name": "stderr",
          "text": [
            "\r🚧 Regenerating overlap_processed:  99%|█████████▉| 101/102 [1:48:20<00:57, 57.42s/it]"
          ]
        },
        {
          "output_type": "stream",
          "name": "stdout",
          "text": [
            "✅ Saved overlap_1000000_1010000.parquet\n"
          ]
        },
        {
          "output_type": "stream",
          "name": "stderr",
          "text": [
            "🚧 Regenerating overlap_processed: 100%|██████████| 102/102 [1:49:32<00:00, 64.44s/it]"
          ]
        },
        {
          "output_type": "stream",
          "name": "stdout",
          "text": [
            "✅ Saved overlap_1010000_1019318.parquet\n",
            "\n",
            " All slices regenerated and saved to /content/drive/MyDrive/datasets/overlap_processed_fixed\n"
          ]
        },
        {
          "output_type": "stream",
          "name": "stderr",
          "text": [
            "\n"
          ]
        }
      ]
    },
    {
      "cell_type": "markdown",
      "metadata": {
        "id": "tcmkSPSOT1ql"
      },
      "source": [
        "### Make sure we can map these positional id's to the real id's if we need to: Creating a mapping from idx used in sparse matrices to real IDs both for users (ENTP) and playlists (MPD"
      ]
    },
    {
      "cell_type": "code",
      "execution_count": null,
      "metadata": {
        "colab": {
          "base_uri": "https://localhost:8080/"
        },
        "id": "DU7Pd9f-5XIc",
        "outputId": "6bd8ebab-ee8c-482d-e31e-160e057b94d9"
      },
      "outputs": [
        {
          "name": "stdout",
          "output_type": "stream",
          "text": [
            "✅ Loaded user_to_idx: 1019318\n",
            "✅ Loaded playlist_to_idx: 946000\n",
            "✅ Inverted mappings created.\n",
            "💾 Saved to:\n",
            "- /content/drive/My Drive/datasets/idx_to_user.parquet\n",
            "- /content/drive/My Drive/datasets/idx_to_playlist.parquet\n"
          ]
        }
      ],
      "source": [
        "import pickle\n",
        "import pandas as pd\n",
        "\n",
        "# === Load mappings from pickle ===\n",
        "with open(\"/content/drive/My Drive/datasets/user_to_idx.pkl\", \"rb\") as f:\n",
        "    user_to_idx = pickle.load(f)\n",
        "\n",
        "with open(\"/content/drive/My Drive/datasets/playlist_to_idx.pkl\", \"rb\") as f:\n",
        "    playlist_to_idx = pickle.load(f)\n",
        "\n",
        "print(\"✅ Loaded user_to_idx:\", len(user_to_idx))\n",
        "print(\"✅ Loaded playlist_to_idx:\", len(playlist_to_idx))\n",
        "\n",
        "# === Invert mappings ===\n",
        "idx_to_user = {v: k for k, v in user_to_idx.items()}\n",
        "idx_to_playlist = {v: k for k, v in playlist_to_idx.items()}\n",
        "\n",
        "print(\"✅ Inverted mappings created.\")\n",
        "\n",
        "# === Convert to DataFrames and save as Parquet ===\n",
        "user_df = pd.DataFrame(list(idx_to_user.items()), columns=[\"user_idx\", \"user_id\"])\n",
        "playlist_df = pd.DataFrame(list(idx_to_playlist.items()), columns=[\"playlist_idx\", \"playlist_id\"])\n",
        "\n",
        "user_df.to_parquet(\"/content/drive/My Drive/datasets/idx_to_user.parquet\", index=False)\n",
        "playlist_df.to_parquet(\"/content/drive/My Drive/datasets/idx_to_playlist.parquet\", index=False)\n",
        "\n",
        "print(\"💾 Saved to:\")\n",
        "print(\"- /content/drive/My Drive/datasets/idx_to_user.parquet\")\n",
        "print(\"- /content/drive/My Drive/datasets/idx_to_playlist.parquet\")"
      ]
    },
    {
      "cell_type": "code",
      "execution_count": null,
      "metadata": {
        "colab": {
          "base_uri": "https://localhost:8080/"
        },
        "id": "h0Pog0B59odr",
        "outputId": "f0ad393e-6521-4b01-afdb-9effd97b975f"
      },
      "outputs": [
        {
          "name": "stdout",
          "output_type": "stream",
          "text": [
            "🔍 First 5 entries in user_to_idx mapping:\n",
            "1. user_id: b80344d063b5ccb3212f76538f3d9e43d87dca9e → index: 0\n",
            "2. user_id: 85c1f87fea955d09b4bec2e36aee110927aedf9a → index: 1\n",
            "3. user_id: bd4c6e843f00bd476847fb75c47b4fb430a06856 → index: 2\n",
            "4. user_id: 8937134734f869debcab8f23d77465b4caaa85df → index: 3\n",
            "5. user_id: 969cc6fb74e076a68e36a04409cb9d3765757508 → index: 4\n",
            "1019318\n"
          ]
        }
      ],
      "source": [
        "#Checking that everything went well. And it did :)\n",
        "print(\"First 5 entries in user_to_idx mapping:\")\n",
        "for i, (user_id, idx) in enumerate(user_to_idx.items()):\n",
        "    print(f\"{i+1}. user_id: {user_id} → index: {idx}\")\n",
        "    if i == 4:\n",
        "        break\n",
        "print(len(user_to_idx))"
      ]
    },
    {
      "cell_type": "markdown",
      "metadata": {
        "id": "PVJ0iE2wUJ9h"
      },
      "source": [
        "## Part 3.5) Getting the song count and saving into datasets both for users and playlists. This will be used for scoring the playlists for each user\n",
        "\n",
        "- For each user we need to know how many songs they have in their library\n",
        "- For each playlist we retrieve the amount of songs they have"
      ]
    },
    {
      "cell_type": "code",
      "execution_count": null,
      "metadata": {
        "colab": {
          "base_uri": "https://localhost:8080/"
        },
        "id": "-aiyJIBV9ocH",
        "outputId": "15c01997-c0c2-4a19-eb1b-7de3465030c5"
      },
      "outputs": [
        {
          "name": "stdout",
          "output_type": "stream",
          "text": [
            "📦 Processing ENTP user song counts with full RAM power...\n",
            "✅ Saved user song counts to /content/drive/My Drive/datasets/user_song_counts_idx.parquet\n",
            "\n",
            "📈 User Song Count Statistics:\n",
            "min   : 7.00\n",
            "p1    : 10.00\n",
            "p25   : 16.00\n",
            "median: 27.00\n",
            "mean  : 47.57\n",
            "p75   : 56.00\n",
            "p99   : 285.00\n",
            "max   : 4399.00\n"
          ]
        }
      ],
      "source": [
        "import pandas as pd\n",
        "import numpy as np\n",
        "import pickle\n",
        "\n",
        "# === Load mappings ===\n",
        "with open(\"/content/drive/My Drive/datasets/user_to_idx.pkl\", \"rb\") as f:\n",
        "    user_to_idx = pickle.load(f)\n",
        "with open(\"/content/drive/My Drive/datasets/song_to_id.pkl\", \"rb\") as f:\n",
        "    song_to_id = pickle.load(f)\n",
        "\n",
        "# === Load ENTP merged_df ===\n",
        "df = pd.read_parquet(\"/content/drive/My Drive/datasets/entp_data/merged_df.parquet\", columns=[\"user_id\", \"title\", \"artist_name\"])\n",
        "\n",
        "print(\"Processing ENTP user song counts with full RAM power...\")\n",
        "\n",
        "# === Normalize song_key using fast vectorized string ops\n",
        "df.dropna(subset=[\"user_id\", \"title\", \"artist_name\"], inplace=True)\n",
        "df[\"title\"] = df[\"title\"].str.strip().str.lower()\n",
        "df[\"artist_name\"] = df[\"artist_name\"].str.strip().str.lower()\n",
        "df[\"song_key\"] = df[\"title\"] + \"@@\" + df[\"artist_name\"]\n",
        "\n",
        "# === Filter to known songs\n",
        "df = df[df[\"song_key\"].isin(song_to_id)]\n",
        "\n",
        "# === Map user_id → user_idx\n",
        "df[\"user_idx\"] = df[\"user_id\"].map(user_to_idx)\n",
        "df = df[df[\"user_idx\"].notnull()]\n",
        "\n",
        "# === Count unique songs per user_idx\n",
        "user_song_counts = df.groupby(\"user_idx\")[\"song_key\"].nunique().reset_index()\n",
        "user_song_counts.columns = [\"user_idx\", \"song_count\"]\n",
        "\n",
        "# 💾 Save to disk\n",
        "output_path = \"/content/drive/My Drive/datasets/user_song_counts_idx.parquet\"\n",
        "user_song_counts.to_parquet(output_path, index=False)\n",
        "\n",
        "print(f\"✅ Saved user song counts to {output_path}\")\n",
        "\n",
        "# 📊 Compute statistics\n",
        "stats = {\n",
        "    \"min\": user_song_counts[\"song_count\"].min(),\n",
        "    \"p1\": np.percentile(user_song_counts[\"song_count\"], 1),\n",
        "    \"p25\": np.percentile(user_song_counts[\"song_count\"], 25),\n",
        "    \"median\": user_song_counts[\"song_count\"].median(),\n",
        "    \"mean\": user_song_counts[\"song_count\"].mean(),\n",
        "    \"p75\": np.percentile(user_song_counts[\"song_count\"], 75),\n",
        "    \"p99\": np.percentile(user_song_counts[\"song_count\"], 99),\n",
        "    \"max\": user_song_counts[\"song_count\"].max(),\n",
        "}\n",
        "\n",
        "# Show stats\n",
        "print(\"\\n📈 User Song Count Statistics:\")\n",
        "for k, v in stats.items():\n",
        "    print(f\"{k:<6}: {v:.2f}\")"
      ]
    },
    {
      "cell_type": "code",
      "execution_count": null,
      "metadata": {
        "colab": {
          "base_uri": "https://localhost:8080/"
        },
        "id": "OOJLCifxVKS7",
        "outputId": "e252b8fe-d300-45ab-d95a-99806ce6d78c"
      },
      "outputs": [
        {
          "name": "stdout",
          "output_type": "stream",
          "text": [
            "📦 Streaming and aggregating playlist–song mappings in chunks...\n"
          ]
        },
        {
          "name": "stderr",
          "output_type": "stream",
          "text": [
            "Parsing MPD slices: 100%|██████████| 947/947 [22:32<00:00,  1.43s/it]\n"
          ]
        },
        {
          "name": "stdout",
          "output_type": "stream",
          "text": [
            "\n",
            "✅ Saved playlist song counts to /content/drive/My Drive/datasets/playlist_song_counts_idx.parquet\n",
            "🎧 Processed 946000 playlists.\n"
          ]
        }
      ],
      "source": [
        "\n",
        "# Count songs per playlist using MPD JSONs\n",
        "import os\n",
        "import json\n",
        "import pickle\n",
        "import pandas as pd\n",
        "from tqdm import tqdm\n",
        "from collections import defaultdict\n",
        "\n",
        "# === Load mappings ===\n",
        "with open(\"/content/drive/My Drive/datasets/playlist_to_idx.pkl\", \"rb\") as f:\n",
        "    playlist_to_idx = pickle.load(f)\n",
        "\n",
        "with open(\"/content/drive/My Drive/datasets/song_to_id.pkl\", \"rb\") as f:\n",
        "    song_to_id = pickle.load(f)\n",
        "\n",
        "# === Path to MPD slices ===\n",
        "mpd_folder = \"/content/drive/My Drive/datasets/mpd_data\"\n",
        "json_files = sorted([f for f in os.listdir(mpd_folder) if f.endswith(\".json\")])\n",
        "\n",
        "print(\"Streaming and aggregating playlist–song mappings in chunks...\")\n",
        "\n",
        "# === Stream processing and periodic flushing ===\n",
        "batch_counts = defaultdict(set)\n",
        "all_counts = defaultdict(int)\n",
        "flush_every = 100  # Flush every 100 files\n",
        "\n",
        "for i, file in enumerate(tqdm(json_files, desc=\"Parsing MPD slices\")):\n",
        "    with open(os.path.join(mpd_folder, file), \"r\", encoding=\"utf-8\") as f:\n",
        "        try:\n",
        "            data = json.load(f)\n",
        "            for playlist in data[\"playlists\"]:\n",
        "                pid = playlist[\"pid\"]\n",
        "                playlist_idx = playlist_to_idx.get(pid)\n",
        "                if playlist_idx is None:\n",
        "                    continue\n",
        "                song_set = batch_counts[playlist_idx]\n",
        "                for track in playlist[\"tracks\"]:\n",
        "                    title = track.get(\"track_name\", \"\").strip().lower()\n",
        "                    artist = track.get(\"artist_name\", \"\").strip().lower()\n",
        "                    song_key = f\"{title}@@{artist}\"\n",
        "                    if song_key in song_to_id:\n",
        "                        song_set.add(song_key)\n",
        "        except json.JSONDecodeError:\n",
        "            continue\n",
        "\n",
        "    # Periodically flush\n",
        "    if (i + 1) % flush_every == 0 or (i + 1) == len(json_files):\n",
        "        for pid, songs in batch_counts.items():\n",
        "            all_counts[pid] += len(songs)\n",
        "        batch_counts.clear()\n",
        "\n",
        "# === Create DataFrame from final counts ===\n",
        "playlist_counts = pd.DataFrame(\n",
        "    list(all_counts.items()),\n",
        "    columns=[\"playlist_idx\", \"song_count\"]\n",
        ")\n",
        "\n",
        "# Save output\n",
        "output_path = \"/content/drive/My Drive/datasets/playlist_song_counts_idx.parquet\"\n",
        "playlist_counts.to_parquet(output_path, index=False)\n",
        "\n",
        "print(f\"\\n✅ Saved playlist song counts to {output_path}\")\n",
        "print(f\"🎧 Processed {len(playlist_counts)} playlists.\")\n"
      ]
    },
    {
      "cell_type": "markdown",
      "metadata": {
        "id": "_tJWjDu-IjaW"
      },
      "source": [
        "# Part 4) Calculating the scores per playlist for each suer\n",
        "\n",
        "\n",
        "The score between a user \\( i \\) and a playlist \\( j \\) is computed as:\n",
        "\n",
        "$$\n",
        "\\text{Score}_{ij} = \\frac{(1 - e) \\cdot \\log(1 + m) + e}{\\sqrt{s} \\times \\sqrt{p}}\n",
        "$$\n",
        "\n",
        "where:\n",
        "- \\( m \\) = number of song matches between user \\( i \\) and playlist \\( j \\)\n",
        "- \\( e \\) = exploration coefficient for user \\( i \\) (random between 0 and 1, skewed towards lower values, sampled from a Beta distribution)\n",
        "- \\( s \\) = total number of unique songs in user \\( i \\)'s library\n",
        "- \\( p \\) = total number of unique songs in playlist \\( j \\)\n",
        "\n",
        "Higher scores indicate playlists better aligned to the user's taste, with \\( e \\) adding randomness and exploration. We are normalizing by s and p."
      ]
    },
    {
      "cell_type": "code",
      "execution_count": null,
      "metadata": {
        "colab": {
          "base_uri": "https://localhost:8080/"
        },
        "id": "fJ4UU-6u-aC_",
        "outputId": "328b2308-b034-45d3-d2a5-1ef00b8f83f3"
      },
      "outputs": [
        {
          "output_type": "stream",
          "name": "stdout",
          "text": [
            "✅ Saved exploration_map to: /content/drive/My Drive/datasets/exploration_map.pkl\n"
          ]
        }
      ],
      "source": [
        "# Imports\n",
        "import os\n",
        "import numpy as np\n",
        "import pandas as pd\n",
        "from tqdm import tqdm\n",
        "import pickle\n",
        "import matplotlib.pyplot as plt\n",
        "\n",
        "np.random.seed(42)\n",
        "\n",
        "# Define paths\n",
        "drive_dir = \"/content/drive/My Drive/datasets\"\n",
        "input_dir = os.path.join(drive_dir, \"overlap_processed_fixed\")\n",
        "output_dir = os.path.join(drive_dir, \"userplaylist_score_slices\")\n",
        "os.makedirs(output_dir, exist_ok=True)\n",
        "\n",
        "# Configurable parameters\n",
        "exploration_shape = 2.5   # Tighter beta distribution\n",
        "exploration_scale = 0.2\n",
        "exploration_clip_max = 1.0\n",
        "liked_top_percentile = 2  # Top 2% playlists per user will be labeled as \"liked\"\n",
        "\n",
        "# Load user and playlist metadata\n",
        "user_song_counts = pd.read_parquet(os.path.join(drive_dir, \"user_song_counts_idx.parquet\"))\n",
        "playlist_song_counts = pd.read_parquet(os.path.join(drive_dir, \"playlist_song_counts_idx.parquet\"))\n",
        "\n",
        "# Create lookup dictionaries\n",
        "user_song_map = dict(zip(user_song_counts['user_idx'], user_song_counts['song_count']))\n",
        "playlist_song_map = dict(zip(playlist_song_counts['playlist_idx'], playlist_song_counts['song_count']))\n",
        "\n",
        "\n",
        " # Assign random exploration coefficients to users\n",
        "user_indices = user_song_counts['user_idx'].unique()\n",
        "exploration_coeffs = np.random.beta(a=1.3, b=3.3, size=len(user_indices))\n",
        "exploration_map = dict(zip(user_indices, exploration_coeffs))\n",
        "\n",
        "\n",
        "# Save exploration map for future use\n",
        "exploration_path = \"/content/drive/My Drive/datasets/exploration_map.pkl\"\n",
        "with open(exploration_path, \"wb\") as f:\n",
        "    pickle.dump(exploration_map, f)\n",
        "\n",
        "print(f\"✅ Saved exploration_map to: {exploration_path}\")"
      ]
    },
    {
      "cell_type": "code",
      "execution_count": null,
      "metadata": {
        "colab": {
          "base_uri": "https://localhost:8080/",
          "height": 669
        },
        "id": "4tJCzgNWOC2C",
        "outputId": "c3209450-86e2-4ce4-b2c7-1bd63834783f"
      },
      "outputs": [
        {
          "output_type": "stream",
          "name": "stdout",
          "text": [
            "\n",
            "📈 Exploration Coefficient Statistics:\n",
            "Min: 0.0000\n",
            "P1: 0.0096\n",
            "P25: 0.1287\n",
            "Median: 0.2496\n",
            "Mean: 0.2827\n",
            "P75: 0.4064\n",
            "P99: 0.7835\n",
            "Max: 0.9900\n"
          ]
        },
        {
          "output_type": "display_data",
          "data": {
            "text/plain": [
              "<Figure size 800x500 with 1 Axes>"
            ],
            "image/png": "[encoded data removed]"
          },
          "metadata": {}
        }
      ],
      "source": [
        "# Show exploration coefficient statistics\n",
        "print(\"\\n Exploration Coefficient Statistics:\")\n",
        "print(f\"Min: {exploration_coeffs.min():.4f}\")\n",
        "print(f\"P1: {np.percentile(exploration_coeffs, 1):.4f}\")\n",
        "print(f\"P25: {np.percentile(exploration_coeffs, 25):.4f}\")\n",
        "print(f\"Median: {np.median(exploration_coeffs):.4f}\")\n",
        "print(f\"Mean: {np.mean(exploration_coeffs):.4f}\")\n",
        "print(f\"P75: {np.percentile(exploration_coeffs, 75):.4f}\")\n",
        "print(f\"P99: {np.percentile(exploration_coeffs, 99):.4f}\")\n",
        "print(f\"Max: {exploration_coeffs.max():.4f}\")\n",
        "\n",
        "# Plot exploration coefficient distribution\n",
        "plt.figure(figsize=(8, 5))\n",
        "plt.hist(exploration_coeffs, bins=50, color='skyblue', edgecolor='black')\n",
        "plt.title(\"Exploration Coefficient Distribution\")\n",
        "plt.xlabel(\"Exploration Coefficient\")\n",
        "plt.ylabel(\"Number of Users\")\n",
        "plt.grid(True)\n",
        "plt.show()"
      ]
    },
    {
      "cell_type": "code",
      "execution_count": null,
      "metadata": {
        "colab": {
          "base_uri": "https://localhost:8080/"
        },
        "id": "Y7dCP_rUTXjd",
        "outputId": "1c3a2ac4-ae71-442a-e0ce-40f1aebaa4a2"
      },
      "outputs": [
        {
          "output_type": "stream",
          "name": "stdout",
          "text": [
            "Found 102 files. Example file: overlap_0_10000.parquet\n",
            "\n",
            "📋 Columns in sample parquet slice:\n",
            "['user_id', 'playlist_id', 'song_count']\n",
            "\n",
            "🔎 First few rows:\n",
            "   user_id  playlist_id  song_count\n",
            "0        0       910083           1\n",
            "1        0       881762           1\n",
            "2        0       640163           1\n",
            "3        0       579309           1\n",
            "4        0       568368           1\n"
          ]
        }
      ],
      "source": [
        "# Explore parquet files that have user, playlist, and number of song matches between both\n",
        "\n",
        "import pandas as pd\n",
        "import os\n",
        "\n",
        "\n",
        "# Path to your input directory\n",
        "input_dir = \"/content/drive/My Drive/datasets/overlap_processed\"\n",
        "\n",
        "# List available parquet files\n",
        "parquet_files = sorted(f for f in os.listdir(input_dir) if f.endswith(\".parquet\"))\n",
        "print(f\"Found {len(parquet_files)} files. Example file: {parquet_files[0]}\")\n",
        "\n",
        "# Load one file\n",
        "sample_file = os.path.join(input_dir, parquet_files[0])\n",
        "df = pd.read_parquet(sample_file)\n",
        "\n",
        "# Show column names\n",
        "print(\"\\n📋 Columns in sample parquet slice:\")\n",
        "print(df.columns.tolist())\n",
        "\n",
        "# Show a few rows\n",
        "print(\"\\n🔎 First few rows:\")\n",
        "print(df.head())"
      ]
    },
    {
      "cell_type": "markdown",
      "source": [
        "### Now we actually calculate the scores for all user-playlists"
      ],
      "metadata": {
        "id": "xrB_PW_FxHwt"
      }
    },
    {
      "cell_type": "code",
      "execution_count": null,
      "metadata": {
        "colab": {
          "base_uri": "https://localhost:8080/"
        },
        "id": "TBEIX7dXl5Ik",
        "outputId": "7bf3bd94-37c0-4d46-f09b-4e1c0f4d85fd"
      },
      "outputs": [
        {
          "output_type": "stream",
          "name": "stderr",
          "text": [
            "\r🧮 Processing slices (Polars Version):   0%|          | 0/102 [00:00<?, ?it/s]"
          ]
        },
        {
          "output_type": "stream",
          "name": "stdout",
          "text": [
            "✅ Median score of overlap_0_10000.parquet: 0.0125\n",
            "✅ Min score of overlap_0_10000.parquet: 0.0012\n",
            "✅ Max score of overlap_0_10000.parquet: 0.4773\n"
          ]
        },
        {
          "output_type": "stream",
          "name": "stderr",
          "text": [
            "\r🧮 Processing slices (Polars Version):   1%|          | 1/102 [02:19<3:54:25, 139.27s/it]"
          ]
        },
        {
          "output_type": "stream",
          "name": "stdout",
          "text": [
            "✅ Median score of overlap_1000000_1010000.parquet: 0.0125\n",
            "✅ Min score of overlap_1000000_1010000.parquet: 0.0013\n",
            "✅ Max score of overlap_1000000_1010000.parquet: 0.3854\n"
          ]
        },
        {
          "output_type": "stream",
          "name": "stderr",
          "text": [
            "\r🧮 Processing slices (Polars Version):   2%|▏         | 2/102 [04:51<4:04:52, 146.93s/it]"
          ]
        },
        {
          "output_type": "stream",
          "name": "stdout",
          "text": [
            "✅ Median score of overlap_100000_110000.parquet: 0.0125\n",
            "✅ Min score of overlap_100000_110000.parquet: 0.0016\n",
            "✅ Max score of overlap_100000_110000.parquet: 0.4255\n"
          ]
        },
        {
          "output_type": "stream",
          "name": "stderr",
          "text": [
            "\r🧮 Processing slices (Polars Version):   3%|▎         | 3/102 [06:54<3:44:38, 136.15s/it]"
          ]
        },
        {
          "output_type": "stream",
          "name": "stdout",
          "text": [
            "✅ Median score of overlap_10000_20000.parquet: 0.0124\n",
            "✅ Min score of overlap_10000_20000.parquet: 0.0014\n",
            "✅ Max score of overlap_10000_20000.parquet: 0.3654\n"
          ]
        },
        {
          "output_type": "stream",
          "name": "stderr",
          "text": [
            "\r🧮 Processing slices (Polars Version):   4%|▍         | 4/102 [09:05<3:38:55, 134.04s/it]"
          ]
        },
        {
          "output_type": "stream",
          "name": "stdout",
          "text": [
            "✅ Median score of overlap_1010000_1019318.parquet: 0.0126\n",
            "✅ Min score of overlap_1010000_1019318.parquet: 0.0015\n",
            "✅ Max score of overlap_1010000_1019318.parquet: 0.3757\n"
          ]
        },
        {
          "output_type": "stream",
          "name": "stderr",
          "text": [
            "\r🧮 Processing slices (Polars Version):   5%|▍         | 5/102 [11:00<3:25:28, 127.10s/it]"
          ]
        },
        {
          "output_type": "stream",
          "name": "stdout",
          "text": [
            "✅ Median score of overlap_110000_120000.parquet: 0.0125\n",
            "✅ Min score of overlap_110000_120000.parquet: 0.0016\n",
            "✅ Max score of overlap_110000_120000.parquet: 0.3625\n"
          ]
        },
        {
          "output_type": "stream",
          "name": "stderr",
          "text": [
            "\r🧮 Processing slices (Polars Version):   6%|▌         | 6/102 [13:19<3:29:44, 131.09s/it]"
          ]
        },
        {
          "output_type": "stream",
          "name": "stdout",
          "text": [
            "✅ Median score of overlap_120000_130000.parquet: 0.0123\n",
            "✅ Min score of overlap_120000_130000.parquet: 0.0015\n",
            "✅ Max score of overlap_120000_130000.parquet: 0.3578\n"
          ]
        },
        {
          "output_type": "stream",
          "name": "stderr",
          "text": [
            "\r🧮 Processing slices (Polars Version):   7%|▋         | 7/102 [15:19<3:22:06, 127.65s/it]"
          ]
        },
        {
          "output_type": "stream",
          "name": "stdout",
          "text": [
            "✅ Median score of overlap_130000_140000.parquet: 0.0125\n",
            "✅ Min score of overlap_130000_140000.parquet: 0.0015\n",
            "✅ Max score of overlap_130000_140000.parquet: 0.3612\n"
          ]
        },
        {
          "output_type": "stream",
          "name": "stderr",
          "text": [
            "\r🧮 Processing slices (Polars Version):   8%|▊         | 8/102 [17:33<3:23:07, 129.65s/it]"
          ]
        },
        {
          "output_type": "stream",
          "name": "stdout",
          "text": [
            "✅ Median score of overlap_140000_150000.parquet: 0.0126\n",
            "✅ Min score of overlap_140000_150000.parquet: 0.0015\n",
            "✅ Max score of overlap_140000_150000.parquet: 0.3664\n"
          ]
        },
        {
          "output_type": "stream",
          "name": "stderr",
          "text": [
            "\r🧮 Processing slices (Polars Version):   9%|▉         | 9/102 [19:30<3:14:28, 125.47s/it]"
          ]
        },
        {
          "output_type": "stream",
          "name": "stdout",
          "text": [
            "✅ Median score of overlap_150000_160000.parquet: 0.0125\n",
            "✅ Min score of overlap_150000_160000.parquet: 0.0016\n",
            "✅ Max score of overlap_150000_160000.parquet: 0.4078\n"
          ]
        },
        {
          "output_type": "stream",
          "name": "stderr",
          "text": [
            "\r🧮 Processing slices (Polars Version):  10%|▉         | 10/102 [21:33<3:11:14, 124.73s/it]"
          ]
        },
        {
          "output_type": "stream",
          "name": "stdout",
          "text": [
            "✅ Median score of overlap_160000_170000.parquet: 0.0125\n",
            "✅ Min score of overlap_160000_170000.parquet: 0.0013\n",
            "✅ Max score of overlap_160000_170000.parquet: 0.4663\n"
          ]
        },
        {
          "output_type": "stream",
          "name": "stderr",
          "text": [
            "\r🧮 Processing slices (Polars Version):  11%|█         | 11/102 [23:36<3:08:38, 124.37s/it]"
          ]
        },
        {
          "output_type": "stream",
          "name": "stdout",
          "text": [
            "✅ Median score of overlap_170000_180000.parquet: 0.0125\n",
            "✅ Min score of overlap_170000_180000.parquet: 0.0015\n",
            "✅ Max score of overlap_170000_180000.parquet: 0.4911\n"
          ]
        },
        {
          "output_type": "stream",
          "name": "stderr",
          "text": [
            "\r🧮 Processing slices (Polars Version):  12%|█▏        | 12/102 [25:37<3:04:52, 123.25s/it]"
          ]
        },
        {
          "output_type": "stream",
          "name": "stdout",
          "text": [
            "✅ Median score of overlap_180000_190000.parquet: 0.0124\n",
            "✅ Min score of overlap_180000_190000.parquet: 0.0017\n",
            "✅ Max score of overlap_180000_190000.parquet: 0.3936\n"
          ]
        },
        {
          "output_type": "stream",
          "name": "stderr",
          "text": [
            "\r🧮 Processing slices (Polars Version):  13%|█▎        | 13/102 [27:35<3:00:43, 121.84s/it]"
          ]
        },
        {
          "output_type": "stream",
          "name": "stdout",
          "text": [
            "✅ Median score of overlap_190000_200000.parquet: 0.0125\n",
            "✅ Min score of overlap_190000_200000.parquet: 0.0015\n",
            "✅ Max score of overlap_190000_200000.parquet: 0.4760\n"
          ]
        },
        {
          "output_type": "stream",
          "name": "stderr",
          "text": [
            "\r🧮 Processing slices (Polars Version):  14%|█▎        | 14/102 [29:44<3:01:26, 123.71s/it]"
          ]
        },
        {
          "output_type": "stream",
          "name": "stdout",
          "text": [
            "✅ Median score of overlap_200000_210000.parquet: 0.0124\n",
            "✅ Min score of overlap_200000_210000.parquet: 0.0016\n",
            "✅ Max score of overlap_200000_210000.parquet: 0.3882\n"
          ]
        },
        {
          "output_type": "stream",
          "name": "stderr",
          "text": [
            "\r🧮 Processing slices (Polars Version):  15%|█▍        | 15/102 [31:48<2:59:48, 124.00s/it]"
          ]
        },
        {
          "output_type": "stream",
          "name": "stdout",
          "text": [
            "✅ Median score of overlap_20000_30000.parquet: 0.0127\n",
            "✅ Min score of overlap_20000_30000.parquet: 0.0018\n",
            "✅ Max score of overlap_20000_30000.parquet: 0.3302\n"
          ]
        },
        {
          "output_type": "stream",
          "name": "stderr",
          "text": [
            "\r🧮 Processing slices (Polars Version):  16%|█▌        | 16/102 [33:49<2:56:16, 122.98s/it]"
          ]
        },
        {
          "output_type": "stream",
          "name": "stdout",
          "text": [
            "✅ Median score of overlap_210000_220000.parquet: 0.0124\n",
            "✅ Min score of overlap_210000_220000.parquet: 0.0016\n",
            "✅ Max score of overlap_210000_220000.parquet: 0.3764\n"
          ]
        },
        {
          "output_type": "stream",
          "name": "stderr",
          "text": [
            "\r🧮 Processing slices (Polars Version):  17%|█▋        | 17/102 [35:57<2:56:21, 124.49s/it]"
          ]
        },
        {
          "output_type": "stream",
          "name": "stdout",
          "text": [
            "✅ Median score of overlap_220000_230000.parquet: 0.0124\n",
            "✅ Min score of overlap_220000_230000.parquet: 0.0014\n",
            "✅ Max score of overlap_220000_230000.parquet: 0.3617\n"
          ]
        },
        {
          "output_type": "stream",
          "name": "stderr",
          "text": [
            "\r🧮 Processing slices (Polars Version):  18%|█▊        | 18/102 [38:04<2:55:13, 125.17s/it]"
          ]
        },
        {
          "output_type": "stream",
          "name": "stdout",
          "text": [
            "✅ Median score of overlap_230000_240000.parquet: 0.0124\n",
            "✅ Min score of overlap_230000_240000.parquet: 0.0013\n",
            "✅ Max score of overlap_230000_240000.parquet: 0.3540\n"
          ]
        },
        {
          "output_type": "stream",
          "name": "stderr",
          "text": [
            "\r🧮 Processing slices (Polars Version):  19%|█▊        | 19/102 [40:13<2:54:46, 126.34s/it]"
          ]
        },
        {
          "output_type": "stream",
          "name": "stdout",
          "text": [
            "✅ Median score of overlap_240000_250000.parquet: 0.0126\n",
            "✅ Min score of overlap_240000_250000.parquet: 0.0014\n",
            "✅ Max score of overlap_240000_250000.parquet: 0.4905\n"
          ]
        },
        {
          "output_type": "stream",
          "name": "stderr",
          "text": [
            "\r🧮 Processing slices (Polars Version):  20%|█▉        | 20/102 [42:42<3:02:03, 133.21s/it]"
          ]
        },
        {
          "output_type": "stream",
          "name": "stdout",
          "text": [
            "✅ Median score of overlap_250000_260000.parquet: 0.0124\n",
            "✅ Min score of overlap_250000_260000.parquet: 0.0015\n",
            "✅ Max score of overlap_250000_260000.parquet: 0.3653\n"
          ]
        },
        {
          "output_type": "stream",
          "name": "stderr",
          "text": [
            "\r🧮 Processing slices (Polars Version):  21%|██        | 21/102 [45:05<3:03:46, 136.13s/it]"
          ]
        },
        {
          "output_type": "stream",
          "name": "stdout",
          "text": [
            "✅ Median score of overlap_260000_270000.parquet: 0.0125\n",
            "✅ Min score of overlap_260000_270000.parquet: 0.0013\n",
            "✅ Max score of overlap_260000_270000.parquet: 0.3628\n"
          ]
        },
        {
          "output_type": "stream",
          "name": "stderr",
          "text": [
            "\r🧮 Processing slices (Polars Version):  22%|██▏       | 22/102 [47:21<3:01:40, 136.26s/it]"
          ]
        },
        {
          "output_type": "stream",
          "name": "stdout",
          "text": [
            "✅ Median score of overlap_270000_280000.parquet: 0.0125\n",
            "✅ Min score of overlap_270000_280000.parquet: 0.0016\n",
            "✅ Max score of overlap_270000_280000.parquet: 0.3740\n"
          ]
        },
        {
          "output_type": "stream",
          "name": "stderr",
          "text": [
            "\r🧮 Processing slices (Polars Version):  23%|██▎       | 23/102 [50:01<3:08:43, 143.34s/it]"
          ]
        },
        {
          "output_type": "stream",
          "name": "stdout",
          "text": [
            "✅ Median score of overlap_280000_290000.parquet: 0.0128\n",
            "✅ Min score of overlap_280000_290000.parquet: 0.0014\n",
            "✅ Max score of overlap_280000_290000.parquet: 0.3618\n"
          ]
        },
        {
          "output_type": "stream",
          "name": "stderr",
          "text": [
            "\r🧮 Processing slices (Polars Version):  24%|██▎       | 24/102 [52:10<3:00:43, 139.01s/it]"
          ]
        },
        {
          "output_type": "stream",
          "name": "stdout",
          "text": [
            "✅ Median score of overlap_290000_300000.parquet: 0.0126\n",
            "✅ Min score of overlap_290000_300000.parquet: 0.0017\n",
            "✅ Max score of overlap_290000_300000.parquet: 0.4179\n"
          ]
        },
        {
          "output_type": "stream",
          "name": "stderr",
          "text": [
            "\r🧮 Processing slices (Polars Version):  25%|██▍       | 25/102 [54:41<3:02:47, 142.43s/it]"
          ]
        },
        {
          "output_type": "stream",
          "name": "stdout",
          "text": [
            "✅ Median score of overlap_300000_310000.parquet: 0.0124\n",
            "✅ Min score of overlap_300000_310000.parquet: 0.0015\n",
            "✅ Max score of overlap_300000_310000.parquet: 0.3922\n"
          ]
        },
        {
          "output_type": "stream",
          "name": "stderr",
          "text": [
            "\r🧮 Processing slices (Polars Version):  25%|██▌       | 26/102 [56:50<2:55:30, 138.56s/it]"
          ]
        },
        {
          "output_type": "stream",
          "name": "stdout",
          "text": [
            "✅ Median score of overlap_30000_40000.parquet: 0.0125\n",
            "✅ Min score of overlap_30000_40000.parquet: 0.0013\n",
            "✅ Max score of overlap_30000_40000.parquet: 0.3613\n"
          ]
        },
        {
          "output_type": "stream",
          "name": "stderr",
          "text": [
            "\r🧮 Processing slices (Polars Version):  26%|██▋       | 27/102 [59:16<2:55:55, 140.73s/it]"
          ]
        },
        {
          "output_type": "stream",
          "name": "stdout",
          "text": [
            "✅ Median score of overlap_310000_320000.parquet: 0.0127\n",
            "✅ Min score of overlap_310000_320000.parquet: 0.0012\n",
            "✅ Max score of overlap_310000_320000.parquet: 0.3900\n"
          ]
        },
        {
          "output_type": "stream",
          "name": "stderr",
          "text": [
            "\r🧮 Processing slices (Polars Version):  27%|██▋       | 28/102 [1:01:47<2:57:34, 143.98s/it]"
          ]
        },
        {
          "output_type": "stream",
          "name": "stdout",
          "text": [
            "✅ Median score of overlap_320000_330000.parquet: 0.0126\n",
            "✅ Min score of overlap_320000_330000.parquet: 0.0015\n",
            "✅ Max score of overlap_320000_330000.parquet: 0.3823\n"
          ]
        },
        {
          "output_type": "stream",
          "name": "stderr",
          "text": [
            "\r🧮 Processing slices (Polars Version):  28%|██▊       | 29/102 [1:03:53<2:48:36, 138.58s/it]"
          ]
        },
        {
          "output_type": "stream",
          "name": "stdout",
          "text": [
            "✅ Median score of overlap_330000_340000.parquet: 0.0125\n",
            "✅ Min score of overlap_330000_340000.parquet: 0.0016\n",
            "✅ Max score of overlap_330000_340000.parquet: 0.4055\n"
          ]
        },
        {
          "output_type": "stream",
          "name": "stderr",
          "text": [
            "\r🧮 Processing slices (Polars Version):  29%|██▉       | 30/102 [1:06:21<2:49:27, 141.22s/it]"
          ]
        },
        {
          "output_type": "stream",
          "name": "stdout",
          "text": [
            "✅ Median score of overlap_340000_350000.parquet: 0.0126\n",
            "✅ Min score of overlap_340000_350000.parquet: 0.0015\n",
            "✅ Max score of overlap_340000_350000.parquet: 0.3625\n"
          ]
        },
        {
          "output_type": "stream",
          "name": "stderr",
          "text": [
            "\r🧮 Processing slices (Polars Version):  30%|███       | 31/102 [1:08:45<2:48:04, 142.03s/it]"
          ]
        },
        {
          "output_type": "stream",
          "name": "stdout",
          "text": [
            "✅ Median score of overlap_350000_360000.parquet: 0.0126\n",
            "✅ Min score of overlap_350000_360000.parquet: 0.0014\n",
            "✅ Max score of overlap_350000_360000.parquet: 0.3774\n"
          ]
        },
        {
          "output_type": "stream",
          "name": "stderr",
          "text": [
            "\r🧮 Processing slices (Polars Version):  31%|███▏      | 32/102 [1:10:53<2:40:50, 137.87s/it]"
          ]
        },
        {
          "output_type": "stream",
          "name": "stdout",
          "text": [
            "✅ Median score of overlap_360000_370000.parquet: 0.0125\n",
            "✅ Min score of overlap_360000_370000.parquet: 0.0016\n",
            "✅ Max score of overlap_360000_370000.parquet: 0.3856\n"
          ]
        },
        {
          "output_type": "stream",
          "name": "stderr",
          "text": [
            "\r🧮 Processing slices (Polars Version):  32%|███▏      | 33/102 [1:13:08<2:37:39, 137.09s/it]"
          ]
        },
        {
          "output_type": "stream",
          "name": "stdout",
          "text": [
            "✅ Median score of overlap_370000_380000.parquet: 0.0125\n",
            "✅ Min score of overlap_370000_380000.parquet: 0.0016\n",
            "✅ Max score of overlap_370000_380000.parquet: 0.4007\n"
          ]
        },
        {
          "output_type": "stream",
          "name": "stderr",
          "text": [
            "\r🧮 Processing slices (Polars Version):  33%|███▎      | 34/102 [1:15:27<2:35:51, 137.53s/it]"
          ]
        },
        {
          "output_type": "stream",
          "name": "stdout",
          "text": [
            "✅ Median score of overlap_380000_390000.parquet: 0.0127\n",
            "✅ Min score of overlap_380000_390000.parquet: 0.0016\n",
            "✅ Max score of overlap_380000_390000.parquet: 0.3988\n"
          ]
        },
        {
          "output_type": "stream",
          "name": "stderr",
          "text": [
            "\r🧮 Processing slices (Polars Version):  34%|███▍      | 35/102 [1:17:29<2:28:20, 132.84s/it]"
          ]
        },
        {
          "output_type": "stream",
          "name": "stdout",
          "text": [
            "✅ Median score of overlap_390000_400000.parquet: 0.0126\n",
            "✅ Min score of overlap_390000_400000.parquet: 0.0013\n",
            "✅ Max score of overlap_390000_400000.parquet: 0.3587\n"
          ]
        },
        {
          "output_type": "stream",
          "name": "stderr",
          "text": [
            "\r🧮 Processing slices (Polars Version):  35%|███▌      | 36/102 [1:19:39<2:25:12, 132.01s/it]"
          ]
        },
        {
          "output_type": "stream",
          "name": "stdout",
          "text": [
            "✅ Median score of overlap_400000_410000.parquet: 0.0126\n",
            "✅ Min score of overlap_400000_410000.parquet: 0.0012\n",
            "✅ Max score of overlap_400000_410000.parquet: 0.3495\n"
          ]
        },
        {
          "output_type": "stream",
          "name": "stderr",
          "text": [
            "\r🧮 Processing slices (Polars Version):  36%|███▋      | 37/102 [1:22:11<2:29:43, 138.21s/it]"
          ]
        },
        {
          "output_type": "stream",
          "name": "stdout",
          "text": [
            "✅ Median score of overlap_40000_50000.parquet: 0.0124\n",
            "✅ Min score of overlap_40000_50000.parquet: 0.0015\n",
            "✅ Max score of overlap_40000_50000.parquet: 0.3805\n"
          ]
        },
        {
          "output_type": "stream",
          "name": "stderr",
          "text": [
            "\r🧮 Processing slices (Polars Version):  37%|███▋      | 38/102 [1:24:40<2:30:48, 141.38s/it]"
          ]
        },
        {
          "output_type": "stream",
          "name": "stdout",
          "text": [
            "✅ Median score of overlap_410000_420000.parquet: 0.0126\n",
            "✅ Min score of overlap_410000_420000.parquet: 0.0015\n",
            "✅ Max score of overlap_410000_420000.parquet: 0.5437\n"
          ]
        },
        {
          "output_type": "stream",
          "name": "stderr",
          "text": [
            "\r🧮 Processing slices (Polars Version):  38%|███▊      | 39/102 [1:26:45<2:23:10, 136.36s/it]"
          ]
        },
        {
          "output_type": "stream",
          "name": "stdout",
          "text": [
            "✅ Median score of overlap_420000_430000.parquet: 0.0126\n",
            "✅ Min score of overlap_420000_430000.parquet: 0.0017\n",
            "✅ Max score of overlap_420000_430000.parquet: 0.3708\n"
          ]
        },
        {
          "output_type": "stream",
          "name": "stderr",
          "text": [
            "\r🧮 Processing slices (Polars Version):  39%|███▉      | 40/102 [1:29:05<2:22:03, 137.47s/it]"
          ]
        },
        {
          "output_type": "stream",
          "name": "stdout",
          "text": [
            "✅ Median score of overlap_430000_440000.parquet: 0.0126\n",
            "✅ Min score of overlap_430000_440000.parquet: 0.0017\n",
            "✅ Max score of overlap_430000_440000.parquet: 0.3877\n"
          ]
        },
        {
          "output_type": "stream",
          "name": "stderr",
          "text": [
            "\r🧮 Processing slices (Polars Version):  40%|████      | 41/102 [1:31:10<2:16:08, 133.91s/it]"
          ]
        },
        {
          "output_type": "stream",
          "name": "stdout",
          "text": [
            "✅ Median score of overlap_440000_450000.parquet: 0.0126\n",
            "✅ Min score of overlap_440000_450000.parquet: 0.0014\n",
            "✅ Max score of overlap_440000_450000.parquet: 0.3730\n"
          ]
        },
        {
          "output_type": "stream",
          "name": "stderr",
          "text": [
            "\r🧮 Processing slices (Polars Version):  41%|████      | 42/102 [1:32:58<2:05:59, 125.98s/it]"
          ]
        },
        {
          "output_type": "stream",
          "name": "stdout",
          "text": [
            "✅ Median score of overlap_450000_460000.parquet: 0.0126\n",
            "✅ Min score of overlap_450000_460000.parquet: 0.0019\n",
            "✅ Max score of overlap_450000_460000.parquet: 0.3626\n"
          ]
        },
        {
          "output_type": "stream",
          "name": "stderr",
          "text": [
            "\r🧮 Processing slices (Polars Version):  42%|████▏     | 43/102 [1:34:55<2:01:08, 123.19s/it]"
          ]
        },
        {
          "output_type": "stream",
          "name": "stdout",
          "text": [
            "✅ Median score of overlap_460000_470000.parquet: 0.0126\n",
            "✅ Min score of overlap_460000_470000.parquet: 0.0013\n",
            "✅ Max score of overlap_460000_470000.parquet: 0.3907\n"
          ]
        },
        {
          "output_type": "stream",
          "name": "stderr",
          "text": [
            "\r🧮 Processing slices (Polars Version):  43%|████▎     | 44/102 [1:37:15<2:03:59, 128.26s/it]"
          ]
        },
        {
          "output_type": "stream",
          "name": "stdout",
          "text": [
            "✅ Median score of overlap_470000_480000.parquet: 0.0126\n",
            "✅ Min score of overlap_470000_480000.parquet: 0.0016\n",
            "✅ Max score of overlap_470000_480000.parquet: 0.3792\n"
          ]
        },
        {
          "output_type": "stream",
          "name": "stderr",
          "text": [
            "\r🧮 Processing slices (Polars Version):  44%|████▍     | 45/102 [1:39:12<1:58:49, 125.07s/it]"
          ]
        },
        {
          "output_type": "stream",
          "name": "stdout",
          "text": [
            "✅ Median score of overlap_480000_490000.parquet: 0.0126\n",
            "✅ Min score of overlap_480000_490000.parquet: 0.0017\n",
            "✅ Max score of overlap_480000_490000.parquet: 0.3989\n"
          ]
        },
        {
          "output_type": "stream",
          "name": "stderr",
          "text": [
            "\r🧮 Processing slices (Polars Version):  45%|████▌     | 46/102 [1:41:02<1:52:24, 120.44s/it]"
          ]
        },
        {
          "output_type": "stream",
          "name": "stdout",
          "text": [
            "✅ Median score of overlap_490000_500000.parquet: 0.0127\n",
            "✅ Min score of overlap_490000_500000.parquet: 0.0014\n",
            "✅ Max score of overlap_490000_500000.parquet: 0.3709\n"
          ]
        },
        {
          "output_type": "stream",
          "name": "stderr",
          "text": [
            "\r🧮 Processing slices (Polars Version):  46%|████▌     | 47/102 [1:42:47<1:46:09, 115.80s/it]"
          ]
        },
        {
          "output_type": "stream",
          "name": "stdout",
          "text": [
            "✅ Median score of overlap_500000_510000.parquet: 0.0126\n",
            "✅ Min score of overlap_500000_510000.parquet: 0.0013\n",
            "✅ Max score of overlap_500000_510000.parquet: 0.3735\n"
          ]
        },
        {
          "output_type": "stream",
          "name": "stderr",
          "text": [
            "\r🧮 Processing slices (Polars Version):  47%|████▋     | 48/102 [1:45:05<1:50:11, 122.44s/it]"
          ]
        },
        {
          "output_type": "stream",
          "name": "stdout",
          "text": [
            "✅ Median score of overlap_50000_60000.parquet: 0.0125\n",
            "✅ Min score of overlap_50000_60000.parquet: 0.0014\n",
            "✅ Max score of overlap_50000_60000.parquet: 0.4131\n"
          ]
        },
        {
          "output_type": "stream",
          "name": "stderr",
          "text": [
            "\r🧮 Processing slices (Polars Version):  48%|████▊     | 49/102 [1:47:23<1:52:25, 127.27s/it]"
          ]
        },
        {
          "output_type": "stream",
          "name": "stdout",
          "text": [
            "✅ Median score of overlap_510000_520000.parquet: 0.0124\n",
            "✅ Min score of overlap_510000_520000.parquet: 0.0015\n",
            "✅ Max score of overlap_510000_520000.parquet: 0.4690\n"
          ]
        },
        {
          "output_type": "stream",
          "name": "stderr",
          "text": [
            "\r🧮 Processing slices (Polars Version):  49%|████▉     | 50/102 [1:49:34<1:51:07, 128.21s/it]"
          ]
        },
        {
          "output_type": "stream",
          "name": "stdout",
          "text": [
            "✅ Median score of overlap_520000_530000.parquet: 0.0126\n",
            "✅ Min score of overlap_520000_530000.parquet: 0.0018\n",
            "✅ Max score of overlap_520000_530000.parquet: 0.4657\n"
          ]
        },
        {
          "output_type": "stream",
          "name": "stderr",
          "text": [
            "\r🧮 Processing slices (Polars Version):  50%|█████     | 51/102 [1:51:35<1:47:12, 126.13s/it]"
          ]
        },
        {
          "output_type": "stream",
          "name": "stdout",
          "text": [
            "✅ Median score of overlap_530000_540000.parquet: 0.0124\n",
            "✅ Min score of overlap_530000_540000.parquet: 0.0015\n",
            "✅ Max score of overlap_530000_540000.parquet: 0.3856\n"
          ]
        },
        {
          "output_type": "stream",
          "name": "stderr",
          "text": [
            "\r🧮 Processing slices (Polars Version):  51%|█████     | 52/102 [1:53:43<1:45:28, 126.58s/it]"
          ]
        },
        {
          "output_type": "stream",
          "name": "stdout",
          "text": [
            "✅ Median score of overlap_540000_550000.parquet: 0.0124\n",
            "✅ Min score of overlap_540000_550000.parquet: 0.0014\n",
            "✅ Max score of overlap_540000_550000.parquet: 0.3500\n"
          ]
        },
        {
          "output_type": "stream",
          "name": "stderr",
          "text": [
            "\r🧮 Processing slices (Polars Version):  52%|█████▏    | 53/102 [1:56:00<1:45:57, 129.75s/it]"
          ]
        },
        {
          "output_type": "stream",
          "name": "stdout",
          "text": [
            "✅ Median score of overlap_550000_560000.parquet: 0.0123\n",
            "✅ Min score of overlap_550000_560000.parquet: 0.0017\n",
            "✅ Max score of overlap_550000_560000.parquet: 0.3449\n"
          ]
        },
        {
          "output_type": "stream",
          "name": "stderr",
          "text": [
            "\r🧮 Processing slices (Polars Version):  53%|█████▎    | 54/102 [1:58:14<1:44:45, 130.94s/it]"
          ]
        },
        {
          "output_type": "stream",
          "name": "stdout",
          "text": [
            "✅ Median score of overlap_560000_570000.parquet: 0.0124\n",
            "✅ Min score of overlap_560000_570000.parquet: 0.0018\n",
            "✅ Max score of overlap_560000_570000.parquet: 0.4544\n"
          ]
        },
        {
          "output_type": "stream",
          "name": "stderr",
          "text": [
            "\r🧮 Processing slices (Polars Version):  54%|█████▍    | 55/102 [2:00:24<1:42:20, 130.65s/it]"
          ]
        },
        {
          "output_type": "stream",
          "name": "stdout",
          "text": [
            "✅ Median score of overlap_570000_580000.parquet: 0.0125\n",
            "✅ Min score of overlap_570000_580000.parquet: 0.0015\n",
            "✅ Max score of overlap_570000_580000.parquet: 0.3773\n"
          ]
        },
        {
          "output_type": "stream",
          "name": "stderr",
          "text": [
            "\r🧮 Processing slices (Polars Version):  55%|█████▍    | 56/102 [2:02:13<1:35:18, 124.32s/it]"
          ]
        },
        {
          "output_type": "stream",
          "name": "stdout",
          "text": [
            "✅ Median score of overlap_580000_590000.parquet: 0.0125\n",
            "✅ Min score of overlap_580000_590000.parquet: 0.0015\n",
            "✅ Max score of overlap_580000_590000.parquet: 0.3495\n"
          ]
        },
        {
          "output_type": "stream",
          "name": "stderr",
          "text": [
            "\r🧮 Processing slices (Polars Version):  56%|█████▌    | 57/102 [2:04:27<1:35:27, 127.28s/it]"
          ]
        },
        {
          "output_type": "stream",
          "name": "stdout",
          "text": [
            "✅ Median score of overlap_590000_600000.parquet: 0.0124\n",
            "✅ Min score of overlap_590000_600000.parquet: 0.0016\n",
            "✅ Max score of overlap_590000_600000.parquet: 0.4216\n"
          ]
        },
        {
          "output_type": "stream",
          "name": "stderr",
          "text": [
            "\r🧮 Processing slices (Polars Version):  57%|█████▋    | 58/102 [2:06:30<1:32:23, 125.98s/it]"
          ]
        },
        {
          "output_type": "stream",
          "name": "stdout",
          "text": [
            "✅ Median score of overlap_600000_610000.parquet: 0.0124\n",
            "✅ Min score of overlap_600000_610000.parquet: 0.0014\n",
            "✅ Max score of overlap_600000_610000.parquet: 0.3440\n"
          ]
        },
        {
          "output_type": "stream",
          "name": "stderr",
          "text": [
            "\r🧮 Processing slices (Polars Version):  58%|█████▊    | 59/102 [2:08:28<1:28:34, 123.58s/it]"
          ]
        },
        {
          "output_type": "stream",
          "name": "stdout",
          "text": [
            "✅ Median score of overlap_60000_70000.parquet: 0.0125\n",
            "✅ Min score of overlap_60000_70000.parquet: 0.0015\n",
            "✅ Max score of overlap_60000_70000.parquet: 0.4397\n"
          ]
        },
        {
          "output_type": "stream",
          "name": "stderr",
          "text": [
            "\r🧮 Processing slices (Polars Version):  59%|█████▉    | 60/102 [2:10:36<1:27:22, 124.83s/it]"
          ]
        },
        {
          "output_type": "stream",
          "name": "stdout",
          "text": [
            "✅ Median score of overlap_610000_620000.parquet: 0.0123\n",
            "✅ Min score of overlap_610000_620000.parquet: 0.0013\n",
            "✅ Max score of overlap_610000_620000.parquet: 0.3644\n"
          ]
        },
        {
          "output_type": "stream",
          "name": "stderr",
          "text": [
            "\r🧮 Processing slices (Polars Version):  60%|█████▉    | 61/102 [2:12:42<1:25:33, 125.21s/it]"
          ]
        },
        {
          "output_type": "stream",
          "name": "stdout",
          "text": [
            "✅ Median score of overlap_620000_630000.parquet: 0.0126\n",
            "✅ Min score of overlap_620000_630000.parquet: 0.0015\n",
            "✅ Max score of overlap_620000_630000.parquet: 0.3778\n"
          ]
        },
        {
          "output_type": "stream",
          "name": "stderr",
          "text": [
            "\r🧮 Processing slices (Polars Version):  61%|██████    | 62/102 [2:14:37<1:21:26, 122.16s/it]"
          ]
        },
        {
          "output_type": "stream",
          "name": "stdout",
          "text": [
            "✅ Median score of overlap_630000_640000.parquet: 0.0126\n",
            "✅ Min score of overlap_630000_640000.parquet: 0.0007\n",
            "✅ Max score of overlap_630000_640000.parquet: 0.3718\n"
          ]
        },
        {
          "output_type": "stream",
          "name": "stderr",
          "text": [
            "\r🧮 Processing slices (Polars Version):  62%|██████▏   | 63/102 [2:16:35<1:18:32, 120.82s/it]"
          ]
        },
        {
          "output_type": "stream",
          "name": "stdout",
          "text": [
            "✅ Median score of overlap_640000_650000.parquet: 0.0124\n",
            "✅ Min score of overlap_640000_650000.parquet: 0.0016\n",
            "✅ Max score of overlap_640000_650000.parquet: 0.3628\n"
          ]
        },
        {
          "output_type": "stream",
          "name": "stderr",
          "text": [
            "\r🧮 Processing slices (Polars Version):  63%|██████▎   | 64/102 [2:18:56<1:20:29, 127.08s/it]"
          ]
        },
        {
          "output_type": "stream",
          "name": "stdout",
          "text": [
            "✅ Median score of overlap_650000_660000.parquet: 0.0122\n",
            "✅ Min score of overlap_650000_660000.parquet: 0.0016\n",
            "✅ Max score of overlap_650000_660000.parquet: 0.3992\n"
          ]
        },
        {
          "output_type": "stream",
          "name": "stderr",
          "text": [
            "\r🧮 Processing slices (Polars Version):  64%|██████▎   | 65/102 [2:21:34<1:23:56, 136.12s/it]"
          ]
        },
        {
          "output_type": "stream",
          "name": "stdout",
          "text": [
            "✅ Median score of overlap_660000_670000.parquet: 0.0125\n",
            "✅ Min score of overlap_660000_670000.parquet: 0.0014\n",
            "✅ Max score of overlap_660000_670000.parquet: 0.3388\n"
          ]
        },
        {
          "output_type": "stream",
          "name": "stderr",
          "text": [
            "\r🧮 Processing slices (Polars Version):  65%|██████▍   | 66/102 [2:23:51<1:21:49, 136.38s/it]"
          ]
        },
        {
          "output_type": "stream",
          "name": "stdout",
          "text": [
            "✅ Median score of overlap_670000_680000.parquet: 0.0123\n",
            "✅ Min score of overlap_670000_680000.parquet: 0.0015\n",
            "✅ Max score of overlap_670000_680000.parquet: 0.3755\n"
          ]
        },
        {
          "output_type": "stream",
          "name": "stderr",
          "text": [
            "\r🧮 Processing slices (Polars Version):  66%|██████▌   | 67/102 [2:26:22<1:22:11, 140.90s/it]"
          ]
        },
        {
          "output_type": "stream",
          "name": "stdout",
          "text": [
            "✅ Median score of overlap_680000_690000.parquet: 0.0127\n",
            "✅ Min score of overlap_680000_690000.parquet: 0.0017\n",
            "✅ Max score of overlap_680000_690000.parquet: 0.3850\n"
          ]
        },
        {
          "output_type": "stream",
          "name": "stderr",
          "text": [
            "\r🧮 Processing slices (Polars Version):  67%|██████▋   | 68/102 [2:28:18<1:15:36, 133.42s/it]"
          ]
        },
        {
          "output_type": "stream",
          "name": "stdout",
          "text": [
            "✅ Median score of overlap_690000_700000.parquet: 0.0126\n",
            "✅ Min score of overlap_690000_700000.parquet: 0.0014\n",
            "✅ Max score of overlap_690000_700000.parquet: 0.3591\n"
          ]
        },
        {
          "output_type": "stream",
          "name": "stderr",
          "text": [
            "\r🧮 Processing slices (Polars Version):  68%|██████▊   | 69/102 [2:30:28<1:12:51, 132.48s/it]"
          ]
        },
        {
          "output_type": "stream",
          "name": "stdout",
          "text": [
            "✅ Median score of overlap_700000_710000.parquet: 0.0126\n",
            "✅ Min score of overlap_700000_710000.parquet: 0.0017\n",
            "✅ Max score of overlap_700000_710000.parquet: 0.3666\n"
          ]
        },
        {
          "output_type": "stream",
          "name": "stderr",
          "text": [
            "\r🧮 Processing slices (Polars Version):  69%|██████▊   | 70/102 [2:32:24<1:07:55, 127.35s/it]"
          ]
        },
        {
          "output_type": "stream",
          "name": "stdout",
          "text": [
            "✅ Median score of overlap_70000_80000.parquet: 0.0123\n",
            "✅ Min score of overlap_70000_80000.parquet: 0.0015\n",
            "✅ Max score of overlap_70000_80000.parquet: 0.3774\n"
          ]
        },
        {
          "output_type": "stream",
          "name": "stderr",
          "text": [
            "\r🧮 Processing slices (Polars Version):  70%|██████▉   | 71/102 [2:34:36<1:06:33, 128.83s/it]"
          ]
        },
        {
          "output_type": "stream",
          "name": "stdout",
          "text": [
            "✅ Median score of overlap_710000_720000.parquet: 0.0126\n",
            "✅ Min score of overlap_710000_720000.parquet: 0.0016\n",
            "✅ Max score of overlap_710000_720000.parquet: 0.4475\n"
          ]
        },
        {
          "output_type": "stream",
          "name": "stderr",
          "text": [
            "\r🧮 Processing slices (Polars Version):  71%|███████   | 72/102 [2:36:36<1:03:05, 126.20s/it]"
          ]
        },
        {
          "output_type": "stream",
          "name": "stdout",
          "text": [
            "✅ Median score of overlap_720000_730000.parquet: 0.0125\n",
            "✅ Min score of overlap_720000_730000.parquet: 0.0017\n",
            "✅ Max score of overlap_720000_730000.parquet: 0.3936\n"
          ]
        },
        {
          "output_type": "stream",
          "name": "stderr",
          "text": [
            "\r🧮 Processing slices (Polars Version):  72%|███████▏  | 73/102 [2:38:37<1:00:11, 124.55s/it]"
          ]
        },
        {
          "output_type": "stream",
          "name": "stdout",
          "text": [
            "✅ Median score of overlap_730000_740000.parquet: 0.0124\n",
            "✅ Min score of overlap_730000_740000.parquet: 0.0016\n",
            "✅ Max score of overlap_730000_740000.parquet: 0.3890\n"
          ]
        },
        {
          "output_type": "stream",
          "name": "stderr",
          "text": [
            "\r🧮 Processing slices (Polars Version):  73%|███████▎  | 74/102 [2:40:27<56:04, 120.17s/it]  "
          ]
        },
        {
          "output_type": "stream",
          "name": "stdout",
          "text": [
            "✅ Median score of overlap_740000_750000.parquet: 0.0126\n",
            "✅ Min score of overlap_740000_750000.parquet: 0.0018\n",
            "✅ Max score of overlap_740000_750000.parquet: 0.4315\n"
          ]
        },
        {
          "output_type": "stream",
          "name": "stderr",
          "text": [
            "\r🧮 Processing slices (Polars Version):  74%|███████▎  | 75/102 [2:42:40<55:51, 124.13s/it]"
          ]
        },
        {
          "output_type": "stream",
          "name": "stdout",
          "text": [
            "✅ Median score of overlap_750000_760000.parquet: 0.0125\n",
            "✅ Min score of overlap_750000_760000.parquet: 0.0015\n",
            "✅ Max score of overlap_750000_760000.parquet: 0.3855\n"
          ]
        },
        {
          "output_type": "stream",
          "name": "stderr",
          "text": [
            "\r🧮 Processing slices (Polars Version):  75%|███████▍  | 76/102 [2:44:33<52:23, 120.89s/it]"
          ]
        },
        {
          "output_type": "stream",
          "name": "stdout",
          "text": [
            "✅ Median score of overlap_760000_770000.parquet: 0.0124\n",
            "✅ Min score of overlap_760000_770000.parquet: 0.0015\n",
            "✅ Max score of overlap_760000_770000.parquet: 0.3751\n"
          ]
        },
        {
          "output_type": "stream",
          "name": "stderr",
          "text": [
            "\r🧮 Processing slices (Polars Version):  75%|███████▌  | 77/102 [2:46:49<52:11, 125.25s/it]"
          ]
        },
        {
          "output_type": "stream",
          "name": "stdout",
          "text": [
            "✅ Median score of overlap_770000_780000.parquet: 0.0125\n",
            "✅ Min score of overlap_770000_780000.parquet: 0.0014\n",
            "✅ Max score of overlap_770000_780000.parquet: 0.3348\n"
          ]
        },
        {
          "output_type": "stream",
          "name": "stderr",
          "text": [
            "\r🧮 Processing slices (Polars Version):  76%|███████▋  | 78/102 [2:48:50<49:34, 123.93s/it]"
          ]
        },
        {
          "output_type": "stream",
          "name": "stdout",
          "text": [
            "✅ Median score of overlap_780000_790000.parquet: 0.0125\n",
            "✅ Min score of overlap_780000_790000.parquet: 0.0011\n",
            "✅ Max score of overlap_780000_790000.parquet: 0.3762\n"
          ]
        },
        {
          "output_type": "stream",
          "name": "stderr",
          "text": [
            "\r🧮 Processing slices (Polars Version):  77%|███████▋  | 79/102 [2:50:48<46:51, 122.24s/it]"
          ]
        },
        {
          "output_type": "stream",
          "name": "stdout",
          "text": [
            "✅ Median score of overlap_790000_800000.parquet: 0.0125\n",
            "✅ Min score of overlap_790000_800000.parquet: 0.0015\n",
            "✅ Max score of overlap_790000_800000.parquet: 0.3968\n"
          ]
        },
        {
          "output_type": "stream",
          "name": "stderr",
          "text": [
            "\r🧮 Processing slices (Polars Version):  78%|███████▊  | 80/102 [2:52:59<45:49, 124.96s/it]"
          ]
        },
        {
          "output_type": "stream",
          "name": "stdout",
          "text": [
            "✅ Median score of overlap_800000_810000.parquet: 0.0125\n",
            "✅ Min score of overlap_800000_810000.parquet: 0.0014\n",
            "✅ Max score of overlap_800000_810000.parquet: 0.3737\n"
          ]
        },
        {
          "output_type": "stream",
          "name": "stderr",
          "text": [
            "\r🧮 Processing slices (Polars Version):  79%|███████▉  | 81/102 [2:54:59<43:08, 123.25s/it]"
          ]
        },
        {
          "output_type": "stream",
          "name": "stdout",
          "text": [
            "✅ Median score of overlap_80000_90000.parquet: 0.0125\n",
            "✅ Min score of overlap_80000_90000.parquet: 0.0013\n",
            "✅ Max score of overlap_80000_90000.parquet: 0.3696\n"
          ]
        },
        {
          "output_type": "stream",
          "name": "stderr",
          "text": [
            "\r🧮 Processing slices (Polars Version):  80%|████████  | 82/102 [2:56:49<39:46, 119.33s/it]"
          ]
        },
        {
          "output_type": "stream",
          "name": "stdout",
          "text": [
            "✅ Median score of overlap_810000_820000.parquet: 0.0125\n",
            "✅ Min score of overlap_810000_820000.parquet: 0.0016\n",
            "✅ Max score of overlap_810000_820000.parquet: 0.3353\n"
          ]
        },
        {
          "output_type": "stream",
          "name": "stderr",
          "text": [
            "\r🧮 Processing slices (Polars Version):  81%|████████▏ | 83/102 [2:58:38<36:47, 116.17s/it]"
          ]
        },
        {
          "output_type": "stream",
          "name": "stdout",
          "text": [
            "✅ Median score of overlap_820000_830000.parquet: 0.0124\n",
            "✅ Min score of overlap_820000_830000.parquet: 0.0014\n",
            "✅ Max score of overlap_820000_830000.parquet: 0.3904\n"
          ]
        },
        {
          "output_type": "stream",
          "name": "stderr",
          "text": [
            "\r🧮 Processing slices (Polars Version):  82%|████████▏ | 84/102 [3:00:45<35:52, 119.59s/it]"
          ]
        },
        {
          "output_type": "stream",
          "name": "stdout",
          "text": [
            "✅ Median score of overlap_830000_840000.parquet: 0.0125\n",
            "✅ Min score of overlap_830000_840000.parquet: 0.0015\n",
            "✅ Max score of overlap_830000_840000.parquet: 0.3809\n"
          ]
        },
        {
          "output_type": "stream",
          "name": "stderr",
          "text": [
            "\r🧮 Processing slices (Polars Version):  83%|████████▎ | 85/102 [3:02:50<34:21, 121.25s/it]"
          ]
        },
        {
          "output_type": "stream",
          "name": "stdout",
          "text": [
            "✅ Median score of overlap_840000_850000.parquet: 0.0124\n",
            "✅ Min score of overlap_840000_850000.parquet: 0.0014\n",
            "✅ Max score of overlap_840000_850000.parquet: 0.3974\n"
          ]
        },
        {
          "output_type": "stream",
          "name": "stderr",
          "text": [
            "\r🧮 Processing slices (Polars Version):  84%|████████▍ | 86/102 [3:04:49<32:06, 120.43s/it]"
          ]
        },
        {
          "output_type": "stream",
          "name": "stdout",
          "text": [
            "✅ Median score of overlap_850000_860000.parquet: 0.0126\n",
            "✅ Min score of overlap_850000_860000.parquet: 0.0014\n",
            "✅ Max score of overlap_850000_860000.parquet: 0.3462\n"
          ]
        },
        {
          "output_type": "stream",
          "name": "stderr",
          "text": [
            "\r🧮 Processing slices (Polars Version):  85%|████████▌ | 87/102 [3:06:37<29:12, 116.82s/it]"
          ]
        },
        {
          "output_type": "stream",
          "name": "stdout",
          "text": [
            "✅ Median score of overlap_860000_870000.parquet: 0.0126\n",
            "✅ Min score of overlap_860000_870000.parquet: 0.0016\n",
            "✅ Max score of overlap_860000_870000.parquet: 0.3745\n"
          ]
        },
        {
          "output_type": "stream",
          "name": "stderr",
          "text": [
            "\r🧮 Processing slices (Polars Version):  86%|████████▋ | 88/102 [3:08:20<26:17, 112.68s/it]"
          ]
        },
        {
          "output_type": "stream",
          "name": "stdout",
          "text": [
            "✅ Median score of overlap_870000_880000.parquet: 0.0127\n",
            "✅ Min score of overlap_870000_880000.parquet: 0.0019\n",
            "✅ Max score of overlap_870000_880000.parquet: 0.3736\n"
          ]
        },
        {
          "output_type": "stream",
          "name": "stderr",
          "text": [
            "\r🧮 Processing slices (Polars Version):  87%|████████▋ | 89/102 [3:10:23<25:06, 115.86s/it]"
          ]
        },
        {
          "output_type": "stream",
          "name": "stdout",
          "text": [
            "✅ Median score of overlap_880000_890000.parquet: 0.0125\n",
            "✅ Min score of overlap_880000_890000.parquet: 0.0016\n",
            "✅ Max score of overlap_880000_890000.parquet: 0.3294\n"
          ]
        },
        {
          "output_type": "stream",
          "name": "stderr",
          "text": [
            "\r🧮 Processing slices (Polars Version):  88%|████████▊ | 90/102 [3:12:30<23:49, 119.14s/it]"
          ]
        },
        {
          "output_type": "stream",
          "name": "stdout",
          "text": [
            "✅ Median score of overlap_890000_900000.parquet: 0.0126\n",
            "✅ Min score of overlap_890000_900000.parquet: 0.0016\n",
            "✅ Max score of overlap_890000_900000.parquet: 0.3740\n"
          ]
        },
        {
          "output_type": "stream",
          "name": "stderr",
          "text": [
            "\r🧮 Processing slices (Polars Version):  89%|████████▉ | 91/102 [3:14:23<21:31, 117.36s/it]"
          ]
        },
        {
          "output_type": "stream",
          "name": "stdout",
          "text": [
            "✅ Median score of overlap_900000_910000.parquet: 0.0125\n",
            "✅ Min score of overlap_900000_910000.parquet: 0.0015\n",
            "✅ Max score of overlap_900000_910000.parquet: 0.3930\n"
          ]
        },
        {
          "output_type": "stream",
          "name": "stderr",
          "text": [
            "\r🧮 Processing slices (Polars Version):  90%|█████████ | 92/102 [3:16:32<20:07, 120.73s/it]"
          ]
        },
        {
          "output_type": "stream",
          "name": "stdout",
          "text": [
            "✅ Median score of overlap_90000_100000.parquet: 0.0126\n",
            "✅ Min score of overlap_90000_100000.parquet: 0.0016\n",
            "✅ Max score of overlap_90000_100000.parquet: 0.3984\n"
          ]
        },
        {
          "output_type": "stream",
          "name": "stderr",
          "text": [
            "\r🧮 Processing slices (Polars Version):  91%|█████████ | 93/102 [3:18:33<18:07, 120.79s/it]"
          ]
        },
        {
          "output_type": "stream",
          "name": "stdout",
          "text": [
            "✅ Median score of overlap_910000_920000.parquet: 0.0126\n",
            "✅ Min score of overlap_910000_920000.parquet: 0.0013\n",
            "✅ Max score of overlap_910000_920000.parquet: 0.3798\n"
          ]
        },
        {
          "output_type": "stream",
          "name": "stderr",
          "text": [
            "\r🧮 Processing slices (Polars Version):  92%|█████████▏| 94/102 [3:20:26<15:48, 118.53s/it]"
          ]
        },
        {
          "output_type": "stream",
          "name": "stdout",
          "text": [
            "✅ Median score of overlap_920000_930000.parquet: 0.0126\n",
            "✅ Min score of overlap_920000_930000.parquet: 0.0014\n",
            "✅ Max score of overlap_920000_930000.parquet: 0.3905\n"
          ]
        },
        {
          "output_type": "stream",
          "name": "stderr",
          "text": [
            "\r🧮 Processing slices (Polars Version):  93%|█████████▎| 95/102 [3:22:57<14:58, 128.31s/it]"
          ]
        },
        {
          "output_type": "stream",
          "name": "stdout",
          "text": [
            "✅ Median score of overlap_930000_940000.parquet: 0.0127\n",
            "✅ Min score of overlap_930000_940000.parquet: 0.0014\n",
            "✅ Max score of overlap_930000_940000.parquet: 0.3429\n"
          ]
        },
        {
          "output_type": "stream",
          "name": "stderr",
          "text": [
            "\r🧮 Processing slices (Polars Version):  94%|█████████▍| 96/102 [3:25:08<12:53, 128.86s/it]"
          ]
        },
        {
          "output_type": "stream",
          "name": "stdout",
          "text": [
            "✅ Median score of overlap_940000_950000.parquet: 0.0127\n",
            "✅ Min score of overlap_940000_950000.parquet: 0.0017\n",
            "✅ Max score of overlap_940000_950000.parquet: 0.4232\n"
          ]
        },
        {
          "output_type": "stream",
          "name": "stderr",
          "text": [
            "\r🧮 Processing slices (Polars Version):  95%|█████████▌| 97/102 [3:27:28<11:01, 132.36s/it]"
          ]
        },
        {
          "output_type": "stream",
          "name": "stdout",
          "text": [
            "✅ Median score of overlap_950000_960000.parquet: 0.0124\n",
            "✅ Min score of overlap_950000_960000.parquet: 0.0016\n",
            "✅ Max score of overlap_950000_960000.parquet: 0.3888\n"
          ]
        },
        {
          "output_type": "stream",
          "name": "stderr",
          "text": [
            "\r🧮 Processing slices (Polars Version):  96%|█████████▌| 98/102 [3:29:51<09:01, 135.43s/it]"
          ]
        },
        {
          "output_type": "stream",
          "name": "stdout",
          "text": [
            "✅ Median score of overlap_960000_970000.parquet: 0.0125\n",
            "✅ Min score of overlap_960000_970000.parquet: 0.0016\n",
            "✅ Max score of overlap_960000_970000.parquet: 0.5390\n"
          ]
        },
        {
          "output_type": "stream",
          "name": "stderr",
          "text": [
            "\r🧮 Processing slices (Polars Version):  97%|█████████▋| 99/102 [3:32:07<06:47, 135.72s/it]"
          ]
        },
        {
          "output_type": "stream",
          "name": "stdout",
          "text": [
            "✅ Median score of overlap_970000_980000.parquet: 0.0126\n",
            "✅ Min score of overlap_970000_980000.parquet: 0.0018\n",
            "✅ Max score of overlap_970000_980000.parquet: 0.3745\n"
          ]
        },
        {
          "output_type": "stream",
          "name": "stderr",
          "text": [
            "\r🧮 Processing slices (Polars Version):  98%|█████████▊| 100/102 [3:34:17<04:27, 133.88s/it]"
          ]
        },
        {
          "output_type": "stream",
          "name": "stdout",
          "text": [
            "✅ Median score of overlap_980000_990000.parquet: 0.0124\n",
            "✅ Min score of overlap_980000_990000.parquet: 0.0016\n",
            "✅ Max score of overlap_980000_990000.parquet: 0.3327\n"
          ]
        },
        {
          "output_type": "stream",
          "name": "stderr",
          "text": [
            "\r🧮 Processing slices (Polars Version):  99%|█████████▉| 101/102 [3:36:14<02:08, 128.92s/it]"
          ]
        },
        {
          "output_type": "stream",
          "name": "stdout",
          "text": [
            "✅ Median score of overlap_990000_1000000.parquet: 0.0126\n",
            "✅ Min score of overlap_990000_1000000.parquet: 0.0011\n",
            "✅ Max score of overlap_990000_1000000.parquet: 0.3859\n"
          ]
        },
        {
          "output_type": "stream",
          "name": "stderr",
          "text": [
            "🧮 Processing slices (Polars Version): 100%|██████████| 102/102 [3:38:35<00:00, 128.58s/it]"
          ]
        },
        {
          "output_type": "stream",
          "name": "stdout",
          "text": [
            "\n",
            "✅✅ All slices processed and scores saved to: /content/drive/My Drive/datasets/userplaylist_score_slices_fixed\n"
          ]
        },
        {
          "output_type": "stream",
          "name": "stderr",
          "text": [
            "\n"
          ]
        }
      ],
      "source": [
        "import os\n",
        "import pickle\n",
        "import polars as pl\n",
        "from tqdm import tqdm\n",
        "\n",
        "# === Paths ===\n",
        "input_dir = \"/content/drive/My Drive/datasets/overlap_processed_fixed\"  # Overlap slices\n",
        "output_dir = \"/content/drive/My Drive/datasets/userplaylist_score_slices_fixed\"  # Scored slices\n",
        "os.makedirs(output_dir, exist_ok=True)\n",
        "\n",
        "# === Load mappings ===\n",
        "idx_to_user_df = pl.read_parquet(\"/content/drive/My Drive/datasets/idx_to_user.parquet\")\n",
        "idx_to_playlist_df = pl.read_parquet(\"/content/drive/My Drive/datasets/idx_to_playlist.parquet\")\n",
        "\n",
        "idx_to_playlist = dict(zip(idx_to_playlist_df[\"playlist_idx\"].to_numpy(), idx_to_playlist_df[\"playlist_id\"].to_numpy()))\n",
        "\n",
        "# Load user and playlist song counts\n",
        "user_song_counts = pl.read_parquet(\"/content/drive/My Drive/datasets/user_song_counts_idx.parquet\")\n",
        "playlist_song_counts = pl.read_parquet(\"/content/drive/My Drive/datasets/playlist_song_counts_idx.parquet\")\n",
        "\n",
        "user_song_map = dict(zip(user_song_counts[\"user_idx\"].to_numpy(), user_song_counts[\"song_count\"].to_numpy()))\n",
        "playlist_song_map = dict(zip(playlist_song_counts[\"playlist_idx\"].to_numpy(), playlist_song_counts[\"song_count\"].to_numpy()))\n",
        "\n",
        "# Load exploration coefficients\n",
        "with open(\"/content/drive/My Drive/datasets/exploration_map.pkl\", \"rb\") as f:\n",
        "    exploration_map = pickle.load(f)\n",
        "\n",
        "# === Start processing slices ===\n",
        "parquet_files = sorted(f for f in os.listdir(input_dir) if f.endswith(\".parquet\"))\n",
        "\n",
        "for file_name in tqdm(parquet_files, desc=\"Processing slices (Polars Version)\"):\n",
        "    path = os.path.join(input_dir, file_name)\n",
        "\n",
        "    # Read the slice\n",
        "    df = pl.read_parquet(path)\n",
        "\n",
        "    # Rename column\n",
        "    df = df.rename({\"song_count\": \"match_count\"})\n",
        "\n",
        "    # Filter match_count > 0\n",
        "    df = df.filter(pl.col(\"match_count\") > 0)\n",
        "\n",
        "    # Assume user_id is already user_idx\n",
        "    df = df.with_columns([\n",
        "        pl.col(\"user_id\").alias(\"user_idx\"),\n",
        "        pl.col(\"playlist_id\").alias(\"playlist_idx\")\n",
        "    ])\n",
        "\n",
        "    # Map playlist_id → real_playlist_id, and add user/song counts and exploration coefficient\n",
        "    # Create mapping DataFrames\n",
        "    idx_to_playlist_df = pl.DataFrame({\n",
        "        \"playlist_idx\": list(idx_to_playlist.keys()),\n",
        "        \"real_playlist_id\": list(idx_to_playlist.values())\n",
        "    })\n",
        "\n",
        "    user_song_map_df = pl.DataFrame({\n",
        "        \"user_idx\": list(user_song_map.keys()),\n",
        "        \"s\": list(user_song_map.values())\n",
        "    })\n",
        "\n",
        "    playlist_song_map_df = pl.DataFrame({\n",
        "        \"playlist_idx\": list(playlist_song_map.keys()),\n",
        "        \"p\": list(playlist_song_map.values())\n",
        "    })\n",
        "\n",
        "    exploration_map_df = pl.DataFrame({\n",
        "        \"user_idx\": list(exploration_map.keys()),\n",
        "        \"e\": list(exploration_map.values())\n",
        "    })\n",
        "\n",
        "    # Merge metadata via fast joins\n",
        "    df = df.join(idx_to_playlist_df, on=\"playlist_idx\", how=\"left\")\n",
        "    df = df.join(user_song_map_df, on=\"user_idx\", how=\"left\")\n",
        "    df = df.join(playlist_song_map_df, on=\"playlist_idx\", how=\"left\")\n",
        "    df = df.join(exploration_map_df, on=\"user_idx\", how=\"left\")\n",
        "\n",
        "    # Drop missing mappings\n",
        "    df = df.drop_nulls(subset=[\"real_playlist_id\", \"s\", \"p\", \"e\"])\n",
        "\n",
        "    # Compute score\n",
        "    df = df.with_columns([\n",
        "        (\n",
        "            ((1 - pl.col(\"e\")) * (pl.col(\"match_count\") + 1).log() + pl.col(\"e\"))\n",
        "            / (pl.col(\"s\").sqrt() * pl.col(\"p\").sqrt())\n",
        "        ).alias(\"score\")\n",
        "    ])\n",
        "\n",
        "    # Print some stats\n",
        "    print(f\"✅ Median score of {file_name}: {df['score'].median():.4f}\")\n",
        "    print(f\"✅ Min score of {file_name}: {df['score'].min():.4f}\")\n",
        "    print(f\"✅ Max score of {file_name}: {df['score'].max():.4f}\")\n",
        "\n",
        "    # Save only the needed columns\n",
        "    output_path = os.path.join(output_dir, f\"scored_{file_name}\")\n",
        "    df.select([\"user_idx\", \"playlist_idx\", \"match_count\", \"score\"]).write_parquet(output_path)\n",
        "\n",
        "print(\"\\n✅✅ All slices processed and scores saved to:\", output_dir)"
      ]
    },
    {
      "cell_type": "markdown",
      "metadata": {
        "id": "qKZ9yB8If9Rs"
      },
      "source": [
        "# Part 5) Now that we have scores for each user-playlist combination, we will rank them\n",
        "\n",
        "For this, we will take the 1.5% higher scores for each user and label them as '1'. Meaning that the user, given this playlist as a recommendation, would like the playlist (these are our true labels)."
      ]
    },
    {
      "cell_type": "code",
      "execution_count": null,
      "metadata": {
        "colab": {
          "base_uri": "https://localhost:8080/",
          "height": 742
        },
        "id": "atkitlMLgO0n",
        "outputId": "d9751abc-3aa0-46c3-e6dd-9bf3614f8c5b"
      },
      "outputs": [
        {
          "output_type": "stream",
          "name": "stdout",
          "text": [
            "✅ Loaded scored_overlap_0_10000.parquet: 223192860 rows, 4 columns\n",
            "✅ Labeled slice shape: (223192860, 4)\n",
            "\n",
            "📊 Statistics for Slice:\n",
            "Total users: 9984\n",
            "Total rows: 223192860\n",
            "Positive (liked) playlists: 3352842 (1.50%)\n",
            "Negative (non-liked) playlists: 219840018 (98.50%)\n",
            "Average playlists liked per user: 335.82\n",
            "Median playlists liked per user: 199.00\n",
            "Min playlists liked per user: 1.00\n",
            "Max playlists liked per user: 4339.00\n"
          ]
        },
        {
          "output_type": "display_data",
          "data": {
            "text/plain": [
              "<Figure size 800x500 with 1 Axes>"
            ],
            "image/png": "[encoded data removed]"
          },
          "metadata": {}
        },
        {
          "output_type": "stream",
          "name": "stdout",
          "text": [
            "\n",
            "✅ Labeled slice saved to: /content/drive/My Drive/datasets/userplaylist_labeled_slices_fixed/labeled_scored_overlap_0_10000.parquet\n"
          ]
        }
      ],
      "source": [
        "# First let's test our labelling algorithm with one slice of data\n",
        "\n",
        "import polars as pl\n",
        "import matplotlib.pyplot as plt\n",
        "import os\n",
        "\n",
        "# === Configuration ===\n",
        "K_PERCENT = 0.015  # Top K% playlists are considered \"liked\"\n",
        "\n",
        "# === Paths ===\n",
        "input_dir = \"/content/drive/My Drive/datasets/userplaylist_score_slices_fixed\"\n",
        "output_dir = \"/content/drive/My Drive/datasets/userplaylist_labeled_slices_fixed\"\n",
        "os.makedirs(output_dir, exist_ok=True)\n",
        "\n",
        "# === Select one slice to test ===\n",
        "file_name = \"scored_overlap_0_10000.parquet\"  # Change if needed\n",
        "path = os.path.join(input_dir, file_name)\n",
        "\n",
        "# === Load scored slice ===\n",
        "df = pl.read_parquet(path)\n",
        "\n",
        "print(f\"✅ Loaded {file_name}: {df.shape[0]} rows, {df.shape[1]} columns\")\n",
        "\n",
        "# === Step 2: Rank and Label ===\n",
        "\n",
        "# Sort playlists by user_idx and descending score\n",
        "df = df.sort([\"user_idx\", \"score\"], descending=[False, True])\n",
        "\n",
        "# Group by user_idx and assign ranks (0,1,2,...)\n",
        "df = df.group_by(\"user_idx\", maintain_order=True).agg([\n",
        "    pl.col(\"playlist_idx\"),\n",
        "    pl.col(\"score\"),\n",
        "    pl.arange(0, pl.len()).alias(\"rank\")\n",
        "]).explode([\"playlist_idx\", \"score\", \"rank\"])\n",
        "\n",
        "# Calculate number of playlists per user\n",
        "user_counts = df.group_by(\"user_idx\").agg([\n",
        "    pl.len().alias(\"total_playlists\")\n",
        "])\n",
        "\n",
        "# Join total playlists into main df\n",
        "df = df.join(user_counts, on=\"user_idx\", how=\"left\")\n",
        "\n",
        "# Calculate top_k per user: ceil(total_playlists * K_PERCENT), with minimum 1\n",
        "df = df.with_columns([\n",
        "    pl.when((pl.col(\"total_playlists\") * K_PERCENT).ceil() < 1)\n",
        "      .then(1)\n",
        "      .otherwise((pl.col(\"total_playlists\") * K_PERCENT).ceil())\n",
        "      .alias(\"top_k\")\n",
        "])\n",
        "\n",
        "# Label playlists: 1 if rank < top_k, else 0\n",
        "df = df.with_columns([\n",
        "    (pl.col(\"rank\") < pl.col(\"top_k\")).cast(pl.Int8).alias(\"label\")\n",
        "])\n",
        "\n",
        "# Select final columns\n",
        "df_labeled = df.select([\"user_idx\", \"playlist_idx\", \"score\", \"label\"])\n",
        "\n",
        "print(f\"✅ Labeled slice shape: {df_labeled.shape}\")\n",
        "\n",
        "# === Statistics ===\n",
        "num_users = df_labeled[\"user_idx\"].n_unique()\n",
        "num_positives = df_labeled.filter(pl.col(\"label\") == 1).shape[0]\n",
        "num_negatives = df_labeled.filter(pl.col(\"label\") == 0).shape[0]\n",
        "total_rows = df_labeled.shape[0]\n",
        "\n",
        "print(\"\\nStatistics for Slice:\")\n",
        "print(f\"Total users: {num_users}\")\n",
        "print(f\"Total rows: {total_rows}\")\n",
        "print(f\"Positive (liked) playlists: {num_positives} ({num_positives / total_rows:.2%})\")\n",
        "print(f\"Negative (non-liked) playlists: {num_negatives} ({num_negatives / total_rows:.2%})\")\n",
        "\n",
        "# Average liked playlists per user\n",
        "liked_per_user = df_labeled.filter(pl.col(\"label\") == 1).group_by(\"user_idx\").len()\n",
        "avg_likes_per_user = liked_per_user[\"len\"].mean()\n",
        "median_likes_per_user = liked_per_user[\"len\"].median()\n",
        "min_likes_per_user = liked_per_user[\"len\"].min()\n",
        "max_likes_per_user = liked_per_user[\"len\"].max()\n",
        "print(f\"Average playlists liked per user: {avg_likes_per_user:.2f}\")\n",
        "print(f\"Median playlists liked per user: {median_likes_per_user:.2f}\")\n",
        "print(f\"Min playlists liked per user: {min_likes_per_user:.2f}\")\n",
        "print(f\"Max playlists liked per user: {max_likes_per_user:.2f}\")\n",
        "\n",
        "# === Plot distribution: number of playlists each user liked\n",
        "plt.figure(figsize=(8, 5))\n",
        "plt.hist(liked_per_user[\"len\"].to_numpy(), bins=50, edgecolor='black')\n",
        "plt.xlabel(\"Number of Playlists Liked per User\")\n",
        "plt.ylabel(\"Number of Users\")\n",
        "plt.title(\"Distribution of Liked Playlists per User\")\n",
        "plt.grid(True)\n",
        "plt.show()\n",
        "\n",
        "# === Save labeled slice\n",
        "output_path = os.path.join(output_dir, f\"labeled_{file_name}\")\n",
        "df_labeled.write_parquet(output_path)\n",
        "\n",
        "print(f\"\\n Labeled slice saved to: {output_path}\")\n"
      ]
    },
    {
      "cell_type": "code",
      "execution_count": null,
      "metadata": {
        "colab": {
          "base_uri": "https://localhost:8080/"
        },
        "id": "PGFc1F6PlLiw",
        "outputId": "b27956cc-01c0-4938-bfff-42e4621868bb"
      },
      "outputs": [
        {
          "output_type": "stream",
          "name": "stdout",
          "text": [
            "🔁 Resuming: 1 files already completed, 101 remaining.\n"
          ]
        },
        {
          "output_type": "stream",
          "name": "stderr",
          "text": [
            "🧮 Processing batches:   3%|▎         | 1/34 [02:56<1:37:00, 176.38s/it]"
          ]
        },
        {
          "output_type": "stream",
          "name": "stdout",
          "text": [
            "✅ Batch 1: Saved 3 labeled slices.\n"
          ]
        },
        {
          "output_type": "stream",
          "name": "stderr",
          "text": [
            "\r🧮 Processing batches:   6%|▌         | 2/34 [05:56<1:35:21, 178.79s/it]"
          ]
        },
        {
          "output_type": "stream",
          "name": "stdout",
          "text": [
            "✅ Batch 2: Saved 3 labeled slices.\n"
          ]
        },
        {
          "output_type": "stream",
          "name": "stderr",
          "text": [
            "\r🧮 Processing batches:   9%|▉         | 3/34 [08:41<1:29:08, 172.54s/it]"
          ]
        },
        {
          "output_type": "stream",
          "name": "stdout",
          "text": [
            "✅ Batch 3: Saved 3 labeled slices.\n"
          ]
        },
        {
          "output_type": "stream",
          "name": "stderr",
          "text": [
            "\r🧮 Processing batches:  12%|█▏        | 4/34 [12:03<1:32:04, 184.14s/it]"
          ]
        },
        {
          "output_type": "stream",
          "name": "stdout",
          "text": [
            "✅ Batch 4: Saved 3 labeled slices.\n"
          ]
        },
        {
          "output_type": "stream",
          "name": "stderr",
          "text": [
            "\r🧮 Processing batches:  15%|█▍        | 5/34 [15:18<1:30:48, 187.87s/it]"
          ]
        },
        {
          "output_type": "stream",
          "name": "stdout",
          "text": [
            "✅ Batch 5: Saved 3 labeled slices.\n"
          ]
        },
        {
          "output_type": "stream",
          "name": "stderr",
          "text": [
            "\r🧮 Processing batches:  18%|█▊        | 6/34 [18:16<1:26:05, 184.49s/it]"
          ]
        },
        {
          "output_type": "stream",
          "name": "stdout",
          "text": [
            "✅ Batch 6: Saved 3 labeled slices.\n"
          ]
        },
        {
          "output_type": "stream",
          "name": "stderr",
          "text": [
            "\r🧮 Processing batches:  21%|██        | 7/34 [21:40<1:25:59, 191.08s/it]"
          ]
        },
        {
          "output_type": "stream",
          "name": "stdout",
          "text": [
            "✅ Batch 7: Saved 3 labeled slices.\n"
          ]
        },
        {
          "output_type": "stream",
          "name": "stderr",
          "text": [
            "\r🧮 Processing batches:  24%|██▎       | 8/34 [24:32<1:20:03, 184.73s/it]"
          ]
        },
        {
          "output_type": "stream",
          "name": "stdout",
          "text": [
            "✅ Batch 8: Saved 3 labeled slices.\n"
          ]
        },
        {
          "output_type": "stream",
          "name": "stderr",
          "text": [
            "\r🧮 Processing batches:  26%|██▋       | 9/34 [27:26<1:15:39, 181.58s/it]"
          ]
        },
        {
          "output_type": "stream",
          "name": "stdout",
          "text": [
            "✅ Batch 9: Saved 3 labeled slices.\n"
          ]
        },
        {
          "output_type": "stream",
          "name": "stderr",
          "text": [
            "\r🧮 Processing batches:  29%|██▉       | 10/34 [30:06<1:09:58, 174.94s/it]"
          ]
        },
        {
          "output_type": "stream",
          "name": "stdout",
          "text": [
            "✅ Batch 10: Saved 3 labeled slices.\n"
          ]
        },
        {
          "output_type": "stream",
          "name": "stderr",
          "text": [
            "\r🧮 Processing batches:  32%|███▏      | 11/34 [33:23<1:09:38, 181.68s/it]"
          ]
        },
        {
          "output_type": "stream",
          "name": "stdout",
          "text": [
            "✅ Batch 11: Saved 3 labeled slices.\n"
          ]
        },
        {
          "output_type": "stream",
          "name": "stderr",
          "text": [
            "\r🧮 Processing batches:  35%|███▌      | 12/34 [36:15<1:05:27, 178.54s/it]"
          ]
        },
        {
          "output_type": "stream",
          "name": "stdout",
          "text": [
            "✅ Batch 12: Saved 3 labeled slices.\n"
          ]
        },
        {
          "output_type": "stream",
          "name": "stderr",
          "text": [
            "\r🧮 Processing batches:  38%|███▊      | 13/34 [39:33<1:04:35, 184.57s/it]"
          ]
        },
        {
          "output_type": "stream",
          "name": "stdout",
          "text": [
            "✅ Batch 13: Saved 3 labeled slices.\n"
          ]
        },
        {
          "output_type": "stream",
          "name": "stderr",
          "text": [
            "\r🧮 Processing batches:  41%|████      | 14/34 [43:05<1:04:14, 192.72s/it]"
          ]
        },
        {
          "output_type": "stream",
          "name": "stdout",
          "text": [
            "✅ Batch 14: Saved 3 labeled slices.\n"
          ]
        },
        {
          "output_type": "stream",
          "name": "stderr",
          "text": [
            "\r🧮 Processing batches:  44%|████▍     | 15/34 [45:55<58:52, 185.92s/it]  "
          ]
        },
        {
          "output_type": "stream",
          "name": "stdout",
          "text": [
            "✅ Batch 15: Saved 3 labeled slices.\n"
          ]
        },
        {
          "output_type": "stream",
          "name": "stderr",
          "text": [
            "\r🧮 Processing batches:  47%|████▋     | 16/34 [48:37<53:35, 178.66s/it]"
          ]
        },
        {
          "output_type": "stream",
          "name": "stdout",
          "text": [
            "✅ Batch 16: Saved 3 labeled slices.\n"
          ]
        },
        {
          "output_type": "stream",
          "name": "stderr",
          "text": [
            "\r🧮 Processing batches:  50%|█████     | 17/34 [51:29<50:06, 176.84s/it]"
          ]
        },
        {
          "output_type": "stream",
          "name": "stdout",
          "text": [
            "✅ Batch 17: Saved 3 labeled slices.\n"
          ]
        },
        {
          "output_type": "stream",
          "name": "stderr",
          "text": [
            "\r🧮 Processing batches:  53%|█████▎    | 18/34 [55:05<50:17, 188.57s/it]"
          ]
        },
        {
          "output_type": "stream",
          "name": "stdout",
          "text": [
            "✅ Batch 18: Saved 3 labeled slices.\n"
          ]
        },
        {
          "output_type": "stream",
          "name": "stderr",
          "text": [
            "\r🧮 Processing batches:  56%|█████▌    | 19/34 [58:06<46:32, 186.14s/it]"
          ]
        },
        {
          "output_type": "stream",
          "name": "stdout",
          "text": [
            "✅ Batch 19: Saved 3 labeled slices.\n"
          ]
        },
        {
          "output_type": "stream",
          "name": "stderr",
          "text": [
            "\r🧮 Processing batches:  59%|█████▉    | 20/34 [1:01:00<42:36, 182.64s/it]"
          ]
        },
        {
          "output_type": "stream",
          "name": "stdout",
          "text": [
            "✅ Batch 20: Saved 3 labeled slices.\n"
          ]
        },
        {
          "output_type": "stream",
          "name": "stderr",
          "text": [
            "\r🧮 Processing batches:  62%|██████▏   | 21/34 [1:04:31<41:25, 191.18s/it]"
          ]
        },
        {
          "output_type": "stream",
          "name": "stdout",
          "text": [
            "✅ Batch 21: Saved 3 labeled slices.\n"
          ]
        },
        {
          "output_type": "stream",
          "name": "stderr",
          "text": [
            "\r🧮 Processing batches:  65%|██████▍   | 22/34 [1:07:26<37:15, 186.29s/it]"
          ]
        },
        {
          "output_type": "stream",
          "name": "stdout",
          "text": [
            "✅ Batch 22: Saved 3 labeled slices.\n"
          ]
        },
        {
          "output_type": "stream",
          "name": "stderr",
          "text": [
            "\r🧮 Processing batches:  68%|██████▊   | 23/34 [1:10:27<33:53, 184.85s/it]"
          ]
        },
        {
          "output_type": "stream",
          "name": "stdout",
          "text": [
            "✅ Batch 23: Saved 3 labeled slices.\n"
          ]
        },
        {
          "output_type": "stream",
          "name": "stderr",
          "text": [
            "\r🧮 Processing batches:  71%|███████   | 24/34 [1:13:24<30:23, 182.30s/it]"
          ]
        },
        {
          "output_type": "stream",
          "name": "stdout",
          "text": [
            "✅ Batch 24: Saved 3 labeled slices.\n"
          ]
        },
        {
          "output_type": "stream",
          "name": "stderr",
          "text": [
            "\r🧮 Processing batches:  74%|███████▎  | 25/34 [1:16:20<27:02, 180.31s/it]"
          ]
        },
        {
          "output_type": "stream",
          "name": "stdout",
          "text": [
            "✅ Batch 25: Saved 3 labeled slices.\n"
          ]
        },
        {
          "output_type": "stream",
          "name": "stderr",
          "text": [
            "\r🧮 Processing batches:  76%|███████▋  | 26/34 [1:19:15<23:50, 178.85s/it]"
          ]
        },
        {
          "output_type": "stream",
          "name": "stdout",
          "text": [
            "✅ Batch 26: Saved 3 labeled slices.\n"
          ]
        },
        {
          "output_type": "stream",
          "name": "stderr",
          "text": [
            "\r🧮 Processing batches:  79%|███████▉  | 27/34 [1:22:18<21:01, 180.15s/it]"
          ]
        },
        {
          "output_type": "stream",
          "name": "stdout",
          "text": [
            "✅ Batch 27: Saved 3 labeled slices.\n"
          ]
        },
        {
          "output_type": "stream",
          "name": "stderr",
          "text": [
            "\r🧮 Processing batches:  82%|████████▏ | 28/34 [1:26:06<19:27, 194.57s/it]"
          ]
        },
        {
          "output_type": "stream",
          "name": "stdout",
          "text": [
            "✅ Batch 28: Saved 3 labeled slices.\n"
          ]
        },
        {
          "output_type": "stream",
          "name": "stderr",
          "text": [
            "\r🧮 Processing batches:  85%|████████▌ | 29/34 [1:29:19<16:09, 193.95s/it]"
          ]
        },
        {
          "output_type": "stream",
          "name": "stdout",
          "text": [
            "✅ Batch 29: Saved 3 labeled slices.\n"
          ]
        },
        {
          "output_type": "stream",
          "name": "stderr",
          "text": [
            "\r🧮 Processing batches:  88%|████████▊ | 30/34 [1:32:05<12:22, 185.63s/it]"
          ]
        },
        {
          "output_type": "stream",
          "name": "stdout",
          "text": [
            "✅ Batch 30: Saved 3 labeled slices.\n"
          ]
        },
        {
          "output_type": "stream",
          "name": "stderr",
          "text": [
            "\r🧮 Processing batches:  91%|█████████ | 31/34 [1:35:37<09:40, 193.42s/it]"
          ]
        },
        {
          "output_type": "stream",
          "name": "stdout",
          "text": [
            "✅ Batch 31: Saved 3 labeled slices.\n"
          ]
        },
        {
          "output_type": "stream",
          "name": "stderr",
          "text": [
            "\r🧮 Processing batches:  94%|█████████▍| 32/34 [1:38:28<06:13, 186.68s/it]"
          ]
        },
        {
          "output_type": "stream",
          "name": "stdout",
          "text": [
            "✅ Batch 32: Saved 3 labeled slices.\n"
          ]
        },
        {
          "output_type": "stream",
          "name": "stderr",
          "text": [
            "\r🧮 Processing batches:  97%|█████████▋| 33/34 [1:41:14<03:00, 180.60s/it]"
          ]
        },
        {
          "output_type": "stream",
          "name": "stdout",
          "text": [
            "✅ Batch 33: Saved 3 labeled slices.\n"
          ]
        },
        {
          "output_type": "stream",
          "name": "stderr",
          "text": [
            "🧮 Processing batches: 100%|██████████| 34/34 [1:43:15<00:00, 182.21s/it]"
          ]
        },
        {
          "output_type": "stream",
          "name": "stdout",
          "text": [
            "✅ Batch 34: Saved 2 labeled slices.\n",
            "\n",
            "✅✅ All slices processed and labeled saved to: /content/drive/My Drive/datasets/userplaylist_labeled_slices_fixed\n"
          ]
        },
        {
          "output_type": "stream",
          "name": "stderr",
          "text": [
            "\n"
          ]
        }
      ],
      "source": [
        "# Code for processing all slices\n",
        "\n",
        "import polars as pl\n",
        "import os\n",
        "from tqdm import tqdm\n",
        "\n",
        "# === Configuration ===\n",
        "K_PERCENT = 0.015  # Top K% playlists considered \"liked\"\n",
        "BATCH_SIZE = 3    # Number of slices to load into memory at once (depends on RAM)\n",
        "\n",
        "# === Paths ===\n",
        "input_dir = \"/content/drive/My Drive/datasets/userplaylist_score_slices_fixed\"\n",
        "output_dir = \"/content/drive/My Drive/datasets/userplaylist_labeled_slices_fixed\"\n",
        "os.makedirs(output_dir, exist_ok=True)\n",
        "\n",
        "# === Find already processed files\n",
        "input_files = sorted(f for f in os.listdir(input_dir) if f.endswith(\".parquet\"))\n",
        "output_files = sorted(f for f in os.listdir(output_dir) if f.endswith(\".parquet\"))\n",
        "\n",
        "processed_files = set(f.replace(\"labeled_\", \"\").replace(\"scored_\", \"\") for f in output_files)\n",
        "remaining_files = [f for f in input_files if f.replace(\"scored_\", \"\") not in processed_files]\n",
        "\n",
        "if processed_files:\n",
        "    print(f\"Resuming: {len(processed_files)} files already completed, {len(remaining_files)} remaining.\")\n",
        "else:\n",
        "    print(f\"Starting fresh: {len(remaining_files)} files to process.\")\n",
        "\n",
        "# === Batch processing\n",
        "for i in tqdm(range(0, len(remaining_files), BATCH_SIZE), desc=\"Processing batches\"):\n",
        "    batch_files = remaining_files[i:i+BATCH_SIZE]\n",
        "\n",
        "    # Load all slices in batch\n",
        "    batch_dfs = []\n",
        "    for file_name in batch_files:\n",
        "        path = os.path.join(input_dir, file_name)\n",
        "        df = pl.read_parquet(path)\n",
        "        df = df.sort([\"user_idx\", \"score\"], descending=[False, True])\n",
        "\n",
        "        # Group by user_idx and assign rank\n",
        "        df = df.group_by(\"user_idx\", maintain_order=True).agg([\n",
        "            pl.col(\"playlist_idx\"),\n",
        "            pl.col(\"score\"),\n",
        "            pl.arange(0, pl.len()).alias(\"rank\")\n",
        "        ]).explode([\"playlist_idx\", \"score\", \"rank\"])\n",
        "\n",
        "        # Count playlists per user\n",
        "        user_counts = df.group_by(\"user_idx\").agg([\n",
        "            pl.len().alias(\"total_playlists\")\n",
        "        ])\n",
        "\n",
        "        # Join total playlists\n",
        "        df = df.join(user_counts, on=\"user_idx\", how=\"left\")\n",
        "\n",
        "        # Compute top_k\n",
        "        df = df.with_columns([\n",
        "            pl.when((pl.col(\"total_playlists\") * K_PERCENT).ceil() < 1)\n",
        "              .then(1)\n",
        "              .otherwise((pl.col(\"total_playlists\") * K_PERCENT).ceil())\n",
        "              .alias(\"top_k\")\n",
        "        ])\n",
        "\n",
        "        # Label playlists\n",
        "        df = df.with_columns([\n",
        "            (pl.col(\"rank\") < pl.col(\"top_k\")).cast(pl.Int8).alias(\"label\")\n",
        "        ])\n",
        "\n",
        "        # Final selection\n",
        "        df_labeled = df.select([\"user_idx\", \"playlist_idx\", \"score\", \"label\"])\n",
        "\n",
        "        batch_dfs.append((file_name, df_labeled))\n",
        "\n",
        "    # Save all labeled slices from batch\n",
        "    for file_name, df_labeled in batch_dfs:\n",
        "        output_file_name = \"labeled_\" + file_name\n",
        "        output_path = os.path.join(output_dir, output_file_name)\n",
        "        df_labeled.write_parquet(output_path)\n",
        "\n",
        "    print(f\"✅ Batch {i//BATCH_SIZE + 1}: Saved {len(batch_files)} labeled slices.\")\n",
        "\n",
        "print(\"\\n✅✅ All slices processed and labeled saved to:\", output_dir)"
      ]
    },
    {
      "cell_type": "markdown",
      "metadata": {
        "id": "UG6tbp7jqErB"
      },
      "source": [
        "# Part 6) create final datasets for Training stage\n",
        "\n",
        "## Tasks:\n",
        "\n",
        "1) Splits of data: \\\n",
        "  a) Split of new_users: for cold start and post-deployment. We are holding out 5% of users with all of their data.\\\n",
        "  b) Then, with remaining users, we'll split the positives (playlist labeled with '1', meaning 'liked'), in 70%-20%-10% for train-val-test sets.\\\n",
        "\\\n",
        "2) Playlist ownership: we'll give to each user the playlist in which they have the highest scores. Then we iterate to make sure all playlists assigned.\n",
        "\n",
        "\n",
        "3) Validation dataset: for each positive for each user in the validation set, we source up to 50 negative playlists (not liked, this is different from diskliked). This will be used for evaluation after each epoch."
      ]
    },
    {
      "cell_type": "markdown",
      "source": [
        "## Step 0) Downscale the dataset, it's just too large. We'll work with 100k users (about 10% of users)"
      ],
      "metadata": {
        "id": "n30uAJeXMbi3"
      }
    },
    {
      "cell_type": "code",
      "source": [
        "import os\n",
        "import random\n",
        "import pickle\n",
        "import polars as pl\n",
        "from tqdm import tqdm\n",
        "\n",
        "# === Configuration ===\n",
        "ORIGINAL_SLICE_DIR = \"/content/drive/MyDrive/datasets/userplaylist_labeled_slices_fixed\"\n",
        "DOWNSCALED_SLICE_DIR = \"/content/drive/MyDrive/datasets/userplaylist_labeled_slices_fixed_downscaled\"\n",
        "SELECTED_USERS_PATH = \"/content/drive/MyDrive/datasets/userplaylist_labeled_slices_fixed_downscaled/selected_user_ids.pkl\"\n",
        "RESUME_LOG_PATH = os.path.join(DOWNSCALED_SLICE_DIR, \"processed_files_log.pkl\")\n",
        "\n",
        "SLICE_USER_SAMPLE_RATIO = 0.10  # Sample 10% of users per slice\n",
        "SEED = 42\n",
        "random.seed(SEED)\n",
        "\n",
        "os.makedirs(DOWNSCALED_SLICE_DIR, exist_ok=True)\n",
        "\n",
        "# === Load resume log ===\n",
        "if os.path.exists(RESUME_LOG_PATH):\n",
        "    with open(RESUME_LOG_PATH, \"rb\") as f:\n",
        "        processed_files = pickle.load(f)\n",
        "else:\n",
        "    processed_files = set()\n",
        "\n",
        "selected_users_global = set()\n",
        "files = sorted(f for f in os.listdir(ORIGINAL_SLICE_DIR) if f.endswith(\".parquet\"))\n",
        "\n",
        "# === Process each slice ===\n",
        "for f in tqdm(files, desc=\"Processing slices\"):\n",
        "    if f in processed_files:\n",
        "        continue\n",
        "\n",
        "    path = os.path.join(ORIGINAL_SLICE_DIR, f)\n",
        "    df = pl.read_parquet(path)\n",
        "\n",
        "    user_ids = df[\"user_idx\"].unique().to_list()\n",
        "    if not user_ids:\n",
        "        processed_files.add(f)\n",
        "        with open(RESUME_LOG_PATH, \"wb\") as logf:\n",
        "            pickle.dump(processed_files, logf)\n",
        "        continue\n",
        "\n",
        "    sample_size = max(1, int(len(user_ids) * SLICE_USER_SAMPLE_RATIO))\n",
        "    sampled_users = random.sample(user_ids, sample_size)\n",
        "\n",
        "    df_downscaled = df.filter(pl.col(\"user_idx\").is_in(sampled_users))\n",
        "    df_downscaled.write_parquet(os.path.join(DOWNSCALED_SLICE_DIR, f))\n",
        "\n",
        "    selected_users_global.update(sampled_users)\n",
        "\n",
        "    processed_files.add(f)\n",
        "    with open(RESUME_LOG_PATH, \"wb\") as logf:\n",
        "        pickle.dump(processed_files, logf)\n",
        "\n",
        "# === Save selected user IDs for future reference ===\n",
        "with open(SELECTED_USERS_PATH, \"wb\") as f:\n",
        "    pickle.dump(selected_users_global, f)\n",
        "\n",
        "print(\"✅ All slices processed and saved.\")\n",
        "print(\"✅ Selected user IDs saved.\")\n"
      ],
      "metadata": {
        "colab": {
          "base_uri": "https://localhost:8080/"
        },
        "id": "XwTbBhegMaFl",
        "outputId": "0cd80831-07d1-4a94-fb7d-80d3e8d9d3e8"
      },
      "execution_count": null,
      "outputs": [
        {
          "output_type": "stream",
          "name": "stderr",
          "text": [
            "Processing slices: 100%|██████████| 102/102 [22:55<00:00, 13.48s/it]"
          ]
        },
        {
          "output_type": "stream",
          "name": "stdout",
          "text": [
            "✅ All slices processed and saved.\n",
            "✅ Selected user IDs saved.\n"
          ]
        },
        {
          "output_type": "stream",
          "name": "stderr",
          "text": [
            "\n"
          ]
        }
      ]
    },
    {
      "cell_type": "markdown",
      "source": [
        "Next we need to clean all of the playlists that aren't liked by any of the 100k sampled users (this means that we can't assign ownership for that playlist). Also this saves us some memory and will further speed things up.\n",
        "This dataset should be based on organic playlists that were created by users. If no users like a playlist, it wasn't 'created' by any of our users, and therefore should not exist in this dataset."
      ],
      "metadata": {
        "id": "cq_r03j2PIIY"
      }
    },
    {
      "cell_type": "code",
      "source": [
        "import os\n",
        "import pickle\n",
        "import polars as pl\n",
        "from tqdm import tqdm\n",
        "\n",
        "# === Paths ===\n",
        "DOWNSCALED_SLICE_DIR = \"/content/drive/MyDrive/datasets/userplaylist_labeled_slices_fixed_downscaled\"\n",
        "LIKED_PLAYLISTS_PATH = os.path.join(DOWNSCALED_SLICE_DIR, \"liked_playlist_ids.pkl\")\n",
        "DROPPED_PLAYLISTS_PATH = os.path.join(DOWNSCALED_SLICE_DIR, \"dropped_playlist_ids.pkl\")\n",
        "\n",
        "# === Step 1: First Pass - Collect liked and all playlist IDs ===\n",
        "liked_playlist_ids = set()\n",
        "all_playlist_ids = set()\n",
        "\n",
        "files = sorted(f for f in os.listdir(DOWNSCALED_SLICE_DIR) if f.endswith(\".parquet\"))\n",
        "for f in tqdm(files, desc=\"Scanning slices for liked playlists\"):\n",
        "    df = pl.read_parquet(os.path.join(DOWNSCALED_SLICE_DIR, f))\n",
        "    all_playlist_ids.update(df[\"playlist_idx\"].unique().to_list())\n",
        "    liked_df = df.filter(pl.col(\"label\") == 1)\n",
        "    liked_playlist_ids.update(liked_df[\"playlist_idx\"].unique().to_list())\n",
        "\n",
        "# === Step 2: Compute dropped playlists ===\n",
        "dropped_playlist_ids = all_playlist_ids - liked_playlist_ids\n",
        "\n",
        "# === Step 3: Save the sets ===\n",
        "with open(LIKED_PLAYLISTS_PATH, \"wb\") as f:\n",
        "    pickle.dump(liked_playlist_ids, f)\n",
        "with open(DROPPED_PLAYLISTS_PATH, \"wb\") as f:\n",
        "    pickle.dump(dropped_playlist_ids, f)\n",
        "\n",
        "print(f\"✅ Found {len(liked_playlist_ids):,} liked playlists.\")\n",
        "print(f\"❌ Dropping {len(dropped_playlist_ids):,} unused playlists from slices.\")\n",
        "\n",
        "# === Step 4: Second Pass - Clean slices in-place ===\n",
        "for f in tqdm(files, desc=\"Cleaning slices!\"):\n",
        "    full_path = os.path.join(DOWNSCALED_SLICE_DIR, f)\n",
        "    df = pl.read_parquet(full_path)\n",
        "    df = df.filter(pl.col(\"playlist_idx\").is_in(liked_playlist_ids))\n",
        "    df.write_parquet(full_path)\n",
        "\n",
        "print(\"✅✅ All slices cleaned. Only playlists with at least one like are retained.\")\n"
      ],
      "metadata": {
        "colab": {
          "base_uri": "https://localhost:8080/"
        },
        "id": "KHjMlJ0tPGnl",
        "outputId": "20de5301-3150-46a0-b635-0e5d92e06104"
      },
      "execution_count": null,
      "outputs": [
        {
          "output_type": "stream",
          "name": "stderr",
          "text": [
            "Scanning slices for liked playlists: 100%|██████████| 102/102 [03:00<00:00,  1.77s/it]\n"
          ]
        },
        {
          "output_type": "stream",
          "name": "stdout",
          "text": [
            "✅ Found 187,949 liked playlists.\n",
            "❌ Dropping 495,053 unused playlists from slices.\n"
          ]
        },
        {
          "output_type": "stream",
          "name": "stderr",
          "text": [
            "Cleaning slices!: 100%|██████████| 102/102 [02:09<00:00,  1.27s/it]"
          ]
        },
        {
          "output_type": "stream",
          "name": "stdout",
          "text": [
            "✅✅ All slices cleaned. Only playlists with at least one like are retained.\n"
          ]
        },
        {
          "output_type": "stream",
          "name": "stderr",
          "text": [
            "\n"
          ]
        }
      ]
    },
    {
      "cell_type": "markdown",
      "source": [
        "### 1) Splits of data"
      ],
      "metadata": {
        "id": "Mbu_sCAatP9U"
      }
    },
    {
      "cell_type": "code",
      "source": [
        "import os\n",
        "import pickle\n",
        "import random\n",
        "from collections import defaultdict\n",
        "from tqdm import tqdm\n",
        "import polars as pl\n",
        "import gc  # For manual garbage collection\n",
        "\n",
        "# === Config ===\n",
        "SLICE_DIR = \"/content/drive/MyDrive/datasets/userplaylist_labeled_slices_fixed_downscaled\"\n",
        "OUT_DIR = \"/content/drive/MyDrive/datasets/main_datasets/positives_splits\"\n",
        "os.makedirs(OUT_DIR, exist_ok=True)\n",
        "\n",
        "SEED = 42\n",
        "VAL_RATIO = 0.2\n",
        "TEST_RATIO = 0.1\n",
        "TRAIN_RATIO = 0.7\n",
        "NEW_USER_RATIO = 0.05\n",
        "BATCH_SIZE = 10  # files per batch\n",
        "\n",
        "random.seed(SEED)\n",
        "\n",
        "# === Step 1: Batch slice files ===\n",
        "files = sorted(f for f in os.listdir(SLICE_DIR) if f.endswith(\".parquet\"))\n",
        "batches = [files[i:i+BATCH_SIZE] for i in range(0, len(files), BATCH_SIZE)]\n",
        "\n",
        "for batch_num, batch_files in enumerate(tqdm(batches, desc=\"Batching slices\")):\n",
        "    print(f\"Processing batch {batch_num} with {len(batch_files)} files\")\n",
        "\n",
        "    user_to_positives = defaultdict(list)\n",
        "\n",
        "    for fname in batch_files:\n",
        "        df = pl.read_parquet(os.path.join(SLICE_DIR, fname))\n",
        "        df = df.filter(pl.col(\"label\") == 1)\n",
        "\n",
        "        for row in df.iter_rows(named=True):\n",
        "            user_to_positives[row[\"user_idx\"]].append((row[\"playlist_idx\"], row[\"score\"]))\n",
        "\n",
        "    all_users = sorted(user_to_positives.keys())\n",
        "    random.shuffle(all_users)\n",
        "    num_new_users = int(len(all_users) * NEW_USER_RATIO)\n",
        "    new_users = set(all_users[:num_new_users])\n",
        "    remaining_users = all_users[num_new_users:]\n",
        "\n",
        "    training = defaultdict(set)\n",
        "    val = defaultdict(set)\n",
        "    test = defaultdict(set)\n",
        "\n",
        "    for user_id in remaining_users:\n",
        "        positives = user_to_positives[user_id]\n",
        "        if len(positives) < 5:\n",
        "            training[user_id].update(pid for pid, _ in positives)\n",
        "            continue\n",
        "\n",
        "        random.shuffle(positives)\n",
        "        total = len(positives)\n",
        "        train_cut = int(total * TRAIN_RATIO)\n",
        "        val_cut = int(total * (TRAIN_RATIO + VAL_RATIO))\n",
        "\n",
        "        training[user_id].update(pid for pid, _ in positives[:train_cut])\n",
        "        val[user_id].update(pid for pid, _ in positives[train_cut:val_cut])\n",
        "        test[user_id].update(pid for pid, _ in positives[val_cut:])\n",
        "\n",
        "    # === Save each partial file ===\n",
        "    with open(os.path.join(OUT_DIR, f\"training_part_{batch_num}.pkl\"), \"wb\") as f:\n",
        "        pickle.dump(dict(training), f)\n",
        "    with open(os.path.join(OUT_DIR, f\"val_part_{batch_num}.pkl\"), \"wb\") as f:\n",
        "        pickle.dump(dict(val), f)\n",
        "    with open(os.path.join(OUT_DIR, f\"test_part_{batch_num}.pkl\"), \"wb\") as f:\n",
        "        pickle.dump(dict(test), f)\n",
        "    with open(os.path.join(OUT_DIR, f\"new_users_part_{batch_num}.pkl\"), \"wb\") as f:\n",
        "        pickle.dump(new_users, f)\n",
        "\n",
        "    print(f\"✅ Saved batch {batch_num} splits.\")\n",
        "\n",
        "\n",
        "# === Step 2: Merge partials, assemble final files and then delete partials ===\n",
        "\n",
        "\n",
        "def merge_and_save_dict(prefix, output_name):\n",
        "    merged = defaultdict(set)\n",
        "    part_files = sorted(f for f in os.listdir(OUT_DIR) if f.startswith(prefix))\n",
        "    for fname in part_files:\n",
        "        with open(os.path.join(OUT_DIR, fname), \"rb\") as f:\n",
        "            part = pickle.load(f)\n",
        "            for k, v in part.items():\n",
        "                merged[k].update(v)\n",
        "    with open(os.path.join(OUT_DIR, output_name), \"wb\") as f:\n",
        "        pickle.dump(dict(merged), f)\n",
        "    # Cleanup\n",
        "    for fname in part_files:\n",
        "        os.remove(os.path.join(OUT_DIR, fname))\n",
        "    del merged\n",
        "    gc.collect()\n",
        "    print(f\"✅ Saved and cleaned: {output_name}\")\n",
        "\n",
        "def merge_and_save_set(prefix, output_name):\n",
        "    merged = set()\n",
        "    part_files = sorted(f for f in os.listdir(OUT_DIR) if f.startswith(prefix))\n",
        "    for fname in part_files:\n",
        "        with open(os.path.join(OUT_DIR, fname), \"rb\") as f:\n",
        "            merged.update(pickle.load(f))\n",
        "    with open(os.path.join(OUT_DIR, output_name), \"wb\") as f:\n",
        "        pickle.dump(merged, f)\n",
        "    # Cleanup\n",
        "    for fname in part_files:\n",
        "        os.remove(os.path.join(OUT_DIR, fname))\n",
        "    del merged\n",
        "    gc.collect()\n",
        "    print(f\"✅ Saved and cleaned: {output_name}\")\n",
        "\n",
        "# === Sequential merging + cleanup\n",
        "print(\"Sequentially merging and saving final splits...\")\n",
        "\n",
        "merge_and_save_dict(\"training_part_\", \"training_positives.pkl\")\n",
        "merge_and_save_dict(\"val_part_\", \"val_positives.pkl\")\n",
        "merge_and_save_dict(\"test_part_\", \"test_positives.pkl\")\n",
        "merge_and_save_set(\"new_users_part_\", \"new_users.pkl\")\n",
        "\n",
        "print(\"✅ All splits saved. Folder is now clean.\")"
      ],
      "metadata": {
        "colab": {
          "base_uri": "https://localhost:8080/"
        },
        "id": "xWQb1u7ItKQq",
        "outputId": "b7eb3db0-df2c-42f8-ea35-754b6fad1ea0"
      },
      "execution_count": null,
      "outputs": [
        {
          "output_type": "stream",
          "name": "stderr",
          "text": [
            "\rBatching slices:   0%|          | 0/11 [00:00<?, ?it/s]"
          ]
        },
        {
          "output_type": "stream",
          "name": "stdout",
          "text": [
            "Processing batch 0 with 10 files\n"
          ]
        },
        {
          "output_type": "stream",
          "name": "stderr",
          "text": [
            "\rBatching slices:   9%|▉         | 1/11 [00:08<01:25,  8.55s/it]"
          ]
        },
        {
          "output_type": "stream",
          "name": "stdout",
          "text": [
            "✅ Saved batch 0 splits.\n",
            "Processing batch 1 with 10 files\n"
          ]
        },
        {
          "output_type": "stream",
          "name": "stderr",
          "text": [
            "\rBatching slices:  18%|█▊        | 2/11 [00:14<01:05,  7.25s/it]"
          ]
        },
        {
          "output_type": "stream",
          "name": "stdout",
          "text": [
            "✅ Saved batch 1 splits.\n",
            "Processing batch 2 with 10 files\n"
          ]
        },
        {
          "output_type": "stream",
          "name": "stderr",
          "text": [
            "\rBatching slices:  27%|██▋       | 3/11 [00:21<00:54,  6.85s/it]"
          ]
        },
        {
          "output_type": "stream",
          "name": "stdout",
          "text": [
            "✅ Saved batch 2 splits.\n",
            "Processing batch 3 with 10 files\n"
          ]
        },
        {
          "output_type": "stream",
          "name": "stderr",
          "text": [
            "\rBatching slices:  36%|███▋      | 4/11 [00:27<00:47,  6.77s/it]"
          ]
        },
        {
          "output_type": "stream",
          "name": "stdout",
          "text": [
            "✅ Saved batch 3 splits.\n",
            "Processing batch 4 with 10 files\n"
          ]
        },
        {
          "output_type": "stream",
          "name": "stderr",
          "text": [
            "\rBatching slices:  45%|████▌     | 5/11 [00:34<00:41,  6.86s/it]"
          ]
        },
        {
          "output_type": "stream",
          "name": "stdout",
          "text": [
            "✅ Saved batch 4 splits.\n",
            "Processing batch 5 with 10 files\n"
          ]
        },
        {
          "output_type": "stream",
          "name": "stderr",
          "text": [
            "\rBatching slices:  55%|█████▍    | 6/11 [00:41<00:34,  6.90s/it]"
          ]
        },
        {
          "output_type": "stream",
          "name": "stdout",
          "text": [
            "✅ Saved batch 5 splits.\n",
            "Processing batch 6 with 10 files\n"
          ]
        },
        {
          "output_type": "stream",
          "name": "stderr",
          "text": [
            "\rBatching slices:  64%|██████▎   | 7/11 [00:48<00:27,  6.94s/it]"
          ]
        },
        {
          "output_type": "stream",
          "name": "stdout",
          "text": [
            "✅ Saved batch 6 splits.\n",
            "Processing batch 7 with 10 files\n"
          ]
        },
        {
          "output_type": "stream",
          "name": "stderr",
          "text": [
            "\rBatching slices:  73%|███████▎  | 8/11 [00:55<00:20,  6.87s/it]"
          ]
        },
        {
          "output_type": "stream",
          "name": "stdout",
          "text": [
            "✅ Saved batch 7 splits.\n",
            "Processing batch 8 with 10 files\n"
          ]
        },
        {
          "output_type": "stream",
          "name": "stderr",
          "text": [
            "\rBatching slices:  82%|████████▏ | 9/11 [01:02<00:13,  6.89s/it]"
          ]
        },
        {
          "output_type": "stream",
          "name": "stdout",
          "text": [
            "✅ Saved batch 8 splits.\n",
            "Processing batch 9 with 10 files\n"
          ]
        },
        {
          "output_type": "stream",
          "name": "stderr",
          "text": [
            "\rBatching slices:  91%|█████████ | 10/11 [01:09<00:06,  6.88s/it]"
          ]
        },
        {
          "output_type": "stream",
          "name": "stdout",
          "text": [
            "✅ Saved batch 9 splits.\n",
            "Processing batch 10 with 2 files\n"
          ]
        },
        {
          "output_type": "stream",
          "name": "stderr",
          "text": [
            "Batching slices: 100%|██████████| 11/11 [01:11<00:00,  6.52s/it]"
          ]
        },
        {
          "output_type": "stream",
          "name": "stdout",
          "text": [
            "✅ Saved batch 10 splits.\n",
            "Sequentially merging and saving final splits...\n"
          ]
        },
        {
          "output_type": "stream",
          "name": "stderr",
          "text": [
            "\n"
          ]
        },
        {
          "output_type": "stream",
          "name": "stdout",
          "text": [
            "✅ Saved and cleaned: training_positives.pkl\n",
            "✅ Saved and cleaned: val_positives.pkl\n",
            "✅ Saved and cleaned: test_positives.pkl\n",
            "✅ Saved and cleaned: new_users.pkl\n",
            "✅ All splits saved. Folder is now clean.\n"
          ]
        }
      ]
    },
    {
      "cell_type": "markdown",
      "source": [
        "# Part 7) Playlist ownership assignment"
      ],
      "metadata": {
        "id": "NCbv7bmgumlY"
      }
    },
    {
      "cell_type": "code",
      "source": [
        "import os\n",
        "import pickle\n",
        "import polars as pl\n",
        "from collections import defaultdict\n",
        "from tqdm import tqdm\n",
        "\n",
        "# === CONFIGURATION ===\n",
        "SLICE_DIR = \"/content/drive/MyDrive/datasets/userplaylist_labeled_slices_fixed_downscaled\"\n",
        "VALIDATION_SET_PATH = \"/content/drive/MyDrive/datasets/main_datasets/positives_splits/val_positives.pkl\"\n",
        "USER_SONG_COUNT_PATH = \"/content/drive/MyDrive/datasets/user_song_counts_idx.parquet\"\n",
        "OUTPUT_DIR = \"/content/drive/MyDrive/datasets/playlist_ownership\"\n",
        "LOG_PATH = os.path.join(OUTPUT_DIR, \"resume_playlist_assignment.log\")\n",
        "\n",
        "O_MAX = 100  # Max number of playlists a user can own\n",
        "os.makedirs(OUTPUT_DIR, exist_ok=True)\n",
        "\n",
        "# === Load metadata ===\n",
        "print(\"Loading user song counts...\")\n",
        "user_song_df = pl.read_parquet(USER_SONG_COUNT_PATH)\n",
        "user_song_count = dict(zip(user_song_df[\"user_idx\"].to_list(), user_song_df[\"song_count\"].to_list()))\n",
        "\n",
        "print(\"Loading validation set...\")\n",
        "with open(VALIDATION_SET_PATH, \"rb\") as f:\n",
        "    val_positives = pickle.load(f)\n",
        "\n",
        "# === Resume-safe setup ===\n",
        "processed_files = set()\n",
        "if os.path.exists(LOG_PATH):\n",
        "    with open(LOG_PATH, \"rb\") as f:\n",
        "        processed_files = set(pickle.load(f))\n",
        "\n",
        "playlist_to_owner = {}\n",
        "user_to_owned_playlists = defaultdict(set)\n",
        "ownership_candidates = defaultdict(list)\n",
        "\n",
        "# === First pass: gather ownership candidates ===\n",
        "print(\"Scanning slices for ownership candidates...\")\n",
        "files = sorted(f for f in os.listdir(SLICE_DIR) if f.endswith(\".parquet\"))\n",
        "for file in tqdm(files, desc=\"Gathering\"):\n",
        "    if file in processed_files:\n",
        "        continue\n",
        "    df = pl.read_parquet(os.path.join(SLICE_DIR, file))\n",
        "    df = df.filter(pl.col(\"label\") == 1)\n",
        "\n",
        "    for row in df.iter_rows(named=True):\n",
        "        user = row[\"user_idx\"]\n",
        "        playlist = row[\"playlist_idx\"]\n",
        "        if playlist in val_positives.get(user, []):\n",
        "            continue  # skip if in validation\n",
        "        s = user_song_count.get(user, 1)\n",
        "        score = row[\"score\"]\n",
        "        priority = score / (s ** 0.5)\n",
        "        ownership_candidates[playlist].append((priority, user))\n",
        "\n",
        "    processed_files.add(file)\n",
        "    with open(LOG_PATH, \"wb\") as f:\n",
        "        pickle.dump(processed_files, f)\n",
        "\n",
        "# === Assign ownership ===\n",
        "print(\"Assigning playlist ownership...\")\n",
        "for playlist, candidates in tqdm(ownership_candidates.items(), desc=\"Assigning\"):\n",
        "    candidates.sort(reverse=True)\n",
        "    for _, user in candidates:\n",
        "        if len(user_to_owned_playlists[user]) < O_MAX:\n",
        "            playlist_to_owner[playlist] = user\n",
        "            user_to_owned_playlists[user].add(playlist)\n",
        "            break\n",
        "\n",
        "# === Save ownership mappings ===\n",
        "with open(os.path.join(OUTPUT_DIR, \"playlist_to_owner.pkl\"), \"wb\") as f:\n",
        "    pickle.dump(playlist_to_owner, f)\n",
        "with open(os.path.join(OUTPUT_DIR, \"user_owned_playlists.pkl\"), \"wb\") as f:\n",
        "    pickle.dump(dict(user_to_owned_playlists), f)\n",
        "\n",
        "# === Second pass: annotate slices with \"owns_playlist\" column ===\n",
        "print(\"Annotating slices with ownership info...\")\n",
        "for file in tqdm(files, desc=\"Annotating\"):\n",
        "    df_path = os.path.join(SLICE_DIR, file)\n",
        "    df = pl.read_parquet(df_path)\n",
        "\n",
        "    def is_owner(row):\n",
        "        return int(playlist_to_owner.get(row[\"playlist_idx\"]) == row[\"user_idx\"])\n",
        "\n",
        "    df = df.with_columns([\n",
        "        pl.struct([\"user_idx\", \"playlist_idx\"]).map_elements(is_owner, return_dtype=pl.Int8).alias(\"owns_playlist\")\n",
        "    ])\n",
        "    df.write_parquet(df_path)\n",
        "\n",
        "print(f\"✅ Done. Ownership saved to: {OUTPUT_DIR}\")"
      ],
      "metadata": {
        "colab": {
          "base_uri": "https://localhost:8080/"
        },
        "id": "soajZU_ttK5F",
        "outputId": "f4702885-b840-4910-fb9b-7d97b1bb7abb"
      },
      "execution_count": null,
      "outputs": [
        {
          "output_type": "stream",
          "name": "stdout",
          "text": [
            "Loading user song counts...\n",
            "Loading validation set...\n",
            "Scanning slices for ownership candidates...\n"
          ]
        },
        {
          "output_type": "stream",
          "name": "stderr",
          "text": [
            "Gathering: 100%|██████████| 102/102 [05:13<00:00,  3.07s/it]\n"
          ]
        },
        {
          "output_type": "stream",
          "name": "stdout",
          "text": [
            "Assigning playlist ownership...\n"
          ]
        },
        {
          "output_type": "stream",
          "name": "stderr",
          "text": [
            "Assigning: 100%|██████████| 181467/181467 [00:16<00:00, 10852.47it/s]\n"
          ]
        },
        {
          "output_type": "stream",
          "name": "stdout",
          "text": [
            "Annotating slices with ownership info...\n"
          ]
        },
        {
          "output_type": "stream",
          "name": "stderr",
          "text": [
            "Annotating: 100%|██████████| 102/102 [11:56<00:00,  7.03s/it]"
          ]
        },
        {
          "output_type": "stream",
          "name": "stdout",
          "text": [
            "✅ Done. Ownership saved to: /content/drive/MyDrive/datasets/playlist_ownership\n"
          ]
        },
        {
          "output_type": "stream",
          "name": "stderr",
          "text": [
            "\n"
          ]
        }
      ]
    },
    {
      "cell_type": "markdown",
      "source": [
        "Let's explore some statistics about playlist ownership to check everything is reasonable.\n",
        "\n",
        "The plots show a realistical distribution of playlist ownership in music streaming services, where we have 'power users' that create lots of playlists. The user pairing model needs to guarantee that for each user we get enough paired-users to have a decent amount of playlists to rank with the BPR model."
      ],
      "metadata": {
        "id": "Cwc96ZnCTPVU"
      }
    },
    {
      "cell_type": "code",
      "source": [
        "import os\n",
        "import pickle\n",
        "import matplotlib.pyplot as plt\n",
        "import numpy as np\n",
        "\n",
        "# === CONFIGURATION ===\n",
        "OWNERSHIP_PATH = \"/content/drive/MyDrive/datasets/playlist_ownership/user_owned_playlists.pkl\"\n",
        "SELECTED_USERS_PATH = \"/content/drive/MyDrive/datasets/userplaylist_labeled_slices_fixed_downscaled/selected_user_ids.pkl\"\n",
        "\n",
        "# === Load ownership map ===\n",
        "with open(OWNERSHIP_PATH, \"rb\") as f:\n",
        "    user_owned_playlists = pickle.load(f)\n",
        "\n",
        "# === Build ownership stats ===\n",
        "ownership_counts = [len(playlists) for playlists in user_owned_playlists.values()]\n",
        "owned_user_ids = set(user_owned_playlists.keys())\n",
        "\n",
        "# === Show basic stats ===\n",
        "avg = np.mean(ownership_counts)\n",
        "med = np.median(ownership_counts)\n",
        "p25 = np.percentile(ownership_counts, 25)\n",
        "p75 = np.percentile(ownership_counts, 75)\n",
        "min_ = np.min(ownership_counts)\n",
        "max_ = np.max(ownership_counts)\n",
        "\n",
        "print(\"Playlist Ownership Stats (Global):\")\n",
        "print(f\" - Users with ownership: {len(ownership_counts):,}\")\n",
        "print(f\" - Min owned           : {min_}\")\n",
        "print(f\" - Max owned           : {max_}\")\n",
        "print(f\" - Average owned       : {avg:.2f}\")\n",
        "print(f\" - Median owned        : {med}\")\n",
        "print(f\" - 25th percentile     : {p25}\")\n",
        "print(f\" - 75th percentile     : {p75}\")\n",
        "\n",
        "# === Plot histogram ===\n",
        "plt.figure(figsize=(8, 5))\n",
        "plt.hist(ownership_counts, bins=30, color=\"skyblue\", edgecolor=\"black\")\n",
        "plt.title(\"Histogram of Playlist Ownership per User (Global)\")\n",
        "plt.xlabel(\"Number of Owned Playlists\")\n",
        "plt.ylabel(\"Number of Users\")\n",
        "plt.grid(True, linestyle='--', alpha=0.6)\n",
        "plt.tight_layout()\n",
        "plt.show()\n",
        "\n",
        "# === Filter extreme users (more than 5 playlists) ===\n",
        "extreme_ownership_counts = [v for v in ownership_counts if v > 5]\n",
        "num_extreme_users = len(extreme_ownership_counts)\n",
        "share_extreme = (num_extreme_users / len(ownership_counts)) * 100 if ownership_counts else 0\n",
        "\n",
        "if extreme_ownership_counts:\n",
        "    print(\"\\n📊 Extreme Users (owning > 5 playlists):\")\n",
        "    print(f\" - Count                   : {num_extreme_users:,}\")\n",
        "    print(f\" - Share of owners         : {share_extreme:.2f}%\")\n",
        "    print(f\" - Min owned               : {min(extreme_ownership_counts)}\")\n",
        "    print(f\" - Max owned               : {max(extreme_ownership_counts)}\")\n",
        "    print(f\" - Average owned           : {np.mean(extreme_ownership_counts):.2f}\")\n",
        "    print(f\" - Median owned            : {np.median(extreme_ownership_counts):.2f}\")\n",
        "    print(f\" - 25th percentile         : {np.percentile(extreme_ownership_counts, 25):.2f}\")\n",
        "    print(f\" - 75th percentile         : {np.percentile(extreme_ownership_counts, 75):.2f}\")\n",
        "\n",
        "    plt.figure(figsize=(8, 5))\n",
        "    plt.hist(extreme_ownership_counts, bins=20, color=\"salmon\", edgecolor=\"black\")\n",
        "    plt.title(\"Ownership Distribution: Users with >5 Playlists\")\n",
        "    plt.xlabel(\"Number of Owned Playlists\")\n",
        "    plt.ylabel(\"Number of Users\")\n",
        "    plt.grid(True, linestyle='--', alpha=0.6)\n",
        "    plt.tight_layout()\n",
        "    plt.show()\n",
        "else:\n",
        "    print(\"No users own more than 5 playlists.\")\n",
        "\n",
        "# === Inequality stats ===\n",
        "sorted_ownership = np.array(sorted(ownership_counts, reverse=True), dtype=np.float64)\n",
        "total_playlists = sorted_ownership.sum()\n",
        "num_users = len(sorted_ownership)\n",
        "thresholds = [0.01, 0.05, 0.10, 0.25]\n",
        "\n",
        "print(\"\\n📊 Playlist Ownership Inequality Stats:\")\n",
        "for t in thresholds:\n",
        "    top_n = int(num_users * t)\n",
        "    share = sorted_ownership[:top_n].sum() / total_playlists * 100\n",
        "    print(f\" - Top {int(t*100)}% own {share:.2f}% of playlists\")\n",
        "\n",
        "# === Gini Coefficient ===\n",
        "def gini_coefficient(x):\n",
        "    x = np.array(x, dtype=np.float64)\n",
        "    if np.amin(x) < 0:\n",
        "        x = x - np.amin(x)\n",
        "    x += 1e-9  # avoid zero division\n",
        "    x_sorted = np.sort(x)\n",
        "    n = x.shape[0]\n",
        "    index = np.arange(1, n + 1)\n",
        "    return ((np.sum((2 * index - n - 1) * x_sorted)) / (n * np.sum(x_sorted)))\n",
        "\n",
        "gini = gini_coefficient(sorted_ownership)\n",
        "print(f\" - Gini coefficient       : {gini:.4f}\")\n",
        "\n",
        "# === Optional: Lorenz Curve ===\n",
        "cum_ownership = np.cumsum(sorted_ownership) / total_playlists\n",
        "cum_users = np.arange(1, num_users + 1) / num_users\n",
        "\n",
        "plt.figure(figsize=(6, 6))\n",
        "plt.plot(cum_users, cum_ownership, label=\"Lorenz Curve\")\n",
        "plt.plot([0, 1], [0, 1], linestyle='--', color='gray', label=\"Equality Line\")\n",
        "plt.xlabel(\"Cumulative % of Users\")\n",
        "plt.ylabel(\"Cumulative % of Playlists Owned\")\n",
        "plt.title(\"Lorenz Curve of Playlist Ownership\")\n",
        "plt.grid(True, linestyle='--', alpha=0.5)\n",
        "plt.legend()\n",
        "plt.tight_layout()\n",
        "plt.show()\n",
        "\n",
        "# === Compare to total selected users ===\n",
        "with open(SELECTED_USERS_PATH, \"rb\") as f:\n",
        "    selected_users = pickle.load(f)\n",
        "\n",
        "total_users = len(selected_users)\n",
        "owned_users = len(owned_user_ids)\n",
        "ownership_share = owned_users / total_users * 100\n",
        "\n",
        "print(\"\\n📊 Ownership Coverage in Downscaled Dataset:\")\n",
        "print(f\" - Total selected users   : {total_users:,}\")\n",
        "print(f\" - Users with ownership   : {owned_users:,}\")\n",
        "print(f\" - Share with ownership   : {ownership_share:.2f}%\")"
      ],
      "metadata": {
        "colab": {
          "base_uri": "https://localhost:8080/",
          "height": 1000
        },
        "id": "UUtMvW_iTI_8",
        "outputId": "ed9bd499-417f-4139-83a5-5ad80e8656f0"
      },
      "execution_count": null,
      "outputs": [
        {
          "output_type": "stream",
          "name": "stdout",
          "text": [
            "Playlist Ownership Stats (Global):\n",
            " - Users with ownership: 39,653\n",
            " - Min owned           : 1\n",
            " - Max owned           : 100\n",
            " - Average owned       : 4.57\n",
            " - Median owned        : 2.0\n",
            " - 25th percentile     : 1.0\n",
            " - 75th percentile     : 4.0\n"
          ]
        },
        {
          "output_type": "display_data",
          "data": {
            "text/plain": [
              "<Figure size 800x500 with 1 Axes>"
            ],
            "image/png": "[encoded data removed]"
          },
          "metadata": {}
        },
        {
          "output_type": "stream",
          "name": "stdout",
          "text": [
            "\n",
            "📊 Extreme Users (owning > 5 playlists):\n",
            " - Count                   : 7,675\n",
            " - Share of owners         : 19.36%\n",
            " - Min owned               : 6\n",
            " - Max owned               : 100\n",
            " - Average owned           : 15.54\n",
            " - Median owned            : 10.00\n",
            " - 25th percentile         : 7.00\n",
            " - 75th percentile         : 17.00\n"
          ]
        },
        {
          "output_type": "display_data",
          "data": {
            "text/plain": [
              "<Figure size 800x500 with 1 Axes>"
            ],
            "image/png": "[encoded data removed]"
          },
          "metadata": {}
        },
        {
          "output_type": "stream",
          "name": "stdout",
          "text": [
            "\n",
            "📊 Playlist Ownership Inequality Stats:\n",
            " - Top 1% own 15.34% of playlists\n",
            " - Top 5% own 37.29% of playlists\n",
            " - Top 10% own 50.83% of playlists\n",
            " - Top 25% own 71.68% of playlists\n",
            " - Gini coefficient       : 0.6033\n"
          ]
        },
        {
          "output_type": "display_data",
          "data": {
            "text/plain": [
              "<Figure size 600x600 with 1 Axes>"
            ],
            "image/png": "[encoded data removed]"
          },
          "metadata": {}
        },
        {
          "output_type": "stream",
          "name": "stdout",
          "text": [
            "\n",
            "📊 Ownership Coverage in Downscaled Dataset:\n",
            " - Total selected users   : 101,713\n",
            " - Users with ownership   : 39,653\n",
            " - Share with ownership   : 38.99%\n"
          ]
        }
      ]
    },
    {
      "cell_type": "markdown",
      "source": [
        "# Part 8) Generate triplets training dataset!\n",
        "\n",
        "This is the dataset that the BPR model will be trained on.\n",
        "\n",
        "Each row is a triplet of (user_id, liked_playlist_id, negative_playlist_id).\n",
        "\n",
        "Apart from the full dataset, we also generate a toy dataset for doing training tests (5% of full-sized dataset)."
      ],
      "metadata": {
        "id": "3ilfSUad1oBG"
      }
    },
    {
      "cell_type": "markdown",
      "source": [
        "### i) Precompute the negatives from which we will grab for triplet generation.\n",
        "\n",
        "- For this we sample negatives, but we take 20% of them strictly from 'hard-negatives', meaning that they are negatives that were close, in score, to being a positive for that user. This makes the task a bit more challenging for the model training, and will probably help it generalize better and perform better in production.\n",
        "- The other 80% is sampled from all negatives (including hard-negatives)."
      ],
      "metadata": {
        "id": "IixbIW5B4870"
      }
    },
    {
      "cell_type": "code",
      "source": [
        "import os\n",
        "import pickle\n",
        "import polars as pl\n",
        "from tqdm import tqdm\n",
        "\n",
        "# === CONFIGURATION ===\n",
        "INPUT_DIR = \"/content/drive/MyDrive/datasets/userplaylist_labeled_slices_fixed_downscaled\"\n",
        "TRAIN_POSITIVES_PATH = \"/content/drive/MyDrive/datasets/main_datasets/positives_splits/training_positives.pkl\"\n",
        "OWNED_PLAYLISTS_PATH = \"/content/drive/MyDrive/datasets/playlist_ownership/user_owned_playlists.pkl\"\n",
        "NEGATIVE_CANDIDATES_PATH = \"/content/drive/MyDrive/datasets/main_datasets/negatives/user_negative_candidates.pkl\"\n",
        "RESUME_LOG_PATH = \"/content/drive/MyDrive/datasets/main_datasets/negatives/resume_log.pkl\"\n",
        "os.makedirs(os.path.dirname(NEGATIVE_CANDIDATES_PATH), exist_ok=True)\n",
        "\n",
        "# === Step 1: Load data ===\n",
        "with open(TRAIN_POSITIVES_PATH, \"rb\") as f:\n",
        "    training_positives = pickle.load(f)\n",
        "with open(OWNED_PLAYLISTS_PATH, \"rb\") as f:\n",
        "    user_owned_playlists = pickle.load(f)\n",
        "\n",
        "# === Step 2: Resume-safe setup ===\n",
        "if os.path.exists(RESUME_LOG_PATH):\n",
        "    with open(RESUME_LOG_PATH, \"rb\") as f:\n",
        "        completed_files = pickle.load(f)\n",
        "else:\n",
        "    completed_files = set()\n",
        "\n",
        "user_negative_candidates = {}\n",
        "\n",
        "input_files = sorted(f for f in os.listdir(INPUT_DIR) if f.endswith(\".parquet\"))\n",
        "remaining_files = [f for f in input_files if f not in completed_files]\n",
        "\n",
        "# === Step 3: Process slices ===\n",
        "for file_name in tqdm(remaining_files, desc=\"Precomputing negatives\"):\n",
        "    df = pl.read_parquet(os.path.join(INPUT_DIR, file_name))\n",
        "\n",
        "    grouped = df.group_by(\"user_idx\").agg([\n",
        "        pl.col(\"playlist_idx\").alias(\"playlist_ids\"),\n",
        "        pl.col(\"label\").alias(\"labels\"),\n",
        "        pl.col(\"score\").alias(\"scores\"),\n",
        "    ])\n",
        "\n",
        "    for row in grouped.iter_rows(named=True):\n",
        "        user_id = row[\"user_idx\"]\n",
        "        playlist_ids = row[\"playlist_ids\"]\n",
        "        labels = row[\"labels\"]\n",
        "        scores = row[\"scores\"]\n",
        "\n",
        "        if user_id not in training_positives:\n",
        "            continue\n",
        "\n",
        "        positives = set(training_positives[user_id])\n",
        "        owned = user_owned_playlists.get(user_id, set())\n",
        "\n",
        "        negatives = [(pid, s) for pid, l, s in zip(playlist_ids, labels, scores)\n",
        "                     if l == 0 and pid not in positives and pid not in owned]\n",
        "\n",
        "        if not negatives:\n",
        "            continue\n",
        "\n",
        "        negatives.sort(key=lambda x: -x[1])  # descending by score\n",
        "        cutoff = max(1, int(len(negatives) * 0.2))  # top 20%\n",
        "        top = [pid for pid, _ in negatives[:cutoff]]\n",
        "        rest = [pid for pid, _ in negatives[cutoff:]]\n",
        "        user_negative_candidates[user_id] = {\"hard\": top, \"easy\": rest}\n",
        "\n",
        "    # Save progress\n",
        "    with open(NEGATIVE_CANDIDATES_PATH, \"wb\") as f:\n",
        "        pickle.dump(user_negative_candidates, f)\n",
        "    completed_files.add(file_name)\n",
        "    with open(RESUME_LOG_PATH, \"wb\") as f:\n",
        "        pickle.dump(completed_files, f)\n",
        "\n",
        "# Final cleanup\n",
        "if os.path.exists(RESUME_LOG_PATH):\n",
        "    os.remove(RESUME_LOG_PATH)\n",
        "\n",
        "print(\"✅ Candidate negatives cached for triplet generation.\")"
      ],
      "metadata": {
        "colab": {
          "base_uri": "https://localhost:8080/"
        },
        "id": "UZ0b16IkfSa7",
        "outputId": "792dc628-da42-453e-cfa3-55dbde523c4f"
      },
      "execution_count": null,
      "outputs": [
        {
          "output_type": "stream",
          "name": "stderr",
          "text": [
            "Precomputing negatives: 100%|██████████| 102/102 [29:38<00:00, 17.44s/it]"
          ]
        },
        {
          "output_type": "stream",
          "name": "stdout",
          "text": [
            "✅ Candidate negatives cached for triplet generation.\n"
          ]
        },
        {
          "output_type": "stream",
          "name": "stderr",
          "text": [
            "\n"
          ]
        }
      ]
    },
    {
      "cell_type": "markdown",
      "source": [
        "### Generate the triplets! (This code takes about 6 hours to run)"
      ],
      "metadata": {
        "id": "wGUryVGc5J8H"
      }
    },
    {
      "cell_type": "code",
      "source": [
        "import os\n",
        "import pickle\n",
        "import random\n",
        "from tqdm import tqdm\n",
        "import polars as pl\n",
        "\n",
        "# === CONFIGURATION ===\n",
        "INPUT_DIR = \"/content/drive/MyDrive/datasets/userplaylist_labeled_slices_fixed_downscaled\"\n",
        "TRAIN_POSITIVES_PATH = \"/content/drive/MyDrive/datasets/main_datasets/positives_splits/training_positives.pkl\"\n",
        "OWNED_PLAYLISTS_PATH = \"/content/drive/MyDrive/datasets/playlist_ownership/user_owned_playlists.pkl\"\n",
        "NEGATIVE_CANDIDATES_PATH = \"/content/drive/MyDrive/datasets/main_datasets/negatives/user_negative_candidates.pkl\"\n",
        "\n",
        "OUTPUT_DIR = \"/content/drive/MyDrive/datasets/main_datasets/triplets_dataset/full\"\n",
        "TOY_OUTPUT_DIR = \"/content/drive/MyDrive/datasets/main_datasets/triplets_dataset/toy\"\n",
        "RESUME_LOG_PATH = \"/content/drive/MyDrive/datasets/main_datasets/triplets_dataset/resume_log_v2.pkl\"\n",
        "TOY_USERS_PATH = \"/content/drive/MyDrive/datasets/main_datasets/triplets_dataset/toy_users.pkl\"\n",
        "\n",
        "NUM_NEGATIVES = 4\n",
        "TOY_USER_RATIO = 0.05\n",
        "TOY_MAX_TRIPLETS_PER_SLICE = 10_000_000\n",
        "SEED = 42\n",
        "random.seed(SEED)\n",
        "\n",
        "os.makedirs(OUTPUT_DIR, exist_ok=True)\n",
        "os.makedirs(TOY_OUTPUT_DIR, exist_ok=True)\n",
        "\n",
        "# === Step 1: Load data ===\n",
        "with open(TRAIN_POSITIVES_PATH, \"rb\") as f:\n",
        "    training_positives = pickle.load(f)\n",
        "with open(OWNED_PLAYLISTS_PATH, \"rb\") as f:\n",
        "    user_owned_playlists = pickle.load(f)\n",
        "with open(NEGATIVE_CANDIDATES_PATH, \"rb\") as f:\n",
        "    user_negative_candidates = pickle.load(f)\n",
        "\n",
        "all_users = sorted(training_positives.keys())\n",
        "sampled_toy_users = set(random.sample(all_users, int(len(all_users) * TOY_USER_RATIO)))\n",
        "\n",
        "# Save toy user list (if not done already)\n",
        "with open(TOY_USERS_PATH, \"wb\") as f:\n",
        "    pickle.dump(sampled_toy_users, f)\n",
        "print(f\"✅ Saved toy user list: {len(sampled_toy_users)} users → {TOY_USERS_PATH}\")\n",
        "\n",
        "# === Step 2: Resume-safe setup ===\n",
        "if os.path.exists(RESUME_LOG_PATH):\n",
        "    with open(RESUME_LOG_PATH, \"rb\") as f:\n",
        "        completed_files = pickle.load(f)\n",
        "else:\n",
        "    completed_files = set()\n",
        "\n",
        "input_files = sorted(f for f in os.listdir(INPUT_DIR) if f.endswith(\".parquet\"))\n",
        "remaining_files = [f for f in input_files if f not in completed_files]\n",
        "\n",
        "print(f\"✅ {len(completed_files)} slices already processed, {len(remaining_files)} remaining.\")\n",
        "print(f\"✅ {len(sampled_toy_users)} users sampled for toy dataset.\")\n",
        "\n",
        "# === Step 3: Process slices ===\n",
        "for file_name in tqdm(remaining_files, desc=\"Generating triplets (cached negs)\"):\n",
        "    df = pl.read_parquet(os.path.join(INPUT_DIR, file_name))\n",
        "\n",
        "    grouped = df.group_by(\"user_idx\").agg([\n",
        "        pl.col(\"playlist_idx\").alias(\"playlist_ids\"),\n",
        "        pl.col(\"label\").alias(\"labels\")\n",
        "    ])\n",
        "\n",
        "    triplets = []\n",
        "    toy_triplets = []\n",
        "\n",
        "    for row in grouped.iter_rows(named=True):\n",
        "        user_id = row[\"user_idx\"]\n",
        "        playlist_ids = row[\"playlist_ids\"]\n",
        "        labels = row[\"labels\"]\n",
        "\n",
        "        positives = [pid for pid, label in zip(playlist_ids, labels) if label == 1]\n",
        "        if user_id not in training_positives or user_id not in user_negative_candidates:\n",
        "            continue\n",
        "        positives = [pid for pid in positives if pid in training_positives[user_id]]\n",
        "        if not positives:\n",
        "            continue\n",
        "\n",
        "        hard_pool = user_negative_candidates[user_id].get(\"hard\", [])\n",
        "        easy_pool = user_negative_candidates[user_id].get(\"easy\", [])\n",
        "\n",
        "        # Skip if not enough total negatives\n",
        "        if len(hard_pool) + len(easy_pool) < NUM_NEGATIVES:\n",
        "            continue\n",
        "\n",
        "        for pos_pid in positives:\n",
        "            hard_sample = random.sample(hard_pool, min(NUM_NEGATIVES // 2, len(hard_pool))) if hard_pool else []\n",
        "            required_easy = NUM_NEGATIVES - len(hard_sample)\n",
        "            if len(easy_pool) < required_easy:\n",
        "                continue\n",
        "            easy_sample = random.sample(easy_pool, required_easy)\n",
        "            negs = hard_sample + easy_sample\n",
        "            for neg_pid in negs:\n",
        "                triplets.append((user_id, pos_pid, neg_pid))\n",
        "                if user_id in sampled_toy_users:\n",
        "                    toy_triplets.append((user_id, pos_pid, neg_pid))\n",
        "\n",
        "    # Save full dataset slice\n",
        "    df_triplet = pl.DataFrame(triplets, schema=[\"user_id\", \"pos_pid\", \"neg_pid\"])\n",
        "    df_triplet.write_parquet(os.path.join(OUTPUT_DIR, \"triplets_\" + file_name))\n",
        "\n",
        "    # Save toy dataset slice\n",
        "    if toy_triplets:\n",
        "        df_toy = pl.DataFrame(toy_triplets, schema=[\"user_id\", \"pos_pid\", \"neg_pid\"])\n",
        "        if df_toy.shape[0] > TOY_MAX_TRIPLETS_PER_SLICE:\n",
        "            df_toy = df_toy.sample(n=TOY_MAX_TRIPLETS_PER_SLICE)\n",
        "        df_toy.write_parquet(os.path.join(TOY_OUTPUT_DIR, \"triplets_\" + file_name))\n",
        "\n",
        "    # Update resume log\n",
        "    completed_files.add(file_name)\n",
        "    with open(RESUME_LOG_PATH, \"wb\") as f:\n",
        "        pickle.dump(completed_files, f)\n",
        "\n",
        "    print(f\"✅ Saved: {file_name} | Triplets: {len(triplets)} | Toy: {len(toy_triplets)}\")\n",
        "\n",
        "print(\"✅✅ All triplet slices generated.\")\n",
        "if os.path.exists(RESUME_LOG_PATH):\n",
        "    os.remove(RESUME_LOG_PATH)"
      ],
      "metadata": {
        "colab": {
          "base_uri": "https://localhost:8080/"
        },
        "id": "17KdRBbefpMb",
        "outputId": "898ba82a-14e0-436b-d31d-0a7bc83b864d"
      },
      "execution_count": null,
      "outputs": [
        {
          "output_type": "stream",
          "name": "stdout",
          "text": [
            "✅ Saved toy user list: 4831 users → /content/drive/MyDrive/datasets/main_datasets/triplets_dataset/toy_users.pkl\n",
            "✅ 0 slices already processed, 102 remaining.\n",
            "✅ 4831 users sampled for toy dataset.\n"
          ]
        },
        {
          "output_type": "stream",
          "name": "stderr",
          "text": [
            "\rGenerating triplets (cached negs):   0%|          | 0/102 [00:00<?, ?it/s]<ipython-input-7-a2a68180b090>:100: DataOrientationWarning: Row orientation inferred during DataFrame construction. Explicitly specify the orientation by passing `orient=\"row\"` to silence this warning.\n",
            "  df_triplet = pl.DataFrame(triplets, schema=[\"user_id\", \"pos_pid\", \"neg_pid\"])\n",
            "<ipython-input-7-a2a68180b090>:105: DataOrientationWarning: Row orientation inferred during DataFrame construction. Explicitly specify the orientation by passing `orient=\"row\"` to silence this warning.\n",
            "  df_toy = pl.DataFrame(toy_triplets, schema=[\"user_id\", \"pos_pid\", \"neg_pid\"])\n",
            "Generating triplets (cached negs):   1%|          | 1/102 [00:10<16:58, 10.08s/it]"
          ]
        },
        {
          "output_type": "stream",
          "name": "stdout",
          "text": [
            "✅ Saved: labeled_scored_overlap_0_10000.parquet | Triplets: 888160 | Toy: 28204\n"
          ]
        },
        {
          "output_type": "stream",
          "name": "stderr",
          "text": [
            "\rGenerating triplets (cached negs):   2%|▏         | 2/102 [00:15<11:59,  7.20s/it]"
          ]
        },
        {
          "output_type": "stream",
          "name": "stdout",
          "text": [
            "✅ Saved: labeled_scored_overlap_1000000_1010000.parquet | Triplets: 851932 | Toy: 39420\n"
          ]
        },
        {
          "output_type": "stream",
          "name": "stderr",
          "text": [
            "\rGenerating triplets (cached negs):   3%|▎         | 3/102 [00:18<09:02,  5.48s/it]"
          ]
        },
        {
          "output_type": "stream",
          "name": "stdout",
          "text": [
            "✅ Saved: labeled_scored_overlap_100000_110000.parquet | Triplets: 891376 | Toy: 61316\n"
          ]
        },
        {
          "output_type": "stream",
          "name": "stderr",
          "text": [
            "\rGenerating triplets (cached negs):   4%|▍         | 4/102 [00:22<07:35,  4.65s/it]"
          ]
        },
        {
          "output_type": "stream",
          "name": "stdout",
          "text": [
            "✅ Saved: labeled_scored_overlap_10000_20000.parquet | Triplets: 861440 | Toy: 42140\n"
          ]
        },
        {
          "output_type": "stream",
          "name": "stderr",
          "text": [
            "\rGenerating triplets (cached negs):   5%|▍         | 5/102 [00:31<10:19,  6.39s/it]"
          ]
        },
        {
          "output_type": "stream",
          "name": "stdout",
          "text": [
            "✅ Saved: labeled_scored_overlap_1010000_1019318.parquet | Triplets: 844656 | Toy: 32548\n"
          ]
        },
        {
          "output_type": "stream",
          "name": "stderr",
          "text": [
            "\rGenerating triplets (cached negs):   6%|▌         | 6/102 [00:34<08:32,  5.34s/it]"
          ]
        },
        {
          "output_type": "stream",
          "name": "stdout",
          "text": [
            "✅ Saved: labeled_scored_overlap_110000_120000.parquet | Triplets: 853556 | Toy: 35396\n"
          ]
        },
        {
          "output_type": "stream",
          "name": "stderr",
          "text": [
            "\rGenerating triplets (cached negs):   7%|▋         | 7/102 [00:38<07:37,  4.82s/it]"
          ]
        },
        {
          "output_type": "stream",
          "name": "stdout",
          "text": [
            "✅ Saved: labeled_scored_overlap_120000_130000.parquet | Triplets: 947524 | Toy: 56864\n"
          ]
        },
        {
          "output_type": "stream",
          "name": "stderr",
          "text": [
            "\rGenerating triplets (cached negs):   8%|▊         | 8/102 [00:42<06:54,  4.41s/it]"
          ]
        },
        {
          "output_type": "stream",
          "name": "stdout",
          "text": [
            "✅ Saved: labeled_scored_overlap_130000_140000.parquet | Triplets: 886964 | Toy: 64700\n"
          ]
        },
        {
          "output_type": "stream",
          "name": "stderr",
          "text": [
            "\rGenerating triplets (cached negs):   9%|▉         | 9/102 [00:45<06:20,  4.09s/it]"
          ]
        },
        {
          "output_type": "stream",
          "name": "stdout",
          "text": [
            "✅ Saved: labeled_scored_overlap_140000_150000.parquet | Triplets: 865840 | Toy: 38904\n"
          ]
        },
        {
          "output_type": "stream",
          "name": "stderr",
          "text": [
            "\rGenerating triplets (cached negs):  10%|▉         | 10/102 [00:48<05:50,  3.81s/it]"
          ]
        },
        {
          "output_type": "stream",
          "name": "stdout",
          "text": [
            "✅ Saved: labeled_scored_overlap_150000_160000.parquet | Triplets: 817108 | Toy: 43348\n"
          ]
        },
        {
          "output_type": "stream",
          "name": "stderr",
          "text": [
            "\rGenerating triplets (cached negs):  11%|█         | 11/102 [00:52<05:37,  3.71s/it]"
          ]
        },
        {
          "output_type": "stream",
          "name": "stdout",
          "text": [
            "✅ Saved: labeled_scored_overlap_160000_170000.parquet | Triplets: 884696 | Toy: 32724\n"
          ]
        },
        {
          "output_type": "stream",
          "name": "stderr",
          "text": [
            "\rGenerating triplets (cached negs):  12%|█▏        | 12/102 [00:55<05:29,  3.66s/it]"
          ]
        },
        {
          "output_type": "stream",
          "name": "stdout",
          "text": [
            "✅ Saved: labeled_scored_overlap_170000_180000.parquet | Triplets: 905484 | Toy: 38884\n"
          ]
        },
        {
          "output_type": "stream",
          "name": "stderr",
          "text": [
            "\rGenerating triplets (cached negs):  13%|█▎        | 13/102 [00:59<05:25,  3.66s/it]"
          ]
        },
        {
          "output_type": "stream",
          "name": "stdout",
          "text": [
            "✅ Saved: labeled_scored_overlap_180000_190000.parquet | Triplets: 930792 | Toy: 52368\n"
          ]
        },
        {
          "output_type": "stream",
          "name": "stderr",
          "text": [
            "\rGenerating triplets (cached negs):  14%|█▎        | 14/102 [01:03<05:21,  3.66s/it]"
          ]
        },
        {
          "output_type": "stream",
          "name": "stdout",
          "text": [
            "✅ Saved: labeled_scored_overlap_190000_200000.parquet | Triplets: 910376 | Toy: 36220\n"
          ]
        },
        {
          "output_type": "stream",
          "name": "stderr",
          "text": [
            "\rGenerating triplets (cached negs):  15%|█▍        | 15/102 [01:06<05:13,  3.61s/it]"
          ]
        },
        {
          "output_type": "stream",
          "name": "stdout",
          "text": [
            "✅ Saved: labeled_scored_overlap_200000_210000.parquet | Triplets: 887360 | Toy: 60632\n"
          ]
        },
        {
          "output_type": "stream",
          "name": "stderr",
          "text": [
            "\rGenerating triplets (cached negs):  16%|█▌        | 16/102 [01:09<05:00,  3.49s/it]"
          ]
        },
        {
          "output_type": "stream",
          "name": "stdout",
          "text": [
            "✅ Saved: labeled_scored_overlap_20000_30000.parquet | Triplets: 845060 | Toy: 43600\n"
          ]
        },
        {
          "output_type": "stream",
          "name": "stderr",
          "text": [
            "\rGenerating triplets (cached negs):  17%|█▋        | 17/102 [01:12<04:50,  3.42s/it]"
          ]
        },
        {
          "output_type": "stream",
          "name": "stdout",
          "text": [
            "✅ Saved: labeled_scored_overlap_210000_220000.parquet | Triplets: 881268 | Toy: 45136\n"
          ]
        },
        {
          "output_type": "stream",
          "name": "stderr",
          "text": [
            "\rGenerating triplets (cached negs):  18%|█▊        | 18/102 [01:16<04:50,  3.46s/it]"
          ]
        },
        {
          "output_type": "stream",
          "name": "stdout",
          "text": [
            "✅ Saved: labeled_scored_overlap_220000_230000.parquet | Triplets: 935040 | Toy: 41764\n"
          ]
        },
        {
          "output_type": "stream",
          "name": "stderr",
          "text": [
            "\rGenerating triplets (cached negs):  19%|█▊        | 19/102 [01:19<04:46,  3.45s/it]"
          ]
        },
        {
          "output_type": "stream",
          "name": "stdout",
          "text": [
            "✅ Saved: labeled_scored_overlap_230000_240000.parquet | Triplets: 903608 | Toy: 30576\n"
          ]
        },
        {
          "output_type": "stream",
          "name": "stderr",
          "text": [
            "\rGenerating triplets (cached negs):  20%|█▉        | 20/102 [01:23<04:39,  3.41s/it]"
          ]
        },
        {
          "output_type": "stream",
          "name": "stdout",
          "text": [
            "✅ Saved: labeled_scored_overlap_240000_250000.parquet | Triplets: 855064 | Toy: 37728\n"
          ]
        },
        {
          "output_type": "stream",
          "name": "stderr",
          "text": [
            "\rGenerating triplets (cached negs):  21%|██        | 21/102 [01:26<04:37,  3.43s/it]"
          ]
        },
        {
          "output_type": "stream",
          "name": "stdout",
          "text": [
            "✅ Saved: labeled_scored_overlap_250000_260000.parquet | Triplets: 899628 | Toy: 49136\n"
          ]
        },
        {
          "output_type": "stream",
          "name": "stderr",
          "text": [
            "\rGenerating triplets (cached negs):  22%|██▏       | 22/102 [01:30<04:37,  3.47s/it]"
          ]
        },
        {
          "output_type": "stream",
          "name": "stdout",
          "text": [
            "✅ Saved: labeled_scored_overlap_260000_270000.parquet | Triplets: 914756 | Toy: 48268\n"
          ]
        },
        {
          "output_type": "stream",
          "name": "stderr",
          "text": [
            "\rGenerating triplets (cached negs):  23%|██▎       | 23/102 [01:33<04:31,  3.44s/it]"
          ]
        },
        {
          "output_type": "stream",
          "name": "stdout",
          "text": [
            "✅ Saved: labeled_scored_overlap_270000_280000.parquet | Triplets: 882016 | Toy: 35628\n"
          ]
        },
        {
          "output_type": "stream",
          "name": "stderr",
          "text": [
            "\rGenerating triplets (cached negs):  24%|██▎       | 24/102 [01:37<04:27,  3.42s/it]"
          ]
        },
        {
          "output_type": "stream",
          "name": "stdout",
          "text": [
            "✅ Saved: labeled_scored_overlap_280000_290000.parquet | Triplets: 897072 | Toy: 34428\n"
          ]
        },
        {
          "output_type": "stream",
          "name": "stderr",
          "text": [
            "\rGenerating triplets (cached negs):  25%|██▍       | 25/102 [01:40<04:22,  3.41s/it]"
          ]
        },
        {
          "output_type": "stream",
          "name": "stdout",
          "text": [
            "✅ Saved: labeled_scored_overlap_290000_300000.parquet | Triplets: 888140 | Toy: 30320\n"
          ]
        },
        {
          "output_type": "stream",
          "name": "stderr",
          "text": [
            "\rGenerating triplets (cached negs):  25%|██▌       | 26/102 [01:44<04:24,  3.48s/it]"
          ]
        },
        {
          "output_type": "stream",
          "name": "stdout",
          "text": [
            "✅ Saved: labeled_scored_overlap_300000_310000.parquet | Triplets: 941772 | Toy: 58048\n"
          ]
        },
        {
          "output_type": "stream",
          "name": "stderr",
          "text": [
            "\rGenerating triplets (cached negs):  26%|██▋       | 27/102 [01:47<04:22,  3.50s/it]"
          ]
        },
        {
          "output_type": "stream",
          "name": "stdout",
          "text": [
            "✅ Saved: labeled_scored_overlap_30000_40000.parquet | Triplets: 924012 | Toy: 44716\n"
          ]
        },
        {
          "output_type": "stream",
          "name": "stderr",
          "text": [
            "\rGenerating triplets (cached negs):  27%|██▋       | 28/102 [01:51<04:16,  3.47s/it]"
          ]
        },
        {
          "output_type": "stream",
          "name": "stdout",
          "text": [
            "✅ Saved: labeled_scored_overlap_310000_320000.parquet | Triplets: 873664 | Toy: 46164\n"
          ]
        },
        {
          "output_type": "stream",
          "name": "stderr",
          "text": [
            "\rGenerating triplets (cached negs):  28%|██▊       | 29/102 [01:54<04:09,  3.42s/it]"
          ]
        },
        {
          "output_type": "stream",
          "name": "stdout",
          "text": [
            "✅ Saved: labeled_scored_overlap_320000_330000.parquet | Triplets: 836640 | Toy: 40496\n"
          ]
        },
        {
          "output_type": "stream",
          "name": "stderr",
          "text": [
            "\rGenerating triplets (cached negs):  29%|██▉       | 30/102 [01:57<04:04,  3.40s/it]"
          ]
        },
        {
          "output_type": "stream",
          "name": "stdout",
          "text": [
            "✅ Saved: labeled_scored_overlap_330000_340000.parquet | Triplets: 861920 | Toy: 58524\n"
          ]
        },
        {
          "output_type": "stream",
          "name": "stderr",
          "text": [
            "\rGenerating triplets (cached negs):  30%|███       | 31/102 [02:00<03:57,  3.35s/it]"
          ]
        },
        {
          "output_type": "stream",
          "name": "stdout",
          "text": [
            "✅ Saved: labeled_scored_overlap_340000_350000.parquet | Triplets: 839032 | Toy: 42096\n"
          ]
        },
        {
          "output_type": "stream",
          "name": "stderr",
          "text": [
            "\rGenerating triplets (cached negs):  31%|███▏      | 32/102 [02:04<03:54,  3.35s/it]"
          ]
        },
        {
          "output_type": "stream",
          "name": "stdout",
          "text": [
            "✅ Saved: labeled_scored_overlap_350000_360000.parquet | Triplets: 865516 | Toy: 30716\n"
          ]
        },
        {
          "output_type": "stream",
          "name": "stderr",
          "text": [
            "\rGenerating triplets (cached negs):  32%|███▏      | 33/102 [02:07<03:52,  3.37s/it]"
          ]
        },
        {
          "output_type": "stream",
          "name": "stdout",
          "text": [
            "✅ Saved: labeled_scored_overlap_360000_370000.parquet | Triplets: 850096 | Toy: 56164\n"
          ]
        },
        {
          "output_type": "stream",
          "name": "stderr",
          "text": [
            "\rGenerating triplets (cached negs):  33%|███▎      | 34/102 [02:11<03:51,  3.40s/it]"
          ]
        },
        {
          "output_type": "stream",
          "name": "stdout",
          "text": [
            "✅ Saved: labeled_scored_overlap_370000_380000.parquet | Triplets: 874904 | Toy: 68336\n"
          ]
        },
        {
          "output_type": "stream",
          "name": "stderr",
          "text": [
            "\rGenerating triplets (cached negs):  34%|███▍      | 35/102 [02:14<03:44,  3.35s/it]"
          ]
        },
        {
          "output_type": "stream",
          "name": "stdout",
          "text": [
            "✅ Saved: labeled_scored_overlap_380000_390000.parquet | Triplets: 834776 | Toy: 48960\n"
          ]
        },
        {
          "output_type": "stream",
          "name": "stderr",
          "text": [
            "\rGenerating triplets (cached negs):  35%|███▌      | 36/102 [02:24<05:54,  5.37s/it]"
          ]
        },
        {
          "output_type": "stream",
          "name": "stdout",
          "text": [
            "✅ Saved: labeled_scored_overlap_390000_400000.parquet | Triplets: 903136 | Toy: 37328\n"
          ]
        },
        {
          "output_type": "stream",
          "name": "stderr",
          "text": [
            "\rGenerating triplets (cached negs):  36%|███▋      | 37/102 [02:27<05:08,  4.75s/it]"
          ]
        },
        {
          "output_type": "stream",
          "name": "stdout",
          "text": [
            "✅ Saved: labeled_scored_overlap_400000_410000.parquet | Triplets: 860352 | Toy: 50808\n"
          ]
        },
        {
          "output_type": "stream",
          "name": "stderr",
          "text": [
            "\rGenerating triplets (cached negs):  37%|███▋      | 38/102 [02:31<04:42,  4.42s/it]"
          ]
        },
        {
          "output_type": "stream",
          "name": "stdout",
          "text": [
            "✅ Saved: labeled_scored_overlap_40000_50000.parquet | Triplets: 943884 | Toy: 53000\n"
          ]
        },
        {
          "output_type": "stream",
          "name": "stderr",
          "text": [
            "\rGenerating triplets (cached negs):  38%|███▊      | 39/102 [02:34<04:21,  4.16s/it]"
          ]
        },
        {
          "output_type": "stream",
          "name": "stdout",
          "text": [
            "✅ Saved: labeled_scored_overlap_410000_420000.parquet | Triplets: 919004 | Toy: 54060\n"
          ]
        },
        {
          "output_type": "stream",
          "name": "stderr",
          "text": [
            "\rGenerating triplets (cached negs):  39%|███▉      | 40/102 [02:38<04:03,  3.93s/it]"
          ]
        },
        {
          "output_type": "stream",
          "name": "stdout",
          "text": [
            "✅ Saved: labeled_scored_overlap_420000_430000.parquet | Triplets: 878928 | Toy: 46760\n"
          ]
        },
        {
          "output_type": "stream",
          "name": "stderr",
          "text": [
            "\rGenerating triplets (cached negs):  40%|████      | 41/102 [02:41<03:47,  3.72s/it]"
          ]
        },
        {
          "output_type": "stream",
          "name": "stdout",
          "text": [
            "✅ Saved: labeled_scored_overlap_430000_440000.parquet | Triplets: 838736 | Toy: 32288\n"
          ]
        },
        {
          "output_type": "stream",
          "name": "stderr",
          "text": [
            "\rGenerating triplets (cached negs):  41%|████      | 42/102 [02:45<03:39,  3.66s/it]"
          ]
        },
        {
          "output_type": "stream",
          "name": "stdout",
          "text": [
            "✅ Saved: labeled_scored_overlap_440000_450000.parquet | Triplets: 888824 | Toy: 40316\n"
          ]
        },
        {
          "output_type": "stream",
          "name": "stderr",
          "text": [
            "\rGenerating triplets (cached negs):  42%|████▏     | 43/102 [02:48<03:33,  3.61s/it]"
          ]
        },
        {
          "output_type": "stream",
          "name": "stdout",
          "text": [
            "✅ Saved: labeled_scored_overlap_450000_460000.parquet | Triplets: 908856 | Toy: 57848\n"
          ]
        },
        {
          "output_type": "stream",
          "name": "stderr",
          "text": [
            "\rGenerating triplets (cached negs):  43%|████▎     | 44/102 [02:51<03:23,  3.51s/it]"
          ]
        },
        {
          "output_type": "stream",
          "name": "stdout",
          "text": [
            "✅ Saved: labeled_scored_overlap_460000_470000.parquet | Triplets: 872676 | Toy: 37756\n"
          ]
        },
        {
          "output_type": "stream",
          "name": "stderr",
          "text": [
            "\rGenerating triplets (cached negs):  44%|████▍     | 45/102 [02:55<03:19,  3.50s/it]"
          ]
        },
        {
          "output_type": "stream",
          "name": "stdout",
          "text": [
            "✅ Saved: labeled_scored_overlap_470000_480000.parquet | Triplets: 882172 | Toy: 37048\n"
          ]
        },
        {
          "output_type": "stream",
          "name": "stderr",
          "text": [
            "\rGenerating triplets (cached negs):  45%|████▌     | 46/102 [02:58<03:15,  3.48s/it]"
          ]
        },
        {
          "output_type": "stream",
          "name": "stdout",
          "text": [
            "✅ Saved: labeled_scored_overlap_480000_490000.parquet | Triplets: 870564 | Toy: 36408\n"
          ]
        },
        {
          "output_type": "stream",
          "name": "stderr",
          "text": [
            "\rGenerating triplets (cached negs):  46%|████▌     | 47/102 [03:02<03:12,  3.49s/it]"
          ]
        },
        {
          "output_type": "stream",
          "name": "stdout",
          "text": [
            "✅ Saved: labeled_scored_overlap_490000_500000.parquet | Triplets: 912856 | Toy: 27312\n"
          ]
        },
        {
          "output_type": "stream",
          "name": "stderr",
          "text": [
            "\rGenerating triplets (cached negs):  47%|████▋     | 48/102 [03:05<03:04,  3.42s/it]"
          ]
        },
        {
          "output_type": "stream",
          "name": "stdout",
          "text": [
            "✅ Saved: labeled_scored_overlap_500000_510000.parquet | Triplets: 831312 | Toy: 40784\n"
          ]
        },
        {
          "output_type": "stream",
          "name": "stderr",
          "text": [
            "\rGenerating triplets (cached negs):  48%|████▊     | 49/102 [03:09<03:02,  3.45s/it]"
          ]
        },
        {
          "output_type": "stream",
          "name": "stdout",
          "text": [
            "✅ Saved: labeled_scored_overlap_50000_60000.parquet | Triplets: 904788 | Toy: 51024\n"
          ]
        },
        {
          "output_type": "stream",
          "name": "stderr",
          "text": [
            "\rGenerating triplets (cached negs):  49%|████▉     | 50/102 [03:12<02:57,  3.42s/it]"
          ]
        },
        {
          "output_type": "stream",
          "name": "stdout",
          "text": [
            "✅ Saved: labeled_scored_overlap_510000_520000.parquet | Triplets: 859528 | Toy: 35676\n"
          ]
        },
        {
          "output_type": "stream",
          "name": "stderr",
          "text": [
            "\rGenerating triplets (cached negs):  50%|█████     | 51/102 [03:15<02:53,  3.40s/it]"
          ]
        },
        {
          "output_type": "stream",
          "name": "stdout",
          "text": [
            "✅ Saved: labeled_scored_overlap_520000_530000.parquet | Triplets: 857468 | Toy: 49172\n"
          ]
        },
        {
          "output_type": "stream",
          "name": "stderr",
          "text": [
            "\rGenerating triplets (cached negs):  51%|█████     | 52/102 [03:19<02:51,  3.42s/it]"
          ]
        },
        {
          "output_type": "stream",
          "name": "stdout",
          "text": [
            "✅ Saved: labeled_scored_overlap_530000_540000.parquet | Triplets: 879628 | Toy: 29272\n"
          ]
        },
        {
          "output_type": "stream",
          "name": "stderr",
          "text": [
            "\rGenerating triplets (cached negs):  52%|█████▏    | 53/102 [03:23<02:52,  3.52s/it]"
          ]
        },
        {
          "output_type": "stream",
          "name": "stdout",
          "text": [
            "✅ Saved: labeled_scored_overlap_540000_550000.parquet | Triplets: 940364 | Toy: 42064\n"
          ]
        },
        {
          "output_type": "stream",
          "name": "stderr",
          "text": [
            "\rGenerating triplets (cached negs):  53%|█████▎    | 54/102 [03:26<02:49,  3.53s/it]"
          ]
        },
        {
          "output_type": "stream",
          "name": "stdout",
          "text": [
            "✅ Saved: labeled_scored_overlap_550000_560000.parquet | Triplets: 905760 | Toy: 36276\n"
          ]
        },
        {
          "output_type": "stream",
          "name": "stderr",
          "text": [
            "\rGenerating triplets (cached negs):  54%|█████▍    | 55/102 [03:30<02:49,  3.60s/it]"
          ]
        },
        {
          "output_type": "stream",
          "name": "stdout",
          "text": [
            "✅ Saved: labeled_scored_overlap_560000_570000.parquet | Triplets: 954596 | Toy: 48452\n"
          ]
        },
        {
          "output_type": "stream",
          "name": "stderr",
          "text": [
            "\rGenerating triplets (cached negs):  55%|█████▍    | 56/102 [03:33<02:42,  3.53s/it]"
          ]
        },
        {
          "output_type": "stream",
          "name": "stdout",
          "text": [
            "✅ Saved: labeled_scored_overlap_570000_580000.parquet | Triplets: 816308 | Toy: 36880\n"
          ]
        },
        {
          "output_type": "stream",
          "name": "stderr",
          "text": [
            "\rGenerating triplets (cached negs):  56%|█████▌    | 57/102 [03:37<02:37,  3.50s/it]"
          ]
        },
        {
          "output_type": "stream",
          "name": "stdout",
          "text": [
            "✅ Saved: labeled_scored_overlap_580000_590000.parquet | Triplets: 851696 | Toy: 34156\n"
          ]
        },
        {
          "output_type": "stream",
          "name": "stderr",
          "text": [
            "\rGenerating triplets (cached negs):  57%|█████▋    | 58/102 [03:40<02:36,  3.56s/it]"
          ]
        },
        {
          "output_type": "stream",
          "name": "stdout",
          "text": [
            "✅ Saved: labeled_scored_overlap_590000_600000.parquet | Triplets: 910244 | Toy: 37612\n"
          ]
        },
        {
          "output_type": "stream",
          "name": "stderr",
          "text": [
            "\rGenerating triplets (cached negs):  58%|█████▊    | 59/102 [03:44<02:31,  3.52s/it]"
          ]
        },
        {
          "output_type": "stream",
          "name": "stdout",
          "text": [
            "✅ Saved: labeled_scored_overlap_600000_610000.parquet | Triplets: 827324 | Toy: 36192\n"
          ]
        },
        {
          "output_type": "stream",
          "name": "stderr",
          "text": [
            "\rGenerating triplets (cached negs):  59%|█████▉    | 60/102 [03:47<02:27,  3.52s/it]"
          ]
        },
        {
          "output_type": "stream",
          "name": "stdout",
          "text": [
            "✅ Saved: labeled_scored_overlap_60000_70000.parquet | Triplets: 857872 | Toy: 48364\n"
          ]
        },
        {
          "output_type": "stream",
          "name": "stderr",
          "text": [
            "\rGenerating triplets (cached negs):  60%|█████▉    | 61/102 [03:51<02:27,  3.61s/it]"
          ]
        },
        {
          "output_type": "stream",
          "name": "stdout",
          "text": [
            "✅ Saved: labeled_scored_overlap_610000_620000.parquet | Triplets: 959460 | Toy: 51356\n"
          ]
        },
        {
          "output_type": "stream",
          "name": "stderr",
          "text": [
            "\rGenerating triplets (cached negs):  61%|██████    | 62/102 [03:54<02:21,  3.54s/it]"
          ]
        },
        {
          "output_type": "stream",
          "name": "stdout",
          "text": [
            "✅ Saved: labeled_scored_overlap_620000_630000.parquet | Triplets: 833440 | Toy: 50188\n"
          ]
        },
        {
          "output_type": "stream",
          "name": "stderr",
          "text": [
            "\rGenerating triplets (cached negs):  62%|██████▏   | 63/102 [03:58<02:18,  3.56s/it]"
          ]
        },
        {
          "output_type": "stream",
          "name": "stdout",
          "text": [
            "✅ Saved: labeled_scored_overlap_630000_640000.parquet | Triplets: 910632 | Toy: 49248\n"
          ]
        },
        {
          "output_type": "stream",
          "name": "stderr",
          "text": [
            "\rGenerating triplets (cached negs):  63%|██████▎   | 64/102 [04:02<02:14,  3.54s/it]"
          ]
        },
        {
          "output_type": "stream",
          "name": "stdout",
          "text": [
            "✅ Saved: labeled_scored_overlap_640000_650000.parquet | Triplets: 887204 | Toy: 52420\n"
          ]
        },
        {
          "output_type": "stream",
          "name": "stderr",
          "text": [
            "\rGenerating triplets (cached negs):  64%|██████▎   | 65/102 [04:05<02:10,  3.53s/it]"
          ]
        },
        {
          "output_type": "stream",
          "name": "stdout",
          "text": [
            "✅ Saved: labeled_scored_overlap_650000_660000.parquet | Triplets: 889004 | Toy: 44144\n"
          ]
        },
        {
          "output_type": "stream",
          "name": "stderr",
          "text": [
            "\rGenerating triplets (cached negs):  65%|██████▍   | 66/102 [04:09<02:07,  3.56s/it]"
          ]
        },
        {
          "output_type": "stream",
          "name": "stdout",
          "text": [
            "✅ Saved: labeled_scored_overlap_660000_670000.parquet | Triplets: 890860 | Toy: 34000\n"
          ]
        },
        {
          "output_type": "stream",
          "name": "stderr",
          "text": [
            "\rGenerating triplets (cached negs):  66%|██████▌   | 67/102 [04:19<03:15,  5.58s/it]"
          ]
        },
        {
          "output_type": "stream",
          "name": "stdout",
          "text": [
            "✅ Saved: labeled_scored_overlap_670000_680000.parquet | Triplets: 885636 | Toy: 44052\n"
          ]
        },
        {
          "output_type": "stream",
          "name": "stderr",
          "text": [
            "\rGenerating triplets (cached negs):  67%|██████▋   | 68/102 [04:23<02:48,  4.97s/it]"
          ]
        },
        {
          "output_type": "stream",
          "name": "stdout",
          "text": [
            "✅ Saved: labeled_scored_overlap_680000_690000.parquet | Triplets: 872708 | Toy: 35456\n"
          ]
        },
        {
          "output_type": "stream",
          "name": "stderr",
          "text": [
            "\rGenerating triplets (cached negs):  68%|██████▊   | 69/102 [04:26<02:30,  4.57s/it]"
          ]
        },
        {
          "output_type": "stream",
          "name": "stdout",
          "text": [
            "✅ Saved: labeled_scored_overlap_690000_700000.parquet | Triplets: 866776 | Toy: 30236\n"
          ]
        },
        {
          "output_type": "stream",
          "name": "stderr",
          "text": [
            "\rGenerating triplets (cached negs):  69%|██████▊   | 70/102 [04:30<02:18,  4.32s/it]"
          ]
        },
        {
          "output_type": "stream",
          "name": "stdout",
          "text": [
            "✅ Saved: labeled_scored_overlap_700000_710000.parquet | Triplets: 844040 | Toy: 53048\n"
          ]
        },
        {
          "output_type": "stream",
          "name": "stderr",
          "text": [
            "\rGenerating triplets (cached negs):  70%|██████▉   | 71/102 [04:34<02:10,  4.20s/it]"
          ]
        },
        {
          "output_type": "stream",
          "name": "stdout",
          "text": [
            "✅ Saved: labeled_scored_overlap_70000_80000.parquet | Triplets: 901252 | Toy: 46928\n"
          ]
        },
        {
          "output_type": "stream",
          "name": "stderr",
          "text": [
            "\rGenerating triplets (cached negs):  71%|███████   | 72/102 [04:38<02:01,  4.05s/it]"
          ]
        },
        {
          "output_type": "stream",
          "name": "stdout",
          "text": [
            "✅ Saved: labeled_scored_overlap_710000_720000.parquet | Triplets: 905600 | Toy: 41136\n"
          ]
        },
        {
          "output_type": "stream",
          "name": "stderr",
          "text": [
            "\rGenerating triplets (cached negs):  72%|███████▏  | 73/102 [04:41<01:54,  3.94s/it]"
          ]
        },
        {
          "output_type": "stream",
          "name": "stdout",
          "text": [
            "✅ Saved: labeled_scored_overlap_720000_730000.parquet | Triplets: 931476 | Toy: 42756\n"
          ]
        },
        {
          "output_type": "stream",
          "name": "stderr",
          "text": [
            "\rGenerating triplets (cached negs):  73%|███████▎  | 74/102 [04:45<01:51,  3.98s/it]"
          ]
        },
        {
          "output_type": "stream",
          "name": "stdout",
          "text": [
            "✅ Saved: labeled_scored_overlap_730000_740000.parquet | Triplets: 939348 | Toy: 47300\n"
          ]
        },
        {
          "output_type": "stream",
          "name": "stderr",
          "text": [
            "\rGenerating triplets (cached negs):  74%|███████▎  | 75/102 [04:49<01:46,  3.94s/it]"
          ]
        },
        {
          "output_type": "stream",
          "name": "stdout",
          "text": [
            "✅ Saved: labeled_scored_overlap_740000_750000.parquet | Triplets: 939060 | Toy: 38276\n"
          ]
        },
        {
          "output_type": "stream",
          "name": "stderr",
          "text": [
            "\rGenerating triplets (cached negs):  75%|███████▍  | 76/102 [04:53<01:37,  3.76s/it]"
          ]
        },
        {
          "output_type": "stream",
          "name": "stdout",
          "text": [
            "✅ Saved: labeled_scored_overlap_750000_760000.parquet | Triplets: 845988 | Toy: 38448\n"
          ]
        },
        {
          "output_type": "stream",
          "name": "stderr",
          "text": [
            "\rGenerating triplets (cached negs):  75%|███████▌  | 77/102 [04:56<01:32,  3.71s/it]"
          ]
        },
        {
          "output_type": "stream",
          "name": "stdout",
          "text": [
            "✅ Saved: labeled_scored_overlap_760000_770000.parquet | Triplets: 881632 | Toy: 47620\n"
          ]
        },
        {
          "output_type": "stream",
          "name": "stderr",
          "text": [
            "\rGenerating triplets (cached negs):  76%|███████▋  | 78/102 [05:00<01:27,  3.65s/it]"
          ]
        },
        {
          "output_type": "stream",
          "name": "stdout",
          "text": [
            "✅ Saved: labeled_scored_overlap_770000_780000.parquet | Triplets: 827016 | Toy: 40004\n"
          ]
        },
        {
          "output_type": "stream",
          "name": "stderr",
          "text": [
            "\rGenerating triplets (cached negs):  77%|███████▋  | 79/102 [05:03<01:24,  3.66s/it]"
          ]
        },
        {
          "output_type": "stream",
          "name": "stdout",
          "text": [
            "✅ Saved: labeled_scored_overlap_780000_790000.parquet | Triplets: 900088 | Toy: 32464\n"
          ]
        },
        {
          "output_type": "stream",
          "name": "stderr",
          "text": [
            "\rGenerating triplets (cached negs):  78%|███████▊  | 80/102 [05:07<01:18,  3.56s/it]"
          ]
        },
        {
          "output_type": "stream",
          "name": "stdout",
          "text": [
            "✅ Saved: labeled_scored_overlap_790000_800000.parquet | Triplets: 826324 | Toy: 47264\n"
          ]
        },
        {
          "output_type": "stream",
          "name": "stderr",
          "text": [
            "\rGenerating triplets (cached negs):  79%|███████▉  | 81/102 [05:10<01:16,  3.63s/it]"
          ]
        },
        {
          "output_type": "stream",
          "name": "stdout",
          "text": [
            "✅ Saved: labeled_scored_overlap_800000_810000.parquet | Triplets: 909820 | Toy: 42516\n"
          ]
        },
        {
          "output_type": "stream",
          "name": "stderr",
          "text": [
            "\rGenerating triplets (cached negs):  80%|████████  | 82/102 [05:14<01:12,  3.61s/it]"
          ]
        },
        {
          "output_type": "stream",
          "name": "stdout",
          "text": [
            "✅ Saved: labeled_scored_overlap_80000_90000.parquet | Triplets: 870708 | Toy: 38732\n"
          ]
        },
        {
          "output_type": "stream",
          "name": "stderr",
          "text": [
            "\rGenerating triplets (cached negs):  81%|████████▏ | 83/102 [05:17<01:06,  3.52s/it]"
          ]
        },
        {
          "output_type": "stream",
          "name": "stdout",
          "text": [
            "✅ Saved: labeled_scored_overlap_810000_820000.parquet | Triplets: 847940 | Toy: 44844\n"
          ]
        },
        {
          "output_type": "stream",
          "name": "stderr",
          "text": [
            "\rGenerating triplets (cached negs):  82%|████████▏ | 84/102 [05:21<01:04,  3.56s/it]"
          ]
        },
        {
          "output_type": "stream",
          "name": "stdout",
          "text": [
            "✅ Saved: labeled_scored_overlap_820000_830000.parquet | Triplets: 883596 | Toy: 54756\n"
          ]
        },
        {
          "output_type": "stream",
          "name": "stderr",
          "text": [
            "\rGenerating triplets (cached negs):  83%|████████▎ | 85/102 [05:25<01:01,  3.60s/it]"
          ]
        },
        {
          "output_type": "stream",
          "name": "stdout",
          "text": [
            "✅ Saved: labeled_scored_overlap_830000_840000.parquet | Triplets: 923180 | Toy: 48976\n"
          ]
        },
        {
          "output_type": "stream",
          "name": "stderr",
          "text": [
            "\rGenerating triplets (cached negs):  84%|████████▍ | 86/102 [05:29<00:59,  3.71s/it]"
          ]
        },
        {
          "output_type": "stream",
          "name": "stdout",
          "text": [
            "✅ Saved: labeled_scored_overlap_840000_850000.parquet | Triplets: 983504 | Toy: 37432\n"
          ]
        },
        {
          "output_type": "stream",
          "name": "stderr",
          "text": [
            "\rGenerating triplets (cached negs):  85%|████████▌ | 87/102 [05:32<00:54,  3.63s/it]"
          ]
        },
        {
          "output_type": "stream",
          "name": "stdout",
          "text": [
            "✅ Saved: labeled_scored_overlap_850000_860000.parquet | Triplets: 855624 | Toy: 40020\n"
          ]
        },
        {
          "output_type": "stream",
          "name": "stderr",
          "text": [
            "\rGenerating triplets (cached negs):  86%|████████▋ | 88/102 [05:36<00:50,  3.59s/it]"
          ]
        },
        {
          "output_type": "stream",
          "name": "stdout",
          "text": [
            "✅ Saved: labeled_scored_overlap_860000_870000.parquet | Triplets: 873628 | Toy: 35532\n"
          ]
        },
        {
          "output_type": "stream",
          "name": "stderr",
          "text": [
            "\rGenerating triplets (cached negs):  87%|████████▋ | 89/102 [05:39<00:46,  3.54s/it]"
          ]
        },
        {
          "output_type": "stream",
          "name": "stdout",
          "text": [
            "✅ Saved: labeled_scored_overlap_870000_880000.parquet | Triplets: 862580 | Toy: 31040\n"
          ]
        },
        {
          "output_type": "stream",
          "name": "stderr",
          "text": [
            "\rGenerating triplets (cached negs):  88%|████████▊ | 90/102 [05:43<00:42,  3.57s/it]"
          ]
        },
        {
          "output_type": "stream",
          "name": "stdout",
          "text": [
            "✅ Saved: labeled_scored_overlap_880000_890000.parquet | Triplets: 908344 | Toy: 67264\n"
          ]
        },
        {
          "output_type": "stream",
          "name": "stderr",
          "text": [
            "\rGenerating triplets (cached negs):  89%|████████▉ | 91/102 [05:46<00:39,  3.56s/it]"
          ]
        },
        {
          "output_type": "stream",
          "name": "stdout",
          "text": [
            "✅ Saved: labeled_scored_overlap_890000_900000.parquet | Triplets: 875260 | Toy: 42008\n"
          ]
        },
        {
          "output_type": "stream",
          "name": "stderr",
          "text": [
            "\rGenerating triplets (cached negs):  90%|█████████ | 92/102 [05:50<00:35,  3.55s/it]"
          ]
        },
        {
          "output_type": "stream",
          "name": "stdout",
          "text": [
            "✅ Saved: labeled_scored_overlap_900000_910000.parquet | Triplets: 877224 | Toy: 54740\n"
          ]
        },
        {
          "output_type": "stream",
          "name": "stderr",
          "text": [
            "\rGenerating triplets (cached negs):  91%|█████████ | 93/102 [05:53<00:31,  3.54s/it]"
          ]
        },
        {
          "output_type": "stream",
          "name": "stdout",
          "text": [
            "✅ Saved: labeled_scored_overlap_90000_100000.parquet | Triplets: 879044 | Toy: 46528\n"
          ]
        },
        {
          "output_type": "stream",
          "name": "stderr",
          "text": [
            "\rGenerating triplets (cached negs):  92%|█████████▏| 94/102 [05:57<00:28,  3.61s/it]"
          ]
        },
        {
          "output_type": "stream",
          "name": "stdout",
          "text": [
            "✅ Saved: labeled_scored_overlap_910000_920000.parquet | Triplets: 944208 | Toy: 56864\n"
          ]
        },
        {
          "output_type": "stream",
          "name": "stderr",
          "text": [
            "\rGenerating triplets (cached negs):  93%|█████████▎| 95/102 [06:00<00:24,  3.57s/it]"
          ]
        },
        {
          "output_type": "stream",
          "name": "stdout",
          "text": [
            "✅ Saved: labeled_scored_overlap_920000_930000.parquet | Triplets: 840252 | Toy: 39968\n"
          ]
        },
        {
          "output_type": "stream",
          "name": "stderr",
          "text": [
            "\rGenerating triplets (cached negs):  94%|█████████▍| 96/102 [06:04<00:21,  3.59s/it]"
          ]
        },
        {
          "output_type": "stream",
          "name": "stdout",
          "text": [
            "✅ Saved: labeled_scored_overlap_930000_940000.parquet | Triplets: 875132 | Toy: 50504\n"
          ]
        },
        {
          "output_type": "stream",
          "name": "stderr",
          "text": [
            "\rGenerating triplets (cached negs):  95%|█████████▌| 97/102 [06:08<00:18,  3.66s/it]"
          ]
        },
        {
          "output_type": "stream",
          "name": "stdout",
          "text": [
            "✅ Saved: labeled_scored_overlap_940000_950000.parquet | Triplets: 941816 | Toy: 49500\n"
          ]
        },
        {
          "output_type": "stream",
          "name": "stderr",
          "text": [
            "\rGenerating triplets (cached negs):  96%|█████████▌| 98/102 [06:18<00:22,  5.64s/it]"
          ]
        },
        {
          "output_type": "stream",
          "name": "stdout",
          "text": [
            "✅ Saved: labeled_scored_overlap_950000_960000.parquet | Triplets: 912912 | Toy: 32836\n"
          ]
        },
        {
          "output_type": "stream",
          "name": "stderr",
          "text": [
            "\rGenerating triplets (cached negs):  97%|█████████▋| 99/102 [06:22<00:15,  5.10s/it]"
          ]
        },
        {
          "output_type": "stream",
          "name": "stdout",
          "text": [
            "✅ Saved: labeled_scored_overlap_960000_970000.parquet | Triplets: 940808 | Toy: 38564\n"
          ]
        },
        {
          "output_type": "stream",
          "name": "stderr",
          "text": [
            "\rGenerating triplets (cached negs):  98%|█████████▊| 100/102 [06:25<00:09,  4.58s/it]"
          ]
        },
        {
          "output_type": "stream",
          "name": "stdout",
          "text": [
            "✅ Saved: labeled_scored_overlap_970000_980000.parquet | Triplets: 835876 | Toy: 47684\n"
          ]
        },
        {
          "output_type": "stream",
          "name": "stderr",
          "text": [
            "\rGenerating triplets (cached negs):  99%|█████████▉| 101/102 [06:29<00:04,  4.32s/it]"
          ]
        },
        {
          "output_type": "stream",
          "name": "stdout",
          "text": [
            "✅ Saved: labeled_scored_overlap_980000_990000.parquet | Triplets: 910880 | Toy: 51340\n"
          ]
        },
        {
          "output_type": "stream",
          "name": "stderr",
          "text": [
            "Generating triplets (cached negs): 100%|██████████| 102/102 [06:33<00:00,  3.86s/it]"
          ]
        },
        {
          "output_type": "stream",
          "name": "stdout",
          "text": [
            "✅ Saved: labeled_scored_overlap_990000_1000000.parquet | Triplets: 940184 | Toy: 44856\n",
            "✅✅ All triplet slices generated.\n"
          ]
        },
        {
          "output_type": "stream",
          "name": "stderr",
          "text": [
            "\n"
          ]
        }
      ]
    },
    {
      "cell_type": "markdown",
      "source": [
        "## Save a unique triplets file in pytorch format for both full and toy. We also shuffle here!"
      ],
      "metadata": {
        "id": "02MpaB-uwKTM"
      }
    },
    {
      "cell_type": "code",
      "source": [
        "import os\n",
        "import torch\n",
        "import polars as pl\n",
        "from tqdm import tqdm\n",
        "\n",
        "# === CONFIG ===\n",
        "FULL_DIR = \"/content/drive/MyDrive/datasets/main_datasets/triplets_dataset/full\"\n",
        "TOY_DIR = \"/content/drive/MyDrive/datasets/main_datasets/triplets_dataset/toy\"\n",
        "FULL_OUT = \"/content/drive/MyDrive/datasets/main_datasets/triplets_dataset/training_triplets_full.pt\"\n",
        "TOY_OUT = \"/content/drive/MyDrive/datasets/main_datasets/triplets_dataset/training_triplets_toy.pt\"\n",
        "SHUFFLE_SEED = 42  # fixed seed for reproducibility\n",
        "\n",
        "# === Helper: Load and concatenate Parquet triplets ===\n",
        "def load_triplets_from_dir(directory):\n",
        "    all_triplets = []\n",
        "    files = sorted([\n",
        "        os.path.join(directory, f)\n",
        "        for f in os.listdir(directory)\n",
        "        if f.endswith(\".parquet\") and f.startswith(\"triplets\")\n",
        "    ])\n",
        "    print(f\"Found {len(files)} triplet slices in: {directory}\")\n",
        "    for file in tqdm(files, desc=f\"Loading {os.path.basename(directory)}\"):\n",
        "        df = pl.read_parquet(file)\n",
        "        tensor = torch.tensor(df.to_numpy(), dtype=torch.long)\n",
        "        all_triplets.append(tensor)\n",
        "    return torch.cat(all_triplets, dim=0)\n",
        "\n",
        "# === Step 1: Load and combine ===\n",
        "full_triplets = load_triplets_from_dir(FULL_DIR)\n",
        "toy_triplets = load_triplets_from_dir(TOY_DIR)\n",
        "\n",
        "# === Step 2: Shuffle with fixed seed ===\n",
        "torch.manual_seed(SHUFFLE_SEED)\n",
        "full_perm = torch.randperm(full_triplets.size(0))\n",
        "full_triplets = full_triplets[full_perm]\n",
        "\n",
        "torch.manual_seed(SHUFFLE_SEED)\n",
        "toy_perm = torch.randperm(toy_triplets.size(0))\n",
        "toy_triplets = toy_triplets[toy_perm]\n",
        "\n",
        "# === Step 3: Save as .pt ===\n",
        "torch.save(full_triplets, FULL_OUT)\n",
        "torch.save(toy_triplets, TOY_OUT)\n",
        "\n",
        "print(f\"✅ Saved: {FULL_OUT} with shape {full_triplets.shape}\")\n",
        "print(f\"✅ Saved: {TOY_OUT} with shape {toy_triplets.shape}\")\n"
      ],
      "metadata": {
        "colab": {
          "base_uri": "https://localhost:8080/"
        },
        "id": "XY0YFQ0twJnn",
        "outputId": "89bbfa92-8f9e-4b50-d38c-8fbc8ecfcb2f"
      },
      "execution_count": null,
      "outputs": [
        {
          "output_type": "stream",
          "name": "stdout",
          "text": [
            "Found 102 triplet slices in: /content/drive/MyDrive/datasets/main_datasets/triplets_dataset/full\n"
          ]
        },
        {
          "output_type": "stream",
          "name": "stderr",
          "text": [
            "Loading full: 100%|██████████| 102/102 [00:02<00:00, 34.65it/s]\n"
          ]
        },
        {
          "output_type": "stream",
          "name": "stdout",
          "text": [
            "Found 102 triplet slices in: /content/drive/MyDrive/datasets/main_datasets/triplets_dataset/toy\n"
          ]
        },
        {
          "output_type": "stream",
          "name": "stderr",
          "text": [
            "Loading toy: 100%|██████████| 102/102 [00:00<00:00, 112.21it/s]\n"
          ]
        },
        {
          "output_type": "stream",
          "name": "stdout",
          "text": [
            "✅ Saved: /content/drive/MyDrive/datasets/main_datasets/triplets_dataset/training_triplets.pt with shape torch.Size([90338188, 3])\n",
            "✅ Saved: /content/drive/MyDrive/datasets/main_datasets/triplets_dataset/training_triplets_toy.pt with shape torch.Size([4454176, 3])\n"
          ]
        }
      ]
    },
    {
      "cell_type": "code",
      "source": [
        "## Check if triplets generation went well\n",
        "\n",
        "import os\n",
        "import random\n",
        "import polars as pl\n",
        "import matplotlib.pyplot as plt\n",
        "import numpy as np\n",
        "from collections import defaultdict\n",
        "\n",
        "# === Configuration ===\n",
        "TRIPLET_DIR = \"/content/drive/MyDrive/datasets/main_datasets/triplets_dataset/full\"\n",
        "NUM_SAMPLES = 3\n",
        "\n",
        "# === Randomly select 3 triplet files ===\n",
        "triplet_files = sorted([f for f in os.listdir(TRIPLET_DIR) if f.endswith(\".parquet\")])\n",
        "sampled_files = random.sample(triplet_files, NUM_SAMPLES)\n",
        "\n",
        "print(f\"\\nRandomly Selected Triplet Files:\")\n",
        "for f in sampled_files:\n",
        "    print(f\" - {f}\")\n",
        "\n",
        "# === Analyze each file ===\n",
        "for fname in sampled_files:\n",
        "    path = os.path.join(TRIPLET_DIR, fname)\n",
        "    df = pl.read_parquet(path)\n",
        "\n",
        "    # Count triplets per user\n",
        "    user_counts = defaultdict(int)\n",
        "    for row in df.iter_rows(named=True):\n",
        "        user_counts[row[\"user_id\"]] += 1\n",
        "\n",
        "    triplet_counts = np.array(list(user_counts.values()))\n",
        "\n",
        "    # === Compute statistics ===\n",
        "    print(f\"\\n📊 Stats for {fname}:\")\n",
        "    print(f\" - Users in slice        : {len(triplet_counts):,}\")\n",
        "    print(f\" - Total triplets        : {df.shape[0]:,}\")\n",
        "    print(f\" - Mean                  : {triplet_counts.mean():.2f}\")\n",
        "    print(f\" - Min                   : {triplet_counts.min()}\")\n",
        "    print(f\" - Max                   : {triplet_counts.max()}\")\n",
        "    print(f\" - P1                    : {np.percentile(triplet_counts, 1):.2f}\")\n",
        "    print(f\" - P25                   : {np.percentile(triplet_counts, 25):.2f}\")\n",
        "    print(f\" - P50 (Median)          : {np.percentile(triplet_counts, 50):.2f}\")\n",
        "    print(f\" - P75                   : {np.percentile(triplet_counts, 75):.2f}\")\n",
        "    print(f\" - P99                   : {np.percentile(triplet_counts, 99):.2f}\")\n",
        "\n",
        "    # === Plot histogram ===\n",
        "    plt.figure(figsize=(8, 4))\n",
        "    plt.hist(triplet_counts, bins=30, color=\"skyblue\", edgecolor=\"black\")\n",
        "    plt.title(f\"Triplets per User – {fname}\")\n",
        "    plt.xlabel(\"Triplets per User\")\n",
        "    plt.ylabel(\"Number of Users\")\n",
        "    plt.grid(True, linestyle=\"--\", alpha=0.5)\n",
        "    plt.tight_layout()\n",
        "    plt.show()\n"
      ],
      "metadata": {
        "colab": {
          "base_uri": "https://localhost:8080/",
          "height": 1000
        },
        "id": "ILS7ZZhsYC4r",
        "outputId": "282ae8b8-b0ad-4ded-a966-4fbabddea446"
      },
      "execution_count": null,
      "outputs": [
        {
          "output_type": "stream",
          "name": "stdout",
          "text": [
            "\n",
            "Randomly Selected Triplet Files:\n",
            " - triplets_labeled_scored_overlap_660000_670000.parquet\n",
            " - triplets_labeled_scored_overlap_110000_120000.parquet\n",
            " - triplets_labeled_scored_overlap_750000_760000.parquet\n",
            "\n",
            "📊 Stats for triplets_labeled_scored_overlap_660000_670000.parquet:\n",
            " - Users in slice        : 945\n",
            " - Total triplets        : 890,860\n",
            " - Mean                  : 942.71\n",
            " - Min                   : 4\n",
            " - Max                   : 10532\n",
            " - P1                    : 4.00\n",
            " - P25                   : 152.00\n",
            " - P50 (Median)          : 576.00\n",
            " - P75                   : 1248.00\n",
            " - P99                   : 6686.72\n"
          ]
        },
        {
          "output_type": "display_data",
          "data": {
            "text/plain": [
              "<Figure size 800x400 with 1 Axes>"
            ],
            "image/png": "[encoded data removed]"
          },
          "metadata": {}
        },
        {
          "output_type": "stream",
          "name": "stdout",
          "text": [
            "\n",
            "📊 Stats for triplets_labeled_scored_overlap_110000_120000.parquet:\n",
            " - Users in slice        : 938\n",
            " - Total triplets        : 853,556\n",
            " - Mean                  : 909.97\n",
            " - Min                   : 4\n",
            " - Max                   : 11372\n",
            " - P1                    : 8.00\n",
            " - P25                   : 120.00\n",
            " - P50 (Median)          : 512.00\n",
            " - P75                   : 1231.00\n",
            " - P99                   : 5416.00\n"
          ]
        },
        {
          "output_type": "display_data",
          "data": {
            "text/plain": [
              "<Figure size 800x400 with 1 Axes>"
            ],
            "image/png": "[encoded data removed]"
          },
          "metadata": {}
        },
        {
          "output_type": "stream",
          "name": "stdout",
          "text": [
            "\n",
            "📊 Stats for triplets_labeled_scored_overlap_750000_760000.parquet:\n",
            " - Users in slice        : 942\n",
            " - Total triplets        : 845,988\n",
            " - Mean                  : 898.08\n",
            " - Min                   : 4\n",
            " - Max                   : 8828\n",
            " - P1                    : 4.00\n",
            " - P25                   : 148.00\n",
            " - P50 (Median)          : 564.00\n",
            " - P75                   : 1297.00\n",
            " - P99                   : 4478.36\n"
          ]
        },
        {
          "output_type": "display_data",
          "data": {
            "text/plain": [
              "<Figure size 800x400 with 1 Axes>"
            ],
            "image/png": "[encoded data removed]"
          },
          "metadata": {}
        }
      ]
    },
    {
      "cell_type": "markdown",
      "source": [
        "# Part 9) Prepare validation batches\n",
        "\n",
        "For each positive playlist in validation, sample 50 negatives.\n",
        "\n",
        "For each positive playlist, we'll basically put it in a bag with 50 negatives, and we will evaluate how capable is the model to rank higher the positive, given that it hasn't seen it before for this user (nor as positive or as negative)."
      ],
      "metadata": {
        "id": "KWqOweqhvb5n"
      }
    },
    {
      "cell_type": "code",
      "source": [
        "import os\n",
        "import pickle\n",
        "import random\n",
        "from tqdm import tqdm\n",
        "from collections import defaultdict\n",
        "\n",
        "# === Configuration ===\n",
        "VAL_POSITIVES_PATH = \"/content/drive/MyDrive/datasets/main_datasets/positives_splits/val_positives.pkl\"\n",
        "TRAIN_POSITIVES_PATH = \"/content/drive/MyDrive/datasets/main_datasets/positives_splits/training_positives.pkl\"\n",
        "USER_OWNED_PLAYLISTS_PATH = \"/content/drive/MyDrive/datasets/playlist_ownership/user_owned_playlists.pkl\"\n",
        "NUM_NEGATIVES = 50\n",
        "SPLIT_INTO = 5\n",
        "SLICES_OUTPUT_DIR = \"/content/drive/MyDrive/datasets/main_datasets/val_eval_batches\"\n",
        "RESUME_LOG_PATH = os.path.join(SLICES_OUTPUT_DIR, \"resume_log.pkl\")\n",
        "\n",
        "os.makedirs(SLICES_OUTPUT_DIR, exist_ok=True)\n",
        "\n",
        "# === Load Data ===\n",
        "with open(VAL_POSITIVES_PATH, \"rb\") as f:\n",
        "    val_positives = pickle.load(f)\n",
        "with open(TRAIN_POSITIVES_PATH, \"rb\") as f:\n",
        "    training_positives = pickle.load(f)\n",
        "with open(USER_OWNED_PLAYLISTS_PATH, \"rb\") as f:\n",
        "    user_owned = pickle.load(f)\n",
        "\n",
        "# === Build global playlist pool (union of all playlists seen)\n",
        "all_playlists = set()\n",
        "for plist in val_positives.values():\n",
        "    all_playlists.update(plist)\n",
        "for plist in training_positives.values():\n",
        "    all_playlists.update(plist)\n",
        "for plist in user_owned.values():\n",
        "    all_playlists.update(plist)\n",
        "\n",
        "# === Resume state if exists\n",
        "try:\n",
        "    if os.path.exists(RESUME_LOG_PATH):\n",
        "        with open(RESUME_LOG_PATH, \"rb\") as f:\n",
        "            resume_data = pickle.load(f)\n",
        "            val_batches = resume_data[\"val_batches\"]\n",
        "            processed_users = resume_data[\"processed_users\"]\n",
        "    else:\n",
        "        val_batches = defaultdict(list)\n",
        "        processed_users = set()\n",
        "except (EOFError, pickle.UnpicklingError):\n",
        "    print(\"Resume file is corrupted. Starting fresh.\")\n",
        "    os.remove(RESUME_LOG_PATH)\n",
        "    val_batches = defaultdict(list)\n",
        "    processed_users = set()\n",
        "\n",
        "# === Process each user\n",
        "user_ids = sorted(val_positives.keys())\n",
        "for idx, user_id in enumerate(tqdm(user_ids, desc=\"Generating validation batches\")):\n",
        "    if user_id in processed_users:\n",
        "        continue\n",
        "\n",
        "    val_pos = val_positives[user_id]\n",
        "    train_pos = training_positives.get(user_id, set())\n",
        "    owned = user_owned.get(user_id, set())\n",
        "\n",
        "    # Build exclusion set\n",
        "    blacklist = val_pos | train_pos | owned\n",
        "    negatives_pool = list(all_playlists - blacklist)\n",
        "\n",
        "    for pos_pid in val_pos:\n",
        "        if len(negatives_pool) < NUM_NEGATIVES:\n",
        "            continue\n",
        "        negatives = random.sample(negatives_pool, NUM_NEGATIVES)\n",
        "        val_batches[idx % SPLIT_INTO].append((user_id, pos_pid, negatives))\n",
        "\n",
        "    processed_users.add(user_id)\n",
        "\n",
        "    # Periodically save progress\n",
        "    if idx % 100 == 0 or idx == len(user_ids) - 1:\n",
        "        with open(RESUME_LOG_PATH, \"wb\") as f:\n",
        "            pickle.dump({\n",
        "                \"val_batches\": val_batches,\n",
        "                \"processed_users\": processed_users\n",
        "            }, f)\n",
        "\n",
        "# === Save batches\n",
        "for i in range(SPLIT_INTO):\n",
        "    out_path = os.path.join(SLICES_OUTPUT_DIR, f\"val_eval_batch_{i}.pkl\")\n",
        "    with open(out_path, \"wb\") as f:\n",
        "        pickle.dump(val_batches[i], f)\n",
        "\n",
        "# === Cleanup\n",
        "if os.path.exists(RESUME_LOG_PATH):\n",
        "    os.remove(RESUME_LOG_PATH)\n",
        "\n",
        "print(\"✅ Validation batches generated and saved.\")\n"
      ],
      "metadata": {
        "colab": {
          "base_uri": "https://localhost:8080/",
          "height": 238
        },
        "id": "o4F-iYwxvcIu",
        "outputId": "219f3986-d84a-44d2-a57b-3beec345dc62"
      },
      "execution_count": null,
      "outputs": [
        {
          "output_type": "stream",
          "name": "stderr",
          "text": [
            "Generating validation batches:  66%|██████▋   | 60300/90898 [7:00:59<3:33:37,  2.39it/s]\n"
          ]
        },
        {
          "output_type": "error",
          "ename": "KeyboardInterrupt",
          "evalue": "",
          "traceback": [
            "\u001b[0;31m---------------------------------------------------------------------------\u001b[0m",
            "\u001b[0;31mKeyboardInterrupt\u001b[0m                         Traceback (most recent call last)",
            "\u001b[0;32m<ipython-input-15-619f87bd6742>\u001b[0m in \u001b[0;36m<cell line: 0>\u001b[0;34m()\u001b[0m\n\u001b[1;32m     74\u001b[0m     \u001b[0;32mif\u001b[0m \u001b[0midx\u001b[0m \u001b[0;34m%\u001b[0m \u001b[0;36m100\u001b[0m \u001b[0;34m==\u001b[0m \u001b[0;36m0\u001b[0m \u001b[0;32mor\u001b[0m \u001b[0midx\u001b[0m \u001b[0;34m==\u001b[0m \u001b[0mlen\u001b[0m\u001b[0;34m(\u001b[0m\u001b[0muser_ids\u001b[0m\u001b[0;34m)\u001b[0m \u001b[0;34m-\u001b[0m \u001b[0;36m1\u001b[0m\u001b[0;34m:\u001b[0m\u001b[0;34m\u001b[0m\u001b[0;34m\u001b[0m\u001b[0m\n\u001b[1;32m     75\u001b[0m         \u001b[0;32mwith\u001b[0m \u001b[0mopen\u001b[0m\u001b[0;34m(\u001b[0m\u001b[0mRESUME_LOG_PATH\u001b[0m\u001b[0;34m,\u001b[0m \u001b[0;34m\"wb\"\u001b[0m\u001b[0;34m)\u001b[0m \u001b[0;32mas\u001b[0m \u001b[0mf\u001b[0m\u001b[0;34m:\u001b[0m\u001b[0;34m\u001b[0m\u001b[0;34m\u001b[0m\u001b[0m\n\u001b[0;32m---> 76\u001b[0;31m             pickle.dump({\n\u001b[0m\u001b[1;32m     77\u001b[0m                 \u001b[0;34m\"val_batches\"\u001b[0m\u001b[0;34m:\u001b[0m \u001b[0mval_batches\u001b[0m\u001b[0;34m,\u001b[0m\u001b[0;34m\u001b[0m\u001b[0;34m\u001b[0m\u001b[0m\n\u001b[1;32m     78\u001b[0m                 \u001b[0;34m\"processed_users\"\u001b[0m\u001b[0;34m:\u001b[0m \u001b[0mprocessed_users\u001b[0m\u001b[0;34m\u001b[0m\u001b[0;34m\u001b[0m\u001b[0m\n",
            "\u001b[0;31mKeyboardInterrupt\u001b[0m: "
          ]
        }
      ]
    },
    {
      "cell_type": "code",
      "source": [
        "# Had to interrupt execution. Saving some rescue files\n",
        "\n",
        "import pickle\n",
        "import os\n",
        "\n",
        "# === Rescue Paths ===\n",
        "RESCUE_DIR = \"/content/drive/MyDrive/datasets/main_datasets/val_eval_batches/rescue\"\n",
        "os.makedirs(RESCUE_DIR, exist_ok=True)\n",
        "\n",
        "# Save processed user IDs\n",
        "with open(os.path.join(RESCUE_DIR, \"processed_users_backup.pkl\"), \"wb\") as f:\n",
        "    pickle.dump(processed_users, f)\n",
        "print(f\"✅ Saved processed_users: {len(processed_users)} users\")\n",
        "\n",
        "# Save partial validation batches\n",
        "for i in range(SPLIT_INTO):\n",
        "    part_path = os.path.join(RESCUE_DIR, f\"val_batch_backup_{i}.pkl\")\n",
        "    with open(part_path, \"wb\") as f:\n",
        "        pickle.dump(val_batches[i], f)\n",
        "    print(f\"✅ Saved val_batch_backup_{i}: {len(val_batches[i])} samples\")\n"
      ],
      "metadata": {
        "colab": {
          "base_uri": "https://localhost:8080/"
        },
        "id": "0knwVYW1-QPB",
        "outputId": "13c54b5c-0064-43a4-ab6b-047edf7f1b01"
      },
      "execution_count": null,
      "outputs": [
        {
          "output_type": "stream",
          "name": "stdout",
          "text": [
            "✅ Saved processed_users: 60301 users\n",
            "✅ Saved val_batch_backup_0: 850689 samples\n",
            "✅ Saved val_batch_backup_1: 847506 samples\n",
            "✅ Saved val_batch_backup_2: 858694 samples\n",
            "✅ Saved val_batch_backup_3: 862366 samples\n",
            "✅ Saved val_batch_backup_4: 851104 samples\n"
          ]
        }
      ]
    },
    {
      "cell_type": "code",
      "source": [
        "## Resume from rescue files\n",
        "\n",
        "import os\n",
        "import pickle\n",
        "import random\n",
        "from tqdm import tqdm\n",
        "from collections import defaultdict\n",
        "\n",
        "# === Configuration ===\n",
        "VAL_POSITIVES_PATH = \"/content/drive/MyDrive/datasets/main_datasets/positives_splits/val_positives.pkl\"\n",
        "TRAIN_POSITIVES_PATH = \"/content/drive/MyDrive/datasets/main_datasets/positives_splits/training_positives.pkl\"\n",
        "USER_OWNED_PLAYLISTS_PATH = \"/content/drive/MyDrive/datasets/playlist_ownership/user_owned_playlists.pkl\"\n",
        "SLICES_OUTPUT_DIR = \"/content/drive/MyDrive/datasets/main_datasets/val_eval_batches\"\n",
        "RESCUE_DIR = os.path.join(SLICES_OUTPUT_DIR, \"rescue\")\n",
        "\n",
        "NUM_NEGATIVES = 50\n",
        "SPLIT_INTO = 5\n",
        "os.makedirs(SLICES_OUTPUT_DIR, exist_ok=True)\n",
        "\n",
        "# === Load Data ===\n",
        "with open(VAL_POSITIVES_PATH, \"rb\") as f:\n",
        "    val_positives = pickle.load(f)\n",
        "with open(TRAIN_POSITIVES_PATH, \"rb\") as f:\n",
        "    training_positives = pickle.load(f)\n",
        "with open(USER_OWNED_PLAYLISTS_PATH, \"rb\") as f:\n",
        "    user_owned = pickle.load(f)\n",
        "\n",
        "# === Build global playlist pool\n",
        "all_playlists = set()\n",
        "for plist_dict in (val_positives, training_positives, user_owned):\n",
        "    for plist in plist_dict.values():\n",
        "        all_playlists.update(plist)\n",
        "\n",
        "# === Load rescue files ===\n",
        "print(\"Loading rescue data...\")\n",
        "val_batches = defaultdict(list)\n",
        "for i in range(SPLIT_INTO):\n",
        "    rescue_path = os.path.join(RESCUE_DIR, f\"val_batch_backup_{i}.pkl\")\n",
        "    with open(rescue_path, \"rb\") as f:\n",
        "        val_batches[i] = pickle.load(f)\n",
        "\n",
        "with open(os.path.join(RESCUE_DIR, \"processed_users_backup.pkl\"), \"rb\") as f:\n",
        "    processed_users = pickle.load(f)\n",
        "\n",
        "print(f\"✅ Loaded {len(processed_users)} processed users from rescue\")\n",
        "for i in range(SPLIT_INTO):\n",
        "    print(f\"✅ Loaded batch {i}: {len(val_batches[i])} triplets\")\n",
        "\n",
        "# === Resume processing\n",
        "user_ids = sorted(val_positives.keys())\n",
        "for idx, user_id in enumerate(tqdm(user_ids, desc=\"Resuming validation batches\")):\n",
        "    if user_id in processed_users:\n",
        "        continue\n",
        "\n",
        "    val_pos = val_positives[user_id]\n",
        "    train_pos = training_positives.get(user_id, set())\n",
        "    owned = user_owned.get(user_id, set())\n",
        "\n",
        "    blacklist = val_pos | train_pos | owned\n",
        "    negatives_pool = list(all_playlists - blacklist)\n",
        "\n",
        "    for pos_pid in val_pos:\n",
        "        if len(negatives_pool) < NUM_NEGATIVES:\n",
        "            continue\n",
        "        negatives = random.sample(negatives_pool, NUM_NEGATIVES)\n",
        "        val_batches[idx % SPLIT_INTO].append((user_id, pos_pid, negatives))\n",
        "\n",
        "    processed_users.add(user_id)\n",
        "\n",
        "    # Save partials every 1000 users\n",
        "    if idx % 1000 == 0 or idx == len(user_ids) - 1:\n",
        "        for i in range(SPLIT_INTO):\n",
        "            with open(os.path.join(SLICES_OUTPUT_DIR, f\"val_batch_partial_{i}.pkl\"), \"wb\") as f:\n",
        "                pickle.dump(val_batches[i], f)\n",
        "        with open(os.path.join(SLICES_OUTPUT_DIR, \"processed_users_partial.pkl\"), \"wb\") as f:\n",
        "            pickle.dump(processed_users, f)\n",
        "\n",
        "# === Final save\n",
        "for i in range(SPLIT_INTO):\n",
        "    final_path = os.path.join(SLICES_OUTPUT_DIR, f\"val_eval_batch_{i}.pkl\")\n",
        "    with open(final_path, \"wb\") as f:\n",
        "        pickle.dump(val_batches[i], f)\n",
        "\n",
        "# === Cleanup\n",
        "for i in range(SPLIT_INTO):\n",
        "    part = os.path.join(SLICES_OUTPUT_DIR, f\"val_batch_partial_{i}.pkl\")\n",
        "    if os.path.exists(part):\n",
        "        os.remove(part)\n",
        "if os.path.exists(os.path.join(SLICES_OUTPUT_DIR, \"processed_users_partial.pkl\")):\n",
        "    os.remove(os.path.join(SLICES_OUTPUT_DIR, \"processed_users_partial.pkl\"))\n",
        "\n",
        "print(\"✅ Validation batches completed and saved.\")\n"
      ],
      "metadata": {
        "colab": {
          "base_uri": "https://localhost:8080/"
        },
        "id": "MbnaM0nj_Gy9",
        "outputId": "772fc948-f2dd-45af-e295-303e2b7fcef7"
      },
      "execution_count": null,
      "outputs": [
        {
          "output_type": "stream",
          "name": "stdout",
          "text": [
            "Loading rescue data...\n",
            "✅ Loaded 60301 processed users from rescue\n",
            "✅ Loaded batch 0: 850689 triplets\n",
            "✅ Loaded batch 1: 847506 triplets\n",
            "✅ Loaded batch 2: 858694 triplets\n",
            "✅ Loaded batch 3: 862366 triplets\n",
            "✅ Loaded batch 4: 851104 triplets\n"
          ]
        },
        {
          "output_type": "stream",
          "name": "stderr",
          "text": [
            "Resuming validation batches: 100%|██████████| 90898/90898 [52:45<00:00, 28.72it/s]\n"
          ]
        },
        {
          "output_type": "stream",
          "name": "stdout",
          "text": [
            "✅ Validation batches completed and saved.\n"
          ]
        }
      ]
    },
    {
      "cell_type": "code",
      "source": [
        "# === Code Block 3.5: Generate Toy Validation Batch ===\n",
        "\n",
        "import os\n",
        "import pickle\n",
        "from tqdm import tqdm\n",
        "\n",
        "# === Configuration ===\n",
        "FULL_BATCH_DIR = \"/content/drive/MyDrive/datasets/main_datasets/val_eval_batches\"\n",
        "TOY_USERS_PATH = \"/content/drive/MyDrive/datasets/main_datasets/triplets_dataset/toy_users.pkl\"\n",
        "TOY_OUTPUT_PATH = os.path.join(FULL_BATCH_DIR, \"val_eval_batch_toy.pkl\")\n",
        "\n",
        "# === Load toy users ===\n",
        "with open(TOY_USERS_PATH, \"rb\") as f:\n",
        "    toy_users = pickle.load(f)\n",
        "\n",
        "print(f\"✅ Loaded {len(toy_users)} toy users.\")\n",
        "\n",
        "# === Load all full batches ===\n",
        "full_batches = []\n",
        "for fname in sorted(os.listdir(FULL_BATCH_DIR)):\n",
        "    if fname.startswith(\"val_eval_batch_\") and fname.endswith(\".pkl\") and \"toy\" not in fname:\n",
        "        with open(os.path.join(FULL_BATCH_DIR, fname), \"rb\") as f:\n",
        "            full_batches.extend(pickle.load(f))\n",
        "\n",
        "print(f\"✅ Loaded {len(full_batches):,} validation triplets from full batches.\")\n",
        "\n",
        "# === Filter for toy users ===\n",
        "toy_batch = [(u, pos, negs) for (u, pos, negs) in tqdm(full_batches, desc=\"Filtering toy users\") if u in toy_users]\n",
        "\n",
        "\n",
        "# === Save toy validation batch ===\n",
        "with open(TOY_OUTPUT_PATH, \"wb\") as f:\n",
        "    pickle.dump(toy_batch, f)\n",
        "\n",
        "print(f\"✅ Toy validation batch saved: {TOY_OUTPUT_PATH}\")\n",
        "print(f\"📊 Total triplets in toy batch: {len(toy_batch):,}\")\n"
      ],
      "metadata": {
        "colab": {
          "base_uri": "https://localhost:8080/"
        },
        "id": "ggF73f7Gi46_",
        "outputId": "6f98e4da-7ddf-4787-eb2e-09916338a966"
      },
      "execution_count": null,
      "outputs": [
        {
          "output_type": "stream",
          "name": "stdout",
          "text": [
            "✅ Loaded 4831 toy users.\n",
            "✅ Loaded 6,456,802 validation triplets from full batches.\n"
          ]
        },
        {
          "output_type": "stream",
          "name": "stderr",
          "text": [
            "Filtering toy users: 100%|██████████| 6456802/6456802 [00:24<00:00, 260758.37it/s]\n"
          ]
        },
        {
          "output_type": "stream",
          "name": "stdout",
          "text": [
            "✅ Toy validation batch saved: /content/drive/MyDrive/datasets/main_datasets/val_eval_batches/val_eval_batch_toy.pkl\n",
            "📊 Total triplets in toy batch: 318,417\n"
          ]
        }
      ]
    }
  ],
  "metadata": {
    "colab": {
      "machine_shape": "hm",
      "provenance": []
    },
    "kernelspec": {
      "display_name": "Python 3",
      "name": "python3"
    },
    "language_info": {
      "name": "python"
    }
  },
  "nbformat": 4,
  "nbformat_minor": 0
}